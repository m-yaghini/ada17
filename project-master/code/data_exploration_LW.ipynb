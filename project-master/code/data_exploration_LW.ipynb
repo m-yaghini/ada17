{
 "cells": [
  {
   "cell_type": "code",
   "execution_count": 1,
   "metadata": {
    "collapsed": true
   },
   "outputs": [],
   "source": [
    "%load_ext autoreload\n",
    "%autoreload 2\n",
    "%matplotlib inline\n",
    "\n",
    "import pandas as pd\n",
    "import numpy as np\n",
    "import matplotlib.pyplot as plt\n",
    "import progressbar\n",
    "\n",
    "from json_data_getter import get_all_json"
   ]
  },
  {
   "cell_type": "markdown",
   "metadata": {},
   "source": [
    "# Data preparation"
   ]
  },
  {
   "cell_type": "markdown",
   "metadata": {},
   "source": [
    "## Loading"
   ]
  },
  {
   "cell_type": "code",
   "execution_count": 2,
   "metadata": {},
   "outputs": [
    {
     "name": "stderr",
     "output_type": "stream",
     "text": [
      "100% (109 of 109) |########################################| Elapsed Time: 0:00:14 Time: 0:00:14\n"
     ]
    }
   ],
   "source": [
    "# gets all the json files toghether, may take a minute\n",
    "_, _, documents = get_all_json()\n",
    "df = pd.DataFrame.from_dict(documents)"
   ]
  },
  {
   "cell_type": "markdown",
   "metadata": {},
   "source": [
    "## Cleaning"
   ]
  },
  {
   "cell_type": "code",
   "execution_count": 3,
   "metadata": {
    "scrolled": true
   },
   "outputs": [
    {
     "name": "stderr",
     "output_type": "stream",
     "text": [
      "100% (27 of 27) |##########################################| Elapsed Time: 0:00:00 Time: 0:00:00\n"
     ]
    }
   ],
   "source": [
    "# keep NaN for float columns, empty strings for string columns\n",
    "with progressbar.ProgressBar(max_value=len(df.columns)) as bar:        \n",
    "    for i,col in enumerate(df):\n",
    "        # get dtype for column\n",
    "        dt = df[col].dtype\n",
    "        # check if it is a number\n",
    "        if dt == int or dt == float:\n",
    "            pass\n",
    "        else:\n",
    "            df[col].fillna(\"\", inplace=True)\n",
    "        bar.update(i)\n",
    "\n",
    "# set dates to datetime type\n",
    "df['publicationDate'] = pd.to_datetime(\n",
    "    df['publicationDate'], format='%Y-%m-%dT%H:%M:%SZ')"
   ]
  },
  {
   "cell_type": "code",
   "execution_count": 4,
   "metadata": {
    "scrolled": false
   },
   "outputs": [
    {
     "data": {
      "text/plain": [
       "array(['alternativeExcerpt', 'alternativeTitle', 'articleURL',\n",
       "       'backgrounds', 'contributors', 'durationSec', 'excerpt', 'genres',\n",
       "       'id', 'imageURL', 'isOnline', 'mediaType', 'mediaURL', 'program',\n",
       "       'publicationChannelNames', 'publicationDate', 'source',\n",
       "       'thematicCorporations', 'thematicGeographicals', 'thematicPersons',\n",
       "       'thematicThemes', 'title', 'variantIds', 'visualCorporations',\n",
       "       'visualGeographicals', 'visualPersons', 'visualThemes'], dtype=object)"
      ]
     },
     "execution_count": 4,
     "metadata": {},
     "output_type": "execute_result"
    }
   ],
   "source": [
    "df.columns.values"
   ]
  },
  {
   "cell_type": "markdown",
   "metadata": {},
   "source": [
    "## distribution in time"
   ]
  },
  {
   "cell_type": "code",
   "execution_count": 5,
   "metadata": {
    "scrolled": true
   },
   "outputs": [
    {
     "data": {
      "image/png": "[encoded data removed]",
      "text/plain": [
       "<matplotlib.figure.Figure at 0x14229e599b0>"
      ]
     },
     "metadata": {},
     "output_type": "display_data"
    }
   ],
   "source": [
    "doc_per_year = df.groupby(df.publicationDate.map(lambda x: x.year)).size()\n",
    "doc_per_year.plot()\n",
    "plt.show()"
   ]
  },
  {
   "cell_type": "markdown",
   "metadata": {},
   "source": [
    "## Programs lifespan"
   ]
  },
  {
   "cell_type": "code",
   "execution_count": 6,
   "metadata": {
    "collapsed": true
   },
   "outputs": [],
   "source": [
    "def get_program_lifespan(df):\n",
    "    program_groups = df.groupby(df.program)\n",
    "    df_lifespan = program_groups.publicationDate.agg(['min', 'max', 'size'])\n",
    "    df_lifespan['lifespan_days'] = (\n",
    "        df_lifespan['max'] - df_lifespan['min']).astype('timedelta64[D]')\n",
    "    return df_lifespan"
   ]
  },
  {
   "cell_type": "code",
   "execution_count": 7,
   "metadata": {
    "scrolled": true
   },
   "outputs": [
    {
     "data": {
      "text/html": [
       "<div>\n",
       "<style>\n",
       "    .dataframe thead tr:only-child th {\n",
       "        text-align: right;\n",
       "    }\n",
       "\n",
       "    .dataframe thead th {\n",
       "        text-align: left;\n",
       "    }\n",
       "\n",
       "    .dataframe tbody tr th {\n",
       "        vertical-align: top;\n",
       "    }\n",
       "</style>\n",
       "<table border=\"1\" class=\"dataframe\">\n",
       "  <thead>\n",
       "    <tr style=\"text-align: right;\">\n",
       "      <th></th>\n",
       "      <th>min</th>\n",
       "      <th>max</th>\n",
       "      <th>size</th>\n",
       "      <th>lifespan_days</th>\n",
       "    </tr>\n",
       "    <tr>\n",
       "      <th>program</th>\n",
       "      <th></th>\n",
       "      <th></th>\n",
       "      <th></th>\n",
       "      <th></th>\n",
       "    </tr>\n",
       "  </thead>\n",
       "  <tbody>\n",
       "    <tr>\n",
       "      <th></th>\n",
       "      <td>1900-01-01 00:00:00</td>\n",
       "      <td>2017-11-15 00:00:00</td>\n",
       "      <td>20458</td>\n",
       "      <td>43052.0</td>\n",
       "    </tr>\n",
       "    <tr>\n",
       "      <th>TJ midi</th>\n",
       "      <td>1900-01-01 19:00:00</td>\n",
       "      <td>2011-12-04 11:45:00</td>\n",
       "      <td>204</td>\n",
       "      <td>40878.0</td>\n",
       "    </tr>\n",
       "    <tr>\n",
       "      <th>Marabout de ficelle</th>\n",
       "      <td>1900-01-01 00:00:00</td>\n",
       "      <td>1998-05-20 00:00:00</td>\n",
       "      <td>148</td>\n",
       "      <td>35933.0</td>\n",
       "    </tr>\n",
       "    <tr>\n",
       "      <th>Mémoires de la musique</th>\n",
       "      <td>1922-06-05 00:00:00</td>\n",
       "      <td>2004-01-23 00:00:00</td>\n",
       "      <td>2086</td>\n",
       "      <td>29817.0</td>\n",
       "    </tr>\n",
       "    <tr>\n",
       "      <th>Archives</th>\n",
       "      <td>1939-11-30 02:00:00</td>\n",
       "      <td>2017-10-03 13:10:37</td>\n",
       "      <td>120</td>\n",
       "      <td>28432.0</td>\n",
       "    </tr>\n",
       "  </tbody>\n",
       "</table>\n",
       "</div>"
      ],
      "text/plain": [
       "                                       min                 max   size  \\\n",
       "program                                                                 \n",
       "                       1900-01-01 00:00:00 2017-11-15 00:00:00  20458   \n",
       "TJ midi                1900-01-01 19:00:00 2011-12-04 11:45:00    204   \n",
       "Marabout de ficelle    1900-01-01 00:00:00 1998-05-20 00:00:00    148   \n",
       "Mémoires de la musique 1922-06-05 00:00:00 2004-01-23 00:00:00   2086   \n",
       "Archives               1939-11-30 02:00:00 2017-10-03 13:10:37    120   \n",
       "\n",
       "                        lifespan_days  \n",
       "program                                \n",
       "                              43052.0  \n",
       "TJ midi                       40878.0  \n",
       "Marabout de ficelle           35933.0  \n",
       "Mémoires de la musique        29817.0  \n",
       "Archives                      28432.0  "
      ]
     },
     "execution_count": 7,
     "metadata": {},
     "output_type": "execute_result"
    }
   ],
   "source": [
    "get_program_lifespan(df).sort_values('lifespan_days', ascending=False).head()"
   ]
  },
  {
   "cell_type": "markdown",
   "metadata": {},
   "source": [
    "The first row is the group of unnamed programs. Some duration seem a bit too long, maybe there are errors in the dates. Let's take TJ midi and check the distribution of transmissions by year."
   ]
  },
  {
   "cell_type": "code",
   "execution_count": 8,
   "metadata": {
    "collapsed": true
   },
   "outputs": [],
   "source": [
    "def plot_program_lifespan(program, df):\n",
    "    program_groups = df.groupby(df.program)\n",
    "    group = program_groups.get_group(program)\n",
    "    date_distribution = group.groupby(\n",
    "        group.publicationDate.map(lambda x: (x.year))).size()\n",
    "    plt.bar(date_distribution.index, date_distribution.values)\n",
    "    plt.show()"
   ]
  },
  {
   "cell_type": "code",
   "execution_count": 9,
   "metadata": {},
   "outputs": [
    {
     "data": {
      "image/png": "[encoded data removed]",
      "text/plain": [
       "<matplotlib.figure.Figure at 0x1421711ab38>"
      ]
     },
     "metadata": {},
     "output_type": "display_data"
    }
   ],
   "source": [
    "plot_program_lifespan('TJ midi', df)"
   ]
  },
  {
   "cell_type": "markdown",
   "metadata": {},
   "source": [
    "There are some obvious outliers, let's remove them."
   ]
  },
  {
   "cell_type": "markdown",
   "metadata": {},
   "source": [
    "### Date outliers removal"
   ]
  },
  {
   "cell_type": "code",
   "execution_count": 10,
   "metadata": {
    "collapsed": true
   },
   "outputs": [],
   "source": [
    "# remove date outliers\n",
    "def remove_date_outliers(df):\n",
    "    CONSTANT_STD = 2\n",
    "    df_without_date_outliers = df.copy()\n",
    "\n",
    "    df['publicationDateYear'] = df.publicationDate.map(lambda x: x.year)\n",
    "\n",
    "    mean_std_year_per_program = df.groupby(df.program).publicationDateYear.agg(\n",
    "        [\"mean\", 'std'])\n",
    "\n",
    "    temp_df = pd.merge(\n",
    "        df,\n",
    "        mean_std_year_per_program,\n",
    "        how='left',\n",
    "        left_on=['program'],\n",
    "        right_index=True)\n",
    "\n",
    "    df_without_date_outliers.loc[\n",
    "        (np.abs(temp_df.publicationDateYear - temp_df['mean']) >\n",
    "         CONSTANT_STD * temp_df['std']), 'publicationDate'] = pd.NaT\n",
    "\n",
    "    return df_without_date_outliers"
   ]
  },
  {
   "cell_type": "code",
   "execution_count": 11,
   "metadata": {
    "scrolled": false
   },
   "outputs": [
    {
     "data": {
      "text/html": [
       "<div>\n",
       "<style>\n",
       "    .dataframe thead tr:only-child th {\n",
       "        text-align: right;\n",
       "    }\n",
       "\n",
       "    .dataframe thead th {\n",
       "        text-align: left;\n",
       "    }\n",
       "\n",
       "    .dataframe tbody tr th {\n",
       "        vertical-align: top;\n",
       "    }\n",
       "</style>\n",
       "<table border=\"1\" class=\"dataframe\">\n",
       "  <thead>\n",
       "    <tr style=\"text-align: right;\">\n",
       "      <th></th>\n",
       "      <th>min</th>\n",
       "      <th>max</th>\n",
       "      <th>size</th>\n",
       "      <th>lifespan_days</th>\n",
       "    </tr>\n",
       "    <tr>\n",
       "      <th>program</th>\n",
       "      <th></th>\n",
       "      <th></th>\n",
       "      <th></th>\n",
       "      <th></th>\n",
       "    </tr>\n",
       "  </thead>\n",
       "  <tbody>\n",
       "    <tr>\n",
       "      <th>Journal du matin</th>\n",
       "      <td>1989-01-07 00:00:00</td>\n",
       "      <td>2017-08-28 00:00:00</td>\n",
       "      <td>21767</td>\n",
       "      <td>10460.0</td>\n",
       "    </tr>\n",
       "    <tr>\n",
       "      <th></th>\n",
       "      <td>1921-11-23 00:00:00</td>\n",
       "      <td>2017-11-15 00:00:00</td>\n",
       "      <td>20458</td>\n",
       "      <td>35056.0</td>\n",
       "    </tr>\n",
       "    <tr>\n",
       "      <th>Forum</th>\n",
       "      <td>2004-12-26 23:00:00</td>\n",
       "      <td>2017-11-16 00:00:00</td>\n",
       "      <td>10633</td>\n",
       "      <td>4707.0</td>\n",
       "    </tr>\n",
       "    <tr>\n",
       "      <th>Télé journal</th>\n",
       "      <td>1982-01-01 00:00:00</td>\n",
       "      <td>1996-09-30 23:00:00</td>\n",
       "      <td>10520</td>\n",
       "      <td>5386.0</td>\n",
       "    </tr>\n",
       "    <tr>\n",
       "      <th>Journal de midi</th>\n",
       "      <td>1982-01-09 00:00:00</td>\n",
       "      <td>2017-08-01 00:00:00</td>\n",
       "      <td>8440</td>\n",
       "      <td>12988.0</td>\n",
       "    </tr>\n",
       "  </tbody>\n",
       "</table>\n",
       "</div>"
      ],
      "text/plain": [
       "                                 min                 max   size  lifespan_days\n",
       "program                                                                       \n",
       "Journal du matin 1989-01-07 00:00:00 2017-08-28 00:00:00  21767        10460.0\n",
       "                 1921-11-23 00:00:00 2017-11-15 00:00:00  20458        35056.0\n",
       "Forum            2004-12-26 23:00:00 2017-11-16 00:00:00  10633         4707.0\n",
       "Télé journal     1982-01-01 00:00:00 1996-09-30 23:00:00  10520         5386.0\n",
       "Journal de midi  1982-01-09 00:00:00 2017-08-01 00:00:00   8440        12988.0"
      ]
     },
     "execution_count": 11,
     "metadata": {},
     "output_type": "execute_result"
    }
   ],
   "source": [
    "df_without_date_outliers = remove_date_outliers(df)\n",
    "get_program_lifespan(df_without_date_outliers).sort_values(\n",
    "    'size', ascending=False).head()"
   ]
  },
  {
   "cell_type": "code",
   "execution_count": 12,
   "metadata": {
    "scrolled": false
   },
   "outputs": [
    {
     "data": {
      "image/png": "[encoded data removed]",
      "text/plain": [
       "<matplotlib.figure.Figure at 0x14217621cc0>"
      ]
     },
     "metadata": {},
     "output_type": "display_data"
    }
   ],
   "source": [
    "plot_program_lifespan('TJ midi', df_without_date_outliers)"
   ]
  },
  {
   "cell_type": "markdown",
   "metadata": {},
   "source": [
    "# Gender (Sina)"
   ]
  },
  {
   "cell_type": "markdown",
   "metadata": {},
   "source": [
    "# Location (Mohammed)"
   ]
  },
  {
   "cell_type": "markdown",
   "metadata": {},
   "source": [
    "# Factors for program lifespan (Leo)"
   ]
  },
  {
   "cell_type": "markdown",
   "metadata": {},
   "source": [
    "## Lifespan category"
   ]
  },
  {
   "cell_type": "code",
   "execution_count": 20,
   "metadata": {
    "collapsed": true
   },
   "outputs": [],
   "source": [
    "lifespan = get_program_lifespan(df_without_date_outliers)\n",
    "lifespan['lifespan_class'] = (pd.qcut(\n",
    "    lifespan.lifespan_days, 5, labels=[0, 1, 2, 3, 4]))"
   ]
  },
  {
   "cell_type": "code",
   "execution_count": 21,
   "metadata": {
    "scrolled": true
   },
   "outputs": [
    {
     "data": {
      "image/png": "[encoded data removed]",
      "text/plain": [
       "<matplotlib.figure.Figure at 0x1421d7a17b8>"
      ]
     },
     "metadata": {},
     "output_type": "display_data"
    }
   ],
   "source": [
    "lifespan.hist(column='lifespan_days', bins=50, ec='black')\n",
    "plt.show()"
   ]
  },
  {
   "cell_type": "code",
   "execution_count": 23,
   "metadata": {},
   "outputs": [
    {
     "data": {
      "text/html": [
       "<div>\n",
       "<style>\n",
       "    .dataframe thead tr:only-child th {\n",
       "        text-align: right;\n",
       "    }\n",
       "\n",
       "    .dataframe thead th {\n",
       "        text-align: left;\n",
       "    }\n",
       "\n",
       "    .dataframe tbody tr th {\n",
       "        vertical-align: top;\n",
       "    }\n",
       "</style>\n",
       "<table border=\"1\" class=\"dataframe\">\n",
       "  <thead>\n",
       "    <tr style=\"text-align: right;\">\n",
       "      <th></th>\n",
       "      <th>min</th>\n",
       "      <th>max</th>\n",
       "      <th>size</th>\n",
       "      <th>lifespan_days</th>\n",
       "      <th>lifespan_class</th>\n",
       "    </tr>\n",
       "    <tr>\n",
       "      <th>program</th>\n",
       "      <th></th>\n",
       "      <th></th>\n",
       "      <th></th>\n",
       "      <th></th>\n",
       "      <th></th>\n",
       "    </tr>\n",
       "  </thead>\n",
       "  <tbody>\n",
       "    <tr>\n",
       "      <th></th>\n",
       "      <td>1921-11-23 00:00:00</td>\n",
       "      <td>2017-11-15 00:00:00</td>\n",
       "      <td>20458</td>\n",
       "      <td>35056.0</td>\n",
       "      <td>4</td>\n",
       "    </tr>\n",
       "    <tr>\n",
       "      <th>Les petits plats dans l'écran</th>\n",
       "      <td>1978-06-04 23:00:00</td>\n",
       "      <td>1979-09-17 01:00:00</td>\n",
       "      <td>9</td>\n",
       "      <td>469.0</td>\n",
       "      <td>2</td>\n",
       "    </tr>\n",
       "    <tr>\n",
       "      <th>\"Demain à la une\"</th>\n",
       "      <td>2000-09-05 00:00:00</td>\n",
       "      <td>2001-06-15 00:00:00</td>\n",
       "      <td>170</td>\n",
       "      <td>283.0</td>\n",
       "      <td>2</td>\n",
       "    </tr>\n",
       "    <tr>\n",
       "      <th>#DansTaToile</th>\n",
       "      <td>2015-11-18 00:00:00</td>\n",
       "      <td>2016-01-20 00:00:00</td>\n",
       "      <td>7</td>\n",
       "      <td>63.0</td>\n",
       "      <td>1</td>\n",
       "    </tr>\n",
       "    <tr>\n",
       "      <th>02 à la Une</th>\n",
       "      <td>2002-05-14 00:00:00</td>\n",
       "      <td>2002-10-19 00:00:00</td>\n",
       "      <td>111</td>\n",
       "      <td>158.0</td>\n",
       "      <td>2</td>\n",
       "    </tr>\n",
       "  </tbody>\n",
       "</table>\n",
       "</div>"
      ],
      "text/plain": [
       "                                               min                 max   size  \\\n",
       "program                                                                         \n",
       "                               1921-11-23 00:00:00 2017-11-15 00:00:00  20458   \n",
       " Les petits plats dans l'écran 1978-06-04 23:00:00 1979-09-17 01:00:00      9   \n",
       "\"Demain à la une\"              2000-09-05 00:00:00 2001-06-15 00:00:00    170   \n",
       "#DansTaToile                   2015-11-18 00:00:00 2016-01-20 00:00:00      7   \n",
       "02 à la Une                    2002-05-14 00:00:00 2002-10-19 00:00:00    111   \n",
       "\n",
       "                                lifespan_days lifespan_class  \n",
       "program                                                       \n",
       "                                      35056.0              4  \n",
       " Les petits plats dans l'écran          469.0              2  \n",
       "\"Demain à la une\"                       283.0              2  \n",
       "#DansTaToile                             63.0              1  \n",
       "02 à la Une                             158.0              2  "
      ]
     },
     "execution_count": 23,
     "metadata": {},
     "output_type": "execute_result"
    }
   ],
   "source": [
    "lifespan.head()"
   ]
  },
  {
   "cell_type": "markdown",
   "metadata": {},
   "source": [
    "## Themes per period"
   ]
  },
  {
   "cell_type": "code",
   "execution_count": 13,
   "metadata": {
    "collapsed": true
   },
   "outputs": [],
   "source": [
    "from collections import Counter\n",
    "def list_flatter(values):\n",
    "    return [item for sublist in values for item in sublist]\n",
    "    #return Counter([item for sublist in values for item in sublist]).most_common()"
   ]
  },
  {
   "cell_type": "code",
   "execution_count": 28,
   "metadata": {
    "collapsed": true
   },
   "outputs": [],
   "source": [
    "# TODO, problem : cannot reduce when adding other columns\n",
    "\n",
    "counters_program_period = df_without_date_outliers.groupby([\n",
    "    df_without_date_outliers.program,\n",
    "    df_without_date_outliers.publicationDate.apply(lambda x: x.year)\n",
    "])[\n",
    "    #'genres', 'publicationChannelNames', 'thematicCorporations','thematicGeographicals','thematicPersons',\n",
    "    #'thematicThemes', 'visualCorporations', 'visualGeographicals', 'visualPersons',\n",
    "    'thematicGeographicals',\n",
    "    'thematicThemes',\n",
    "    'visualThemes'\n",
    "].agg(list_flatter)"
   ]
  },
  {
   "cell_type": "code",
   "execution_count": 15,
   "metadata": {
    "collapsed": true
   },
   "outputs": [],
   "source": [
    "def get_themes(fr, to, theme_type, program=-1, n_top=3):\n",
    "    rows_selection = ((counters_program_period.index.get_level_values('publicationDate') >= fr) &\n",
    "    (counters_program_period.index.get_level_values('publicationDate') <= to))\n",
    "    \n",
    "    if program != -1:\n",
    "        rows_selection = rows_selection & (counters_program_period.index.get_level_values('program') == program)\n",
    "        \n",
    "    temp_sum = counters_program_period.loc[rows_selection][theme_type].sum()\n",
    "    if not isinstance(temp_sum, list):\n",
    "        temp_sum = []\n",
    "    return Counter(temp_sum).most_common(n_top)\n",
    "\n",
    "def get_topn_themes(fr, to='', theme_type='thematicThemes', program=-1,n_top = 3):\n",
    "    if not to:\n",
    "        to = fr\n",
    "    \n",
    "    columns_name = ['top' + str(i+1) for i in range(n_top)]\n",
    "    themes_per_year = pd.DataFrame(columns=columns_name)\n",
    "    \n",
    "    for i in range(fr, to+1):\n",
    "        temp_themes = get_themes(\n",
    "            i,\n",
    "            i+1,\n",
    "            theme_type,\n",
    "            program,\n",
    "            n_top\n",
    "        )\n",
    "\n",
    "        top_themes = [''] * n_top\n",
    "        for j in range(min(n_top, len(temp_themes))):\n",
    "            top_themes[j] = (temp_themes[j][0])\n",
    "\n",
    "        themes_per_year.loc[i] = top_themes\n",
    "    return themes_per_year"
   ]
  },
  {
   "cell_type": "markdown",
   "metadata": {},
   "source": [
    "## Themes in periods"
   ]
  },
  {
   "cell_type": "code",
   "execution_count": 49,
   "metadata": {
    "collapsed": true
   },
   "outputs": [],
   "source": [
    "thematicThemes_per_year = get_topn_themes(1990,2000,'thematicThemes', 'Temps présent',n_top=10)\n",
    "visualThemes_per_year = get_topn_themes(1900,2017,'visualThemes')\n",
    "#thematicPersons_per_year = theme_per_year('thematicPersons')\n",
    "#thematicGeographicals_per_year = theme_per_year('thematicGeographicals')\n",
    "#thematicCorporations_per_year = theme_per_year('thematicCorporations')"
   ]
  },
  {
   "cell_type": "code",
   "execution_count": 50,
   "metadata": {
    "scrolled": false
   },
   "outputs": [
    {
     "data": {
      "text/html": [
       "<div>\n",
       "<style>\n",
       "    .dataframe thead tr:only-child th {\n",
       "        text-align: right;\n",
       "    }\n",
       "\n",
       "    .dataframe thead th {\n",
       "        text-align: left;\n",
       "    }\n",
       "\n",
       "    .dataframe tbody tr th {\n",
       "        vertical-align: top;\n",
       "    }\n",
       "</style>\n",
       "<table border=\"1\" class=\"dataframe\">\n",
       "  <thead>\n",
       "    <tr style=\"text-align: right;\">\n",
       "      <th></th>\n",
       "      <th>top1</th>\n",
       "      <th>top2</th>\n",
       "      <th>top3</th>\n",
       "      <th>top4</th>\n",
       "      <th>top5</th>\n",
       "      <th>top6</th>\n",
       "      <th>top7</th>\n",
       "      <th>top8</th>\n",
       "      <th>top9</th>\n",
       "      <th>top10</th>\n",
       "    </tr>\n",
       "  </thead>\n",
       "  <tbody>\n",
       "    <tr>\n",
       "      <th>1990</th>\n",
       "      <td>MANIFESTATION POLITIQUE</td>\n",
       "      <td>CÉRÉMONIE RELIGIEUSE</td>\n",
       "      <td>ARMÉE</td>\n",
       "      <td>LOGEMENT</td>\n",
       "      <td>ENTREPRISE</td>\n",
       "      <td>SCÈNE DE RUE</td>\n",
       "      <td>CONFLIT ARMÉ</td>\n",
       "      <td>ÉCOLOGISME</td>\n",
       "      <td>CHÔMAGE</td>\n",
       "      <td>FAMILLE</td>\n",
       "    </tr>\n",
       "    <tr>\n",
       "      <th>1991</th>\n",
       "      <td>MANIFESTATION POLITIQUE</td>\n",
       "      <td>ENFANT (ÂGE)</td>\n",
       "      <td>ARMÉE</td>\n",
       "      <td>CÉRÉMONIE RELIGIEUSE</td>\n",
       "      <td>AGRICULTEUR</td>\n",
       "      <td>NATIONALISME</td>\n",
       "      <td>CONFLIT ARMÉ</td>\n",
       "      <td>ÉCONOMIE CAPITALISTE</td>\n",
       "      <td>ÉCOLOGISME</td>\n",
       "      <td>DÉCHET</td>\n",
       "    </tr>\n",
       "    <tr>\n",
       "      <th>1992</th>\n",
       "      <td>RACISME</td>\n",
       "      <td>CHÔMAGE</td>\n",
       "      <td>ENFANT (ÂGE)</td>\n",
       "      <td>ARMÉE</td>\n",
       "      <td>ÉCONOMIE</td>\n",
       "      <td>POLITIQUE</td>\n",
       "      <td>PRISON</td>\n",
       "      <td>IMMIGRATION</td>\n",
       "      <td>MANIFESTATION POLITIQUE</td>\n",
       "      <td>AGRICULTEUR</td>\n",
       "    </tr>\n",
       "    <tr>\n",
       "      <th>1993</th>\n",
       "      <td>CHÔMAGE</td>\n",
       "      <td>ÉCONOMIE CAPITALISTE</td>\n",
       "      <td>BÉBÉ</td>\n",
       "      <td>ADOLESCENCE</td>\n",
       "      <td>BANANE</td>\n",
       "      <td>JUIFS</td>\n",
       "      <td>NAZISME</td>\n",
       "      <td>GUERRE MONDIALE (DEUXIÈME)</td>\n",
       "      <td>PLACEMENT FAMILIAL</td>\n",
       "      <td>TRAVAIL À TEMPS PARTIEL</td>\n",
       "    </tr>\n",
       "    <tr>\n",
       "      <th>1994</th>\n",
       "      <td>CRISE ÉCONOMIQUE</td>\n",
       "      <td>ADOLESCENCE</td>\n",
       "      <td>VIEILLESSE</td>\n",
       "      <td>QUARTIER</td>\n",
       "      <td>BANLIEUE</td>\n",
       "      <td>SUICIDE</td>\n",
       "      <td>HOMICIDE</td>\n",
       "      <td>SECTE</td>\n",
       "      <td>ENQUÊTE CRIMINELLE</td>\n",
       "      <td>HOMOSEXUALITÉ</td>\n",
       "    </tr>\n",
       "    <tr>\n",
       "      <th>1995</th>\n",
       "      <td>TRAVAIL DES FEMMES</td>\n",
       "      <td>VIEILLESSE</td>\n",
       "      <td>MONARCHIE</td>\n",
       "      <td>NOBLESSE</td>\n",
       "      <td>VEDETTARIAT</td>\n",
       "      <td>BAL</td>\n",
       "      <td>PRESSE À SENSATION</td>\n",
       "      <td>PLAN DE PAIX</td>\n",
       "      <td>CONFLIT YOUGOSLAVE</td>\n",
       "      <td>CONTREFAÇON</td>\n",
       "    </tr>\n",
       "    <tr>\n",
       "      <th>1996</th>\n",
       "      <td>JUIFS</td>\n",
       "      <td>PAUVRETÉ</td>\n",
       "      <td>TRAVAIL DE NUIT</td>\n",
       "      <td>TRAVAIL DES FEMMES</td>\n",
       "      <td>SYNDICAT</td>\n",
       "      <td>CONDITION DE TRAVAIL</td>\n",
       "      <td>ANNÉES 1990</td>\n",
       "      <td>FEMME BATTUE</td>\n",
       "      <td>VIOLENCE</td>\n",
       "      <td>DÉPÔT BANCAIRE</td>\n",
       "    </tr>\n",
       "    <tr>\n",
       "      <th>1997</th>\n",
       "      <td>JUIFS</td>\n",
       "      <td>ANTISÉMITISME</td>\n",
       "      <td>PAUVRETÉ</td>\n",
       "      <td>QUART-MONDE</td>\n",
       "      <td>ARMÉE</td>\n",
       "      <td>BANQUE</td>\n",
       "      <td>GUERRE MONDIALE (DEUXIÈME)</td>\n",
       "      <td>TÉLÉPHONE MOBILE</td>\n",
       "      <td>HISTOIRE</td>\n",
       "      <td>POLITIQUE</td>\n",
       "    </tr>\n",
       "    <tr>\n",
       "      <th>1998</th>\n",
       "      <td>RETRAITE (ÉTAT)</td>\n",
       "      <td>VIE SOCIALE</td>\n",
       "      <td>AMÉRINDIENS</td>\n",
       "      <td>NOMADISME</td>\n",
       "      <td>VIEILLESSE</td>\n",
       "      <td>REFOULEMENT DES ÉTRANGERS</td>\n",
       "      <td>REQUÉRANT D'ASILE</td>\n",
       "      <td>FÉCONDATION ARTIFICIELLE</td>\n",
       "      <td>GÉNIE GÉNÉTIQUE</td>\n",
       "      <td>SNOWBOARD (COMPÉTITION)</td>\n",
       "    </tr>\n",
       "    <tr>\n",
       "      <th>1999</th>\n",
       "      <td>VILLE CANDIDATE AUX JEUX OLYMPIQUES</td>\n",
       "      <td>OLYMPISME</td>\n",
       "      <td>ACCIDENT AÉRIEN</td>\n",
       "      <td>MD11</td>\n",
       "      <td>PILOTE DE LIGNE</td>\n",
       "      <td>SÉCURITÉ AÉRIENNE</td>\n",
       "      <td>CONSEILLER FÉDÉRAL</td>\n",
       "      <td>FONCTION POLITIQUE</td>\n",
       "      <td>COMMERCE ÉLECTRONIQUE</td>\n",
       "      <td>AMOUR</td>\n",
       "    </tr>\n",
       "    <tr>\n",
       "      <th>2000</th>\n",
       "      <td>CONSEILLER FÉDÉRAL</td>\n",
       "      <td>FONCTION POLITIQUE</td>\n",
       "      <td>COMMERCE ÉLECTRONIQUE</td>\n",
       "      <td>AMOUR</td>\n",
       "      <td>VIEILLESSE</td>\n",
       "      <td>SEXUALITÉ</td>\n",
       "      <td>EXPOSITION NATIONALE</td>\n",
       "      <td>CÉLIBAT</td>\n",
       "      <td></td>\n",
       "      <td></td>\n",
       "    </tr>\n",
       "  </tbody>\n",
       "</table>\n",
       "</div>"
      ],
      "text/plain": [
       "                                     top1                  top2  \\\n",
       "1990              MANIFESTATION POLITIQUE  CÉRÉMONIE RELIGIEUSE   \n",
       "1991              MANIFESTATION POLITIQUE          ENFANT (ÂGE)   \n",
       "1992                              RACISME               CHÔMAGE   \n",
       "1993                              CHÔMAGE  ÉCONOMIE CAPITALISTE   \n",
       "1994                     CRISE ÉCONOMIQUE           ADOLESCENCE   \n",
       "1995                   TRAVAIL DES FEMMES            VIEILLESSE   \n",
       "1996                                JUIFS              PAUVRETÉ   \n",
       "1997                                JUIFS         ANTISÉMITISME   \n",
       "1998                      RETRAITE (ÉTAT)           VIE SOCIALE   \n",
       "1999  VILLE CANDIDATE AUX JEUX OLYMPIQUES             OLYMPISME   \n",
       "2000                   CONSEILLER FÉDÉRAL    FONCTION POLITIQUE   \n",
       "\n",
       "                       top3                  top4             top5  \\\n",
       "1990                  ARMÉE              LOGEMENT       ENTREPRISE   \n",
       "1991                  ARMÉE  CÉRÉMONIE RELIGIEUSE      AGRICULTEUR   \n",
       "1992           ENFANT (ÂGE)                 ARMÉE         ÉCONOMIE   \n",
       "1993                   BÉBÉ           ADOLESCENCE           BANANE   \n",
       "1994             VIEILLESSE              QUARTIER         BANLIEUE   \n",
       "1995              MONARCHIE              NOBLESSE      VEDETTARIAT   \n",
       "1996        TRAVAIL DE NUIT    TRAVAIL DES FEMMES         SYNDICAT   \n",
       "1997               PAUVRETÉ           QUART-MONDE            ARMÉE   \n",
       "1998            AMÉRINDIENS             NOMADISME       VIEILLESSE   \n",
       "1999        ACCIDENT AÉRIEN                  MD11  PILOTE DE LIGNE   \n",
       "2000  COMMERCE ÉLECTRONIQUE                 AMOUR       VIEILLESSE   \n",
       "\n",
       "                           top6                        top7  \\\n",
       "1990               SCÈNE DE RUE                CONFLIT ARMÉ   \n",
       "1991               NATIONALISME                CONFLIT ARMÉ   \n",
       "1992                  POLITIQUE                      PRISON   \n",
       "1993                      JUIFS                     NAZISME   \n",
       "1994                    SUICIDE                    HOMICIDE   \n",
       "1995                        BAL          PRESSE À SENSATION   \n",
       "1996       CONDITION DE TRAVAIL                 ANNÉES 1990   \n",
       "1997                     BANQUE  GUERRE MONDIALE (DEUXIÈME)   \n",
       "1998  REFOULEMENT DES ÉTRANGERS           REQUÉRANT D'ASILE   \n",
       "1999          SÉCURITÉ AÉRIENNE          CONSEILLER FÉDÉRAL   \n",
       "2000                  SEXUALITÉ        EXPOSITION NATIONALE   \n",
       "\n",
       "                            top8                     top9  \\\n",
       "1990                  ÉCOLOGISME                  CHÔMAGE   \n",
       "1991        ÉCONOMIE CAPITALISTE               ÉCOLOGISME   \n",
       "1992                 IMMIGRATION  MANIFESTATION POLITIQUE   \n",
       "1993  GUERRE MONDIALE (DEUXIÈME)       PLACEMENT FAMILIAL   \n",
       "1994                       SECTE       ENQUÊTE CRIMINELLE   \n",
       "1995                PLAN DE PAIX       CONFLIT YOUGOSLAVE   \n",
       "1996                FEMME BATTUE                 VIOLENCE   \n",
       "1997            TÉLÉPHONE MOBILE                 HISTOIRE   \n",
       "1998    FÉCONDATION ARTIFICIELLE          GÉNIE GÉNÉTIQUE   \n",
       "1999          FONCTION POLITIQUE    COMMERCE ÉLECTRONIQUE   \n",
       "2000                     CÉLIBAT                            \n",
       "\n",
       "                        top10  \n",
       "1990                  FAMILLE  \n",
       "1991                   DÉCHET  \n",
       "1992              AGRICULTEUR  \n",
       "1993  TRAVAIL À TEMPS PARTIEL  \n",
       "1994            HOMOSEXUALITÉ  \n",
       "1995              CONTREFAÇON  \n",
       "1996           DÉPÔT BANCAIRE  \n",
       "1997                POLITIQUE  \n",
       "1998  SNOWBOARD (COMPÉTITION)  \n",
       "1999                    AMOUR  \n",
       "2000                           "
      ]
     },
     "execution_count": 50,
     "metadata": {},
     "output_type": "execute_result"
    }
   ],
   "source": [
    "thematicThemes_per_year"
   ]
  },
  {
   "cell_type": "markdown",
   "metadata": {},
   "source": [
    "### example of visualization\n",
    "<img src=\"wordcloud_example_thematic2017.png\">\n",
    "This image was generated with https://www.wordclouds.com/. ThematicThemes from all programs of 2017"
   ]
  }
 ],
 "metadata": {
  "kernelspec": {
   "display_name": "Python 3",
   "language": "python",
   "name": "python3"
  },
  "language_info": {
   "codemirror_mode": {
    "name": "ipython",
    "version": 3
   },
   "file_extension": ".py",
   "mimetype": "text/x-python",
   "name": "python",
   "nbconvert_exporter": "python",
   "pygments_lexer": "ipython3",
   "version": "3.6.3"
  },
  "toc": {
   "nav_menu": {},
   "number_sections": true,
   "sideBar": true,
   "skip_h1_title": false,
   "toc_cell": false,
   "toc_position": {
    "height": "687px",
    "left": "0px",
    "right": "1411px",
    "top": "107px",
    "width": "189px"
   },
   "toc_section_display": "block",
   "toc_window_display": true
  },
  "varInspector": {
   "cols": {
    "lenName": 16,
    "lenType": 16,
    "lenVar": 40
   },
   "kernels_config": {
    "python": {
     "delete_cmd_postfix": "",
     "delete_cmd_prefix": "del ",
     "library": "var_list.py",
     "varRefreshCmd": "print(var_dic_list())"
    },
    "r": {
     "delete_cmd_postfix": ") ",
     "delete_cmd_prefix": "rm(",
     "library": "var_list.r",
     "varRefreshCmd": "cat(var_dic_list()) "
    }
   },
   "position": {
    "height": "654px",
    "left": "884px",
    "right": "20px",
    "top": "69px",
    "width": "565px"
   },
   "types_to_exclude": [
    "module",
    "function",
    "builtin_function_or_method",
    "instance",
    "_Feature"
   ],
   "window_display": false
  }
 },
 "nbformat": 4,
 "nbformat_minor": 2
}
