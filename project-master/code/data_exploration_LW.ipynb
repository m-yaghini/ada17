{
 "cells": [
  {
   "cell_type": "code",
   "execution_count": 1,
   "metadata": {},
   "outputs": [],
   "source": [
    "%load_ext autoreload\n",
    "%autoreload 2\n",
    "%matplotlib inline\n",
    "\n",
    "import pandas as pd\n",
    "import numpy as np\n",
    "import matplotlib.pyplot as plt\n",
    "import progressbar\n",
    "\n",
    "from json_data_getter import get_all_json"
   ]
  },
  {
   "cell_type": "markdown",
   "metadata": {},
   "source": [
    "# Data preparation"
   ]
  },
  {
   "cell_type": "markdown",
   "metadata": {},
   "source": [
    "## Loading"
   ]
  },
  {
   "cell_type": "code",
   "execution_count": 2,
   "metadata": {},
   "outputs": [
    {
     "name": "stderr",
     "output_type": "stream",
     "text": [
      "100% (109 of 109) |########################################| Elapsed Time: 0:00:28 Time: 0:00:28\n"
     ]
    }
   ],
   "source": [
    "# gets all the json files toghether, may take a minute\n",
    "_, _, documents = get_all_json()\n",
    "df = pd.DataFrame.from_dict(documents)"
   ]
  },
  {
   "cell_type": "markdown",
   "metadata": {},
   "source": [
    "## Cleaning"
   ]
  },
  {
   "cell_type": "code",
   "execution_count": 3,
   "metadata": {
    "scrolled": true
   },
   "outputs": [
    {
     "name": "stderr",
     "output_type": "stream",
     "text": [
      "100% (27 of 27) |##########################################| Elapsed Time: 0:00:01 Time: 0:00:01\n"
     ]
    }
   ],
   "source": [
    "# keep NaN for float columns, empty strings for string columns\n",
    "with progressbar.ProgressBar(max_value=len(df.columns)) as bar:        \n",
    "    for i,col in enumerate(df):\n",
    "        # get dtype for column\n",
    "        dt = df[col].dtype\n",
    "        # check if it is a number\n",
    "        if dt == int or dt == float:\n",
    "            pass\n",
    "        else:\n",
    "            df[col].fillna(\"\", inplace=True)\n",
    "        bar.update(i)\n",
    "\n",
    "# set dates to datetime type\n",
    "df['publicationDate'] = pd.to_datetime(\n",
    "    df['publicationDate'], format='%Y-%m-%dT%H:%M:%SZ')"
   ]
  },
  {
   "cell_type": "code",
   "execution_count": 4,
   "metadata": {
    "scrolled": false
   },
   "outputs": [
    {
     "data": {
      "text/plain": [
       "array(['alternativeExcerpt', 'alternativeTitle', 'articleURL',\n",
       "       'backgrounds', 'contributors', 'durationSec', 'excerpt', 'genres',\n",
       "       'id', 'imageURL', 'isOnline', 'mediaType', 'mediaURL', 'program',\n",
       "       'publicationChannelNames', 'publicationDate', 'source',\n",
       "       'thematicCorporations', 'thematicGeographicals', 'thematicPersons',\n",
       "       'thematicThemes', 'title', 'variantIds', 'visualCorporations',\n",
       "       'visualGeographicals', 'visualPersons', 'visualThemes'], dtype=object)"
      ]
     },
     "execution_count": 4,
     "metadata": {},
     "output_type": "execute_result"
    }
   ],
   "source": [
    "df.columns.values"
   ]
  },
  {
   "cell_type": "markdown",
   "metadata": {},
   "source": [
    "## distribution in time"
   ]
  },
  {
   "cell_type": "code",
   "execution_count": 5,
   "metadata": {
    "scrolled": true
   },
   "outputs": [
    {
     "data": {
      "image/png": "[encoded data removed]",
      "text/plain": [
       "<matplotlib.figure.Figure at 0x20f5a3da4e0>"
      ]
     },
     "metadata": {},
     "output_type": "display_data"
    }
   ],
   "source": [
    "doc_per_year = df.groupby(df.publicationDate.map(lambda x: x.year)).size()\n",
    "doc_per_year.plot()\n",
    "plt.show()"
   ]
  },
  {
   "cell_type": "markdown",
   "metadata": {},
   "source": [
    "## Programs lifespan"
   ]
  },
  {
   "cell_type": "code",
   "execution_count": 6,
   "metadata": {
    "collapsed": true
   },
   "outputs": [],
   "source": [
    "def get_program_lifespan(df):\n",
    "    program_groups = df.groupby(df.program)\n",
    "    df_lifespan = program_groups.publicationDate.agg(['min', 'max', 'size'])\n",
    "    df_lifespan['lifespan_days'] = (\n",
    "        df_lifespan['max'] - df_lifespan['min']).astype('timedelta64[D]')\n",
    "    return df_lifespan"
   ]
  },
  {
   "cell_type": "code",
   "execution_count": 7,
   "metadata": {
    "scrolled": true
   },
   "outputs": [
    {
     "data": {
      "text/html": [
       "<div>\n",
       "<style>\n",
       "    .dataframe thead tr:only-child th {\n",
       "        text-align: right;\n",
       "    }\n",
       "\n",
       "    .dataframe thead th {\n",
       "        text-align: left;\n",
       "    }\n",
       "\n",
       "    .dataframe tbody tr th {\n",
       "        vertical-align: top;\n",
       "    }\n",
       "</style>\n",
       "<table border=\"1\" class=\"dataframe\">\n",
       "  <thead>\n",
       "    <tr style=\"text-align: right;\">\n",
       "      <th></th>\n",
       "      <th>min</th>\n",
       "      <th>max</th>\n",
       "      <th>size</th>\n",
       "      <th>lifespan_days</th>\n",
       "    </tr>\n",
       "    <tr>\n",
       "      <th>program</th>\n",
       "      <th></th>\n",
       "      <th></th>\n",
       "      <th></th>\n",
       "      <th></th>\n",
       "    </tr>\n",
       "  </thead>\n",
       "  <tbody>\n",
       "    <tr>\n",
       "      <th></th>\n",
       "      <td>1900-01-01 00:00:00</td>\n",
       "      <td>2017-11-15 00:00:00</td>\n",
       "      <td>20458</td>\n",
       "      <td>43052.0</td>\n",
       "    </tr>\n",
       "    <tr>\n",
       "      <th>TJ midi</th>\n",
       "      <td>1900-01-01 19:00:00</td>\n",
       "      <td>2011-12-04 11:45:00</td>\n",
       "      <td>204</td>\n",
       "      <td>40878.0</td>\n",
       "    </tr>\n",
       "    <tr>\n",
       "      <th>Marabout de ficelle</th>\n",
       "      <td>1900-01-01 00:00:00</td>\n",
       "      <td>1998-05-20 00:00:00</td>\n",
       "      <td>148</td>\n",
       "      <td>35933.0</td>\n",
       "    </tr>\n",
       "    <tr>\n",
       "      <th>Mémoires de la musique</th>\n",
       "      <td>1922-06-05 00:00:00</td>\n",
       "      <td>2004-01-23 00:00:00</td>\n",
       "      <td>2086</td>\n",
       "      <td>29817.0</td>\n",
       "    </tr>\n",
       "    <tr>\n",
       "      <th>Archives</th>\n",
       "      <td>1939-11-30 02:00:00</td>\n",
       "      <td>2017-10-03 13:10:37</td>\n",
       "      <td>120</td>\n",
       "      <td>28432.0</td>\n",
       "    </tr>\n",
       "  </tbody>\n",
       "</table>\n",
       "</div>"
      ],
      "text/plain": [
       "                                       min                 max   size  \\\n",
       "program                                                                 \n",
       "                       1900-01-01 00:00:00 2017-11-15 00:00:00  20458   \n",
       "TJ midi                1900-01-01 19:00:00 2011-12-04 11:45:00    204   \n",
       "Marabout de ficelle    1900-01-01 00:00:00 1998-05-20 00:00:00    148   \n",
       "Mémoires de la musique 1922-06-05 00:00:00 2004-01-23 00:00:00   2086   \n",
       "Archives               1939-11-30 02:00:00 2017-10-03 13:10:37    120   \n",
       "\n",
       "                        lifespan_days  \n",
       "program                                \n",
       "                              43052.0  \n",
       "TJ midi                       40878.0  \n",
       "Marabout de ficelle           35933.0  \n",
       "Mémoires de la musique        29817.0  \n",
       "Archives                      28432.0  "
      ]
     },
     "execution_count": 7,
     "metadata": {},
     "output_type": "execute_result"
    }
   ],
   "source": [
    "get_program_lifespan(df).sort_values('lifespan_days', ascending=False).head()"
   ]
  },
  {
   "cell_type": "markdown",
   "metadata": {},
   "source": [
    "The first row is the group of unnamed programs. Some duration seem a bit too long, maybe there are errors in the dates. Let's take TJ midi and check the distribution of transmissions by year."
   ]
  },
  {
   "cell_type": "code",
   "execution_count": 8,
   "metadata": {
    "collapsed": true
   },
   "outputs": [],
   "source": [
    "def plot_program_lifespan(program, df):\n",
    "    program_groups = df.groupby(df.program)\n",
    "    group = program_groups.get_group(program)\n",
    "    date_distribution = group.groupby(\n",
    "        group.publicationDate.map(lambda x: (x.year))).size()\n",
    "    plt.bar(date_distribution.index, date_distribution.values)\n",
    "    plt.show()"
   ]
  },
  {
   "cell_type": "code",
   "execution_count": 9,
   "metadata": {},
   "outputs": [
    {
     "data": {
      "image/png": "[encoded data removed]",
      "text/plain": [
       "<matplotlib.figure.Figure at 0x20f6ab3fa90>"
      ]
     },
     "metadata": {},
     "output_type": "display_data"
    }
   ],
   "source": [
    "plot_program_lifespan('TJ midi', df)"
   ]
  },
  {
   "cell_type": "markdown",
   "metadata": {},
   "source": [
    "There are some obvious outliers, let's remove them."
   ]
  },
  {
   "cell_type": "markdown",
   "metadata": {},
   "source": [
    "### Date outliers removal"
   ]
  },
  {
   "cell_type": "code",
   "execution_count": 10,
   "metadata": {
    "collapsed": true
   },
   "outputs": [],
   "source": [
    "# remove date outliers\n",
    "def remove_date_outliers(df):\n",
    "    CONSTANT_STD = 2\n",
    "    df_without_date_outliers = df.copy()\n",
    "\n",
    "    df['publicationDateYear'] = df.publicationDate.map(lambda x: x.year)\n",
    "\n",
    "    mean_std_year_per_program = df.groupby(df.program).publicationDateYear.agg(\n",
    "        [\"mean\", 'std'])\n",
    "\n",
    "    temp_df = pd.merge(\n",
    "        df,\n",
    "        mean_std_year_per_program,\n",
    "        how='left',\n",
    "        left_on=['program'],\n",
    "        right_index=True)\n",
    "\n",
    "    df_without_date_outliers.loc[\n",
    "        (np.abs(temp_df.publicationDateYear - temp_df['mean']) >\n",
    "         CONSTANT_STD * temp_df['std']), 'publicationDate'] = pd.NaT\n",
    "\n",
    "    return df_without_date_outliers"
   ]
  },
  {
   "cell_type": "code",
   "execution_count": 86,
   "metadata": {
    "scrolled": false
   },
   "outputs": [
    {
     "data": {
      "text/html": [
       "<div>\n",
       "<style>\n",
       "    .dataframe thead tr:only-child th {\n",
       "        text-align: right;\n",
       "    }\n",
       "\n",
       "    .dataframe thead th {\n",
       "        text-align: left;\n",
       "    }\n",
       "\n",
       "    .dataframe tbody tr th {\n",
       "        vertical-align: top;\n",
       "    }\n",
       "</style>\n",
       "<table border=\"1\" class=\"dataframe\">\n",
       "  <thead>\n",
       "    <tr style=\"text-align: right;\">\n",
       "      <th></th>\n",
       "      <th>min</th>\n",
       "      <th>max</th>\n",
       "      <th>size</th>\n",
       "      <th>lifespan_days</th>\n",
       "    </tr>\n",
       "    <tr>\n",
       "      <th>program</th>\n",
       "      <th></th>\n",
       "      <th></th>\n",
       "      <th></th>\n",
       "      <th></th>\n",
       "    </tr>\n",
       "  </thead>\n",
       "  <tbody>\n",
       "    <tr>\n",
       "      <th>Journal du matin</th>\n",
       "      <td>1989-01-07 00:00:00</td>\n",
       "      <td>2017-08-28 00:00:00</td>\n",
       "      <td>21767</td>\n",
       "      <td>10460.0</td>\n",
       "    </tr>\n",
       "    <tr>\n",
       "      <th></th>\n",
       "      <td>1921-11-23 00:00:00</td>\n",
       "      <td>2017-11-15 00:00:00</td>\n",
       "      <td>20458</td>\n",
       "      <td>35056.0</td>\n",
       "    </tr>\n",
       "    <tr>\n",
       "      <th>Forum</th>\n",
       "      <td>2004-12-26 23:00:00</td>\n",
       "      <td>2017-11-16 00:00:00</td>\n",
       "      <td>10633</td>\n",
       "      <td>4707.0</td>\n",
       "    </tr>\n",
       "    <tr>\n",
       "      <th>Télé journal</th>\n",
       "      <td>1982-01-01 00:00:00</td>\n",
       "      <td>1996-09-30 23:00:00</td>\n",
       "      <td>10520</td>\n",
       "      <td>5386.0</td>\n",
       "    </tr>\n",
       "    <tr>\n",
       "      <th>Journal de midi</th>\n",
       "      <td>1982-01-09 00:00:00</td>\n",
       "      <td>2017-08-01 00:00:00</td>\n",
       "      <td>8440</td>\n",
       "      <td>12988.0</td>\n",
       "    </tr>\n",
       "    <tr>\n",
       "      <th>Le journal</th>\n",
       "      <td>2006-01-09 00:00:00</td>\n",
       "      <td>2013-12-04 00:00:00</td>\n",
       "      <td>7735</td>\n",
       "      <td>2886.0</td>\n",
       "    </tr>\n",
       "    <tr>\n",
       "      <th>Journal de 12h30</th>\n",
       "      <td>2015-10-01 00:00:00</td>\n",
       "      <td>2017-11-16 00:00:00</td>\n",
       "      <td>6978</td>\n",
       "      <td>777.0</td>\n",
       "    </tr>\n",
       "    <tr>\n",
       "      <th>Le téléjournal</th>\n",
       "      <td>1995-01-09 00:00:00</td>\n",
       "      <td>2001-08-20 00:00:00</td>\n",
       "      <td>6387</td>\n",
       "      <td>2415.0</td>\n",
       "    </tr>\n",
       "    <tr>\n",
       "      <th>Les Zap</th>\n",
       "      <td>1999-02-22 00:00:00</td>\n",
       "      <td>2004-12-19 00:00:00</td>\n",
       "      <td>5474</td>\n",
       "      <td>2127.0</td>\n",
       "    </tr>\n",
       "    <tr>\n",
       "      <th>Journal du soir</th>\n",
       "      <td>1983-02-03 00:00:00</td>\n",
       "      <td>2001-04-29 00:00:00</td>\n",
       "      <td>4429</td>\n",
       "      <td>6660.0</td>\n",
       "    </tr>\n",
       "    <tr>\n",
       "      <th>TJ</th>\n",
       "      <td>2001-08-20 00:00:00</td>\n",
       "      <td>2005-12-31 00:00:00</td>\n",
       "      <td>4333</td>\n",
       "      <td>1594.0</td>\n",
       "    </tr>\n",
       "    <tr>\n",
       "      <th>Carrefour</th>\n",
       "      <td>1961-01-06 00:00:00</td>\n",
       "      <td>1973-01-05 19:00:00</td>\n",
       "      <td>4027</td>\n",
       "      <td>4382.0</td>\n",
       "    </tr>\n",
       "    <tr>\n",
       "      <th>On en parle</th>\n",
       "      <td>2010-09-29 00:00:00</td>\n",
       "      <td>2017-11-15 00:00:00</td>\n",
       "      <td>3984</td>\n",
       "      <td>2604.0</td>\n",
       "    </tr>\n",
       "    <tr>\n",
       "      <th>Babibouchettes</th>\n",
       "      <td>1981-09-14 00:00:00</td>\n",
       "      <td>1999-08-23 00:00:00</td>\n",
       "      <td>3267</td>\n",
       "      <td>6552.0</td>\n",
       "    </tr>\n",
       "    <tr>\n",
       "      <th>Journal romand</th>\n",
       "      <td>1981-10-28 00:00:00</td>\n",
       "      <td>1994-12-23 00:00:00</td>\n",
       "      <td>3251</td>\n",
       "      <td>4804.0</td>\n",
       "    </tr>\n",
       "    <tr>\n",
       "      <th>Vertigo</th>\n",
       "      <td>2013-01-01 00:00:00</td>\n",
       "      <td>2017-11-15 00:00:00</td>\n",
       "      <td>3112</td>\n",
       "      <td>1779.0</td>\n",
       "    </tr>\n",
       "    <tr>\n",
       "      <th>Histoire vivante</th>\n",
       "      <td>2002-01-07 00:00:00</td>\n",
       "      <td>2017-11-15 00:00:00</td>\n",
       "      <td>2751</td>\n",
       "      <td>5791.0</td>\n",
       "    </tr>\n",
       "    <tr>\n",
       "      <th>Forums</th>\n",
       "      <td>2003-11-02 00:00:00</td>\n",
       "      <td>2009-07-31 00:00:00</td>\n",
       "      <td>2749</td>\n",
       "      <td>2098.0</td>\n",
       "    </tr>\n",
       "    <tr>\n",
       "      <th>Temps présent</th>\n",
       "      <td>1969-04-18 00:00:00</td>\n",
       "      <td>2012-09-17 00:00:00</td>\n",
       "      <td>2508</td>\n",
       "      <td>15858.0</td>\n",
       "    </tr>\n",
       "    <tr>\n",
       "      <th>CQFD</th>\n",
       "      <td>2013-01-01 00:00:00</td>\n",
       "      <td>2017-11-15 00:00:00</td>\n",
       "      <td>2309</td>\n",
       "      <td>1779.0</td>\n",
       "    </tr>\n",
       "    <tr>\n",
       "      <th>Entre les lignes</th>\n",
       "      <td>2000-01-01 00:00:00</td>\n",
       "      <td>2016-06-23 00:00:00</td>\n",
       "      <td>2190</td>\n",
       "      <td>6018.0</td>\n",
       "    </tr>\n",
       "    <tr>\n",
       "      <th>Miroir du monde</th>\n",
       "      <td>1956-01-01 00:00:00</td>\n",
       "      <td>1972-12-31 00:00:00</td>\n",
       "      <td>2186</td>\n",
       "      <td>6209.0</td>\n",
       "    </tr>\n",
       "    <tr>\n",
       "      <th>Un jour une heure</th>\n",
       "      <td>1973-01-08 00:00:00</td>\n",
       "      <td>1981-10-30 00:00:00</td>\n",
       "      <td>2145</td>\n",
       "      <td>3217.0</td>\n",
       "    </tr>\n",
       "    <tr>\n",
       "      <th>Petit déjeuner</th>\n",
       "      <td>1985-01-01 00:00:00</td>\n",
       "      <td>1998-12-24 00:00:00</td>\n",
       "      <td>2111</td>\n",
       "      <td>5105.0</td>\n",
       "    </tr>\n",
       "    <tr>\n",
       "      <th>Mémoires de la musique</th>\n",
       "      <td>1988-01-04 00:00:00</td>\n",
       "      <td>2004-01-23 00:00:00</td>\n",
       "      <td>2086</td>\n",
       "      <td>5863.0</td>\n",
       "    </tr>\n",
       "    <tr>\n",
       "      <th>Tout un monde (Info)</th>\n",
       "      <td>2015-08-26 00:00:00</td>\n",
       "      <td>2017-11-16 00:00:00</td>\n",
       "      <td>1828</td>\n",
       "      <td>813.0</td>\n",
       "    </tr>\n",
       "    <tr>\n",
       "      <th>Bus et Compagnie</th>\n",
       "      <td>1996-08-26 00:00:00</td>\n",
       "      <td>1999-08-30 00:00:00</td>\n",
       "      <td>1695</td>\n",
       "      <td>1099.0</td>\n",
       "    </tr>\n",
       "    <tr>\n",
       "      <th>Tout sport</th>\n",
       "      <td>1996-01-09 00:00:00</td>\n",
       "      <td>2001-08-25 00:00:00</td>\n",
       "      <td>1603</td>\n",
       "      <td>2055.0</td>\n",
       "    </tr>\n",
       "    <tr>\n",
       "      <th>Musique en mémoire</th>\n",
       "      <td>2004-01-26 00:00:00</td>\n",
       "      <td>2016-06-24 00:00:00</td>\n",
       "      <td>1599</td>\n",
       "      <td>4533.0</td>\n",
       "    </tr>\n",
       "    <tr>\n",
       "      <th>Couleurs locales</th>\n",
       "      <td>2009-08-24 00:00:00</td>\n",
       "      <td>2017-11-23 19:00:00</td>\n",
       "      <td>1562</td>\n",
       "      <td>3013.0</td>\n",
       "    </tr>\n",
       "    <tr>\n",
       "      <th>Zig zag café</th>\n",
       "      <td>1996-09-09 00:00:00</td>\n",
       "      <td>2004-12-24 00:00:00</td>\n",
       "      <td>1495</td>\n",
       "      <td>3028.0</td>\n",
       "    </tr>\n",
       "    <tr>\n",
       "      <th>Happy Culture</th>\n",
       "      <td>2014-01-07 00:00:00</td>\n",
       "      <td>2017-06-29 00:00:00</td>\n",
       "      <td>1422</td>\n",
       "      <td>1269.0</td>\n",
       "    </tr>\n",
       "    <tr>\n",
       "      <th>A bon entendeur</th>\n",
       "      <td>1976-01-19 00:00:00</td>\n",
       "      <td>2017-11-21 20:10:00</td>\n",
       "      <td>1374</td>\n",
       "      <td>15282.0</td>\n",
       "    </tr>\n",
       "    <tr>\n",
       "      <th>Matinale</th>\n",
       "      <td>2017-08-28 00:00:00</td>\n",
       "      <td>2017-11-16 00:00:00</td>\n",
       "      <td>1351</td>\n",
       "      <td>80.0</td>\n",
       "    </tr>\n",
       "    <tr>\n",
       "      <th>Six heures - Neuf heures, le samedi</th>\n",
       "      <td>2015-10-03 00:00:00</td>\n",
       "      <td>2017-11-11 00:00:00</td>\n",
       "      <td>1278</td>\n",
       "      <td>770.0</td>\n",
       "    </tr>\n",
       "  </tbody>\n",
       "</table>\n",
       "</div>"
      ],
      "text/plain": [
       "                                                    min                 max  \\\n",
       "program                                                                       \n",
       "Journal du matin                    1989-01-07 00:00:00 2017-08-28 00:00:00   \n",
       "                                    1921-11-23 00:00:00 2017-11-15 00:00:00   \n",
       "Forum                               2004-12-26 23:00:00 2017-11-16 00:00:00   \n",
       "Télé journal                        1982-01-01 00:00:00 1996-09-30 23:00:00   \n",
       "Journal de midi                     1982-01-09 00:00:00 2017-08-01 00:00:00   \n",
       "Le journal                          2006-01-09 00:00:00 2013-12-04 00:00:00   \n",
       "Journal de 12h30                    2015-10-01 00:00:00 2017-11-16 00:00:00   \n",
       "Le téléjournal                      1995-01-09 00:00:00 2001-08-20 00:00:00   \n",
       "Les Zap                             1999-02-22 00:00:00 2004-12-19 00:00:00   \n",
       "Journal du soir                     1983-02-03 00:00:00 2001-04-29 00:00:00   \n",
       "TJ                                  2001-08-20 00:00:00 2005-12-31 00:00:00   \n",
       "Carrefour                           1961-01-06 00:00:00 1973-01-05 19:00:00   \n",
       "On en parle                         2010-09-29 00:00:00 2017-11-15 00:00:00   \n",
       "Babibouchettes                      1981-09-14 00:00:00 1999-08-23 00:00:00   \n",
       "Journal romand                      1981-10-28 00:00:00 1994-12-23 00:00:00   \n",
       "Vertigo                             2013-01-01 00:00:00 2017-11-15 00:00:00   \n",
       "Histoire vivante                    2002-01-07 00:00:00 2017-11-15 00:00:00   \n",
       "Forums                              2003-11-02 00:00:00 2009-07-31 00:00:00   \n",
       "Temps présent                       1969-04-18 00:00:00 2012-09-17 00:00:00   \n",
       "CQFD                                2013-01-01 00:00:00 2017-11-15 00:00:00   \n",
       "Entre les lignes                    2000-01-01 00:00:00 2016-06-23 00:00:00   \n",
       "Miroir du monde                     1956-01-01 00:00:00 1972-12-31 00:00:00   \n",
       "Un jour une heure                   1973-01-08 00:00:00 1981-10-30 00:00:00   \n",
       "Petit déjeuner                      1985-01-01 00:00:00 1998-12-24 00:00:00   \n",
       "Mémoires de la musique              1988-01-04 00:00:00 2004-01-23 00:00:00   \n",
       "Tout un monde (Info)                2015-08-26 00:00:00 2017-11-16 00:00:00   \n",
       "Bus et Compagnie                    1996-08-26 00:00:00 1999-08-30 00:00:00   \n",
       "Tout sport                          1996-01-09 00:00:00 2001-08-25 00:00:00   \n",
       "Musique en mémoire                  2004-01-26 00:00:00 2016-06-24 00:00:00   \n",
       "Couleurs locales                    2009-08-24 00:00:00 2017-11-23 19:00:00   \n",
       "Zig zag café                        1996-09-09 00:00:00 2004-12-24 00:00:00   \n",
       "Happy Culture                       2014-01-07 00:00:00 2017-06-29 00:00:00   \n",
       "A bon entendeur                     1976-01-19 00:00:00 2017-11-21 20:10:00   \n",
       "Matinale                            2017-08-28 00:00:00 2017-11-16 00:00:00   \n",
       "Six heures - Neuf heures, le samedi 2015-10-03 00:00:00 2017-11-11 00:00:00   \n",
       "\n",
       "                                      size  lifespan_days  \n",
       "program                                                    \n",
       "Journal du matin                     21767        10460.0  \n",
       "                                     20458        35056.0  \n",
       "Forum                                10633         4707.0  \n",
       "Télé journal                         10520         5386.0  \n",
       "Journal de midi                       8440        12988.0  \n",
       "Le journal                            7735         2886.0  \n",
       "Journal de 12h30                      6978          777.0  \n",
       "Le téléjournal                        6387         2415.0  \n",
       "Les Zap                               5474         2127.0  \n",
       "Journal du soir                       4429         6660.0  \n",
       "TJ                                    4333         1594.0  \n",
       "Carrefour                             4027         4382.0  \n",
       "On en parle                           3984         2604.0  \n",
       "Babibouchettes                        3267         6552.0  \n",
       "Journal romand                        3251         4804.0  \n",
       "Vertigo                               3112         1779.0  \n",
       "Histoire vivante                      2751         5791.0  \n",
       "Forums                                2749         2098.0  \n",
       "Temps présent                         2508        15858.0  \n",
       "CQFD                                  2309         1779.0  \n",
       "Entre les lignes                      2190         6018.0  \n",
       "Miroir du monde                       2186         6209.0  \n",
       "Un jour une heure                     2145         3217.0  \n",
       "Petit déjeuner                        2111         5105.0  \n",
       "Mémoires de la musique                2086         5863.0  \n",
       "Tout un monde (Info)                  1828          813.0  \n",
       "Bus et Compagnie                      1695         1099.0  \n",
       "Tout sport                            1603         2055.0  \n",
       "Musique en mémoire                    1599         4533.0  \n",
       "Couleurs locales                      1562         3013.0  \n",
       "Zig zag café                          1495         3028.0  \n",
       "Happy Culture                         1422         1269.0  \n",
       "A bon entendeur                       1374        15282.0  \n",
       "Matinale                              1351           80.0  \n",
       "Six heures - Neuf heures, le samedi   1278          770.0  "
      ]
     },
     "execution_count": 86,
     "metadata": {},
     "output_type": "execute_result"
    }
   ],
   "source": [
    "df_without_date_outliers = remove_date_outliers(df)\n",
    "get_program_lifespan(df_without_date_outliers).sort_values(\n",
    "    'size', ascending=False).head(35)"
   ]
  },
  {
   "cell_type": "code",
   "execution_count": 12,
   "metadata": {
    "scrolled": false
   },
   "outputs": [
    {
     "data": {
      "image/png": "[encoded data removed]",
      "text/plain": [
       "<matplotlib.figure.Figure at 0x20f5a434b00>"
      ]
     },
     "metadata": {},
     "output_type": "display_data"
    }
   ],
   "source": [
    "plot_program_lifespan('TJ midi', df_without_date_outliers)"
   ]
  },
  {
   "cell_type": "markdown",
   "metadata": {},
   "source": [
    "# Gender (Sina)"
   ]
  },
  {
   "cell_type": "markdown",
   "metadata": {},
   "source": [
    "# Location (Mohammed)"
   ]
  },
  {
   "cell_type": "markdown",
   "metadata": {},
   "source": [
    "# Factors for program lifespan (Leo)"
   ]
  },
  {
   "cell_type": "markdown",
   "metadata": {},
   "source": [
    "## Themes in periods"
   ]
  },
  {
   "cell_type": "code",
   "execution_count": 121,
   "metadata": {
    "collapsed": true
   },
   "outputs": [],
   "source": [
    "from collections import Counter\n",
    "import datetime\n",
    "\n",
    "def get_themes(df, theme_type, program='', from_ = '', to='', n=10):\n",
    "    \n",
    "    temp_df = df\n",
    "    \n",
    "    if program:\n",
    "        temp_df = temp_df.loc[temp_df.program == program]\n",
    "    if from_:\n",
    "        temp_df = temp_df.loc[temp_df.publicationDate >= from_]\n",
    "    if to:\n",
    "        temp_df = temp_df.loc[temp_df.publicationDate <= to]\n",
    "\n",
    "    flat_list = [item for sublist in temp_df[theme_type].values for item in sublist]\n",
    "    #return' '.join(flat_list)\n",
    "    return Counter(flat_list).most_common(n)\n",
    "\n",
    "def theme_per_year(theme, program='',n_top = 3):\n",
    "    columns_name = ['top' + str(i+1) for i in range(n_top)]\n",
    "    themes_per_year = pd.DataFrame(columns=columns_name)\n",
    "    for i in range(1921, 2018):\n",
    "        temp_themes = get_themes(\n",
    "            df_without_date_outliers,\n",
    "            theme,\n",
    "            program,\n",
    "            from_=datetime.date(i, 1, 1),\n",
    "            to=datetime.date(i+1,1,1),\n",
    "            n=n_top)\n",
    "\n",
    "        top_themes = [''] * n_top\n",
    "        for j in range(len(temp_themes)):\n",
    "            top_themes[j] = (temp_themes[j][0])\n",
    "\n",
    "        themes_per_year.loc[i] = top_themes\n",
    "    return themes_per_year\n",
    "\n",
    "possible_themes = [\n",
    "    'genres', 'publicationChannelNames', 'thematicCorporations',\n",
    "    'thematicGeographicals', 'thematicPersons', 'thematicThemes',\n",
    "    'visualCorporations', 'visualGeographicals', 'visualPersons',\n",
    "    'visualThemes'\n",
    "]\n",
    "\n",
    "possible_programs = df_without_date_outliers.program.unique()"
   ]
  },
  {
   "cell_type": "code",
   "execution_count": 75,
   "metadata": {},
   "outputs": [],
   "source": [
    "thematicThemes_per_year = theme_per_year('thematicThemes')\n",
    "visualThemes_per_year = theme_per_year('visualThemes')\n",
    "thematicPersons_per_year = theme_per_year('thematicPersons')\n",
    "thematicGeographicals_per_year = theme_per_year('thematicGeographicals')\n",
    "thematicCorporations_per_year = theme_per_year('thematicCorporations')"
   ]
  },
  {
   "cell_type": "code",
   "execution_count": 111,
   "metadata": {},
   "outputs": [],
   "source": [
    "thematicThemes_per_year_journaldumatin = theme_per_year('thematicGeographicals', program='Journal du matin', n_top = 10)"
   ]
  },
  {
   "cell_type": "code",
   "execution_count": 112,
   "metadata": {
    "scrolled": true
   },
   "outputs": [
    {
     "data": {
      "text/html": [
       "<div>\n",
       "<style>\n",
       "    .dataframe thead tr:only-child th {\n",
       "        text-align: right;\n",
       "    }\n",
       "\n",
       "    .dataframe thead th {\n",
       "        text-align: left;\n",
       "    }\n",
       "\n",
       "    .dataframe tbody tr th {\n",
       "        vertical-align: top;\n",
       "    }\n",
       "</style>\n",
       "<table border=\"1\" class=\"dataframe\">\n",
       "  <thead>\n",
       "    <tr style=\"text-align: right;\">\n",
       "      <th></th>\n",
       "      <th>top1</th>\n",
       "      <th>top2</th>\n",
       "      <th>top3</th>\n",
       "      <th>top4</th>\n",
       "      <th>top5</th>\n",
       "      <th>top6</th>\n",
       "      <th>top7</th>\n",
       "      <th>top8</th>\n",
       "      <th>top9</th>\n",
       "      <th>top10</th>\n",
       "    </tr>\n",
       "  </thead>\n",
       "  <tbody>\n",
       "    <tr>\n",
       "      <th>1989</th>\n",
       "      <td>Suisse</td>\n",
       "      <td>Romont</td>\n",
       "      <td>Pologne</td>\n",
       "      <td>Fribourg (canton)</td>\n",
       "      <td>Etats-Unis</td>\n",
       "      <td>Liban</td>\n",
       "      <td>Israël</td>\n",
       "      <td>Nyon</td>\n",
       "      <td>Valais</td>\n",
       "      <td>Sembrancher</td>\n",
       "    </tr>\n",
       "    <tr>\n",
       "      <th>1990</th>\n",
       "      <td>Suisse</td>\n",
       "      <td>Fribourg (canton)</td>\n",
       "      <td>Neuchâtel (canton)</td>\n",
       "      <td>Romont</td>\n",
       "      <td>Irak</td>\n",
       "      <td>Afrique du Sud</td>\n",
       "      <td>France</td>\n",
       "      <td>Carpentras</td>\n",
       "      <td>Glâne (district, FR)</td>\n",
       "      <td>Etats-Unis</td>\n",
       "    </tr>\n",
       "    <tr>\n",
       "      <th>1991</th>\n",
       "      <td>Suisse</td>\n",
       "      <td>Irak</td>\n",
       "      <td>Etats-Unis</td>\n",
       "      <td>Israël</td>\n",
       "      <td>Liban</td>\n",
       "      <td>URSS</td>\n",
       "      <td>Vaud</td>\n",
       "      <td>France</td>\n",
       "      <td>Fribourg (canton)</td>\n",
       "      <td>Fédération de Russie</td>\n",
       "    </tr>\n",
       "    <tr>\n",
       "      <th>1992</th>\n",
       "      <td>Suisse</td>\n",
       "      <td>Europe</td>\n",
       "      <td>France</td>\n",
       "      <td>Yougoslavie</td>\n",
       "      <td>Etats-Unis</td>\n",
       "      <td>Bosnie-Herzégovine</td>\n",
       "      <td>Genève (ville)</td>\n",
       "      <td>Vaud</td>\n",
       "      <td>Serbie</td>\n",
       "      <td>Fribourg (canton)</td>\n",
       "    </tr>\n",
       "    <tr>\n",
       "      <th>1993</th>\n",
       "      <td>Suisse</td>\n",
       "      <td>Yougoslavie</td>\n",
       "      <td>Bosnie-Herzégovine</td>\n",
       "      <td>Etats-Unis</td>\n",
       "      <td>France</td>\n",
       "      <td>Israël</td>\n",
       "      <td>Vaud</td>\n",
       "      <td>Russie</td>\n",
       "      <td>Jura (canton)</td>\n",
       "      <td>Europe</td>\n",
       "    </tr>\n",
       "    <tr>\n",
       "      <th>1994</th>\n",
       "      <td>Suisse</td>\n",
       "      <td>Vaud</td>\n",
       "      <td>France</td>\n",
       "      <td>Valais</td>\n",
       "      <td>Europe</td>\n",
       "      <td>Genève (ville)</td>\n",
       "      <td>Etats-Unis</td>\n",
       "      <td>Yougoslavie</td>\n",
       "      <td>Fribourg (canton)</td>\n",
       "      <td>Lausanne</td>\n",
       "    </tr>\n",
       "    <tr>\n",
       "      <th>1995</th>\n",
       "      <td>Suisse</td>\n",
       "      <td>Vaud</td>\n",
       "      <td>Yougoslavie</td>\n",
       "      <td>Europe</td>\n",
       "      <td>Bosnie-Herzégovine</td>\n",
       "      <td>Valais</td>\n",
       "      <td>Genève (ville)</td>\n",
       "      <td>France</td>\n",
       "      <td>Fribourg (canton)</td>\n",
       "      <td>Etats-Unis</td>\n",
       "    </tr>\n",
       "    <tr>\n",
       "      <th>1996</th>\n",
       "      <td>Suisse</td>\n",
       "      <td>Vaud</td>\n",
       "      <td>France</td>\n",
       "      <td>Russie</td>\n",
       "      <td>Genève (ville)</td>\n",
       "      <td>Yougoslavie</td>\n",
       "      <td>Genève (canton)</td>\n",
       "      <td>Neuchâtel (canton)</td>\n",
       "      <td>Bosnie-Herzégovine</td>\n",
       "      <td>Moscou</td>\n",
       "    </tr>\n",
       "    <tr>\n",
       "      <th>1997</th>\n",
       "      <td>Suisse</td>\n",
       "      <td>Vaud</td>\n",
       "      <td>Valais</td>\n",
       "      <td>France</td>\n",
       "      <td>Neuchâtel (canton)</td>\n",
       "      <td>Genève (canton)</td>\n",
       "      <td>Genève (ville)</td>\n",
       "      <td>Zaïre</td>\n",
       "      <td>Lausanne</td>\n",
       "      <td>Yougoslavie</td>\n",
       "    </tr>\n",
       "    <tr>\n",
       "      <th>1998</th>\n",
       "      <td>Suisse</td>\n",
       "      <td>Vaud</td>\n",
       "      <td>Etats-Unis</td>\n",
       "      <td>Genève (ville)</td>\n",
       "      <td>France</td>\n",
       "      <td>Suisse romande</td>\n",
       "      <td>Genève (canton)</td>\n",
       "      <td>Yougoslavie</td>\n",
       "      <td>Israël</td>\n",
       "      <td>Europe</td>\n",
       "    </tr>\n",
       "    <tr>\n",
       "      <th>1999</th>\n",
       "      <td>Suisse</td>\n",
       "      <td>Yougoslavie</td>\n",
       "      <td>Kosovo</td>\n",
       "      <td>Serbie</td>\n",
       "      <td>Albanie</td>\n",
       "      <td>Vaud</td>\n",
       "      <td>Genève (ville)</td>\n",
       "      <td>Etats-Unis</td>\n",
       "      <td>France</td>\n",
       "      <td>Valais</td>\n",
       "    </tr>\n",
       "    <tr>\n",
       "      <th>2000</th>\n",
       "      <td>Suisse</td>\n",
       "      <td>Yougoslavie</td>\n",
       "      <td>Etats-Unis</td>\n",
       "      <td>Serbie</td>\n",
       "      <td>Valais</td>\n",
       "      <td>Israël</td>\n",
       "      <td>France</td>\n",
       "      <td>Proche-Orient</td>\n",
       "      <td>Vaud</td>\n",
       "      <td>Kosovo</td>\n",
       "    </tr>\n",
       "    <tr>\n",
       "      <th>2001</th>\n",
       "      <td>Suisse</td>\n",
       "      <td>Etats-Unis</td>\n",
       "      <td>Afghanistan</td>\n",
       "      <td>Israël</td>\n",
       "      <td>Vaud</td>\n",
       "      <td>Proche-Orient</td>\n",
       "      <td>Palestine</td>\n",
       "      <td>France</td>\n",
       "      <td>Kaboul</td>\n",
       "      <td>Yougoslavie</td>\n",
       "    </tr>\n",
       "    <tr>\n",
       "      <th>2002</th>\n",
       "      <td>Suisse</td>\n",
       "      <td>Neuchâtel (canton)</td>\n",
       "      <td>Neuchâtel (ville)</td>\n",
       "      <td>Yverdon-les-Bains</td>\n",
       "      <td>Bienne</td>\n",
       "      <td>Morat</td>\n",
       "      <td>Israël</td>\n",
       "      <td>Proche-Orient</td>\n",
       "      <td>Palestine</td>\n",
       "      <td>France</td>\n",
       "    </tr>\n",
       "    <tr>\n",
       "      <th>2003</th>\n",
       "      <td>Suisse</td>\n",
       "      <td>Irak</td>\n",
       "      <td>Genève</td>\n",
       "      <td>Etats-Unis</td>\n",
       "      <td>Lausanne</td>\n",
       "      <td>France</td>\n",
       "      <td>Bagdad</td>\n",
       "      <td>Neuchâtel (canton)</td>\n",
       "      <td>Nouvelle-Zélande</td>\n",
       "      <td>Israël</td>\n",
       "    </tr>\n",
       "    <tr>\n",
       "      <th>2004</th>\n",
       "      <td>Suisse</td>\n",
       "      <td>Union européenne</td>\n",
       "      <td>Etats-Unis</td>\n",
       "      <td>Grèce</td>\n",
       "      <td>Irak</td>\n",
       "      <td>France</td>\n",
       "      <td>Genève (canton)</td>\n",
       "      <td>Egine</td>\n",
       "      <td>Neuchâtel (canton)</td>\n",
       "      <td>Jura (canton)</td>\n",
       "    </tr>\n",
       "    <tr>\n",
       "      <th>2005</th>\n",
       "      <td>Suisse</td>\n",
       "      <td>Union européenne</td>\n",
       "      <td>Vatican</td>\n",
       "      <td>Genève (canton)</td>\n",
       "      <td>France</td>\n",
       "      <td>Vaud</td>\n",
       "      <td>Zurich (canton)</td>\n",
       "      <td>Etats-Unis</td>\n",
       "      <td>Genève (ville)</td>\n",
       "      <td>Asie du Sud-Est</td>\n",
       "    </tr>\n",
       "    <tr>\n",
       "      <th>2006</th>\n",
       "      <td>Suisse</td>\n",
       "      <td>France</td>\n",
       "      <td>Reconvilier</td>\n",
       "      <td>Israël</td>\n",
       "      <td>Liban</td>\n",
       "      <td>Neuchâtel (canton)</td>\n",
       "      <td>Etats-Unis</td>\n",
       "      <td>Palestine</td>\n",
       "      <td>Italie</td>\n",
       "      <td>Jura (canton)</td>\n",
       "    </tr>\n",
       "    <tr>\n",
       "      <th>2007</th>\n",
       "      <td>Suisse</td>\n",
       "      <td>France</td>\n",
       "      <td>Etats-Unis</td>\n",
       "      <td>Genève (canton)</td>\n",
       "      <td>Lausanne</td>\n",
       "      <td>Union européenne</td>\n",
       "      <td>Vaud</td>\n",
       "      <td>Inde</td>\n",
       "      <td>Genève (ville)</td>\n",
       "      <td>Zurich (canton)</td>\n",
       "    </tr>\n",
       "    <tr>\n",
       "      <th>2008</th>\n",
       "      <td>Suisse</td>\n",
       "      <td>Etats-Unis</td>\n",
       "      <td>France</td>\n",
       "      <td>Autriche</td>\n",
       "      <td>Vaud</td>\n",
       "      <td>Genève (canton)</td>\n",
       "      <td>Lausanne</td>\n",
       "      <td>Neuchâtel (canton)</td>\n",
       "      <td>Jura (canton)</td>\n",
       "      <td>Chine</td>\n",
       "    </tr>\n",
       "    <tr>\n",
       "      <th>2009</th>\n",
       "      <td>Suisse</td>\n",
       "      <td>Etats-Unis</td>\n",
       "      <td>France</td>\n",
       "      <td>Genève (canton)</td>\n",
       "      <td>Union européenne</td>\n",
       "      <td>Vaud</td>\n",
       "      <td>Allemagne</td>\n",
       "      <td>Libye</td>\n",
       "      <td>Israël</td>\n",
       "      <td>Europe de l'Est</td>\n",
       "    </tr>\n",
       "    <tr>\n",
       "      <th>2010</th>\n",
       "      <td>Suisse</td>\n",
       "      <td>France</td>\n",
       "      <td>Etats-Unis</td>\n",
       "      <td>Genève (canton)</td>\n",
       "      <td>Haïti</td>\n",
       "      <td>Chine</td>\n",
       "      <td>Union européenne</td>\n",
       "      <td>Libye</td>\n",
       "      <td>Jura (canton)</td>\n",
       "      <td>Fédération de Russie</td>\n",
       "    </tr>\n",
       "    <tr>\n",
       "      <th>2011</th>\n",
       "      <td>Suisse</td>\n",
       "      <td>Libye</td>\n",
       "      <td>Etats-Unis</td>\n",
       "      <td>Tunisie</td>\n",
       "      <td>France</td>\n",
       "      <td>Egypte</td>\n",
       "      <td>Japon</td>\n",
       "      <td>Syrie</td>\n",
       "      <td>Union européenne</td>\n",
       "      <td>Grèce</td>\n",
       "    </tr>\n",
       "    <tr>\n",
       "      <th>2012</th>\n",
       "      <td>Suisse</td>\n",
       "      <td>France</td>\n",
       "      <td>Etats-Unis</td>\n",
       "      <td>Union européenne</td>\n",
       "      <td>Valais</td>\n",
       "      <td>Londres</td>\n",
       "      <td>Jura (canton)</td>\n",
       "      <td>Chine</td>\n",
       "      <td>Allemagne</td>\n",
       "      <td>Syrie</td>\n",
       "    </tr>\n",
       "    <tr>\n",
       "      <th>2013</th>\n",
       "      <td>Suisse</td>\n",
       "      <td>Etats-Unis</td>\n",
       "      <td>France</td>\n",
       "      <td>Union européenne</td>\n",
       "      <td>Jura (canton)</td>\n",
       "      <td>Genève (canton)</td>\n",
       "      <td>Berne (canton)</td>\n",
       "      <td>Allemagne</td>\n",
       "      <td>Vaud</td>\n",
       "      <td>Chine</td>\n",
       "    </tr>\n",
       "    <tr>\n",
       "      <th>2014</th>\n",
       "      <td>Suisse</td>\n",
       "      <td>France</td>\n",
       "      <td>Union européenne</td>\n",
       "      <td>Fédération de Russie</td>\n",
       "      <td>Ukraine</td>\n",
       "      <td>Syrie</td>\n",
       "      <td>Etats-Unis</td>\n",
       "      <td>Chine</td>\n",
       "      <td>Suisse romande</td>\n",
       "      <td>Irak</td>\n",
       "    </tr>\n",
       "    <tr>\n",
       "      <th>2015</th>\n",
       "      <td>Suisse</td>\n",
       "      <td>France</td>\n",
       "      <td>Union européenne</td>\n",
       "      <td>Etats-Unis</td>\n",
       "      <td>Fédération de Russie</td>\n",
       "      <td>Lausanne</td>\n",
       "      <td>Paris</td>\n",
       "      <td>Syrie</td>\n",
       "      <td>Italie</td>\n",
       "      <td>Grèce</td>\n",
       "    </tr>\n",
       "    <tr>\n",
       "      <th>2016</th>\n",
       "      <td>Suisse</td>\n",
       "      <td>Etats-Unis</td>\n",
       "      <td>France</td>\n",
       "      <td>Syrie</td>\n",
       "      <td>Saint-Gothard</td>\n",
       "      <td>Grande-Bretagne</td>\n",
       "      <td>Genève (canton)</td>\n",
       "      <td>Vaud</td>\n",
       "      <td>Turquie</td>\n",
       "      <td>Europe</td>\n",
       "    </tr>\n",
       "    <tr>\n",
       "      <th>2017</th>\n",
       "      <td>Suisse</td>\n",
       "      <td>France</td>\n",
       "      <td>Etats-Unis</td>\n",
       "      <td>Genève (canton)</td>\n",
       "      <td>Vaud</td>\n",
       "      <td>Union européenne</td>\n",
       "      <td>Valais</td>\n",
       "      <td>Fédération de Russie</td>\n",
       "      <td>Neuchâtel (canton)</td>\n",
       "      <td>Grande-Bretagne</td>\n",
       "    </tr>\n",
       "  </tbody>\n",
       "</table>\n",
       "</div>"
      ],
      "text/plain": [
       "        top1                top2                top3                  top4  \\\n",
       "1989  Suisse              Romont             Pologne     Fribourg (canton)   \n",
       "1990  Suisse   Fribourg (canton)  Neuchâtel (canton)                Romont   \n",
       "1991  Suisse                Irak          Etats-Unis                Israël   \n",
       "1992  Suisse              Europe              France           Yougoslavie   \n",
       "1993  Suisse         Yougoslavie  Bosnie-Herzégovine            Etats-Unis   \n",
       "1994  Suisse                Vaud              France                Valais   \n",
       "1995  Suisse                Vaud         Yougoslavie                Europe   \n",
       "1996  Suisse                Vaud              France                Russie   \n",
       "1997  Suisse                Vaud              Valais                France   \n",
       "1998  Suisse                Vaud          Etats-Unis        Genève (ville)   \n",
       "1999  Suisse         Yougoslavie              Kosovo                Serbie   \n",
       "2000  Suisse         Yougoslavie          Etats-Unis                Serbie   \n",
       "2001  Suisse          Etats-Unis         Afghanistan                Israël   \n",
       "2002  Suisse  Neuchâtel (canton)   Neuchâtel (ville)     Yverdon-les-Bains   \n",
       "2003  Suisse                Irak              Genève            Etats-Unis   \n",
       "2004  Suisse    Union européenne          Etats-Unis                 Grèce   \n",
       "2005  Suisse    Union européenne             Vatican       Genève (canton)   \n",
       "2006  Suisse              France         Reconvilier                Israël   \n",
       "2007  Suisse              France          Etats-Unis       Genève (canton)   \n",
       "2008  Suisse          Etats-Unis              France              Autriche   \n",
       "2009  Suisse          Etats-Unis              France       Genève (canton)   \n",
       "2010  Suisse              France          Etats-Unis       Genève (canton)   \n",
       "2011  Suisse               Libye          Etats-Unis               Tunisie   \n",
       "2012  Suisse              France          Etats-Unis      Union européenne   \n",
       "2013  Suisse          Etats-Unis              France      Union européenne   \n",
       "2014  Suisse              France    Union européenne  Fédération de Russie   \n",
       "2015  Suisse              France    Union européenne            Etats-Unis   \n",
       "2016  Suisse          Etats-Unis              France                 Syrie   \n",
       "2017  Suisse              France          Etats-Unis       Genève (canton)   \n",
       "\n",
       "                      top5                top6              top7  \\\n",
       "1989            Etats-Unis               Liban            Israël   \n",
       "1990                  Irak      Afrique du Sud            France   \n",
       "1991                 Liban                URSS              Vaud   \n",
       "1992            Etats-Unis  Bosnie-Herzégovine    Genève (ville)   \n",
       "1993                France              Israël              Vaud   \n",
       "1994                Europe      Genève (ville)        Etats-Unis   \n",
       "1995    Bosnie-Herzégovine              Valais    Genève (ville)   \n",
       "1996        Genève (ville)         Yougoslavie   Genève (canton)   \n",
       "1997    Neuchâtel (canton)     Genève (canton)    Genève (ville)   \n",
       "1998                France      Suisse romande   Genève (canton)   \n",
       "1999               Albanie                Vaud    Genève (ville)   \n",
       "2000                Valais              Israël            France   \n",
       "2001                  Vaud       Proche-Orient         Palestine   \n",
       "2002                Bienne               Morat            Israël   \n",
       "2003              Lausanne              France            Bagdad   \n",
       "2004                  Irak              France   Genève (canton)   \n",
       "2005                France                Vaud   Zurich (canton)   \n",
       "2006                 Liban  Neuchâtel (canton)        Etats-Unis   \n",
       "2007              Lausanne    Union européenne              Vaud   \n",
       "2008                  Vaud     Genève (canton)          Lausanne   \n",
       "2009      Union européenne                Vaud         Allemagne   \n",
       "2010                 Haïti               Chine  Union européenne   \n",
       "2011                France              Egypte             Japon   \n",
       "2012                Valais             Londres     Jura (canton)   \n",
       "2013         Jura (canton)     Genève (canton)    Berne (canton)   \n",
       "2014               Ukraine               Syrie        Etats-Unis   \n",
       "2015  Fédération de Russie            Lausanne             Paris   \n",
       "2016         Saint-Gothard     Grande-Bretagne   Genève (canton)   \n",
       "2017                  Vaud    Union européenne            Valais   \n",
       "\n",
       "                      top8                  top9                 top10  \n",
       "1989                  Nyon                Valais           Sembrancher  \n",
       "1990            Carpentras  Glâne (district, FR)            Etats-Unis  \n",
       "1991                France     Fribourg (canton)  Fédération de Russie  \n",
       "1992                  Vaud                Serbie     Fribourg (canton)  \n",
       "1993                Russie         Jura (canton)                Europe  \n",
       "1994           Yougoslavie     Fribourg (canton)              Lausanne  \n",
       "1995                France     Fribourg (canton)            Etats-Unis  \n",
       "1996    Neuchâtel (canton)    Bosnie-Herzégovine                Moscou  \n",
       "1997                 Zaïre              Lausanne           Yougoslavie  \n",
       "1998           Yougoslavie                Israël                Europe  \n",
       "1999            Etats-Unis                France                Valais  \n",
       "2000         Proche-Orient                  Vaud                Kosovo  \n",
       "2001                France                Kaboul           Yougoslavie  \n",
       "2002         Proche-Orient             Palestine                France  \n",
       "2003    Neuchâtel (canton)      Nouvelle-Zélande                Israël  \n",
       "2004                 Egine    Neuchâtel (canton)         Jura (canton)  \n",
       "2005            Etats-Unis        Genève (ville)       Asie du Sud-Est  \n",
       "2006             Palestine                Italie         Jura (canton)  \n",
       "2007                  Inde        Genève (ville)       Zurich (canton)  \n",
       "2008    Neuchâtel (canton)         Jura (canton)                 Chine  \n",
       "2009                 Libye                Israël       Europe de l'Est  \n",
       "2010                 Libye         Jura (canton)  Fédération de Russie  \n",
       "2011                 Syrie      Union européenne                 Grèce  \n",
       "2012                 Chine             Allemagne                 Syrie  \n",
       "2013             Allemagne                  Vaud                 Chine  \n",
       "2014                 Chine        Suisse romande                  Irak  \n",
       "2015                 Syrie                Italie                 Grèce  \n",
       "2016                  Vaud               Turquie                Europe  \n",
       "2017  Fédération de Russie    Neuchâtel (canton)       Grande-Bretagne  "
      ]
     },
     "execution_count": 112,
     "metadata": {},
     "output_type": "execute_result"
    }
   ],
   "source": [
    "thematicThemes_per_year_journaldumatin[68:]"
   ]
  },
  {
   "cell_type": "markdown",
   "metadata": {},
   "source": [
    "<img src=\"wordcloud_example_thematic2017.png\">\n",
    "This image was generated with https://www.wordclouds.com/. ThematicThemes from all programs of 2017"
   ]
  },
  {
   "cell_type": "markdown",
   "metadata": {},
   "source": [
    "## Themes and lifespan"
   ]
  },
  {
   "cell_type": "code",
   "execution_count": 122,
   "metadata": {},
   "outputs": [
    {
     "data": {
      "image/png": "[encoded data removed]",
      "text/plain": [
       "<matplotlib.figure.Figure at 0x20f61251e48>"
      ]
     },
     "metadata": {},
     "output_type": "display_data"
    }
   ],
   "source": [
    "lifespan = get_program_lifespan(df_without_date_outliers)\n",
    "lifespan['lifespan_class'] = (pd.qcut(\n",
    "    lifespan.lifespan_days, 2, labels=[0, 1]))\n",
    "lifespan.hist(column='lifespan_days', bins=50, ec='black')\n",
    "plt.show()"
   ]
  },
  {
   "cell_type": "markdown",
   "metadata": {},
   "source": [
    "## data preparation"
   ]
  },
  {
   "cell_type": "code",
   "execution_count": 13,
   "metadata": {
    "collapsed": true
   },
   "outputs": [],
   "source": [
    "from sklearn.feature_extraction.text import CountVectorizer\n",
    "from sklearn.feature_extraction.text import TfidfTransformer\n",
    "from sklearn.pipeline import Pipeline\n",
    "from sklearn.linear_model import SGDClassifier\n",
    "from sklearn import svm\n",
    "from sklearn.ensemble import RandomForestClassifier\n",
    "from sklearn.model_selection import cross_val_score\n",
    "from sklearn.model_selection import GridSearchCV"
   ]
  },
  {
   "cell_type": "code",
   "execution_count": 14,
   "metadata": {},
   "outputs": [
    {
     "data": {
      "image/png": "[encoded data removed]",
      "text/plain": [
       "<matplotlib.figure.Figure at 0x180f9cc8390>"
      ]
     },
     "metadata": {},
     "output_type": "display_data"
    }
   ],
   "source": [
    "lifespan = get_program_lifespan(df_without_date_outliers)\n",
    "lifespan['lifespan_class'] = (pd.qcut(\n",
    "    lifespan.lifespan_days, 2, labels=[0, 1]))\n",
    "lifespan.hist(column='lifespan_days', bins=50, ec='black')\n",
    "plt.show()"
   ]
  },
  {
   "cell_type": "code",
   "execution_count": 15,
   "metadata": {
    "collapsed": true
   },
   "outputs": [],
   "source": [
    "def generate_data_for_factor(factor):\n",
    "    factor_per_program = pd.DataFrame()\n",
    "    factor_per_program[factor] = df_without_date_outliers[factor].apply(\n",
    "        lambda x: ' '.join(x))\n",
    "    factor_per_program['program'] = df_without_date_outliers.program\n",
    "    factors = factor_per_program.groupby(\n",
    "        factor_per_program.program).agg(lambda x: ' '.join(x))\n",
    "    evaluate_df = lifespan.merge(factors, left_index=True, right_index=True)\n",
    "    # drop programs with no name\n",
    "    evaluate_df = evaluate_df.drop('')\n",
    "    X = evaluate_df[factor]\n",
    "    y = evaluate_df.lifespan_class\n",
    "    return X, y"
   ]
  },
  {
   "cell_type": "code",
   "execution_count": 16,
   "metadata": {
    "collapsed": true
   },
   "outputs": [],
   "source": [
    "# classifiers for model selection\n",
    "count_vect = CountVectorizer(ngram_range=(1, 2), max_df=0.5)\n",
    "tfidf_transformer = TfidfTransformer()\n",
    "\n",
    "classifiers = [\n",
    "    SGDClassifier(alpha=1e-5, random_state=42),\n",
    "    svm.SVC(),\n",
    "    RandomForestClassifier(max_depth=5, n_estimators=10)\n",
    "]\n",
    "\n",
    "classifiers_name = ['SGDClassifier', 'svc', 'randomforest']"
   ]
  },
  {
   "cell_type": "markdown",
   "metadata": {},
   "source": [
    "## thematicThemes"
   ]
  },
  {
   "cell_type": "code",
   "execution_count": 17,
   "metadata": {
    "collapsed": true
   },
   "outputs": [],
   "source": [
    "X, y = generate_data_for_factor('thematicThemes')"
   ]
  },
  {
   "cell_type": "markdown",
   "metadata": {},
   "source": [
    "### model selection"
   ]
  },
  {
   "cell_type": "code",
   "execution_count": 18,
   "metadata": {
    "collapsed": true
   },
   "outputs": [],
   "source": [
    "X_count = count_vect.fit_transform(X)\n",
    "X_tfidf = tfidf_transformer.fit_transform(X_count)"
   ]
  },
  {
   "cell_type": "code",
   "execution_count": 95,
   "metadata": {},
   "outputs": [
    {
     "name": "stdout",
     "output_type": "stream",
     "text": [
      "for SGDClassifier\n",
      "Accuracy: 0.637 (+/- 0.025)\n",
      "for svc\n",
      "Accuracy: 0.501 (+/- 0.001)\n",
      "for randomforest\n",
      "Accuracy: 0.654 (+/- 0.041)\n"
     ]
    }
   ],
   "source": [
    "for i, classifier in zip(classifiers_name, classifiers):\n",
    "    scores = cross_val_score(classifier, X_tfidf, y, cv=5)\n",
    "    print('for {}'.format(i))\n",
    "    print(\"Accuracy: %0.3f (+/- %0.3f)\" % (scores.mean(), scores.std() * 2))"
   ]
  },
  {
   "cell_type": "markdown",
   "metadata": {},
   "source": [
    "### Grid search for random forest"
   ]
  },
  {
   "cell_type": "code",
   "execution_count": 99,
   "metadata": {
    "collapsed": true
   },
   "outputs": [],
   "source": [
    "clf = RandomForestClassifier(\n",
    "    #max_depth=50,\n",
    "    random_state=42,\n",
    "    min_samples_leaf=40,\n",
    "    n_estimators=16,\n",
    "    max_features='auto')\n",
    "\n",
    "pipeline = Pipeline([\n",
    "    ('vect', count_vect),\n",
    "    ('tfidf', tfidf_transformer),\n",
    "    ('clf', clf),\n",
    "])\n",
    "\n",
    "parameters = {\n",
    "    'vect__max_df': (0.5, 0.75, 1.0),\n",
    "    'vect__ngram_range': ((1, 1), (1, 2)),\n",
    "    #'clf__max_depth': np.arange(30, 51, 10),\n",
    "    'clf__n_estimators': np.power(2, np.arange(1, 6, 1)),\n",
    "    'clf__min_samples_leaf' : np.arange(40,61,5),\n",
    "}"
   ]
  },
  {
   "cell_type": "code",
   "execution_count": 100,
   "metadata": {
    "collapsed": true
   },
   "outputs": [],
   "source": [
    "gs_clf = GridSearchCV(pipeline, parameters, n_jobs=-1, verbose=10, cv=3)"
   ]
  },
  {
   "cell_type": "code",
   "execution_count": 101,
   "metadata": {},
   "outputs": [
    {
     "name": "stdout",
     "output_type": "stream",
     "text": [
      "Fitting 3 folds for each of 150 candidates, totalling 450 fits\n"
     ]
    },
    {
     "name": "stderr",
     "output_type": "stream",
     "text": [
      "[Parallel(n_jobs=-1)]: Done   5 tasks      | elapsed:    7.0s\n",
      "[Parallel(n_jobs=-1)]: Done  10 tasks      | elapsed:   10.0s\n",
      "[Parallel(n_jobs=-1)]: Done  17 tasks      | elapsed:   13.3s\n",
      "[Parallel(n_jobs=-1)]: Done  24 tasks      | elapsed:   17.1s\n",
      "[Parallel(n_jobs=-1)]: Done  33 tasks      | elapsed:   21.5s\n",
      "[Parallel(n_jobs=-1)]: Done  42 tasks      | elapsed:   26.4s\n",
      "[Parallel(n_jobs=-1)]: Done  53 tasks      | elapsed:   32.8s\n",
      "[Parallel(n_jobs=-1)]: Done  64 tasks      | elapsed:   38.9s\n",
      "[Parallel(n_jobs=-1)]: Done  77 tasks      | elapsed:   45.9s\n",
      "[Parallel(n_jobs=-1)]: Done  90 tasks      | elapsed:   52.5s\n",
      "[Parallel(n_jobs=-1)]: Done 105 tasks      | elapsed:  1.0min\n",
      "[Parallel(n_jobs=-1)]: Done 120 tasks      | elapsed:  1.2min\n",
      "[Parallel(n_jobs=-1)]: Done 137 tasks      | elapsed:  1.3min\n",
      "[Parallel(n_jobs=-1)]: Done 154 tasks      | elapsed:  1.5min\n",
      "[Parallel(n_jobs=-1)]: Done 173 tasks      | elapsed:  1.6min\n",
      "[Parallel(n_jobs=-1)]: Done 192 tasks      | elapsed:  1.8min\n",
      "[Parallel(n_jobs=-1)]: Done 213 tasks      | elapsed:  2.0min\n",
      "[Parallel(n_jobs=-1)]: Done 234 tasks      | elapsed:  2.2min\n",
      "[Parallel(n_jobs=-1)]: Done 257 tasks      | elapsed:  2.4min\n",
      "[Parallel(n_jobs=-1)]: Done 280 tasks      | elapsed:  2.6min\n",
      "[Parallel(n_jobs=-1)]: Done 305 tasks      | elapsed:  2.8min\n",
      "[Parallel(n_jobs=-1)]: Done 330 tasks      | elapsed:  3.1min\n",
      "[Parallel(n_jobs=-1)]: Done 357 tasks      | elapsed:  3.4min\n",
      "[Parallel(n_jobs=-1)]: Done 384 tasks      | elapsed:  3.6min\n",
      "[Parallel(n_jobs=-1)]: Done 413 tasks      | elapsed:  3.9min\n",
      "[Parallel(n_jobs=-1)]: Done 442 tasks      | elapsed:  4.3min\n",
      "[Parallel(n_jobs=-1)]: Done 450 out of 450 | elapsed:  4.3min finished\n"
     ]
    }
   ],
   "source": [
    "gs_clf = gs_clf.fit(X, y)"
   ]
  },
  {
   "cell_type": "code",
   "execution_count": 19,
   "metadata": {},
   "outputs": [
    {
     "ename": "NameError",
     "evalue": "name 'gs_clf' is not defined",
     "output_type": "error",
     "traceback": [
      "\u001b[1;31m---------------------------------------------------------------------------\u001b[0m",
      "\u001b[1;31mNameError\u001b[0m                                 Traceback (most recent call last)",
      "\u001b[1;32m<ipython-input-19-54b7e9b51ba8>\u001b[0m in \u001b[0;36m<module>\u001b[1;34m()\u001b[0m\n\u001b[1;32m----> 1\u001b[1;33m \u001b[0mgs_clf\u001b[0m\u001b[1;33m.\u001b[0m\u001b[0mbest_score_\u001b[0m\u001b[1;33m\u001b[0m\u001b[0m\n\u001b[0m",
      "\u001b[1;31mNameError\u001b[0m: name 'gs_clf' is not defined"
     ]
    }
   ],
   "source": [
    "gs_clf.best_score_"
   ]
  },
  {
   "cell_type": "code",
   "execution_count": 103,
   "metadata": {
    "scrolled": true
   },
   "outputs": [
    {
     "name": "stdout",
     "output_type": "stream",
     "text": [
      "clf__min_samples_leaf: 40\n",
      "clf__n_estimators: 16\n",
      "vect__max_df: 0.5\n",
      "vect__ngram_range: (1, 2)\n"
     ]
    }
   ],
   "source": [
    "for param_name in sorted(parameters.keys()):\n",
    "    print(\"%s: %r\" % (param_name, gs_clf.best_params_[param_name]))"
   ]
  },
  {
   "cell_type": "markdown",
   "metadata": {},
   "source": [
    "#### with only 2 labels"
   ]
  },
  {
   "cell_type": "code",
   "execution_count": 20,
   "metadata": {},
   "outputs": [
    {
     "data": {
      "text/plain": [
       "<1x166098 sparse matrix of type '<class 'numpy.float64'>'\n",
       "\twith 2 stored elements in Compressed Sparse Row format>"
      ]
     },
     "execution_count": 20,
     "metadata": {},
     "output_type": "execute_result"
    }
   ],
   "source": [
    "(X_tfidf.getrow(2))"
   ]
  },
  {
   "cell_type": "code",
   "execution_count": 21,
   "metadata": {
    "collapsed": true,
    "scrolled": true
   },
   "outputs": [],
   "source": [
    "RFC = RandomForestClassifier( min_samples_leaf=40, n_estimators=16)\n",
    "RFC.fit(X_tfidf, y)\n",
    "feat_imp = RFC.feature_importances_"
   ]
  },
  {
   "cell_type": "code",
   "execution_count": 34,
   "metadata": {
    "collapsed": true
   },
   "outputs": [],
   "source": [
    "importances = feat_imp\n",
    "std = np.std([tree.feature_importances_ for tree in RFC.estimators_], axis=0)\n",
    "indices = np.argsort(importances)[::-1][:20]"
   ]
  },
  {
   "cell_type": "code",
   "execution_count": 35,
   "metadata": {},
   "outputs": [
    {
     "data": {
      "text/plain": [
       "array([122493,  61949,  39042,  10832, 131960, 104051,  96238, 126951,\n",
       "         7147,  85574, 140933,   8748, 104040,  21959, 124283,  82587,\n",
       "       163445,  41442,  24843,  38039], dtype=int64)"
      ]
     },
     "execution_count": 35,
     "metadata": {},
     "output_type": "execute_result"
    }
   ],
   "source": [
    "indices"
   ]
  },
  {
   "cell_type": "code",
   "execution_count": 36,
   "metadata": {},
   "outputs": [
    {
     "name": "stdout",
     "output_type": "stream",
     "text": [
      "Feature ranking:\n",
      "1. feature 122493 (0.074567)\n",
      "2. feature 61949 (0.062500)\n",
      "3. feature 39042 (0.062500)\n",
      "4. feature 10832 (0.059545)\n",
      "5. feature 131960 (0.038355)\n",
      "6. feature 104051 (0.037772)\n",
      "7. feature 96238 (0.037566)\n",
      "8. feature 126951 (0.031323)\n",
      "9. feature 7147 (0.031177)\n",
      "10. feature 85574 (0.028217)\n",
      "11. feature 140933 (0.024414)\n",
      "12. feature 8748 (0.024145)\n",
      "13. feature 104040 (0.021919)\n",
      "14. feature 21959 (0.021275)\n",
      "15. feature 124283 (0.019440)\n",
      "16. feature 82587 (0.019201)\n",
      "17. feature 163445 (0.019183)\n",
      "18. feature 41442 (0.014295)\n",
      "19. feature 24843 (0.011348)\n",
      "20. feature 38039 (0.010639)\n"
     ]
    },
    {
     "data": {
      "image/png": "[encoded data removed]",
      "text/plain": [
       "<matplotlib.figure.Figure at 0x180fa851128>"
      ]
     },
     "metadata": {},
     "output_type": "display_data"
    }
   ],
   "source": [
    "# Print the feature ranking\n",
    "range_ = range(len(indices))\n",
    "\n",
    "print(\"Feature ranking:\")\n",
    "\n",
    "for f in range_:\n",
    "    print(\"%d. feature %d (%f)\" % (f + 1, indices[f], importances[indices[f]]))\n",
    "\n",
    "# Plot the feature importances of the forest\n",
    "plt.figure()\n",
    "plt.title(\"Feature importances\")\n",
    "plt.bar(\n",
    "    range_,\n",
    "    importances[indices],\n",
    "    color=\"r\",\n",
    "    #yerr=std[indices],\n",
    "    align=\"center\")\n",
    "plt.xticks(range_, indices)\n",
    "plt.xlim([-1, len(indices)])\n",
    "plt.show()"
   ]
  },
  {
   "cell_type": "markdown",
   "metadata": {},
   "source": [
    "## Visual theme"
   ]
  },
  {
   "cell_type": "markdown",
   "metadata": {},
   "source": [
    "## Thematic theme"
   ]
  },
  {
   "cell_type": "markdown",
   "metadata": {},
   "source": [
    "## Location theme"
   ]
  }
 ],
 "metadata": {
  "kernelspec": {
   "display_name": "Python 3",
   "language": "python",
   "name": "python3"
  },
  "language_info": {
   "codemirror_mode": {
    "name": "ipython",
    "version": 3
   },
   "file_extension": ".py",
   "mimetype": "text/x-python",
   "name": "python",
   "nbconvert_exporter": "python",
   "pygments_lexer": "ipython3",
   "version": "3.6.3"
  },
  "toc": {
   "nav_menu": {},
   "number_sections": true,
   "sideBar": true,
   "skip_h1_title": false,
   "toc_cell": false,
   "toc_position": {
    "height": "687px",
    "left": "0px",
    "right": "1411px",
    "top": "107px",
    "width": "189px"
   },
   "toc_section_display": "block",
   "toc_window_display": true
  },
  "varInspector": {
   "cols": {
    "lenName": 16,
    "lenType": 16,
    "lenVar": 40
   },
   "kernels_config": {
    "python": {
     "delete_cmd_postfix": "",
     "delete_cmd_prefix": "del ",
     "library": "var_list.py",
     "varRefreshCmd": "print(var_dic_list())"
    },
    "r": {
     "delete_cmd_postfix": ") ",
     "delete_cmd_prefix": "rm(",
     "library": "var_list.r",
     "varRefreshCmd": "cat(var_dic_list()) "
    }
   },
   "position": {
    "height": "654px",
    "left": "884px",
    "right": "20px",
    "top": "69px",
    "width": "565px"
   },
   "types_to_exclude": [
    "module",
    "function",
    "builtin_function_or_method",
    "instance",
    "_Feature"
   ],
   "window_display": false
  }
 },
 "nbformat": 4,
 "nbformat_minor": 2
}
