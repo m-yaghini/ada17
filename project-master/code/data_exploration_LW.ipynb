{
 "cells": [
  {
   "cell_type": "code",
   "execution_count": 2,
   "metadata": {
    "collapsed": true
   },
   "outputs": [],
   "source": [
    "%matplotlib inline\n",
    "\n",
    "import pandas as pd\n",
    "import numpy as np\n",
    "import matplotlib.pyplot as plt\n",
    "\n",
    "from json_data_getter import get_all_json"
   ]
  },
  {
   "cell_type": "markdown",
   "metadata": {},
   "source": [
    "# Data preparation"
   ]
  },
  {
   "cell_type": "markdown",
   "metadata": {},
   "source": [
    "## Loading"
   ]
  },
  {
   "cell_type": "code",
   "execution_count": 3,
   "metadata": {
    "collapsed": true
   },
   "outputs": [],
   "source": [
    "# gets all the json files toghether, may take a minute\n",
    "number_documents, keys, documents = get_all_json()\n",
    "df = pd.DataFrame.from_dict(documents)"
   ]
  },
  {
   "cell_type": "markdown",
   "metadata": {},
   "source": [
    "## Cleaning"
   ]
  },
  {
   "cell_type": "code",
   "execution_count": 4,
   "metadata": {
    "collapsed": true,
    "scrolled": true
   },
   "outputs": [],
   "source": [
    "# keep NaN for float columns, empty strings for string columns\n",
    "for col in df:\n",
    "    # get dtype for column\n",
    "    dt = df[col].dtype\n",
    "    # check if it is a number\n",
    "    if dt == int or dt == float:\n",
    "        pass\n",
    "    else:\n",
    "        df[col].fillna(\"\", inplace=True)\n",
    "\n",
    "# set dates to datetime type\n",
    "df['publicationDate'] = pd.to_datetime(\n",
    "    df['publicationDate'], format='%Y-%m-%dT%H:%M:%SZ')"
   ]
  },
  {
   "cell_type": "code",
   "execution_count": 5,
   "metadata": {},
   "outputs": [
    {
     "data": {
      "text/plain": [
       "Index(['alternativeExcerpt', 'alternativeTitle', 'articleURL', 'backgrounds',\n",
       "       'contributors', 'durationSec', 'excerpt', 'genres', 'id', 'imageURL',\n",
       "       'isOnline', 'mediaType', 'mediaURL', 'program',\n",
       "       'publicationChannelNames', 'publicationDate', 'source',\n",
       "       'thematicCorporations', 'thematicGeographicals', 'thematicPersons',\n",
       "       'thematicThemes', 'title', 'variantIds', 'visualCorporations',\n",
       "       'visualGeographicals', 'visualPersons', 'visualThemes'],\n",
       "      dtype='object')"
      ]
     },
     "execution_count": 5,
     "metadata": {},
     "output_type": "execute_result"
    }
   ],
   "source": [
    "df.columns"
   ]
  },
  {
   "cell_type": "markdown",
   "metadata": {},
   "source": [
    "## distribution in time"
   ]
  },
  {
   "cell_type": "code",
   "execution_count": 6,
   "metadata": {
    "scrolled": true
   },
   "outputs": [
    {
     "data": {
      "image/png": "[encoded data removed]",
      "text/plain": [
       "<matplotlib.figure.Figure at 0x18083e98e80>"
      ]
     },
     "metadata": {},
     "output_type": "display_data"
    }
   ],
   "source": [
    "doc_per_year = df.groupby(df.publicationDate.map(lambda x: x.year)).size()\n",
    "doc_per_year.plot()\n",
    "plt.show()"
   ]
  },
  {
   "cell_type": "markdown",
   "metadata": {},
   "source": [
    "## Programs lifespan"
   ]
  },
  {
   "cell_type": "code",
   "execution_count": 7,
   "metadata": {
    "collapsed": true
   },
   "outputs": [],
   "source": [
    "def get_program_lifespan(df):\n",
    "    program_groups = df.groupby(df.program)\n",
    "    df_lifespan = program_groups.publicationDate.agg(['min', 'max', 'size'])\n",
    "    df_lifespan['lifespan_days'] = (\n",
    "        df_lifespan['max'] - df_lifespan['min']).astype('timedelta64[D]')\n",
    "    return df_lifespan"
   ]
  },
  {
   "cell_type": "code",
   "execution_count": 8,
   "metadata": {
    "scrolled": true
   },
   "outputs": [
    {
     "data": {
      "text/html": [
       "<div>\n",
       "<style>\n",
       "    .dataframe thead tr:only-child th {\n",
       "        text-align: right;\n",
       "    }\n",
       "\n",
       "    .dataframe thead th {\n",
       "        text-align: left;\n",
       "    }\n",
       "\n",
       "    .dataframe tbody tr th {\n",
       "        vertical-align: top;\n",
       "    }\n",
       "</style>\n",
       "<table border=\"1\" class=\"dataframe\">\n",
       "  <thead>\n",
       "    <tr style=\"text-align: right;\">\n",
       "      <th></th>\n",
       "      <th>min</th>\n",
       "      <th>max</th>\n",
       "      <th>size</th>\n",
       "      <th>lifespan_days</th>\n",
       "    </tr>\n",
       "    <tr>\n",
       "      <th>program</th>\n",
       "      <th></th>\n",
       "      <th></th>\n",
       "      <th></th>\n",
       "      <th></th>\n",
       "    </tr>\n",
       "  </thead>\n",
       "  <tbody>\n",
       "    <tr>\n",
       "      <th></th>\n",
       "      <td>1900-01-01 00:00:00</td>\n",
       "      <td>2017-11-15 00:00:00</td>\n",
       "      <td>20458</td>\n",
       "      <td>43052.0</td>\n",
       "    </tr>\n",
       "    <tr>\n",
       "      <th>TJ midi</th>\n",
       "      <td>1900-01-01 19:00:00</td>\n",
       "      <td>2011-12-04 11:45:00</td>\n",
       "      <td>204</td>\n",
       "      <td>40878.0</td>\n",
       "    </tr>\n",
       "    <tr>\n",
       "      <th>Marabout de ficelle</th>\n",
       "      <td>1900-01-01 00:00:00</td>\n",
       "      <td>1998-05-20 00:00:00</td>\n",
       "      <td>148</td>\n",
       "      <td>35933.0</td>\n",
       "    </tr>\n",
       "    <tr>\n",
       "      <th>Mémoires de la musique</th>\n",
       "      <td>1922-06-05 00:00:00</td>\n",
       "      <td>2004-01-23 00:00:00</td>\n",
       "      <td>2086</td>\n",
       "      <td>29817.0</td>\n",
       "    </tr>\n",
       "    <tr>\n",
       "      <th>Archives</th>\n",
       "      <td>1939-11-30 02:00:00</td>\n",
       "      <td>2017-10-03 13:10:37</td>\n",
       "      <td>120</td>\n",
       "      <td>28432.0</td>\n",
       "    </tr>\n",
       "  </tbody>\n",
       "</table>\n",
       "</div>"
      ],
      "text/plain": [
       "                                       min                 max   size  \\\n",
       "program                                                                 \n",
       "                       1900-01-01 00:00:00 2017-11-15 00:00:00  20458   \n",
       "TJ midi                1900-01-01 19:00:00 2011-12-04 11:45:00    204   \n",
       "Marabout de ficelle    1900-01-01 00:00:00 1998-05-20 00:00:00    148   \n",
       "Mémoires de la musique 1922-06-05 00:00:00 2004-01-23 00:00:00   2086   \n",
       "Archives               1939-11-30 02:00:00 2017-10-03 13:10:37    120   \n",
       "\n",
       "                        lifespan_days  \n",
       "program                                \n",
       "                              43052.0  \n",
       "TJ midi                       40878.0  \n",
       "Marabout de ficelle           35933.0  \n",
       "Mémoires de la musique        29817.0  \n",
       "Archives                      28432.0  "
      ]
     },
     "execution_count": 8,
     "metadata": {},
     "output_type": "execute_result"
    }
   ],
   "source": [
    "get_program_lifespan(df).sort_values('lifespan_days', ascending=False).head()"
   ]
  },
  {
   "cell_type": "markdown",
   "metadata": {},
   "source": [
    "The first row is the group of unnamed programs. Some duration seem a bit too long, maybe there are errors in the dates. Let's take TJ midi and check the distribution of transmissions by year."
   ]
  },
  {
   "cell_type": "code",
   "execution_count": 9,
   "metadata": {},
   "outputs": [
    {
     "data": {
      "image/png": "[encoded data removed]",
      "text/plain": [
       "<matplotlib.figure.Figure at 0x180f1af7ac8>"
      ]
     },
     "metadata": {},
     "output_type": "display_data"
    }
   ],
   "source": [
    "program_groups = df.groupby(df.program)\n",
    "\n",
    "TJmidi = program_groups.get_group('TJ midi')\n",
    "\n",
    "TJmidi_date_distribution = TJmidi.groupby(\n",
    "    TJmidi.publicationDate.map(lambda x: (x.year))).size()\n",
    "\n",
    "plt.bar(TJmidi_date_distribution.index, TJmidi_date_distribution.values)\n",
    "\n",
    "plt.show()"
   ]
  },
  {
   "cell_type": "markdown",
   "metadata": {},
   "source": [
    "There are some obvious outliers, let's remove them."
   ]
  },
  {
   "cell_type": "markdown",
   "metadata": {},
   "source": [
    "### Date outliers removal"
   ]
  },
  {
   "cell_type": "code",
   "execution_count": 10,
   "metadata": {
    "collapsed": true
   },
   "outputs": [],
   "source": [
    "# remove date outliers\n",
    "def remove_date_outliers(df):\n",
    "    CONSTANT_STD = 2\n",
    "    df_without_date_outliers = df.copy()\n",
    "\n",
    "    df['publicationDateYear'] = df.publicationDate.map(lambda x: x.year)\n",
    "\n",
    "    mean_std_year_per_program = df.groupby(df.program).publicationDateYear.agg(\n",
    "        [\"mean\", 'std'])\n",
    "\n",
    "    temp_df = pd.merge(\n",
    "        df,\n",
    "        mean_std_year_per_program,\n",
    "        how='left',\n",
    "        left_on=['program'],\n",
    "        right_index=True)\n",
    "\n",
    "    df_without_date_outliers.loc[\n",
    "        (np.abs(temp_df.publicationDateYear - temp_df['mean']) >\n",
    "         CONSTANT_STD * temp_df['std']), 'publicationDate'] = pd.NaT\n",
    "\n",
    "    return df_without_date_outliers"
   ]
  },
  {
   "cell_type": "code",
   "execution_count": 11,
   "metadata": {
    "scrolled": false
   },
   "outputs": [
    {
     "data": {
      "text/html": [
       "<div>\n",
       "<style>\n",
       "    .dataframe thead tr:only-child th {\n",
       "        text-align: right;\n",
       "    }\n",
       "\n",
       "    .dataframe thead th {\n",
       "        text-align: left;\n",
       "    }\n",
       "\n",
       "    .dataframe tbody tr th {\n",
       "        vertical-align: top;\n",
       "    }\n",
       "</style>\n",
       "<table border=\"1\" class=\"dataframe\">\n",
       "  <thead>\n",
       "    <tr style=\"text-align: right;\">\n",
       "      <th></th>\n",
       "      <th>min</th>\n",
       "      <th>max</th>\n",
       "      <th>size</th>\n",
       "      <th>lifespan_days</th>\n",
       "    </tr>\n",
       "    <tr>\n",
       "      <th>program</th>\n",
       "      <th></th>\n",
       "      <th></th>\n",
       "      <th></th>\n",
       "      <th></th>\n",
       "    </tr>\n",
       "  </thead>\n",
       "  <tbody>\n",
       "    <tr>\n",
       "      <th></th>\n",
       "      <td>1921-11-23</td>\n",
       "      <td>2017-11-15 00:00:00</td>\n",
       "      <td>20458</td>\n",
       "      <td>35056.0</td>\n",
       "    </tr>\n",
       "    <tr>\n",
       "      <th>Documentaire</th>\n",
       "      <td>1952-11-30</td>\n",
       "      <td>2017-11-11 14:00:00</td>\n",
       "      <td>740</td>\n",
       "      <td>23722.0</td>\n",
       "    </tr>\n",
       "    <tr>\n",
       "      <th>Cyclisme</th>\n",
       "      <td>1953-11-30</td>\n",
       "      <td>2017-08-19 00:00:00</td>\n",
       "      <td>138</td>\n",
       "      <td>23273.0</td>\n",
       "    </tr>\n",
       "    <tr>\n",
       "      <th>Motocyclisme</th>\n",
       "      <td>1954-06-09</td>\n",
       "      <td>2017-08-13 00:00:00</td>\n",
       "      <td>14</td>\n",
       "      <td>23076.0</td>\n",
       "    </tr>\n",
       "    <tr>\n",
       "      <th>Souvenirs de vedette</th>\n",
       "      <td>1949-03-31</td>\n",
       "      <td>2009-12-17 00:00:00</td>\n",
       "      <td>4</td>\n",
       "      <td>22176.0</td>\n",
       "    </tr>\n",
       "  </tbody>\n",
       "</table>\n",
       "</div>"
      ],
      "text/plain": [
       "                            min                 max   size  lifespan_days\n",
       "program                                                                  \n",
       "                     1921-11-23 2017-11-15 00:00:00  20458        35056.0\n",
       "Documentaire         1952-11-30 2017-11-11 14:00:00    740        23722.0\n",
       "Cyclisme             1953-11-30 2017-08-19 00:00:00    138        23273.0\n",
       "Motocyclisme         1954-06-09 2017-08-13 00:00:00     14        23076.0\n",
       "Souvenirs de vedette 1949-03-31 2009-12-17 00:00:00      4        22176.0"
      ]
     },
     "execution_count": 11,
     "metadata": {},
     "output_type": "execute_result"
    }
   ],
   "source": [
    "df_without_date_outliers = remove_date_outliers(df)\n",
    "get_program_lifespan(df_without_date_outliers).sort_values(\n",
    "    'lifespan_days', ascending=False).head()"
   ]
  },
  {
   "cell_type": "code",
   "execution_count": 12,
   "metadata": {
    "scrolled": false
   },
   "outputs": [
    {
     "data": {
      "image/png": "[encoded data removed]",
      "text/plain": [
       "<matplotlib.figure.Figure at 0x180f74826d8>"
      ]
     },
     "metadata": {},
     "output_type": "display_data"
    }
   ],
   "source": [
    "program_groups_without_outliers = df_without_date_outliers.groupby(df.program)\n",
    "\n",
    "TJmidi = program_groups_without_outliers.get_group('TJ midi')\n",
    "\n",
    "TJmidi_date_distribution = TJmidi.groupby(\n",
    "    TJmidi.publicationDate.map(lambda x: (x.year))).size()\n",
    "\n",
    "plt.bar(TJmidi_date_distribution.index, TJmidi_date_distribution.values)\n",
    "\n",
    "plt.show()"
   ]
  },
  {
   "cell_type": "markdown",
   "metadata": {},
   "source": [
    "# Gender (Sina)"
   ]
  },
  {
   "cell_type": "markdown",
   "metadata": {},
   "source": [
    "# Location (Mohammed)"
   ]
  },
  {
   "cell_type": "markdown",
   "metadata": {},
   "source": [
    "# Factors for program lifespan (Leo)"
   ]
  },
  {
   "cell_type": "code",
   "execution_count": 45,
   "metadata": {},
   "outputs": [
    {
     "data": {
      "text/plain": [
       "[('GUERRE MONDIALE (DEUXIÈME)', 51),\n",
       " ('VILLE', 48),\n",
       " ('PORTRAIT', 39),\n",
       " ('ANNÉES 1960', 36),\n",
       " ('TOURISME', 32),\n",
       " ('SCÈNE DE RUE', 31),\n",
       " ('RÉFUGIÉ', 29),\n",
       " ('PORT', 20),\n",
       " ('CHÂTEAU', 18),\n",
       " ('ANNÉES 1950', 18)]"
      ]
     },
     "execution_count": 45,
     "metadata": {},
     "output_type": "execute_result"
    }
   ],
   "source": [
    "from collections import Counter\n",
    "Counter(flat_list).most_common(10)"
   ]
  },
  {
   "cell_type": "code",
   "execution_count": 38,
   "metadata": {},
   "outputs": [
    {
     "data": {
      "text/plain": [
       "[{'19E SIÈCLE': 2},\n",
       " {'ABBAYE': 7},\n",
       " {\"ABORIGÈNES D'AUSTRALIE\": 3},\n",
       " {'ABRI ANTIATOMIQUE': 8},\n",
       " {'ACCIDENT AÉRIEN': 2},\n",
       " {'ACCIDENT DE MONTAGNE': 3},\n",
       " {'ACCORD INTERNATIONAL': 1},\n",
       " {'ACCOUCHEMENT': 1},\n",
       " {'ACIER': 1},\n",
       " {'ACROBATIE (ART)': 2},\n",
       " {'ACROBATIE AÉRIENNE': 1},\n",
       " {'ADOLESCENT': 12},\n",
       " {'ADOPTION': 1},\n",
       " {'AGRICULTURE': 5},\n",
       " {'AGRICULTURE DE MONTAGNE': 1},\n",
       " {'AID EL-ADHA': 1},\n",
       " {'AIDE ALIMENTAIRE': 1},\n",
       " {'AIDE AU DÉVELOPPEMENT': 2},\n",
       " {'AIDE HUMANITAIRE': 3},\n",
       " {'AIDE MÉDICALE INTERNATIONALE': 1},\n",
       " {'ALCOOL (ALIMENTAIRE)': 2},\n",
       " {'ALCOOLISME': 3},\n",
       " {'ALCOOLISME AU VOLANT': 3},\n",
       " {'ALPAGE': 2},\n",
       " {'ALPINISME': 7},\n",
       " {'ALTERMONDIALISME': 1},\n",
       " {'AMOUR': 1},\n",
       " {'AMÉNAGEMENT DU TERRITOIRE': 1},\n",
       " {'AMÉNAGEMENT URBAIN': 2},\n",
       " {'AMÉRINDIENS': 13},\n",
       " {'ANALYSE CHIMIQUE': 1},\n",
       " {'ANARCHISME': 2},\n",
       " {'ANIMAL EN PELUCHE': 1},\n",
       " {'ANIMAL SAUVAGE': 2},\n",
       " {'ANIMATION': 6},\n",
       " {'ANIMISME': 2},\n",
       " {'ANNÉES 1930': 2},\n",
       " {'ANNÉES 1940': 2},\n",
       " {'ANNÉES 1950': 18},\n",
       " {'ANNÉES 1960': 36},\n",
       " {'ANNÉES 1970': 16},\n",
       " {'ANNÉES 1980': 2},\n",
       " {'ANNÉES 2000': 2},\n",
       " {'ANTILOPE': 2},\n",
       " {'APPAREIL PHOTOGRAPHIQUE': 1},\n",
       " {'APPARTEMENT': 1},\n",
       " {'APPRENTI': 1},\n",
       " {'AQUARIUM': 1},\n",
       " {'ARCHITECTURE': 8},\n",
       " {'ARITHMÉTIQUE': 5},\n",
       " {'ARME ATOMIQUE': 1},\n",
       " {'ARMISTICE': 1},\n",
       " {'ARMOIRIE': 1},\n",
       " {'ARMÉE': 8},\n",
       " {'ARMÉE DE TERRE': 1},\n",
       " {'ART BAROQUE': 1},\n",
       " {'ART CULINAIRE': 2},\n",
       " {'ART DRAMATIQUE': 3},\n",
       " {'ART ET TRADITION POPULAIRES': 6},\n",
       " {'ART GOTHIQUE': 1},\n",
       " {'ART GRAPHIQUE': 3},\n",
       " {'ART POPULAIRE': 3},\n",
       " {'ART PRÉCOLOMBIEN': 1},\n",
       " {'ART RELIGIEUX': 3},\n",
       " {'ART ROMAN': 1},\n",
       " {'ART RUPESTRE': 1},\n",
       " {'ARTISANAT': 8},\n",
       " {'ARTISTE': 2},\n",
       " {'ARTISTE PEINTRE': 8},\n",
       " {'ASSISTANCE SOCIALE': 1},\n",
       " {'ASTRONAUTIQUE': 1},\n",
       " {'ATHLÉTISME': 1},\n",
       " {'ATTERRISSAGE': 2},\n",
       " {'ATTRACTION FORAINE': 7},\n",
       " {'AUTOMATISATION': 1},\n",
       " {'AUTOMOBILE': 3},\n",
       " {'AUTOMOBILISME': 1},\n",
       " {'AUTOROUTE': 1},\n",
       " {'AVEUGLE': 1},\n",
       " {'AVICULTURE': 1},\n",
       " {'AVION CIVIL': 6},\n",
       " {'AVION MILITAIRE': 6},\n",
       " {'AÉROPORT': 4},\n",
       " {'B52': 4},\n",
       " {'BAIGNADE': 1},\n",
       " {'BAISER': 1},\n",
       " {'BAL': 1},\n",
       " {'BAL POPULAIRE': 3},\n",
       " {'BALANÇOIRE': 1},\n",
       " {'BALLON (AÉROSTAT)': 5},\n",
       " {'BANLIEUE': 1},\n",
       " {'BANQUE': 1},\n",
       " {'BARRAGE': 12},\n",
       " {'BAS-RELIEF': 3},\n",
       " {'BATEAU': 16},\n",
       " {'BATEAU DE PLAISANCE': 2},\n",
       " {'BATEAU DE PÊCHE': 6},\n",
       " {'BATHYSCAPHE': 1},\n",
       " {'BERGER': 1},\n",
       " {'BIBLE': 2},\n",
       " {'BIBLIOTHÈQUE (SERVICE)': 1},\n",
       " {'BICYCLETTE': 1},\n",
       " {'BIDONVILLE': 1},\n",
       " {'BIJOU': 1},\n",
       " {'BLESSÉ DE GUERRE': 1},\n",
       " {'BLÉ': 3},\n",
       " {'BOIS': 1},\n",
       " {'BOMBARDEMENT': 5},\n",
       " {'BOOKMAKER': 1},\n",
       " {'BOUDDHISME': 3},\n",
       " {'BOURSE': 2},\n",
       " {'BOUTIQUE DE SOUVENIRS': 1},\n",
       " {'BRASSERIE (RESTAURANT)': 1},\n",
       " {'BRONZAGE': 2},\n",
       " {'BROUSSE': 2},\n",
       " {'BUFFLE': 1},\n",
       " {'BUILDING': 6},\n",
       " {'BÂTIMENT': 1},\n",
       " {'BÂTIMENT LOCATIF': 1},\n",
       " {'BÂTIMENT PUBLIC': 1},\n",
       " {'BÉBÉ': 2},\n",
       " {'BÉDOUINS': 1},\n",
       " {'BÉTON': 2},\n",
       " {'BÛCHERON': 1},\n",
       " {'CABANE DE MONTAGNE': 1},\n",
       " {'CABARET (ÉTABLISSEMENT)': 2},\n",
       " {'CACTUS': 1},\n",
       " {'CAFÉ (ÉTABLISSEMENT)': 4},\n",
       " {'CALLIGRAPHIE': 1},\n",
       " {'CAMIONNAGE': 6},\n",
       " {'CAMIONNEUR': 1},\n",
       " {'CAMP DE CONCENTRATION': 4},\n",
       " {'CAMP DE RÉFUGIÉS': 1},\n",
       " {'CAMPING': 1},\n",
       " {'CANAL': 1},\n",
       " {'CANARD': 1},\n",
       " {'CANDIDAT': 2},\n",
       " {'CANTINE': 1},\n",
       " {'CAPITALE ADMINISTRATIVE': 3},\n",
       " {'CAR POSTAL': 1},\n",
       " {'CARILLON': 1},\n",
       " {'CARNAVAL': 2},\n",
       " {'CARROUSEL FORAIN': 3},\n",
       " {\"CARTE D'ÉTAT-MAJOR\": 1},\n",
       " {'CASCADE': 1},\n",
       " {'CASERNE': 5},\n",
       " {'CASTAGNETTES': 1},\n",
       " {'CATHOLICISME': 7},\n",
       " {'CATHÉDRALE': 4},\n",
       " {'CATÉGORIE PROFESSIONNELLE': 1},\n",
       " {'CEINTURE DE SÉCURITÉ': 1},\n",
       " {'CENSURE': 7},\n",
       " {'CENTRALE HYDROÉLECTRIQUE': 1},\n",
       " {'CHALET': 1},\n",
       " {'CHAMP': 1},\n",
       " {'CHANT GRÉGORIEN': 1},\n",
       " {'CHANT LITURGIQUE': 1},\n",
       " {'CHANT SACRÉ': 2},\n",
       " {'CHANTIER DE GÉNIE CIVIL': 11},\n",
       " {'CHANTIER DU BÂTIMENT': 1},\n",
       " {'CHANTIER NAVAL': 5},\n",
       " {'CHAPEAU': 1},\n",
       " {\"CHAR D'ASSAUT\": 1},\n",
       " {'CHARDON': 2},\n",
       " {'CHAT': 1},\n",
       " {'CHEVAL': 3},\n",
       " {'CHIMIE': 1},\n",
       " {'CHIMIOTHÉRAPIE': 1},\n",
       " {'CHOEUR': 7},\n",
       " {'CHRISTIANISME': 2},\n",
       " {'CHÂTEAU': 18},\n",
       " {'CHÂTEAU FORT': 3},\n",
       " {'CIMETIÈRE': 2},\n",
       " {'CINÉMA': 1},\n",
       " {'CIRCULATION ROUTIÈRE': 11},\n",
       " {'CIRQUE': 8},\n",
       " {'CISTERCIEN': 3},\n",
       " {'CIVILISATION INCA': 2},\n",
       " {'CIVILISATION MAYA': 1},\n",
       " {'CIVILISATION PRÉCOLOMBIENNE': 10},\n",
       " {'CIVILISATION ROMAINE': 2},\n",
       " {'CIVILISATION ÉGYPTIENNE': 1},\n",
       " {'CLANDESTINITÉ': 1},\n",
       " {'CLIP-VIDÉO': 2},\n",
       " {'CLOCHE': 2},\n",
       " {'CLOÎTRE': 3},\n",
       " {'COIFFEUR': 1},\n",
       " {'COLLECTION': 1},\n",
       " {\"COMBAT D'ANIMAUX\": 2},\n",
       " {'COMMERCE DE DÉTAIL': 4},\n",
       " {'COMMUNAUTÉ DE VIE': 1},\n",
       " {'COMMUNISME': 9},\n",
       " {'COMPORTEMENT SOCIAL': 1},\n",
       " {'COMÉDIEN': 12},\n",
       " {'CONCERT CLASSIQUE': 3},\n",
       " {'CONCORDE': 1},\n",
       " {'CONCOURS DE BEAUTÉ': 2},\n",
       " {'CONFLIT ARMÉ': 6},\n",
       " {'CONFLIT DU TRAVAIL': 12},\n",
       " {'CONSEILLER FÉDÉRAL': 15},\n",
       " {'CONSERVATOIRE DE MUSIQUE': 3},\n",
       " {'CONSOMMATION': 1},\n",
       " {'CONTESTATION': 5},\n",
       " {'CONTREBANDE': 2},\n",
       " {'COOPÉRATION INTERNATIONALE': 2},\n",
       " {'COOPÉRATIVE AGRICOLE': 1},\n",
       " {'COR DES ALPES': 1},\n",
       " {'CORDONNIER': 1},\n",
       " {'CORMORAN': 1},\n",
       " {'CORRIDA': 1},\n",
       " {'CORTÈGE': 2},\n",
       " {'COSTUME': 1},\n",
       " {'COUPLE (RELATION)': 6},\n",
       " {'COUR': 1},\n",
       " {'COURANT ARTISTIQUE': 2},\n",
       " {'COURSE DE CHEVAUX': 4},\n",
       " {'CRABE': 1},\n",
       " {\"CRIME CONTRE L'HUMANITÉ\": 2},\n",
       " {'CRISE ÉCONOMIQUE': 1},\n",
       " {'CROCODILE': 1},\n",
       " {'CROYANCE RELIGIEUSE': 2},\n",
       " {'CRUCIFIXION': 1},\n",
       " {'CRUE': 1},\n",
       " {'CRUSTACÉ': 2},\n",
       " {'CUISINE (LOCAL)': 1},\n",
       " {'CUISINIER': 2},\n",
       " {'CULTURE': 1},\n",
       " {'CULTURE DE LA CANNE À SUCRE': 1},\n",
       " {'CULTURE DE LA TOMATE': 6},\n",
       " {'CULTURE VIVRIÈRE': 1},\n",
       " {'CULTURISME': 2},\n",
       " {'CURE DE DÉSINTOXICATION': 3},\n",
       " {\"CÉRAMIQUE D'ART\": 1},\n",
       " {'CÉRÉMONIE PUBLIQUE': 1},\n",
       " {'CÉRÉMONIE RELIGIEUSE': 3},\n",
       " {'DANSE (ART CHORÉGRAPHIQUE)': 1},\n",
       " {'DANSE FOLKLORIQUE': 4},\n",
       " {'DATTE': 1},\n",
       " {'DAUPHIN': 1},\n",
       " {'DENT': 4},\n",
       " {'DENTELLERIE': 1},\n",
       " {'DENTISTE': 1},\n",
       " {'DESSIN': 3},\n",
       " {'DICTATURE': 2},\n",
       " {'DISCOURS': 3},\n",
       " {'DISPARITION DE PERSONNES': 1},\n",
       " {'DISQUE VINYLE': 1},\n",
       " {'DISSIDENCE': 1},\n",
       " {'DISTINCTION HONORIFIQUE': 2},\n",
       " {'DOCUMENT MANUSCRIT': 1},\n",
       " {'DOUANE': 6},\n",
       " {'DRAMATIQUE DE TÉLÉVISION': 2},\n",
       " {'DRESSAGE': 1},\n",
       " {'DROIT DE VOTE DES FEMMES': 1},\n",
       " {\"DROITS DE L'HOMME\": 2},\n",
       " {'DÉBAT': 1},\n",
       " {'DÉBOISEMENT': 2},\n",
       " {'DÉCOLLAGE': 1},\n",
       " {'DÉCONTAMINATION': 1},\n",
       " {'DÉCOR': 1},\n",
       " {'DÉCORATION LUMINEUSE': 1},\n",
       " {'DÉFENSE': 3},\n",
       " {'DÉFILÉ DE MODE': 1},\n",
       " {'DÉFILÉ MILITAIRE': 1},\n",
       " {'DÉPORTATION': 9},\n",
       " {'DÉSERT': 2},\n",
       " {'DÉVELOPPEMENT ÉCONOMIQUE': 3},\n",
       " {'EAU (RESSOURCE)': 3},\n",
       " {'EAU POTABLE': 2},\n",
       " {'EGLISE COPTE': 2},\n",
       " {'EMBRYON': 1},\n",
       " {'ENFANCE': 1},\n",
       " {'ENFANT (ÂGE)': 8},\n",
       " {'ENLUMINURE': 1},\n",
       " {'ENNEIGÉ': 6},\n",
       " {'ENSEIGNE': 1},\n",
       " {'ENSOLEILLÉ': 1},\n",
       " {'ENTREPRISE': 6},\n",
       " {'ENTRETIEN': 7},\n",
       " {'ESTIVAL': 7},\n",
       " {'ETHNOGRAPHIE': 7},\n",
       " {'EXAMEN MÉDICAL': 7},\n",
       " {'EXERCICE MILITAIRE': 5},\n",
       " {'EXIL': 7},\n",
       " {'EXPLOIT SPORTIF': 3},\n",
       " {'EXPLOITATION MINIÈRE': 2},\n",
       " {'EXPLOSIF': 1},\n",
       " {\"EXPOSITION D'ART\": 6},\n",
       " {'EXPOSITION NATIONALE': 2},\n",
       " {'EXPOSITION THÉMATIQUE': 3},\n",
       " {'EXPOSITION UNIVERSELLE': 9},\n",
       " {'EXPULSION': 3},\n",
       " {'EXPÉDITION SCIENTIFIQUE': 12},\n",
       " {'EXTRACTION DU GAZ': 1},\n",
       " {'EXTRACTION DU PÉTROLE': 2},\n",
       " {'FA18 HORNET': 4},\n",
       " {'FAMILLE': 8},\n",
       " {'FANFARE': 10},\n",
       " {'FAÇADE': 1},\n",
       " {'FAÏENCE (ART)': 1},\n",
       " {'FEMME': 8},\n",
       " {'FERME': 3},\n",
       " {'FERRY-BOAT': 2},\n",
       " {'FESTIVAL DE CINÉMA': 4},\n",
       " {'FESTIVAL DE MUSIQUE': 1},\n",
       " {\"FEU D'ARTIFICE\": 1},\n",
       " {'FEUILLE': 2},\n",
       " {'FICHIER DE RENSEIGNEMENTS': 4},\n",
       " {'FJORD': 4},\n",
       " {'FLAMENCO': 1},\n",
       " {'FLEUVE': 10},\n",
       " {'FLUOR (CHIMIE)': 2},\n",
       " {'FOIN': 3},\n",
       " {'FOIRE COMMERCIALE': 4},\n",
       " {'FONCTION POLITIQUE': 4},\n",
       " {'FOND MARIN': 1},\n",
       " {'FONDATION': 1},\n",
       " {'FONTAINE': 2},\n",
       " {'FOOTBALL (COMPÉTITION)': 1},\n",
       " {'FORAGE': 1},\n",
       " {'FORÊT': 1},\n",
       " {'FORÊT TROPICALE': 4},\n",
       " {'FOULE': 2},\n",
       " {'FOUR CRÉMATOIRE': 1},\n",
       " {'FOYER': 2},\n",
       " {'FRONTIÈRE': 2},\n",
       " {'FÊTE POPULAIRE': 1},\n",
       " {'FÊTE RELIGIEUSE': 1},\n",
       " {'FÊTE-DIEU': 2},\n",
       " {'GARDE ROYALE': 1},\n",
       " {'GARÇON': 4},\n",
       " {'GASTRONOMIE': 1},\n",
       " {'GAUCHE': 4},\n",
       " {'GHETTO': 2},\n",
       " {'GLACIER (GÉOGRAPHIE)': 4},\n",
       " {'GRAVURE': 1},\n",
       " {'GROSSESSE': 1},\n",
       " {'GRÈVE': 3},\n",
       " {\"GUERRE D'ALGÉRIE\": 9},\n",
       " {\"GUERRE D'INDOCHINE\": 4},\n",
       " {'GUERRE DU VIETNAM': 1},\n",
       " {'GUERRE IRAKO-IRANIENNE': 2},\n",
       " {'GUERRE MONDIALE (DEUXIÈME)': 51},\n",
       " {'GUERRE MONDIALE (PREMIÈRE)': 5},\n",
       " {'GUGGENMUSIK': 2},\n",
       " {'GUÉRILLA': 4},\n",
       " {'GYMNASTIQUE (LOISIR)': 4},\n",
       " {'GÉNOCIDE': 2},\n",
       " {'HANDICAP PHYSIQUE': 1},\n",
       " {'HISTOIRE': 2},\n",
       " {'HORLOGERIE': 4},\n",
       " {'HORTICULTURE': 6},\n",
       " {'HUMOUR': 1},\n",
       " {'HUÎTRE': 1},\n",
       " {'HYGIÈNE': 1},\n",
       " {'HYGIÈNE CORPORELLE': 1},\n",
       " {'HYPNOSE': 1},\n",
       " {'HÉLICOPTÈRE': 3},\n",
       " {'HÔPITAL': 2},\n",
       " {'HÔPITAL PSYCHIATRIQUE': 2},\n",
       " {'HÔTEL': 5},\n",
       " {'IMPRESSIONNISME': 1},\n",
       " {'IMPRIMERIE': 5},\n",
       " {'INAUGURATION': 2},\n",
       " {'INCENDIE': 1},\n",
       " {'INDUSTRIE': 1},\n",
       " {'INDUSTRIE CHIMIQUE': 1},\n",
       " {'INDUSTRIE DU BOIS': 2},\n",
       " {'INDUSTRIE DU VERRE': 1},\n",
       " {'INDUSTRIE PHARMACEUTIQUE': 1},\n",
       " {'INDUSTRIE PÉTROCHIMIQUE': 1},\n",
       " {'INDUSTRIE PÉTROLIÈRE': 2},\n",
       " {'INDUSTRIE ÉLECTRONIQUE': 1},\n",
       " {'INONDATION': 1},\n",
       " {'INSTALLATION SPORTIVE': 2},\n",
       " {'INSTRUCTION MILITAIRE': 1},\n",
       " {'INTERVIEW': 14},\n",
       " {'INVENTION (TECHNIQUE)': 4},\n",
       " {'ISLAM': 2},\n",
       " {'JARDIN': 4},\n",
       " {'JEU': 1},\n",
       " {'JEUNESSE': 3},\n",
       " {\"JEUX OLYMPIQUES D'HIVER\": 2},\n",
       " {'JOGGING': 2},\n",
       " {'JOUET GUERRIER': 1},\n",
       " {'JOUET MÉCANIQUE': 2},\n",
       " {'JOURNAL': 2},\n",
       " {'JOURNAL INTIME': 3},\n",
       " {'JUIFS': 13},\n",
       " {'JUSTICE': 2},\n",
       " {'KANGOUROU': 1},\n",
       " {'KIOSQUE À JOURNAUX': 1},\n",
       " {'KOALA': 1},\n",
       " {'LAC': 6},\n",
       " {\"LANCER DE LA PIERRE D'UNSPUNNEN\": 1},\n",
       " {'LANCEUR SPATIAL': 1},\n",
       " {'LANGOUSTE': 1},\n",
       " {'LANGUE ANGLAISE': 1},\n",
       " {'LANGUE ROMANCHE': 3},\n",
       " {'LAPONS': 1},\n",
       " {'LEUCÉMIE': 1},\n",
       " {\"LIBERTÉ D'EXPRESSION\": 7},\n",
       " {'LIBERTÉ DE LA PRESSE': 1},\n",
       " {'LIBERTÉS INDIVIDUELLES': 2},\n",
       " {'LIBRAIRIE': 1},\n",
       " {'LICENCIEMENT': 5},\n",
       " {'LION': 2},\n",
       " {'LITTÉRATURE': 1},\n",
       " {'LIVRE (IMPRIMÉ)': 2},\n",
       " {'LOGEMENT': 2},\n",
       " {'LOISIRS ET CULTURE': 1},\n",
       " {'LUTTE': 1},\n",
       " {'LUTTE SUISSE': 1},\n",
       " {'LÉGUME': 6},\n",
       " {'MAGIE': 1},\n",
       " {'MAILLOT DE BAIN': 2},\n",
       " {'MAISON DE RETRAITE': 1},\n",
       " {'MAISON DE VACANCES': 1},\n",
       " {'MAISON INDIVIDUELLE': 8},\n",
       " {\"MALADIE DE L'OEIL\": 3},\n",
       " {'MALADIE RHUMATISMALE': 6},\n",
       " {'MANIFESTATION POLITIQUE': 2},\n",
       " {'MANNEQUIN (VITRINE)': 1},\n",
       " {'MAQUILLAGE DE SCÈNE': 2},\n",
       " {'MARCHÉ DE PRIMEURS': 5},\n",
       " {'MARCHÉ EN PLEIN AIR': 7},\n",
       " {'MARIAGE': 4},\n",
       " {'MARINE DE GUERRE': 4},\n",
       " {'MARRONNIER': 1},\n",
       " {'MASQUE': 2},\n",
       " {'MATÉRIEL DIDACTIQUE': 5},\n",
       " {'MAÏS': 1},\n",
       " {'MENUISERIE (INDUSTRIE)': 2},\n",
       " {'MER': 1},\n",
       " {'MESSE (CÉRÉMONIE)': 1},\n",
       " {'MINERAI MÉTALLIQUE': 2},\n",
       " {'MINEUR': 1},\n",
       " {'MOBILIER': 4},\n",
       " {'MOBILISATION MILITAIRE': 13},\n",
       " {'MODE VESTIMENTAIRE': 1},\n",
       " {'MODÉLISME FERROVIAIRE': 1},\n",
       " {'MOINE': 4},\n",
       " {'MOISSON': 2},\n",
       " {'MONARCHIE': 2},\n",
       " {'MONASTÈRE': 3},\n",
       " {'MONTAGNE': 5},\n",
       " {'MONTRE DE LUXE': 1},\n",
       " {'MONUMENT': 3},\n",
       " {'MONUMENT COMMÉMORATIF': 1},\n",
       " {'MONUMENT FUNÉRAIRE': 1},\n",
       " {'MORPHOPSYCHOLOGIE': 2},\n",
       " {'MORT (PHILOSOPHIE)': 6},\n",
       " {'MOTO': 1},\n",
       " {'MOUCHE': 3},\n",
       " {'MOUETTE': 1},\n",
       " {'MOUTON': 1},\n",
       " {'MUSICIEN': 1},\n",
       " {'MUSIQUE': 1},\n",
       " {'MUSIQUE CLASSIQUE': 4},\n",
       " {'MUSIQUE DE FILM': 5},\n",
       " {'MUSIQUE ETHNIQUE ET FOLKLORIQUE': 4},\n",
       " {'MUSIQUE VOCALE': 2},\n",
       " {'MUSÉE': 9},\n",
       " {\"MUSÉE D'HISTOIRE NATURELLE\": 1},\n",
       " {'MÉDECINE': 1},\n",
       " {\"MÉDECINE D'URGENCE\": 1},\n",
       " {'MÉDITATION': 1},\n",
       " {'MÉTALLURGIE': 1},\n",
       " {'MÉTRO': 1},\n",
       " {'NATURE': 2},\n",
       " {'NAVETTE SPATIALE': 2},\n",
       " {'NAVIGATION DE PLAISANCE': 10},\n",
       " {'NAVIGATION INTÉRIEURE': 4},\n",
       " {'NAZISME': 1},\n",
       " {'NEIGE': 1},\n",
       " {'NEIGEUX': 2},\n",
       " {'NOCTURNE': 8},\n",
       " {'NOIRS': 1},\n",
       " {'NOMA': 1},\n",
       " {'NÔ': 1},\n",
       " {'OBSÈQUES': 1},\n",
       " {'OCÉAN': 4},\n",
       " {'OEIL': 1},\n",
       " {'OEUVRE CINÉMATOGRAPHIQUE': 6},\n",
       " {'OFFICIER': 1},\n",
       " {'OFFRANDE': 1},\n",
       " {'OIE': 1},\n",
       " {'OISEAU': 1},\n",
       " {'OPHTALMOLOGIE': 7},\n",
       " {'OPÉRA (BÂTIMENT)': 1},\n",
       " {'ORCHESTRE SYMPHONIQUE': 2},\n",
       " {'ORFÈVRERIE': 1},\n",
       " {'ORGANISATION HUMANITAIRE': 5},\n",
       " {'ORGUE': 1},\n",
       " {'ORPHELINAT': 2},\n",
       " {'ORTHOPHONIE': 1},\n",
       " {'OSTRÉICULTURE': 1},\n",
       " {'OUVRIER': 10},\n",
       " {'OVULE': 1},\n",
       " {'PALAIS FÉDÉRAL': 3},\n",
       " {'PALESTINIENS': 10},\n",
       " {'PALUDISME': 2},\n",
       " {'PAMPA': 1},\n",
       " {'PANNEAU ROUTIER': 1},\n",
       " {'PAQUEBOT': 6},\n",
       " {'PARACHUTE': 1},\n",
       " {'PARC DE LOISIRS': 1},\n",
       " {'PARC ET JARDIN PUBLICS': 2},\n",
       " {'PARI': 1},\n",
       " {'PARTI POLITIQUE': 7},\n",
       " {'PATRIMOINE CULTUREL': 2},\n",
       " {'PATROUILLE DES GLACIERS': 1},\n",
       " {'PAUVRETÉ': 4},\n",
       " {'PAYSAGE': 11},\n",
       " {'PAYSAGE AGRAIRE': 4},\n",
       " {'PAYSAGE URBAIN': 7},\n",
       " {'PAYSAN': 15},\n",
       " {'PEINTURE': 11},\n",
       " {'PEINTURE MURALE': 3},\n",
       " {'PELLE MÉCANIQUE': 1},\n",
       " {'PERLE': 2},\n",
       " {'PERSONNE ÂGÉE': 12},\n",
       " {'PERSONNEL MARITIME': 6},\n",
       " {\"PEUPLE D'EUROPE\": 6},\n",
       " {'PHOQUE': 1},\n",
       " {'PHOTOGRAPHIE': 7},\n",
       " {'PHYSIQUE': 1},\n",
       " {'PIERRE': 1},\n",
       " {'PIPE': 1},\n",
       " {'PIQUE-NIQUE': 1},\n",
       " {'PISCINE': 1},\n",
       " {'PIÈCE DE THÉÂTRE': 2},\n",
       " {'PLACE': 1},\n",
       " {'PLAGE': 7},\n",
       " {'PLANEUR': 2},\n",
       " {'POISSON (ALIMENT)': 2},\n",
       " {'POISSONNERIE': 1},\n",
       " {'POLICE': 3},\n",
       " {'POLITIQUE': 1},\n",
       " {\"POLLUTION DE L'EAU\": 1},\n",
       " {'PONT': 3},\n",
       " {'PONT SUSPENDU': 1},\n",
       " {'POPULATION': 2},\n",
       " {'POPULATION DE MONTAGNE': 2},\n",
       " {'POPULATION RURALE': 4},\n",
       " {'PORC': 2},\n",
       " {'PORCELAINE': 1},\n",
       " {'PORT': 20},\n",
       " {'PORTRAIT': 39},\n",
       " {'POUPÉE': 1},\n",
       " {'POUSSETTE': 1},\n",
       " {'PRAIRIE': 1},\n",
       " {'PRATIQUE RELIGIEUSE': 4},\n",
       " {'PREMIER AOÛT': 1},\n",
       " {'PRESSE': 1},\n",
       " {'PRESTATION DE SERMENT': 1},\n",
       " {'PRIX (RÉCOMPENSE)': 1},\n",
       " {'PRIÈRE': 2},\n",
       " {'PROCESSION (PRATIQUE RELIGIEUSE)': 2},\n",
       " {'PROCÈS': 1},\n",
       " {'PROGRÈS TECHNIQUE': 1},\n",
       " {'PROPHYLAXIE': 6},\n",
       " {'PROTECTION CIVILE': 4},\n",
       " {'PRÉVENTION DES CATASTROPHES NATURELLES': 4},\n",
       " {'PRÊTRE': 3},\n",
       " {'PSYCHOLOGIE APPLIQUÉE': 6},\n",
       " {'PUB': 1},\n",
       " {'PUBLICITÉ': 1},\n",
       " {'PURIFICATION ETHNIQUE': 2},\n",
       " {'PUÉRICULTURE': 2},\n",
       " {'PYRAMIDE': 5},\n",
       " {'PÉDAGOGIE': 5},\n",
       " {'PÉDIATRIE': 1},\n",
       " {'PÉNICHE': 6},\n",
       " {'PÉPINIÈRE': 1},\n",
       " {'PÊCHE (LOISIR)': 1},\n",
       " {'PÊCHE PROFESSIONNELLE': 7},\n",
       " {'PÊCHEUR': 8},\n",
       " {'QUARTIER': 3},\n",
       " {'QUARTIER PAUVRE': 1},\n",
       " {'RADIO': 5},\n",
       " {'RADIOLOGIE': 1},\n",
       " {'RAFFINAGE DU PÉTROLE': 1},\n",
       " {'RAGE': 2},\n",
       " {'RAMASSAGE SCOLAIRE': 2},\n",
       " {'RECETTE CULINAIRE': 1},\n",
       " {'RECHERCHE SCIENTIFIQUE': 4},\n",
       " {'RECONSTITUTION': 2},\n",
       " {'RECONSTRUCTION': 1},\n",
       " {'RECORD DU MONDE': 2},\n",
       " {'RECORDS DIVERS': 4},\n",
       " {'RECRUE': 6},\n",
       " {'REFUGE POUR ANIMAUX': 1},\n",
       " {'RELATION PARENT-ENFANT': 6},\n",
       " {'RELIQUE': 1},\n",
       " {'REMONTÉE MÉCANIQUE': 2},\n",
       " {'RENARD': 1},\n",
       " {'RENNE': 2},\n",
       " {'REPAS': 1},\n",
       " {'RESTAURANT': 3},\n",
       " {'RESTAURATION DES MONUMENTS': 1},\n",
       " {'RETRAITE MILITAIRE': 6},\n",
       " {'RHUMATISME': 6},\n",
       " {'RICHESSE': 3},\n",
       " {'RITE FUNÉRAIRE': 3},\n",
       " {'RIVIÈRE': 7},\n",
       " {\"ROCK'N'ROLL\": 2},\n",
       " {'ROUTE': 2},\n",
       " {'RUINE': 4},\n",
       " {'RÉFUGIÉ': 29},\n",
       " {'RÉPRESSION POLITIQUE': 1},\n",
       " {'RÉSEAU ROUTIER': 1},\n",
       " {'RÉSERVE NATURELLE': 3},\n",
       " {'RÉVOLUTION': 2},\n",
       " {'SAFARI': 2},\n",
       " {'SAISONNIER': 1},\n",
       " {'SALON DE JEUX': 1},\n",
       " {\"SALON DE L'AUTOMOBILE\": 5},\n",
       " {'SATELLITE ARTIFICIEL': 1},\n",
       " {'SAUT À SKI': 2},\n",
       " {'SCOUTISME': 1},\n",
       " {'SCULPTEUR': 3},\n",
       " {'SCULPTURE': 11},\n",
       " {'SCULPTURE SUR BOIS': 1},\n",
       " {'SCÈNE DE RUE': 31},\n",
       " {\"SECOURS EN CAS D'ACCIDENT\": 3},\n",
       " {'SERRE': 6},\n",
       " {'SERVEUSE': 1},\n",
       " {'SERVICE MILITAIRE': 2},\n",
       " {'SERVICE SECRET': 1},\n",
       " {'SHINTOÏSME': 2},\n",
       " {'SIDÉRURGIE': 1},\n",
       " {\"SIMULATION D'ACCIDENT\": 1},\n",
       " {'SINGE': 1},\n",
       " {'SITE ARCHÉOLOGIQUE': 15},\n",
       " {'SKETCH': 1},\n",
       " {'SKI ALPIN (LOISIR)': 5},\n",
       " {'SKI NORDIQUE (COMPÉTITION)': 2},\n",
       " {'SOCIÉTÉ': 1},\n",
       " {'SOCIÉTÉ COOPÉRATIVE': 1},\n",
       " {'SOLDAT': 2},\n",
       " {'SOLEIL': 1},\n",
       " {'SOMMEIL': 1},\n",
       " {'SOURIRE': 3},\n",
       " {'SOUS-MARIN MILITAIRE': 1},\n",
       " {'SPERMATOZOÏDE': 1},\n",
       " {'SPORT': 2},\n",
       " {'SPORT ÉQUESTRE (LOISIR)': 1},\n",
       " {'STADE': 2},\n",
       " {'STATION BALNÉAIRE': 12},\n",
       " {\"STATION D'ÉPURATION\": 1},\n",
       " {'STATION DE SKI': 9},\n",
       " {'STATUE': 4},\n",
       " {'STRATÉGIE MILITAIRE': 1},\n",
       " {'STRIP-TEASE': 3},\n",
       " {'STUDIO DE TÉLÉVISION (PLATEAU)': 1},\n",
       " {'SUPERMARCHÉ': 1},\n",
       " {'SURF (LOISIR)': 1},\n",
       " {'SYLVICULTURE': 2},\n",
       " {'TAI CHI CHUAN': 1},\n",
       " {'TAPISSERIE': 4},\n",
       " {'TATOUAGE': 1},\n",
       " {'TAXIDERMIE': 1},\n",
       " {'TECHNIQUE DE GROUPE': 1},\n",
       " {'TECHNIQUE DU BÂTIMENT ET TRAVAUX PUBLICS': 1},\n",
       " {'TEMPLE': 3},\n",
       " {'TERRASSEMENT': 1},\n",
       " {'THÉ (BOISSON)': 1},\n",
       " {'THÉATRE (BÂTIMENT)': 1},\n",
       " {'THÉÂTRE DE MARIONNETTES': 4},\n",
       " {'TIR AU FUSIL': 1},\n",
       " {'TISSAGE': 3},\n",
       " {\"TISSAGE D'ART\": 3},\n",
       " {'TOMBE': 3},\n",
       " {'TONTE DES MOUTONS': 2},\n",
       " {'TORRENT': 1},\n",
       " {'TORTURE': 2},\n",
       " {'TOUAREGS': 2},\n",
       " {'TOURISME': 32},\n",
       " {'TRACTEUR': 2},\n",
       " {'TRAIN': 5},\n",
       " {'TRAM': 5},\n",
       " {'TRANSPORT AÉRIEN': 4},\n",
       " {'TRANSPORT DE VOYAGEURS': 3},\n",
       " {'TRANSPORT MARITIME': 1},\n",
       " {'TRAVAIL DES FEMMES': 1},\n",
       " {'TRAVESTISME': 1},\n",
       " {'TRAÎNEAU': 1},\n",
       " {'TRIBU': 2},\n",
       " {'TROLLEYBUS': 1},\n",
       " {'TROMPETTE': 1},\n",
       " {'TROUBLE VISUEL': 3},\n",
       " {'TROUPE DE THÉÂTRE': 1},\n",
       " {'TROUPEAU': 2},\n",
       " {'TUNNEL': 8},\n",
       " {'TÉLESCOPE SPATIAL': 1},\n",
       " {'TÉLÉVISION': 6},\n",
       " {'TÉLÉVISION EN COULEUR': 1},\n",
       " {'TÉMOIGNAGE': 8},\n",
       " {'UNIVERSITÉ': 9},\n",
       " {'URANIUM': 1},\n",
       " {'URBANISME': 3},\n",
       " {'USINE': 3},\n",
       " {'VACANCES': 7},\n",
       " {'VACCINATION': 1},\n",
       " {'VACHE': 4},\n",
       " {'VAGUE': 3},\n",
       " {'VARAPPE': 1},\n",
       " {'VENOM': 1},\n",
       " {'VENTE AUX ENCHÈRES': 2},\n",
       " {'VERRE': 4},\n",
       " {\"VERRERIE D'ART\": 3},\n",
       " {'VIE FAMILIALE': 1},\n",
       " {'VIE QUOTIDIENNE': 16},\n",
       " {'VIEILLE VILLE': 5},\n",
       " {'VIEILLESSE': 1},\n",
       " {'VIGNE': 8},\n",
       " {'VILLAGE': 12},\n",
       " {'VILLAGE DE MONTAGNE': 12},\n",
       " {'VILLE': 48},\n",
       " {'VISAGE': 1},\n",
       " {'VITICULTURE': 8},\n",
       " {'VITRAIL': 5},\n",
       " {'VITRINE': 1},\n",
       " {'VOIE FERRÉE': 1},\n",
       " {'VOILE (LOISIR)': 1},\n",
       " {'VOILIER': 3},\n",
       " {'VOIX OFF': 2},\n",
       " {'VOL AÉRIEN': 1},\n",
       " {'VOL SPATIAL HABITÉ': 2},\n",
       " {'VOLCAN': 2},\n",
       " {'VOTATION': 3},\n",
       " {'VOYAGE': 1},\n",
       " {'VUE AÉRIENNE': 6},\n",
       " {'VÉHICULE AUTOMOBILE': 5},\n",
       " {'VÉHICULE TOUT-TERRAIN': 1},\n",
       " {'VÊTEMENT': 3},\n",
       " {'YOGA': 2},\n",
       " {'ZEN': 1},\n",
       " {'ZÈBRE': 1},\n",
       " {'ÉCOLIER': 5},\n",
       " {'ÉDIFICE RELIGIEUX': 5},\n",
       " {'ÉDITION': 11},\n",
       " {'ÉDUCATION': 4},\n",
       " {'ÉDUCATION SPÉCIALISÉE': 2},\n",
       " {'ÉGLISE (ÉDIFICE)': 8},\n",
       " {'ÉLECTION': 13},\n",
       " {'ÉLECTION FÉDÉRALE': 1},\n",
       " {'ÉLEVAGE': 1},\n",
       " {'ÉLEVAGE BOVIN': 1},\n",
       " {'ÉLEVAGE CAPRIN': 1},\n",
       " {'ÉLEVEUR': 1},\n",
       " {'ÉLÉPHANT': 2},\n",
       " {'ÉMETTEUR': 1},\n",
       " {'ÉMISSION DE RADIO': 4},\n",
       " {'ÉMISSION DE TÉLÉVISION': 3},\n",
       " {'ÉNERGIE NUCLÉAIRE': 1},\n",
       " {'ÉNERGIE SOLAIRE': 2},\n",
       " {'ÉQUIPEMENT COLLECTIF': 2},\n",
       " {'ÉTHYLOMÈTRE': 3},\n",
       " {'ÉTUDIANT': 4},\n",
       " {'ÎLE': 7}]"
      ]
     },
     "execution_count": 38,
     "metadata": {},
     "output_type": "execute_result"
    }
   ],
   "source": [
    "genra = program_groups_without_outliers.get_group(\n",
    "    'Documentaire').visualThemes.values\n",
    "\n",
    "\n",
    "flat_list = [item for sublist in genra for item in sublist]\n",
    "flat_list\n",
    "unique, counts = np.unique(flat_list, return_counts=True)\n",
    "\n",
    "di = [{u:c} for u,c in zip(unique, counts)]\n",
    "#print(unique)\n",
    "#print(counts)\n",
    "di"
   ]
  },
  {
   "cell_type": "markdown",
   "metadata": {},
   "source": [
    "## data preparation"
   ]
  },
  {
   "cell_type": "code",
   "execution_count": 13,
   "metadata": {
    "collapsed": true
   },
   "outputs": [],
   "source": [
    "from sklearn.feature_extraction.text import CountVectorizer\n",
    "from sklearn.feature_extraction.text import TfidfTransformer\n",
    "from sklearn.pipeline import Pipeline\n",
    "from sklearn.linear_model import SGDClassifier\n",
    "from sklearn import svm\n",
    "from sklearn.ensemble import RandomForestClassifier\n",
    "from sklearn.model_selection import cross_val_score\n",
    "from sklearn.model_selection import GridSearchCV"
   ]
  },
  {
   "cell_type": "code",
   "execution_count": 14,
   "metadata": {},
   "outputs": [
    {
     "data": {
      "image/png": "[encoded data removed]",
      "text/plain": [
       "<matplotlib.figure.Figure at 0x180f9cc8390>"
      ]
     },
     "metadata": {},
     "output_type": "display_data"
    }
   ],
   "source": [
    "lifespan = get_program_lifespan(df_without_date_outliers)\n",
    "lifespan['lifespan_class'] = (pd.qcut(\n",
    "    lifespan.lifespan_days, 2, labels=[0, 1]))\n",
    "lifespan.hist(column='lifespan_days', bins=50, ec='black')\n",
    "plt.show()"
   ]
  },
  {
   "cell_type": "code",
   "execution_count": 15,
   "metadata": {
    "collapsed": true
   },
   "outputs": [],
   "source": [
    "def generate_data_for_factor(factor):\n",
    "    factor_per_program = pd.DataFrame()\n",
    "    factor_per_program[factor] = df_without_date_outliers[factor].apply(\n",
    "        lambda x: ' '.join(x))\n",
    "    factor_per_program['program'] = df_without_date_outliers.program\n",
    "    factors = factor_per_program.groupby(\n",
    "        factor_per_program.program).agg(lambda x: ' '.join(x))\n",
    "    evaluate_df = lifespan.merge(factors, left_index=True, right_index=True)\n",
    "    # drop programs with no name\n",
    "    evaluate_df = evaluate_df.drop('')\n",
    "    X = evaluate_df[factor]\n",
    "    y = evaluate_df.lifespan_class\n",
    "    return X, y"
   ]
  },
  {
   "cell_type": "code",
   "execution_count": 16,
   "metadata": {
    "collapsed": true
   },
   "outputs": [],
   "source": [
    "# classifiers for model selection\n",
    "count_vect = CountVectorizer(ngram_range=(1, 2), max_df=0.5)\n",
    "tfidf_transformer = TfidfTransformer()\n",
    "\n",
    "classifiers = [\n",
    "    SGDClassifier(alpha=1e-5, random_state=42),\n",
    "    svm.SVC(),\n",
    "    RandomForestClassifier(max_depth=5, n_estimators=10)\n",
    "]\n",
    "\n",
    "classifiers_name = ['SGDClassifier', 'svc', 'randomforest']"
   ]
  },
  {
   "cell_type": "markdown",
   "metadata": {},
   "source": [
    "## thematicThemes"
   ]
  },
  {
   "cell_type": "code",
   "execution_count": 17,
   "metadata": {
    "collapsed": true
   },
   "outputs": [],
   "source": [
    "X, y = generate_data_for_factor('thematicThemes')"
   ]
  },
  {
   "cell_type": "markdown",
   "metadata": {},
   "source": [
    "### model selection"
   ]
  },
  {
   "cell_type": "code",
   "execution_count": 18,
   "metadata": {
    "collapsed": true
   },
   "outputs": [],
   "source": [
    "X_count = count_vect.fit_transform(X)\n",
    "X_tfidf = tfidf_transformer.fit_transform(X_count)"
   ]
  },
  {
   "cell_type": "code",
   "execution_count": 95,
   "metadata": {},
   "outputs": [
    {
     "name": "stdout",
     "output_type": "stream",
     "text": [
      "for SGDClassifier\n",
      "Accuracy: 0.637 (+/- 0.025)\n",
      "for svc\n",
      "Accuracy: 0.501 (+/- 0.001)\n",
      "for randomforest\n",
      "Accuracy: 0.654 (+/- 0.041)\n"
     ]
    }
   ],
   "source": [
    "for i, classifier in zip(classifiers_name, classifiers):\n",
    "    scores = cross_val_score(classifier, X_tfidf, y, cv=5)\n",
    "    print('for {}'.format(i))\n",
    "    print(\"Accuracy: %0.3f (+/- %0.3f)\" % (scores.mean(), scores.std() * 2))"
   ]
  },
  {
   "cell_type": "markdown",
   "metadata": {},
   "source": [
    "### Grid search for random forest"
   ]
  },
  {
   "cell_type": "code",
   "execution_count": 99,
   "metadata": {
    "collapsed": true
   },
   "outputs": [],
   "source": [
    "clf = RandomForestClassifier(\n",
    "    #max_depth=50,\n",
    "    random_state=42,\n",
    "    min_samples_leaf=40,\n",
    "    n_estimators=16,\n",
    "    max_features='auto')\n",
    "\n",
    "pipeline = Pipeline([\n",
    "    ('vect', count_vect),\n",
    "    ('tfidf', tfidf_transformer),\n",
    "    ('clf', clf),\n",
    "])\n",
    "\n",
    "parameters = {\n",
    "    'vect__max_df': (0.5, 0.75, 1.0),\n",
    "    'vect__ngram_range': ((1, 1), (1, 2)),\n",
    "    #'clf__max_depth': np.arange(30, 51, 10),\n",
    "    'clf__n_estimators': np.power(2, np.arange(1, 6, 1)),\n",
    "    'clf__min_samples_leaf' : np.arange(40,61,5),\n",
    "}"
   ]
  },
  {
   "cell_type": "code",
   "execution_count": 100,
   "metadata": {
    "collapsed": true
   },
   "outputs": [],
   "source": [
    "gs_clf = GridSearchCV(pipeline, parameters, n_jobs=-1, verbose=10, cv=3)"
   ]
  },
  {
   "cell_type": "code",
   "execution_count": 101,
   "metadata": {},
   "outputs": [
    {
     "name": "stdout",
     "output_type": "stream",
     "text": [
      "Fitting 3 folds for each of 150 candidates, totalling 450 fits\n"
     ]
    },
    {
     "name": "stderr",
     "output_type": "stream",
     "text": [
      "[Parallel(n_jobs=-1)]: Done   5 tasks      | elapsed:    7.0s\n",
      "[Parallel(n_jobs=-1)]: Done  10 tasks      | elapsed:   10.0s\n",
      "[Parallel(n_jobs=-1)]: Done  17 tasks      | elapsed:   13.3s\n",
      "[Parallel(n_jobs=-1)]: Done  24 tasks      | elapsed:   17.1s\n",
      "[Parallel(n_jobs=-1)]: Done  33 tasks      | elapsed:   21.5s\n",
      "[Parallel(n_jobs=-1)]: Done  42 tasks      | elapsed:   26.4s\n",
      "[Parallel(n_jobs=-1)]: Done  53 tasks      | elapsed:   32.8s\n",
      "[Parallel(n_jobs=-1)]: Done  64 tasks      | elapsed:   38.9s\n",
      "[Parallel(n_jobs=-1)]: Done  77 tasks      | elapsed:   45.9s\n",
      "[Parallel(n_jobs=-1)]: Done  90 tasks      | elapsed:   52.5s\n",
      "[Parallel(n_jobs=-1)]: Done 105 tasks      | elapsed:  1.0min\n",
      "[Parallel(n_jobs=-1)]: Done 120 tasks      | elapsed:  1.2min\n",
      "[Parallel(n_jobs=-1)]: Done 137 tasks      | elapsed:  1.3min\n",
      "[Parallel(n_jobs=-1)]: Done 154 tasks      | elapsed:  1.5min\n",
      "[Parallel(n_jobs=-1)]: Done 173 tasks      | elapsed:  1.6min\n",
      "[Parallel(n_jobs=-1)]: Done 192 tasks      | elapsed:  1.8min\n",
      "[Parallel(n_jobs=-1)]: Done 213 tasks      | elapsed:  2.0min\n",
      "[Parallel(n_jobs=-1)]: Done 234 tasks      | elapsed:  2.2min\n",
      "[Parallel(n_jobs=-1)]: Done 257 tasks      | elapsed:  2.4min\n",
      "[Parallel(n_jobs=-1)]: Done 280 tasks      | elapsed:  2.6min\n",
      "[Parallel(n_jobs=-1)]: Done 305 tasks      | elapsed:  2.8min\n",
      "[Parallel(n_jobs=-1)]: Done 330 tasks      | elapsed:  3.1min\n",
      "[Parallel(n_jobs=-1)]: Done 357 tasks      | elapsed:  3.4min\n",
      "[Parallel(n_jobs=-1)]: Done 384 tasks      | elapsed:  3.6min\n",
      "[Parallel(n_jobs=-1)]: Done 413 tasks      | elapsed:  3.9min\n",
      "[Parallel(n_jobs=-1)]: Done 442 tasks      | elapsed:  4.3min\n",
      "[Parallel(n_jobs=-1)]: Done 450 out of 450 | elapsed:  4.3min finished\n"
     ]
    }
   ],
   "source": [
    "gs_clf = gs_clf.fit(X, y)"
   ]
  },
  {
   "cell_type": "code",
   "execution_count": 19,
   "metadata": {},
   "outputs": [
    {
     "ename": "NameError",
     "evalue": "name 'gs_clf' is not defined",
     "output_type": "error",
     "traceback": [
      "\u001b[1;31m---------------------------------------------------------------------------\u001b[0m",
      "\u001b[1;31mNameError\u001b[0m                                 Traceback (most recent call last)",
      "\u001b[1;32m<ipython-input-19-54b7e9b51ba8>\u001b[0m in \u001b[0;36m<module>\u001b[1;34m()\u001b[0m\n\u001b[1;32m----> 1\u001b[1;33m \u001b[0mgs_clf\u001b[0m\u001b[1;33m.\u001b[0m\u001b[0mbest_score_\u001b[0m\u001b[1;33m\u001b[0m\u001b[0m\n\u001b[0m",
      "\u001b[1;31mNameError\u001b[0m: name 'gs_clf' is not defined"
     ]
    }
   ],
   "source": [
    "gs_clf.best_score_"
   ]
  },
  {
   "cell_type": "code",
   "execution_count": 103,
   "metadata": {
    "scrolled": true
   },
   "outputs": [
    {
     "name": "stdout",
     "output_type": "stream",
     "text": [
      "clf__min_samples_leaf: 40\n",
      "clf__n_estimators: 16\n",
      "vect__max_df: 0.5\n",
      "vect__ngram_range: (1, 2)\n"
     ]
    }
   ],
   "source": [
    "for param_name in sorted(parameters.keys()):\n",
    "    print(\"%s: %r\" % (param_name, gs_clf.best_params_[param_name]))"
   ]
  },
  {
   "cell_type": "markdown",
   "metadata": {},
   "source": [
    "#### with only 2 labels"
   ]
  },
  {
   "cell_type": "code",
   "execution_count": 20,
   "metadata": {},
   "outputs": [
    {
     "data": {
      "text/plain": [
       "<1x166098 sparse matrix of type '<class 'numpy.float64'>'\n",
       "\twith 2 stored elements in Compressed Sparse Row format>"
      ]
     },
     "execution_count": 20,
     "metadata": {},
     "output_type": "execute_result"
    }
   ],
   "source": [
    "(X_tfidf.getrow(2))"
   ]
  },
  {
   "cell_type": "code",
   "execution_count": 21,
   "metadata": {
    "collapsed": true,
    "scrolled": true
   },
   "outputs": [],
   "source": [
    "RFC = RandomForestClassifier( min_samples_leaf=40, n_estimators=16)\n",
    "RFC.fit(X_tfidf, y)\n",
    "feat_imp = RFC.feature_importances_"
   ]
  },
  {
   "cell_type": "code",
   "execution_count": 34,
   "metadata": {
    "collapsed": true
   },
   "outputs": [],
   "source": [
    "importances = feat_imp\n",
    "std = np.std([tree.feature_importances_ for tree in RFC.estimators_], axis=0)\n",
    "indices = np.argsort(importances)[::-1][:20]"
   ]
  },
  {
   "cell_type": "code",
   "execution_count": 35,
   "metadata": {},
   "outputs": [
    {
     "data": {
      "text/plain": [
       "array([122493,  61949,  39042,  10832, 131960, 104051,  96238, 126951,\n",
       "         7147,  85574, 140933,   8748, 104040,  21959, 124283,  82587,\n",
       "       163445,  41442,  24843,  38039], dtype=int64)"
      ]
     },
     "execution_count": 35,
     "metadata": {},
     "output_type": "execute_result"
    }
   ],
   "source": [
    "indices"
   ]
  },
  {
   "cell_type": "code",
   "execution_count": 36,
   "metadata": {},
   "outputs": [
    {
     "name": "stdout",
     "output_type": "stream",
     "text": [
      "Feature ranking:\n",
      "1. feature 122493 (0.074567)\n",
      "2. feature 61949 (0.062500)\n",
      "3. feature 39042 (0.062500)\n",
      "4. feature 10832 (0.059545)\n",
      "5. feature 131960 (0.038355)\n",
      "6. feature 104051 (0.037772)\n",
      "7. feature 96238 (0.037566)\n",
      "8. feature 126951 (0.031323)\n",
      "9. feature 7147 (0.031177)\n",
      "10. feature 85574 (0.028217)\n",
      "11. feature 140933 (0.024414)\n",
      "12. feature 8748 (0.024145)\n",
      "13. feature 104040 (0.021919)\n",
      "14. feature 21959 (0.021275)\n",
      "15. feature 124283 (0.019440)\n",
      "16. feature 82587 (0.019201)\n",
      "17. feature 163445 (0.019183)\n",
      "18. feature 41442 (0.014295)\n",
      "19. feature 24843 (0.011348)\n",
      "20. feature 38039 (0.010639)\n"
     ]
    },
    {
     "data": {
      "image/png": "[encoded data removed]",
      "text/plain": [
       "<matplotlib.figure.Figure at 0x180fa851128>"
      ]
     },
     "metadata": {},
     "output_type": "display_data"
    }
   ],
   "source": [
    "# Print the feature ranking\n",
    "range_ = range(len(indices))\n",
    "\n",
    "print(\"Feature ranking:\")\n",
    "\n",
    "for f in range_:\n",
    "    print(\"%d. feature %d (%f)\" % (f + 1, indices[f], importances[indices[f]]))\n",
    "\n",
    "# Plot the feature importances of the forest\n",
    "plt.figure()\n",
    "plt.title(\"Feature importances\")\n",
    "plt.bar(\n",
    "    range_,\n",
    "    importances[indices],\n",
    "    color=\"r\",\n",
    "    #yerr=std[indices],\n",
    "    align=\"center\")\n",
    "plt.xticks(range_, indices)\n",
    "plt.xlim([-1, len(indices)])\n",
    "plt.show()"
   ]
  },
  {
   "cell_type": "markdown",
   "metadata": {},
   "source": [
    "## Visual theme"
   ]
  },
  {
   "cell_type": "markdown",
   "metadata": {},
   "source": [
    "## Thematic theme"
   ]
  },
  {
   "cell_type": "markdown",
   "metadata": {},
   "source": [
    "## Location theme"
   ]
  }
 ],
 "metadata": {
  "kernelspec": {
   "display_name": "Python 3",
   "language": "python",
   "name": "python3"
  },
  "language_info": {
   "codemirror_mode": {
    "name": "ipython",
    "version": 3
   },
   "file_extension": ".py",
   "mimetype": "text/x-python",
   "name": "python",
   "nbconvert_exporter": "python",
   "pygments_lexer": "ipython3",
   "version": "3.6.1"
  },
  "toc": {
   "nav_menu": {},
   "number_sections": true,
   "sideBar": true,
   "skip_h1_title": false,
   "toc_cell": false,
   "toc_position": {
    "height": "687px",
    "left": "0px",
    "right": "1411px",
    "top": "107px",
    "width": "189px"
   },
   "toc_section_display": "block",
   "toc_window_display": true
  },
  "varInspector": {
   "cols": {
    "lenName": 16,
    "lenType": 16,
    "lenVar": 40
   },
   "kernels_config": {
    "python": {
     "delete_cmd_postfix": "",
     "delete_cmd_prefix": "del ",
     "library": "var_list.py",
     "varRefreshCmd": "print(var_dic_list())"
    },
    "r": {
     "delete_cmd_postfix": ") ",
     "delete_cmd_prefix": "rm(",
     "library": "var_list.r",
     "varRefreshCmd": "cat(var_dic_list()) "
    }
   },
   "position": {
    "height": "654px",
    "left": "972px",
    "right": "20px",
    "top": "65px",
    "width": "565px"
   },
   "types_to_exclude": [
    "module",
    "function",
    "builtin_function_or_method",
    "instance",
    "_Feature"
   ],
   "window_display": false
  }
 },
 "nbformat": 4,
 "nbformat_minor": 2
}
