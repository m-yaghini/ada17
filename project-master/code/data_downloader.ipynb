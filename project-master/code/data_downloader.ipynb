{
 "cells": [
  {
   "cell_type": "code",
   "execution_count": 7,
   "metadata": {
    "collapsed": true
   },
   "outputs": [],
   "source": [
    "import json\n",
    "import requests\n",
    "import pandas as pd\n",
    "import os\n",
    "\n",
    "RESOURCE_URL = \"http://srgssr-prod.apigee.net/rts-archives-public-api/archives\"\n",
    "API_KEY = \"pbv1Ac9Hgh3OHHho1jUJwGtJwOcfbiLI\""
   ]
  },
  {
   "cell_type": "code",
   "execution_count": 8,
   "metadata": {
    "collapsed": true
   },
   "outputs": [],
   "source": [
    "def build_dict(query = '', minPublicationDate = '', maxPublicationDate = '',minDurationSec = '',\n",
    "               maxDurationSec = '', mediaTypes = '', enumeratedFacets = '', publicationDateIntervalFacets = '',\n",
    "               durationSecIntervalFacets = '', start = '', rows=''):\n",
    "    dict_ = {'apikey' : API_KEY,\n",
    "             'query' : query,\n",
    "             'minPublicationDate' : minPublicationDate,\n",
    "             'maxPublicationDate' : maxPublicationDate,\n",
    "             'minDurationSec' : minDurationSec,\n",
    "             'maxDurationSec' : maxDurationSec,\n",
    "             'mediaTypes' : mediaTypes,\n",
    "             'enumeratedFacets' : enumeratedFacets,\n",
    "             'publicationDateIntervalFacets': publicationDateIntervalFacets,\n",
    "             'durationSecIntervalFacets' : durationSecIntervalFacets,\n",
    "             'start' : start,\n",
    "             'rows' : rows}\n",
    "    return {(k,v) for k,v in dict_.items() if v}"
   ]
  },
  {
   "cell_type": "code",
   "execution_count": 9,
   "metadata": {
    "collapsed": true
   },
   "outputs": [],
   "source": [
    "def request_data_and_write(payload, name):\n",
    "    r = requests.get(RESOURCE_URL, params=payload)\n",
    "    data = r.json()\n",
    "\n",
    "    with open('{}.json'.format(name), 'w') as outfile:\n",
    "        json.dump(data, outfile)\n",
    "        \n",
    "def request_data_total():\n",
    "    payload = build_dict()\n",
    "    request_data_and_write(payload, \"data_total\")\n",
    "\n",
    "def request_data_per_year(year):\n",
    "    payload = build_dict(minPublicationDate='{}'.format(year), maxPublicationDate='{}'.format(year))\n",
    "    request_data_and_write(payload, 'data_{}.json'.format(year))"
   ]
  },
  {
   "cell_type": "code",
   "execution_count": 10,
   "metadata": {},
   "outputs": [],
   "source": [
    "request_data_total()"
   ]
  },
  {
   "cell_type": "code",
   "execution_count": 58,
   "metadata": {
    "collapsed": true
   },
   "outputs": [
    {
     "name": "stdout",
     "output_type": "stream",
     "text": [
      "1949\n",
      "1950\n",
      "1951\n",
      "1952\n",
      "1953\n",
      "1954\n",
      "1955\n",
      "1956\n",
      "1957\n",
      "1958\n",
      "1959\n",
      "1960\n",
      "1961\n",
      "1962\n",
      "1963\n",
      "1964\n",
      "1965\n",
      "1966\n",
      "1967\n",
      "1968\n",
      "1969\n",
      "1970\n",
      "1971\n",
      "1972\n",
      "1973\n",
      "1974\n",
      "1975\n",
      "1976\n",
      "1977\n",
      "1978\n",
      "1979\n",
      "1980\n",
      "1981\n",
      "1982\n",
      "1983\n",
      "1984\n",
      "1985\n",
      "1986\n",
      "1987\n",
      "1988\n",
      "1989\n",
      "1990\n",
      "1991\n",
      "1992\n",
      "1993\n",
      "1994\n",
      "1995\n",
      "1996\n",
      "1997\n",
      "1998\n",
      "1999\n",
      "2000\n",
      "2001\n",
      "2002\n",
      "2003\n",
      "2004\n",
      "2005\n",
      "2006\n",
      "2007\n",
      "2008\n",
      "2009\n",
      "2010\n",
      "2011\n",
      "2012\n",
      "2013\n",
      "2014\n",
      "2015\n",
      "2016\n",
      "2017\n"
     ]
    }
   ],
   "source": [
    "for year in range(1949,2018):\n",
    "    request_data_per_year(year)"
   ]
  },
  {
   "cell_type": "code",
   "execution_count": null,
   "metadata": {
    "collapsed": true
   },
   "outputs": [],
   "source": []
  }
 ],
 "metadata": {
  "kernelspec": {
   "display_name": "Python 3",
   "language": "python",
   "name": "python3"
  },
  "language_info": {
   "codemirror_mode": {
    "name": "ipython",
    "version": 3
   },
   "file_extension": ".py",
   "mimetype": "text/x-python",
   "name": "python",
   "nbconvert_exporter": "python",
   "pygments_lexer": "ipython3",
   "version": "3.6.3"
  }
 },
 "nbformat": 4,
 "nbformat_minor": 2
}
