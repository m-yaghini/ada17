{
 "cells": [
  {
   "cell_type": "code",
   "execution_count": 131,
   "metadata": {},
   "outputs": [],
   "source": [
    "from json_data_getter import get_all_json\n",
    "\n",
    "number_documents, keys, documents = get_all_json()"
   ]
  },
  {
   "cell_type": "code",
   "execution_count": 132,
   "metadata": {
    "scrolled": true
   },
   "outputs": [
    {
     "data": {
      "text/plain": [
       "366527"
      ]
     },
     "execution_count": 132,
     "metadata": {},
     "output_type": "execute_result"
    }
   ],
   "source": [
    "number_documents"
   ]
  },
  {
   "cell_type": "code",
   "execution_count": 133,
   "metadata": {
    "scrolled": true
   },
   "outputs": [
    {
     "data": {
      "text/plain": [
       "{'alternativeExcerpt',\n",
       " 'alternativeTitle',\n",
       " 'articleURL',\n",
       " 'backgrounds',\n",
       " 'contributors',\n",
       " 'durationSec',\n",
       " 'excerpt',\n",
       " 'genres',\n",
       " 'id',\n",
       " 'imageURL',\n",
       " 'isOnline',\n",
       " 'mediaType',\n",
       " 'mediaURL',\n",
       " 'program',\n",
       " 'publicationChannelNames',\n",
       " 'publicationDate',\n",
       " 'source',\n",
       " 'thematicCorporations',\n",
       " 'thematicGeographicals',\n",
       " 'thematicPersons',\n",
       " 'thematicThemes',\n",
       " 'title',\n",
       " 'variantIds',\n",
       " 'visualCorporations',\n",
       " 'visualGeographicals',\n",
       " 'visualPersons',\n",
       " 'visualThemes'}"
      ]
     },
     "execution_count": 133,
     "metadata": {},
     "output_type": "execute_result"
    }
   ],
   "source": [
    "keys"
   ]
  },
  {
   "cell_type": "code",
   "execution_count": 134,
   "metadata": {},
   "outputs": [
    {
     "data": {
      "text/plain": [
       "{'contributors': {\"Auteur d'une déclaration\": [{'name': 'Torres-Bodet, Jaime',\n",
       "    'role': \"directeur général de l'UNESCO\",\n",
       "    'type': 'Participant'}]},\n",
       " 'durationSec': 394,\n",
       " 'genres': ['Déclaration'],\n",
       " 'id': 'sound-8642C053-7C0F-4864-B6D5-C0031034CA20',\n",
       " 'isOnline': False,\n",
       " 'mediaType': 'audio',\n",
       " 'publicationChannelNames': ['La Première'],\n",
       " 'publicationDate': '1950-01-01T00:00:00Z',\n",
       " 'source': 'siranau',\n",
       " 'thematicGeographicals': ['France', 'Paris'],\n",
       " 'thematicPersons': ['UNESCO'],\n",
       " 'thematicThemes': ['organisation internationale', 'Nouvel An', 'paix'],\n",
       " 'title': \"Message de Nouvel An 1950 de Jaime Torrès-Bodet, directeur général de l'UNESCO : Eloge des valeurs spirituelles, de la liberté, de la justice et de la paix\"}"
      ]
     },
     "execution_count": 134,
     "metadata": {},
     "output_type": "execute_result"
    }
   ],
   "source": [
    "documents[10]"
   ]
  }
 ],
 "metadata": {
  "kernelspec": {
   "display_name": "Python 3",
   "language": "python",
   "name": "python3"
  },
  "language_info": {
   "codemirror_mode": {
    "name": "ipython",
    "version": 3
   },
   "file_extension": ".py",
   "mimetype": "text/x-python",
   "name": "python",
   "nbconvert_exporter": "python",
   "pygments_lexer": "ipython3",
   "version": "3.6.3"
  }
 },
 "nbformat": 4,
 "nbformat_minor": 2
}
