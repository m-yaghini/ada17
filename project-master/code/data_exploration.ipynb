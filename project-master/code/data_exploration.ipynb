{
 "cells": [
  {
   "cell_type": "code",
   "execution_count": 68,
   "metadata": {},
   "outputs": [],
   "source": [
    "import pandas as pd\n",
    "import os\n",
    "import json\n",
    "from glob import glob\n",
    "\n",
    "BASE_PATH ='../dataset'"
   ]
  },
  {
   "cell_type": "code",
   "execution_count": 123,
   "metadata": {},
   "outputs": [],
   "source": [
    "def get_subfolders(path):\n",
    "    return [x[0] for x in os.walk(path)][1:]\n",
    "\n",
    "def collect_json(path):\n",
    "    subfolder_list = get_subfolders(BASE_PATH + \"/\" + path)\n",
    "    \n",
    "    documents = []\n",
    "    \n",
    "    for sub in subfolder_list:\n",
    "        pattern = os.path.join(sub, '*.json')\n",
    "        for file_name in glob(pattern):\n",
    "            with open(file_name) as json_data:\n",
    "                temp_data = json.load(json_data)\n",
    "                temp_doc = temp_data['response']['docs']\n",
    "                documents += temp_doc\n",
    "\n",
    "    return documents"
   ]
  },
  {
   "cell_type": "code",
   "execution_count": 124,
   "metadata": {},
   "outputs": [],
   "source": [
    "folders = next(os.walk(BASE_PATH))[1]\n",
    "documents = collect_json(folders[0])"
   ]
  },
  {
   "cell_type": "code",
   "execution_count": 129,
   "metadata": {},
   "outputs": [
    {
     "data": {
      "text/plain": [
       "366527"
      ]
     },
     "execution_count": 129,
     "metadata": {},
     "output_type": "execute_result"
    }
   ],
   "source": [
    "number_documents = len(documents)\n",
    "number_documents"
   ]
  },
  {
   "cell_type": "code",
   "execution_count": 126,
   "metadata": {},
   "outputs": [
    {
     "data": {
      "text/plain": [
       "{'alternativeExcerpt',\n",
       " 'alternativeTitle',\n",
       " 'articleURL',\n",
       " 'backgrounds',\n",
       " 'contributors',\n",
       " 'durationSec',\n",
       " 'excerpt',\n",
       " 'genres',\n",
       " 'id',\n",
       " 'imageURL',\n",
       " 'isOnline',\n",
       " 'mediaType',\n",
       " 'mediaURL',\n",
       " 'program',\n",
       " 'publicationChannelNames',\n",
       " 'publicationDate',\n",
       " 'source',\n",
       " 'thematicCorporations',\n",
       " 'thematicGeographicals',\n",
       " 'thematicPersons',\n",
       " 'thematicThemes',\n",
       " 'title',\n",
       " 'variantIds',\n",
       " 'visualCorporations',\n",
       " 'visualGeographicals',\n",
       " 'visualPersons',\n",
       " 'visualThemes'}"
      ]
     },
     "execution_count": 126,
     "metadata": {},
     "output_type": "execute_result"
    }
   ],
   "source": [
    "full_keys_names = set()\n",
    "for doc in documents:\n",
    "    full_keys_names |= set(list(doc.keys()))\n",
    "full_keys_names"
   ]
  },
  {
   "cell_type": "code",
   "execution_count": 130,
   "metadata": {},
   "outputs": [
    {
     "data": {
      "text/plain": [
       "{'contributors': {'Producteur': [{'name': 'BRINER, Sandro',\n",
       "    'type': 'Personne physique'}],\n",
       "  'Réalisateur': [{'name': 'BRINER, Sandro', 'type': 'Personne physique'}],\n",
       "  'vide': [{'name': 'TSR', 'type': 'Organisation'}]},\n",
       " 'durationSec': 223,\n",
       " 'genres': ['EMISSIONS POUR ENFANTS ET ADOLESCENTS'],\n",
       " 'id': 'asset-160952',\n",
       " 'isOnline': False,\n",
       " 'mediaType': 'video',\n",
       " 'program': 'Les Zap',\n",
       " 'publicationChannelNames': ['TSR 1'],\n",
       " 'publicationDate': '2003-03-14T00:00:00Z',\n",
       " 'source': 'gico',\n",
       " 'title': 'BONJOUR - 03.03.14'}"
      ]
     },
     "execution_count": 130,
     "metadata": {},
     "output_type": "execute_result"
    }
   ],
   "source": [
    "documents[200000]"
   ]
  }
 ],
 "metadata": {
  "kernelspec": {
   "display_name": "Python 3",
   "language": "python",
   "name": "python3"
  },
  "language_info": {
   "codemirror_mode": {
    "name": "ipython",
    "version": 3
   },
   "file_extension": ".py",
   "mimetype": "text/x-python",
   "name": "python",
   "nbconvert_exporter": "python",
   "pygments_lexer": "ipython3",
   "version": "3.6.3"
  }
 },
 "nbformat": 4,
 "nbformat_minor": 2
}
