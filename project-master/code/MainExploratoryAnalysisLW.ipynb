{
 "cells": [
  {
   "cell_type": "code",
   "execution_count": 1,
   "metadata": {},
   "outputs": [],
   "source": [
    "%load_ext autoreload\n",
    "%autoreload 2\n",
    "%matplotlib inline\n",
    "\n",
    "import pandas as pd\n",
    "import numpy as np\n",
    "import matplotlib.pyplot as plt\n",
    "import progressbar\n",
    "import types\n",
    "\n",
    "from json_data_getter import get_all_json"
   ]
  },
  {
   "cell_type": "markdown",
   "metadata": {},
   "source": [
    "# Data preparation"
   ]
  },
  {
   "cell_type": "markdown",
   "metadata": {},
   "source": [
    "## Loading"
   ]
  },
  {
   "cell_type": "code",
   "execution_count": 158,
   "metadata": {},
   "outputs": [
    {
     "name": "stderr",
     "output_type": "stream",
     "text": [
      "100% (109 of 109) |#######################| Elapsed Time: 0:00:32 Time: 0:00:32\n"
     ]
    }
   ],
   "source": [
    "# gets all the json files toghether, may take a minute\n",
    "number_documents, keys, documents = get_all_json()\n",
    "df = pd.DataFrame.from_dict(documents)"
   ]
  },
  {
   "cell_type": "markdown",
   "metadata": {},
   "source": [
    "## Cleaning"
   ]
  },
  {
   "cell_type": "code",
   "execution_count": 160,
   "metadata": {
    "scrolled": true
   },
   "outputs": [],
   "source": [
    "# keep NaN for float columns, empty strings for string columns\n",
    "for col in df:\n",
    "    # get dtype for column\n",
    "    dt = df[col].dtype\n",
    "    # check if it is a number\n",
    "    if dt == int or dt == float:\n",
    "        pass\n",
    "    else:\n",
    "        df[col].fillna(\"\", inplace=True)\n",
    "\n",
    "# set dates to datetime type\n",
    "df['publicationDate'] = pd.to_datetime(\n",
    "    df['publicationDate'], format='%Y-%m-%dT%H:%M:%SZ')"
   ]
  },
  {
   "cell_type": "code",
   "execution_count": 194,
   "metadata": {},
   "outputs": [],
   "source": [
    "# some columns contain list of strings and strings, so we change string to list of strings of length 1\n",
    "def string_to_stringlist(s):\n",
    "    return [s] if isinstance(s, str) else s\n",
    "\n",
    "def stringlist_to_string(s):\n",
    "    temp = ''\n",
    "    if isinstance(s, str):\n",
    "        if ',' not in s:\n",
    "            temp = s.replace(' ', ', ')\n",
    "        else:\n",
    "            temp = s\n",
    "    else:\n",
    "        temp = ', '.join(s)\n",
    "        \n",
    "    return temp\n",
    "    #return ', '.join(s) if not isinstance(s, str) else s\n",
    "\n",
    "for t in [\n",
    "        'genres', 'thematicCorporations', 'thematicGeographicals',\n",
    "        'thematicPersons', 'thematicThemes', 'visualCorporations',\n",
    "        'visualGeographicals', 'visualPersons', 'visualThemes'\n",
    "]:\n",
    "    df[t] = df[t].apply(stringlist_to_string)"
   ]
  },
  {
   "cell_type": "markdown",
   "metadata": {},
   "source": [
    "## distribution in time"
   ]
  },
  {
   "cell_type": "code",
   "execution_count": 195,
   "metadata": {
    "scrolled": false
   },
   "outputs": [
    {
     "data": {
      "image/png": "[encoded data removed]",
      "text/plain": [
       "<matplotlib.figure.Figure at 0x28283900be0>"
      ]
     },
     "metadata": {},
     "output_type": "display_data"
    }
   ],
   "source": [
    "doc_per_year = df.groupby(df.publicationDate.map(lambda x: x.year)).size()\n",
    "doc_per_year.plot()\n",
    "plt.show()"
   ]
  },
  {
   "cell_type": "markdown",
   "metadata": {},
   "source": [
    "We have a lot more data since the ~90's, and way more of the couple of last years. This mean that our event analysis would make more sense on recent event"
   ]
  },
  {
   "cell_type": "markdown",
   "metadata": {},
   "source": [
    "## Programs lifespan"
   ]
  },
  {
   "cell_type": "code",
   "execution_count": 196,
   "metadata": {},
   "outputs": [],
   "source": [
    "def get_program_lifespan(df):\n",
    "    program_groups = df.groupby(df.program)\n",
    "    df_lifespan = program_groups.publicationDate.agg(['min', 'max', 'size'])\n",
    "    df_lifespan['lifespan_days'] = (\n",
    "        df_lifespan['max'] - df_lifespan['min']).astype('timedelta64[D]')\n",
    "    return df_lifespan"
   ]
  },
  {
   "cell_type": "code",
   "execution_count": 197,
   "metadata": {
    "scrolled": true
   },
   "outputs": [
    {
     "data": {
      "text/html": [
       "<div>\n",
       "<style scoped>\n",
       "    .dataframe tbody tr th:only-of-type {\n",
       "        vertical-align: middle;\n",
       "    }\n",
       "\n",
       "    .dataframe tbody tr th {\n",
       "        vertical-align: top;\n",
       "    }\n",
       "\n",
       "    .dataframe thead th {\n",
       "        text-align: right;\n",
       "    }\n",
       "</style>\n",
       "<table border=\"1\" class=\"dataframe\">\n",
       "  <thead>\n",
       "    <tr style=\"text-align: right;\">\n",
       "      <th></th>\n",
       "      <th>min</th>\n",
       "      <th>max</th>\n",
       "      <th>size</th>\n",
       "      <th>lifespan_days</th>\n",
       "    </tr>\n",
       "    <tr>\n",
       "      <th>program</th>\n",
       "      <th></th>\n",
       "      <th></th>\n",
       "      <th></th>\n",
       "      <th></th>\n",
       "    </tr>\n",
       "  </thead>\n",
       "  <tbody>\n",
       "    <tr>\n",
       "      <th></th>\n",
       "      <td>1900-01-01 00:00:00</td>\n",
       "      <td>2017-11-15 00:00:00</td>\n",
       "      <td>20458</td>\n",
       "      <td>43052.0</td>\n",
       "    </tr>\n",
       "    <tr>\n",
       "      <th>TJ midi</th>\n",
       "      <td>1900-01-01 19:00:00</td>\n",
       "      <td>2011-12-04 11:45:00</td>\n",
       "      <td>204</td>\n",
       "      <td>40878.0</td>\n",
       "    </tr>\n",
       "    <tr>\n",
       "      <th>Marabout de ficelle</th>\n",
       "      <td>1900-01-01 00:00:00</td>\n",
       "      <td>1998-05-20 00:00:00</td>\n",
       "      <td>148</td>\n",
       "      <td>35933.0</td>\n",
       "    </tr>\n",
       "    <tr>\n",
       "      <th>Mémoires de la musique</th>\n",
       "      <td>1922-06-05 00:00:00</td>\n",
       "      <td>2004-01-23 00:00:00</td>\n",
       "      <td>2086</td>\n",
       "      <td>29817.0</td>\n",
       "    </tr>\n",
       "    <tr>\n",
       "      <th>Archives</th>\n",
       "      <td>1939-11-30 02:00:00</td>\n",
       "      <td>2017-10-03 13:10:37</td>\n",
       "      <td>120</td>\n",
       "      <td>28432.0</td>\n",
       "    </tr>\n",
       "  </tbody>\n",
       "</table>\n",
       "</div>"
      ],
      "text/plain": [
       "                                       min                 max   size  \\\n",
       "program                                                                 \n",
       "                       1900-01-01 00:00:00 2017-11-15 00:00:00  20458   \n",
       "TJ midi                1900-01-01 19:00:00 2011-12-04 11:45:00    204   \n",
       "Marabout de ficelle    1900-01-01 00:00:00 1998-05-20 00:00:00    148   \n",
       "Mémoires de la musique 1922-06-05 00:00:00 2004-01-23 00:00:00   2086   \n",
       "Archives               1939-11-30 02:00:00 2017-10-03 13:10:37    120   \n",
       "\n",
       "                        lifespan_days  \n",
       "program                                \n",
       "                              43052.0  \n",
       "TJ midi                       40878.0  \n",
       "Marabout de ficelle           35933.0  \n",
       "Mémoires de la musique        29817.0  \n",
       "Archives                      28432.0  "
      ]
     },
     "execution_count": 197,
     "metadata": {},
     "output_type": "execute_result"
    }
   ],
   "source": [
    "get_program_lifespan(df).sort_values('lifespan_days', ascending=False).head()"
   ]
  },
  {
   "cell_type": "markdown",
   "metadata": {},
   "source": [
    "The first row is the group of unnamed programs. Some duration seem a bit too long, maybe there are errors in the dates. Let's take TJ midi and check the distribution of transmissions by year."
   ]
  },
  {
   "cell_type": "code",
   "execution_count": 198,
   "metadata": {},
   "outputs": [],
   "source": [
    "def plot_program_lifespan(program, df):\n",
    "    program_groups = df.groupby(df.program)\n",
    "    group = program_groups.get_group(program)\n",
    "    date_distribution = group.groupby(\n",
    "        group.publicationDate.map(lambda x: (x.year))).size()\n",
    "    plt.bar(date_distribution.index, date_distribution.values)\n",
    "    plt.show()"
   ]
  },
  {
   "cell_type": "code",
   "execution_count": 199,
   "metadata": {},
   "outputs": [
    {
     "data": {
      "image/png": "[encoded data removed]",
      "text/plain": [
       "<matplotlib.figure.Figure at 0x283c7b64cf8>"
      ]
     },
     "metadata": {},
     "output_type": "display_data"
    }
   ],
   "source": [
    "plot_program_lifespan('TJ midi', df)"
   ]
  },
  {
   "cell_type": "markdown",
   "metadata": {},
   "source": [
    "There are some obvious outliers, let's remove them."
   ]
  },
  {
   "cell_type": "markdown",
   "metadata": {},
   "source": [
    "### Date outliers removal"
   ]
  },
  {
   "cell_type": "markdown",
   "metadata": {},
   "source": [
    "Here we replace the dates with NaT if the year is to far from the mean year of a program."
   ]
  },
  {
   "cell_type": "code",
   "execution_count": 200,
   "metadata": {},
   "outputs": [],
   "source": [
    "# remove date outliers\n",
    "def remove_date_outliers(df):\n",
    "    CONSTANT_STD = 2\n",
    "    df_without_date_outliers = df.copy()\n",
    "\n",
    "    df['publicationDateYear'] = df.publicationDate.map(lambda x: x.year)\n",
    "\n",
    "    mean_std_year_per_program = df.groupby(df.program).publicationDateYear.agg(\n",
    "        [\"mean\", 'std'])\n",
    "\n",
    "    temp_df = pd.merge(\n",
    "        df,\n",
    "        mean_std_year_per_program,\n",
    "        how='left',\n",
    "        left_on=['program'],\n",
    "        right_index=True)\n",
    "\n",
    "    df_without_date_outliers.loc[\n",
    "        (np.abs(temp_df.publicationDateYear - temp_df['mean']) >\n",
    "         CONSTANT_STD * temp_df['std']), 'publicationDate'] = pd.NaT\n",
    "\n",
    "    return df_without_date_outliers"
   ]
  },
  {
   "cell_type": "code",
   "execution_count": 201,
   "metadata": {
    "scrolled": false
   },
   "outputs": [
    {
     "data": {
      "text/html": [
       "<div>\n",
       "<style scoped>\n",
       "    .dataframe tbody tr th:only-of-type {\n",
       "        vertical-align: middle;\n",
       "    }\n",
       "\n",
       "    .dataframe tbody tr th {\n",
       "        vertical-align: top;\n",
       "    }\n",
       "\n",
       "    .dataframe thead th {\n",
       "        text-align: right;\n",
       "    }\n",
       "</style>\n",
       "<table border=\"1\" class=\"dataframe\">\n",
       "  <thead>\n",
       "    <tr style=\"text-align: right;\">\n",
       "      <th></th>\n",
       "      <th>min</th>\n",
       "      <th>max</th>\n",
       "      <th>size</th>\n",
       "      <th>lifespan_days</th>\n",
       "    </tr>\n",
       "    <tr>\n",
       "      <th>program</th>\n",
       "      <th></th>\n",
       "      <th></th>\n",
       "      <th></th>\n",
       "      <th></th>\n",
       "    </tr>\n",
       "  </thead>\n",
       "  <tbody>\n",
       "    <tr>\n",
       "      <th></th>\n",
       "      <td>1921-11-23</td>\n",
       "      <td>2017-11-15 00:00:00</td>\n",
       "      <td>20458</td>\n",
       "      <td>35056.0</td>\n",
       "    </tr>\n",
       "    <tr>\n",
       "      <th>Documentaire</th>\n",
       "      <td>1952-11-30</td>\n",
       "      <td>2017-11-11 14:00:00</td>\n",
       "      <td>740</td>\n",
       "      <td>23722.0</td>\n",
       "    </tr>\n",
       "    <tr>\n",
       "      <th>Cyclisme</th>\n",
       "      <td>1953-11-30</td>\n",
       "      <td>2017-08-19 00:00:00</td>\n",
       "      <td>138</td>\n",
       "      <td>23273.0</td>\n",
       "    </tr>\n",
       "    <tr>\n",
       "      <th>Motocyclisme</th>\n",
       "      <td>1954-06-09</td>\n",
       "      <td>2017-08-13 00:00:00</td>\n",
       "      <td>14</td>\n",
       "      <td>23076.0</td>\n",
       "    </tr>\n",
       "    <tr>\n",
       "      <th>Souvenirs de vedette</th>\n",
       "      <td>1949-03-31</td>\n",
       "      <td>2009-12-17 00:00:00</td>\n",
       "      <td>4</td>\n",
       "      <td>22176.0</td>\n",
       "    </tr>\n",
       "  </tbody>\n",
       "</table>\n",
       "</div>"
      ],
      "text/plain": [
       "                            min                 max   size  lifespan_days\n",
       "program                                                                  \n",
       "                     1921-11-23 2017-11-15 00:00:00  20458        35056.0\n",
       "Documentaire         1952-11-30 2017-11-11 14:00:00    740        23722.0\n",
       "Cyclisme             1953-11-30 2017-08-19 00:00:00    138        23273.0\n",
       "Motocyclisme         1954-06-09 2017-08-13 00:00:00     14        23076.0\n",
       "Souvenirs de vedette 1949-03-31 2009-12-17 00:00:00      4        22176.0"
      ]
     },
     "execution_count": 201,
     "metadata": {},
     "output_type": "execute_result"
    }
   ],
   "source": [
    "df_without_date_outliers = remove_date_outliers(df)\n",
    "get_program_lifespan(df_without_date_outliers).sort_values(\n",
    "    'lifespan_days', ascending=False).head()"
   ]
  },
  {
   "cell_type": "code",
   "execution_count": 202,
   "metadata": {
    "scrolled": true
   },
   "outputs": [
    {
     "data": {
      "image/png": "[encoded data removed]",
      "text/plain": [
       "<matplotlib.figure.Figure at 0x283c770d390>"
      ]
     },
     "metadata": {},
     "output_type": "display_data"
    }
   ],
   "source": [
    "plot_program_lifespan('TJ midi', df_without_date_outliers)"
   ]
  },
  {
   "cell_type": "markdown",
   "metadata": {},
   "source": [
    "We can see that the distribution seems more natural now."
   ]
  },
  {
   "cell_type": "markdown",
   "metadata": {},
   "source": [
    "# Factors for program lifespan"
   ]
  },
  {
   "cell_type": "markdown",
   "metadata": {},
   "source": [
    "## Themes per period"
   ]
  },
  {
   "cell_type": "markdown",
   "metadata": {},
   "source": [
    "The goal of this part is to build a tool to get the top occurencies of word in the following categories:\n",
    "['genres', 'publicationChannelNames', 'thematicCorporations','thematicGeographicals','thematicPersons',\n",
    "'thematicThemes', 'visualCorporations', 'visualGeographicals', 'visualPersons', 'thematicGeographicals',\n",
    "'thematicThemes','visualThemes']\n",
    "\n",
    "We also need to be able to filter by year and by program. This is achieved in the file \"word_counter.py\". The useful function is \"word_counter.get_topn_themes\" that takes in argument the starting year and ending year, the type of theme (listed above), a list of programs(TODO), and the number of top occurencies."
   ]
  },
  {
   "cell_type": "code",
   "execution_count": 204,
   "metadata": {},
   "outputs": [],
   "source": [
    "import word_counter\n",
    "WC = word_counter.word_counter(df_without_date_outliers)"
   ]
  },
  {
   "cell_type": "code",
   "execution_count": 205,
   "metadata": {
    "scrolled": true
   },
   "outputs": [
    {
     "data": {
      "text/html": [
       "<div>\n",
       "<style scoped>\n",
       "    .dataframe tbody tr th:only-of-type {\n",
       "        vertical-align: middle;\n",
       "    }\n",
       "\n",
       "    .dataframe tbody tr th {\n",
       "        vertical-align: top;\n",
       "    }\n",
       "\n",
       "    .dataframe thead th {\n",
       "        text-align: right;\n",
       "    }\n",
       "</style>\n",
       "<table border=\"1\" class=\"dataframe\">\n",
       "  <thead>\n",
       "    <tr style=\"text-align: right;\">\n",
       "      <th></th>\n",
       "      <th>top1</th>\n",
       "      <th>top2</th>\n",
       "      <th>top3</th>\n",
       "      <th>top4</th>\n",
       "      <th>top5</th>\n",
       "      <th>top6</th>\n",
       "      <th>top7</th>\n",
       "      <th>top8</th>\n",
       "    </tr>\n",
       "  </thead>\n",
       "  <tbody>\n",
       "    <tr>\n",
       "      <th>1990</th>\n",
       "      <td>littérature</td>\n",
       "      <td>compositeur</td>\n",
       "      <td>chanteur</td>\n",
       "      <td>musique classique</td>\n",
       "      <td>cinéma</td>\n",
       "      <td>écrivain</td>\n",
       "      <td>composition musicale</td>\n",
       "      <td>instrumentiste</td>\n",
       "    </tr>\n",
       "    <tr>\n",
       "      <th>1991</th>\n",
       "      <td>compositeur</td>\n",
       "      <td>chanteur</td>\n",
       "      <td>intégration européenne</td>\n",
       "      <td>littérature</td>\n",
       "      <td>cinéma</td>\n",
       "      <td>musique classique</td>\n",
       "      <td>composition musicale</td>\n",
       "      <td>votation</td>\n",
       "    </tr>\n",
       "    <tr>\n",
       "      <th>1992</th>\n",
       "      <td>compositeur</td>\n",
       "      <td>intégration européenne</td>\n",
       "      <td>femme</td>\n",
       "      <td>élection</td>\n",
       "      <td>votation</td>\n",
       "      <td>cinéma</td>\n",
       "      <td>musique classique</td>\n",
       "      <td>parti politique</td>\n",
       "    </tr>\n",
       "    <tr>\n",
       "      <th>1993</th>\n",
       "      <td>femme</td>\n",
       "      <td>cinéma</td>\n",
       "      <td>écrivain</td>\n",
       "      <td>compositeur</td>\n",
       "      <td>Palestiniens</td>\n",
       "      <td>conflit yougoslave</td>\n",
       "      <td>guerre civile</td>\n",
       "      <td>paix</td>\n",
       "    </tr>\n",
       "    <tr>\n",
       "      <th>1994</th>\n",
       "      <td>compositeur</td>\n",
       "      <td>écrivain</td>\n",
       "      <td>conflit yougoslave</td>\n",
       "      <td>cinéma</td>\n",
       "      <td>chanteur</td>\n",
       "      <td>femme</td>\n",
       "      <td>homicide</td>\n",
       "      <td>secte</td>\n",
       "    </tr>\n",
       "    <tr>\n",
       "      <th>1995</th>\n",
       "      <td>compositeur</td>\n",
       "      <td>écrivain</td>\n",
       "      <td>musique classique</td>\n",
       "      <td>cinéma</td>\n",
       "      <td>conflit yougoslave</td>\n",
       "      <td>instrumentiste</td>\n",
       "      <td>comédien</td>\n",
       "      <td>femme</td>\n",
       "    </tr>\n",
       "    <tr>\n",
       "      <th>1996</th>\n",
       "      <td>écrivain</td>\n",
       "      <td>compositeur</td>\n",
       "      <td>être humain</td>\n",
       "      <td>radio</td>\n",
       "      <td>guerre mondiale (deuxième)</td>\n",
       "      <td>cinéma</td>\n",
       "      <td>musique classique</td>\n",
       "      <td>littérature</td>\n",
       "    </tr>\n",
       "    <tr>\n",
       "      <th>1997</th>\n",
       "      <td>compositeur</td>\n",
       "      <td>écrivain</td>\n",
       "      <td>musique classique</td>\n",
       "      <td>guerre mondiale (deuxième)</td>\n",
       "      <td>littérature</td>\n",
       "      <td>être humain</td>\n",
       "      <td>Juifs</td>\n",
       "      <td>courant artistique (20e)</td>\n",
       "    </tr>\n",
       "    <tr>\n",
       "      <th>1998</th>\n",
       "      <td>compositeur</td>\n",
       "      <td>musique classique</td>\n",
       "      <td>cinéma</td>\n",
       "      <td>écrivain</td>\n",
       "      <td>histoire</td>\n",
       "      <td>voyage</td>\n",
       "      <td>femme</td>\n",
       "      <td>courant artistique (20e)</td>\n",
       "    </tr>\n",
       "    <tr>\n",
       "      <th>1999</th>\n",
       "      <td>compositeur</td>\n",
       "      <td>musique classique</td>\n",
       "      <td>humour</td>\n",
       "      <td>musique</td>\n",
       "      <td>radio</td>\n",
       "      <td>cinéma</td>\n",
       "      <td>histoire</td>\n",
       "      <td>écrivain</td>\n",
       "    </tr>\n",
       "    <tr>\n",
       "      <th>2000</th>\n",
       "      <td>humour</td>\n",
       "      <td>musique</td>\n",
       "      <td>stupéfiant</td>\n",
       "      <td>toxicomane</td>\n",
       "      <td>compositeur</td>\n",
       "      <td>musique classique</td>\n",
       "      <td>histoire</td>\n",
       "      <td>sexualité</td>\n",
       "    </tr>\n",
       "  </tbody>\n",
       "</table>\n",
       "</div>"
      ],
      "text/plain": [
       "             top1                    top2                    top3  \\\n",
       "1990  littérature             compositeur                chanteur   \n",
       "1991  compositeur                chanteur  intégration européenne   \n",
       "1992  compositeur  intégration européenne                   femme   \n",
       "1993        femme                  cinéma                écrivain   \n",
       "1994  compositeur                écrivain      conflit yougoslave   \n",
       "1995  compositeur                écrivain       musique classique   \n",
       "1996     écrivain             compositeur             être humain   \n",
       "1997  compositeur                écrivain       musique classique   \n",
       "1998  compositeur       musique classique                  cinéma   \n",
       "1999  compositeur       musique classique                  humour   \n",
       "2000       humour                 musique              stupéfiant   \n",
       "\n",
       "                            top4                        top5  \\\n",
       "1990           musique classique                      cinéma   \n",
       "1991                 littérature                      cinéma   \n",
       "1992                    élection                    votation   \n",
       "1993                 compositeur                Palestiniens   \n",
       "1994                      cinéma                    chanteur   \n",
       "1995                      cinéma          conflit yougoslave   \n",
       "1996                       radio  guerre mondiale (deuxième)   \n",
       "1997  guerre mondiale (deuxième)                 littérature   \n",
       "1998                    écrivain                    histoire   \n",
       "1999                     musique                       radio   \n",
       "2000                  toxicomane                 compositeur   \n",
       "\n",
       "                    top6                  top7                      top8  \n",
       "1990            écrivain  composition musicale            instrumentiste  \n",
       "1991   musique classique  composition musicale                  votation  \n",
       "1992              cinéma     musique classique           parti politique  \n",
       "1993  conflit yougoslave         guerre civile                      paix  \n",
       "1994               femme              homicide                     secte  \n",
       "1995      instrumentiste              comédien                     femme  \n",
       "1996              cinéma     musique classique               littérature  \n",
       "1997         être humain                 Juifs  courant artistique (20e)  \n",
       "1998              voyage                 femme  courant artistique (20e)  \n",
       "1999              cinéma              histoire                  écrivain  \n",
       "2000   musique classique              histoire                 sexualité  "
      ]
     },
     "execution_count": 205,
     "metadata": {},
     "output_type": "execute_result"
    }
   ],
   "source": [
    "# this is an example of the top 8 \"thematicThemes\" of \"Temps présent\" between 1990 and 2000\n",
    "WC.get_topn_themes(1990,2000,'thematicThemes',n_top=8)"
   ]
  },
  {
   "cell_type": "code",
   "execution_count": 206,
   "metadata": {},
   "outputs": [
    {
     "data": {
      "text/html": [
       "<div>\n",
       "<style scoped>\n",
       "    .dataframe tbody tr th:only-of-type {\n",
       "        vertical-align: middle;\n",
       "    }\n",
       "\n",
       "    .dataframe tbody tr th {\n",
       "        vertical-align: top;\n",
       "    }\n",
       "\n",
       "    .dataframe thead th {\n",
       "        text-align: right;\n",
       "    }\n",
       "</style>\n",
       "<table border=\"1\" class=\"dataframe\">\n",
       "  <thead>\n",
       "    <tr style=\"text-align: right;\">\n",
       "      <th></th>\n",
       "      <th>top1</th>\n",
       "      <th>top2</th>\n",
       "      <th>top3</th>\n",
       "      <th>top4</th>\n",
       "      <th>top5</th>\n",
       "    </tr>\n",
       "  </thead>\n",
       "  <tbody>\n",
       "    <tr>\n",
       "      <th>1935</th>\n",
       "      <td>paix</td>\n",
       "      <td>conflit armé</td>\n",
       "      <td>relations internationales</td>\n",
       "      <td>vie politique</td>\n",
       "      <td>économie</td>\n",
       "    </tr>\n",
       "    <tr>\n",
       "      <th>1936</th>\n",
       "      <td>cirque</td>\n",
       "      <td>roi</td>\n",
       "      <td>guerre mondiale (première)</td>\n",
       "      <td>politique</td>\n",
       "      <td>vie politique</td>\n",
       "    </tr>\n",
       "    <tr>\n",
       "      <th>1937</th>\n",
       "      <td>relations internationales</td>\n",
       "      <td>cirque</td>\n",
       "      <td>radio</td>\n",
       "      <td>(compétition)</td>\n",
       "      <td>politique</td>\n",
       "    </tr>\n",
       "    <tr>\n",
       "      <th>1938</th>\n",
       "      <td>guerre mondiale (deuxième)</td>\n",
       "      <td>radio</td>\n",
       "      <td>mobilisation générale (1939-1945)</td>\n",
       "      <td>armée</td>\n",
       "      <td>histoire</td>\n",
       "    </tr>\n",
       "    <tr>\n",
       "      <th>1939</th>\n",
       "      <td>guerre mondiale (deuxième)</td>\n",
       "      <td>littérature</td>\n",
       "      <td>mobilisation générale (1939-1945)</td>\n",
       "      <td>armée</td>\n",
       "      <td>patriotisme</td>\n",
       "    </tr>\n",
       "    <tr>\n",
       "      <th>1940</th>\n",
       "      <td>guerre mondiale (deuxième)</td>\n",
       "      <td>patriotisme</td>\n",
       "      <td>littérature</td>\n",
       "      <td>commémoration</td>\n",
       "      <td>écrivain</td>\n",
       "    </tr>\n",
       "    <tr>\n",
       "      <th>1941</th>\n",
       "      <td>guerre mondiale (deuxième)</td>\n",
       "      <td>patriotisme</td>\n",
       "      <td>rationnement</td>\n",
       "      <td>commémoration</td>\n",
       "      <td>art dramatique</td>\n",
       "    </tr>\n",
       "    <tr>\n",
       "      <th>1942</th>\n",
       "      <td>guerre mondiale (deuxième)</td>\n",
       "      <td>recette culinaire</td>\n",
       "      <td>rationnement</td>\n",
       "      <td>armée</td>\n",
       "      <td>soldat</td>\n",
       "    </tr>\n",
       "    <tr>\n",
       "      <th>1943</th>\n",
       "      <td>guerre mondiale (deuxième)</td>\n",
       "      <td>armée</td>\n",
       "      <td>rationnement</td>\n",
       "      <td>recette culinaire</td>\n",
       "      <td>économie de guerre</td>\n",
       "    </tr>\n",
       "    <tr>\n",
       "      <th>1944</th>\n",
       "      <td>guerre mondiale (deuxième)</td>\n",
       "      <td>Résistance (1939-1945)</td>\n",
       "      <td>paix</td>\n",
       "      <td>reddition militaire</td>\n",
       "      <td>radio</td>\n",
       "    </tr>\n",
       "    <tr>\n",
       "      <th>1945</th>\n",
       "      <td>guerre mondiale (deuxième)</td>\n",
       "      <td>paix</td>\n",
       "      <td>reddition militaire</td>\n",
       "      <td>Résistance (1939-1945)</td>\n",
       "      <td>radio</td>\n",
       "    </tr>\n",
       "    <tr>\n",
       "      <th>1946</th>\n",
       "      <td>guerre mondiale (deuxième)</td>\n",
       "      <td>paix</td>\n",
       "      <td>relations internationales</td>\n",
       "      <td>organisation internationale</td>\n",
       "      <td>radio</td>\n",
       "    </tr>\n",
       "    <tr>\n",
       "      <th>1947</th>\n",
       "      <td></td>\n",
       "      <td></td>\n",
       "      <td></td>\n",
       "      <td></td>\n",
       "      <td></td>\n",
       "    </tr>\n",
       "    <tr>\n",
       "      <th>1948</th>\n",
       "      <td>guerre mondiale (deuxième)</td>\n",
       "      <td>radio</td>\n",
       "      <td>organisation internationale</td>\n",
       "      <td>relations internationales</td>\n",
       "      <td>littérature</td>\n",
       "    </tr>\n",
       "    <tr>\n",
       "      <th>1949</th>\n",
       "      <td>guerre mondiale (deuxième)</td>\n",
       "      <td>organisation internationale</td>\n",
       "      <td>radio</td>\n",
       "      <td>relations internationales</td>\n",
       "      <td>paix</td>\n",
       "    </tr>\n",
       "    <tr>\n",
       "      <th>1950</th>\n",
       "      <td>radio</td>\n",
       "      <td>de</td>\n",
       "      <td>émission</td>\n",
       "      <td>organisation internationale</td>\n",
       "      <td>paix</td>\n",
       "    </tr>\n",
       "  </tbody>\n",
       "</table>\n",
       "</div>"
      ],
      "text/plain": [
       "                            top1                         top2  \\\n",
       "1935                        paix                 conflit armé   \n",
       "1936                      cirque                          roi   \n",
       "1937   relations internationales                       cirque   \n",
       "1938  guerre mondiale (deuxième)                        radio   \n",
       "1939  guerre mondiale (deuxième)                  littérature   \n",
       "1940  guerre mondiale (deuxième)                  patriotisme   \n",
       "1941  guerre mondiale (deuxième)                  patriotisme   \n",
       "1942  guerre mondiale (deuxième)            recette culinaire   \n",
       "1943  guerre mondiale (deuxième)                        armée   \n",
       "1944  guerre mondiale (deuxième)       Résistance (1939-1945)   \n",
       "1945  guerre mondiale (deuxième)                         paix   \n",
       "1946  guerre mondiale (deuxième)                         paix   \n",
       "1947                                                            \n",
       "1948  guerre mondiale (deuxième)                        radio   \n",
       "1949  guerre mondiale (deuxième)  organisation internationale   \n",
       "1950                       radio                           de   \n",
       "\n",
       "                                   top3                         top4  \\\n",
       "1935          relations internationales                vie politique   \n",
       "1936         guerre mondiale (première)                    politique   \n",
       "1937                              radio                (compétition)   \n",
       "1938  mobilisation générale (1939-1945)                        armée   \n",
       "1939  mobilisation générale (1939-1945)                        armée   \n",
       "1940                        littérature                commémoration   \n",
       "1941                       rationnement                commémoration   \n",
       "1942                       rationnement                        armée   \n",
       "1943                       rationnement            recette culinaire   \n",
       "1944                               paix          reddition militaire   \n",
       "1945                reddition militaire       Résistance (1939-1945)   \n",
       "1946          relations internationales  organisation internationale   \n",
       "1947                                                                   \n",
       "1948        organisation internationale    relations internationales   \n",
       "1949                              radio    relations internationales   \n",
       "1950                           émission  organisation internationale   \n",
       "\n",
       "                    top5  \n",
       "1935            économie  \n",
       "1936       vie politique  \n",
       "1937           politique  \n",
       "1938            histoire  \n",
       "1939         patriotisme  \n",
       "1940            écrivain  \n",
       "1941      art dramatique  \n",
       "1942              soldat  \n",
       "1943  économie de guerre  \n",
       "1944               radio  \n",
       "1945               radio  \n",
       "1946               radio  \n",
       "1947                      \n",
       "1948         littérature  \n",
       "1949                paix  \n",
       "1950                paix  "
      ]
     },
     "execution_count": 206,
     "metadata": {},
     "output_type": "execute_result"
    }
   ],
   "source": [
    "# this is an example of the top 5 \"thematicThemes\" of all programs between 1935 and 1950\n",
    "WC.get_topn_themes(1935, 1950, 'thematicThemes',n_top=5)"
   ]
  },
  {
   "cell_type": "markdown",
   "metadata": {},
   "source": [
    "#### TODO find a nice and dynamic for this tables"
   ]
  },
  {
   "cell_type": "markdown",
   "metadata": {},
   "source": [
    "## Lifespan category"
   ]
  },
  {
   "cell_type": "markdown",
   "metadata": {},
   "source": [
    "Now that we have the lifespan of each program, let's see the histogram."
   ]
  },
  {
   "cell_type": "code",
   "execution_count": 26,
   "metadata": {
    "scrolled": false
   },
   "outputs": [
    {
     "data": {
      "image/png": "[encoded data removed]",
      "text/plain": [
       "<matplotlib.figure.Figure at 0x175d157dba8>"
      ]
     },
     "metadata": {},
     "output_type": "display_data"
    }
   ],
   "source": [
    "lifespan = get_program_lifespan(df_without_date_outliers)\n",
    "lifespan.hist(column='lifespan_days', bins=50, ec='black')\n",
    "plt.show()"
   ]
  },
  {
   "cell_type": "markdown",
   "metadata": {},
   "source": [
    "The distribution is heavy tailed, lot of programs are really short. Next step is to see how the type of program and the themes are correlated with the lifespan. To do this, we decide to class program in 5 categories of lifespan, each category having the same number of programs."
   ]
  },
  {
   "cell_type": "code",
   "execution_count": 33,
   "metadata": {
    "collapsed": true
   },
   "outputs": [],
   "source": [
    "lifespan['lifespan_class'] = (pd.qcut(\n",
    "    lifespan.lifespan_days, 5, labels=['very short', 'short', 'medium', 'long', 'very long']))"
   ]
  },
  {
   "cell_type": "markdown",
   "metadata": {},
   "source": [
    "#### TODO, look at the different themes for each bucket"
   ]
  }
 ],
 "metadata": {
  "kernelspec": {
   "display_name": "Python 3",
   "language": "python",
   "name": "python3"
  },
  "language_info": {
   "codemirror_mode": {
    "name": "ipython",
    "version": 3
   },
   "file_extension": ".py",
   "mimetype": "text/x-python",
   "name": "python",
   "nbconvert_exporter": "python",
   "pygments_lexer": "ipython3",
   "version": "3.6.3"
  },
  "toc": {
   "nav_menu": {},
   "number_sections": true,
   "sideBar": true,
   "skip_h1_title": false,
   "toc_cell": false,
   "toc_position": {
    "height": "854px",
    "left": "0px",
    "right": "1659px",
    "top": "106px",
    "width": "189px"
   },
   "toc_section_display": "block",
   "toc_window_display": true
  },
  "varInspector": {
   "cols": {
    "lenName": 16,
    "lenType": 16,
    "lenVar": 40
   },
   "kernels_config": {
    "python": {
     "delete_cmd_postfix": "",
     "delete_cmd_prefix": "del ",
     "library": "var_list.py",
     "varRefreshCmd": "print(var_dic_list())"
    },
    "r": {
     "delete_cmd_postfix": ") ",
     "delete_cmd_prefix": "rm(",
     "library": "var_list.r",
     "varRefreshCmd": "cat(var_dic_list()) "
    }
   },
   "position": {
    "height": "654px",
    "left": "972px",
    "right": "20px",
    "top": "65px",
    "width": "565px"
   },
   "types_to_exclude": [
    "module",
    "function",
    "builtin_function_or_method",
    "instance",
    "_Feature"
   ],
   "window_display": false
  }
 },
 "nbformat": 4,
 "nbformat_minor": 2
}
