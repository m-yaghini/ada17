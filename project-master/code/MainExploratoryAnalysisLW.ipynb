{
 "cells": [
  {
   "cell_type": "code",
   "execution_count": 1,
   "metadata": {},
   "outputs": [],
   "source": [
    "%load_ext autoreload\n",
    "%autoreload 2\n",
    "%matplotlib inline\n",
    "\n",
    "import pandas as pd\n",
    "import numpy as np\n",
    "import matplotlib.pyplot as plt\n",
    "import progressbar\n",
    "import types\n",
    "from sklearn.feature_extraction.text import TfidfVectorizer\n",
    "\n",
    "from json_data_getter import get_all_json"
   ]
  },
  {
   "cell_type": "markdown",
   "metadata": {},
   "source": [
    "# Data preparation"
   ]
  },
  {
   "cell_type": "markdown",
   "metadata": {},
   "source": [
    "## Loading"
   ]
  },
  {
   "cell_type": "code",
   "execution_count": 284,
   "metadata": {},
   "outputs": [
    {
     "name": "stdout",
     "output_type": "stream",
     "text": [
      "requesting for year 2017\n"
     ]
    }
   ],
   "source": [
    "# use to update database with last articles\n",
    "from data_downloader import request_data_per_year\n",
    "request_data_per_year(2017)"
   ]
  },
  {
   "cell_type": "code",
   "execution_count": 3,
   "metadata": {},
   "outputs": [
    {
     "name": "stderr",
     "output_type": "stream",
     "text": [
      "100% (109 of 109) |#######################| Elapsed Time: 0:00:36 Time: 0:00:36\n"
     ]
    }
   ],
   "source": [
    "# gets all the json files toghether, may take a minute\n",
    "number_documents, keys, documents = get_all_json()\n",
    "df = pd.DataFrame.from_dict(documents)"
   ]
  },
  {
   "cell_type": "markdown",
   "metadata": {},
   "source": [
    "## Cleaning"
   ]
  },
  {
   "cell_type": "code",
   "execution_count": 4,
   "metadata": {
    "scrolled": true
   },
   "outputs": [],
   "source": [
    "# keep NaN for float columns, empty strings for string columns\n",
    "for col in df:\n",
    "    # get dtype for column\n",
    "    dt = df[col].dtype\n",
    "    # check if it is a number\n",
    "    if dt == int or dt == float:\n",
    "        pass\n",
    "    else:\n",
    "        df[col].fillna(\"\", inplace=True)\n",
    "\n",
    "# set dates to datetime type\n",
    "df['publicationDate'] = pd.to_datetime(\n",
    "    df['publicationDate'], format='%Y-%m-%dT%H:%M:%SZ')"
   ]
  },
  {
   "cell_type": "code",
   "execution_count": 5,
   "metadata": {},
   "outputs": [],
   "source": [
    "# some columns contain list of strings and strings, so we change list of string to sentences\n",
    "# furthermore, some words are not separated by commas, we do a littre workaround to add commas if they don't exist\n",
    "def stringlist_to_string(s):\n",
    "    temp = ''\n",
    "    if isinstance(s, str):\n",
    "        if ',' not in s:\n",
    "            temp = s.replace(' ', ', ')\n",
    "        else:\n",
    "            temp = s\n",
    "    else:\n",
    "        temp = ', '.join(s)\n",
    "\n",
    "    # and lowercase because some of theme are uppercases only\n",
    "    return temp.lower()\n",
    "\n",
    "\n",
    "for t in [\n",
    "        'genres', 'thematicCorporations', 'thematicGeographicals',\n",
    "        'thematicPersons', 'thematicThemes', 'visualCorporations',\n",
    "        'visualGeographicals', 'visualPersons', 'visualThemes'\n",
    "]:\n",
    "    df[t] = df[t].apply(stringlist_to_string)"
   ]
  },
  {
   "cell_type": "markdown",
   "metadata": {},
   "source": [
    "## distribution in time"
   ]
  },
  {
   "cell_type": "code",
   "execution_count": 6,
   "metadata": {
    "scrolled": false
   },
   "outputs": [
    {
     "data": {
      "image/png": "[encoded data removed]",
      "text/plain": [
       "<matplotlib.figure.Figure at 0x1dbcc8a9668>"
      ]
     },
     "metadata": {},
     "output_type": "display_data"
    }
   ],
   "source": [
    "doc_per_year = df.groupby(df.publicationDate.map(lambda x: x.year)).size()\n",
    "doc_per_year.plot()\n",
    "plt.show()"
   ]
  },
  {
   "cell_type": "markdown",
   "metadata": {},
   "source": [
    "We have a lot more data since the ~90's, and way more of the couple of last years. This mean that our event analysis would make more sense on recent event"
   ]
  },
  {
   "cell_type": "markdown",
   "metadata": {},
   "source": [
    "## Programs lifespan"
   ]
  },
  {
   "cell_type": "code",
   "execution_count": 7,
   "metadata": {},
   "outputs": [],
   "source": [
    "def get_program_lifespan(df):\n",
    "    program_groups = df.groupby(df.program)\n",
    "    df_lifespan = program_groups.publicationDate.agg(['min', 'max', 'size'])\n",
    "    df_lifespan['lifespan_days'] = (\n",
    "        df_lifespan['max'] - df_lifespan['min']).astype('timedelta64[D]')\n",
    "    return df_lifespan"
   ]
  },
  {
   "cell_type": "code",
   "execution_count": 8,
   "metadata": {
    "scrolled": true
   },
   "outputs": [
    {
     "data": {
      "text/html": [
       "<div>\n",
       "<style scoped>\n",
       "    .dataframe tbody tr th:only-of-type {\n",
       "        vertical-align: middle;\n",
       "    }\n",
       "\n",
       "    .dataframe tbody tr th {\n",
       "        vertical-align: top;\n",
       "    }\n",
       "\n",
       "    .dataframe thead th {\n",
       "        text-align: right;\n",
       "    }\n",
       "</style>\n",
       "<table border=\"1\" class=\"dataframe\">\n",
       "  <thead>\n",
       "    <tr style=\"text-align: right;\">\n",
       "      <th></th>\n",
       "      <th>min</th>\n",
       "      <th>max</th>\n",
       "      <th>size</th>\n",
       "      <th>lifespan_days</th>\n",
       "    </tr>\n",
       "    <tr>\n",
       "      <th>program</th>\n",
       "      <th></th>\n",
       "      <th></th>\n",
       "      <th></th>\n",
       "      <th></th>\n",
       "    </tr>\n",
       "  </thead>\n",
       "  <tbody>\n",
       "    <tr>\n",
       "      <th></th>\n",
       "      <td>1900-01-01 00:00:00</td>\n",
       "      <td>2017-12-05 00:00:00</td>\n",
       "      <td>20486</td>\n",
       "      <td>43072.0</td>\n",
       "    </tr>\n",
       "    <tr>\n",
       "      <th>TJ midi</th>\n",
       "      <td>1900-01-01 19:00:00</td>\n",
       "      <td>2011-12-04 11:45:00</td>\n",
       "      <td>204</td>\n",
       "      <td>40878.0</td>\n",
       "    </tr>\n",
       "    <tr>\n",
       "      <th>Marabout de ficelle</th>\n",
       "      <td>1900-01-01 00:00:00</td>\n",
       "      <td>1998-05-20 00:00:00</td>\n",
       "      <td>148</td>\n",
       "      <td>35933.0</td>\n",
       "    </tr>\n",
       "    <tr>\n",
       "      <th>Mémoires de la musique</th>\n",
       "      <td>1922-06-05 00:00:00</td>\n",
       "      <td>2004-01-23 00:00:00</td>\n",
       "      <td>2086</td>\n",
       "      <td>29817.0</td>\n",
       "    </tr>\n",
       "    <tr>\n",
       "      <th>Archives</th>\n",
       "      <td>1939-11-30 02:00:00</td>\n",
       "      <td>2017-10-03 13:10:37</td>\n",
       "      <td>120</td>\n",
       "      <td>28432.0</td>\n",
       "    </tr>\n",
       "  </tbody>\n",
       "</table>\n",
       "</div>"
      ],
      "text/plain": [
       "                                       min                 max   size  \\\n",
       "program                                                                 \n",
       "                       1900-01-01 00:00:00 2017-12-05 00:00:00  20486   \n",
       "TJ midi                1900-01-01 19:00:00 2011-12-04 11:45:00    204   \n",
       "Marabout de ficelle    1900-01-01 00:00:00 1998-05-20 00:00:00    148   \n",
       "Mémoires de la musique 1922-06-05 00:00:00 2004-01-23 00:00:00   2086   \n",
       "Archives               1939-11-30 02:00:00 2017-10-03 13:10:37    120   \n",
       "\n",
       "                        lifespan_days  \n",
       "program                                \n",
       "                              43072.0  \n",
       "TJ midi                       40878.0  \n",
       "Marabout de ficelle           35933.0  \n",
       "Mémoires de la musique        29817.0  \n",
       "Archives                      28432.0  "
      ]
     },
     "execution_count": 8,
     "metadata": {},
     "output_type": "execute_result"
    }
   ],
   "source": [
    "get_program_lifespan(df).sort_values('lifespan_days', ascending=False).head()"
   ]
  },
  {
   "cell_type": "markdown",
   "metadata": {},
   "source": [
    "The first row is the group of unnamed programs. Some duration seem a bit too long, maybe there are errors in the dates. Let's take TJ midi and check the distribution of transmissions by year."
   ]
  },
  {
   "cell_type": "code",
   "execution_count": 9,
   "metadata": {},
   "outputs": [],
   "source": [
    "def plot_program_lifespan(program, df):\n",
    "    program_groups = df.groupby(df.program)\n",
    "    group = program_groups.get_group(program)\n",
    "    date_distribution = group.groupby(\n",
    "        group.publicationDate.map(lambda x: (x.year))).size()\n",
    "    plt.bar(date_distribution.index, date_distribution.values)\n",
    "    plt.show()"
   ]
  },
  {
   "cell_type": "code",
   "execution_count": 10,
   "metadata": {},
   "outputs": [
    {
     "data": {
      "image/png": "[encoded data removed]",
      "text/plain": [
       "<matplotlib.figure.Figure at 0x1dc02586dd8>"
      ]
     },
     "metadata": {},
     "output_type": "display_data"
    }
   ],
   "source": [
    "plot_program_lifespan('TJ midi', df)"
   ]
  },
  {
   "cell_type": "markdown",
   "metadata": {},
   "source": [
    "There are some obvious outliers, let's remove them."
   ]
  },
  {
   "cell_type": "markdown",
   "metadata": {},
   "source": [
    "### Date outliers removal"
   ]
  },
  {
   "cell_type": "markdown",
   "metadata": {},
   "source": [
    "Here we replace the dates with NaT if the year is to far from the mean year of a program."
   ]
  },
  {
   "cell_type": "code",
   "execution_count": 11,
   "metadata": {},
   "outputs": [],
   "source": [
    "# remove date outliers\n",
    "def remove_date_outliers(df):\n",
    "    CONSTANT_STD = 2\n",
    "    df_without_date_outliers = df.copy()\n",
    "\n",
    "    df['publicationDateYear'] = df.publicationDate.map(lambda x: x.year)\n",
    "\n",
    "    mean_std_year_per_program = df.groupby(df.program).publicationDateYear.agg(\n",
    "        [\"mean\", 'std'])\n",
    "\n",
    "    temp_df = pd.merge(\n",
    "        df,\n",
    "        mean_std_year_per_program,\n",
    "        how='left',\n",
    "        left_on=['program'],\n",
    "        right_index=True)\n",
    "\n",
    "    df_without_date_outliers.loc[\n",
    "        (np.abs(temp_df.publicationDateYear - temp_df['mean']) >\n",
    "         CONSTANT_STD * temp_df['std']), 'publicationDate'] = pd.NaT\n",
    "\n",
    "    return df_without_date_outliers"
   ]
  },
  {
   "cell_type": "code",
   "execution_count": 12,
   "metadata": {
    "scrolled": false
   },
   "outputs": [
    {
     "data": {
      "text/html": [
       "<div>\n",
       "<style scoped>\n",
       "    .dataframe tbody tr th:only-of-type {\n",
       "        vertical-align: middle;\n",
       "    }\n",
       "\n",
       "    .dataframe tbody tr th {\n",
       "        vertical-align: top;\n",
       "    }\n",
       "\n",
       "    .dataframe thead th {\n",
       "        text-align: right;\n",
       "    }\n",
       "</style>\n",
       "<table border=\"1\" class=\"dataframe\">\n",
       "  <thead>\n",
       "    <tr style=\"text-align: right;\">\n",
       "      <th></th>\n",
       "      <th>min</th>\n",
       "      <th>max</th>\n",
       "      <th>size</th>\n",
       "      <th>lifespan_days</th>\n",
       "    </tr>\n",
       "    <tr>\n",
       "      <th>program</th>\n",
       "      <th></th>\n",
       "      <th></th>\n",
       "      <th></th>\n",
       "      <th></th>\n",
       "    </tr>\n",
       "  </thead>\n",
       "  <tbody>\n",
       "    <tr>\n",
       "      <th></th>\n",
       "      <td>1921-11-23</td>\n",
       "      <td>2017-12-05 00:00:00</td>\n",
       "      <td>20486</td>\n",
       "      <td>35076.0</td>\n",
       "    </tr>\n",
       "    <tr>\n",
       "      <th>Documentaire</th>\n",
       "      <td>1952-11-30</td>\n",
       "      <td>2017-12-14 14:10:00</td>\n",
       "      <td>743</td>\n",
       "      <td>23755.0</td>\n",
       "    </tr>\n",
       "    <tr>\n",
       "      <th>Cyclisme</th>\n",
       "      <td>1953-11-30</td>\n",
       "      <td>2017-08-19 00:00:00</td>\n",
       "      <td>138</td>\n",
       "      <td>23273.0</td>\n",
       "    </tr>\n",
       "    <tr>\n",
       "      <th>Motocyclisme</th>\n",
       "      <td>1954-06-09</td>\n",
       "      <td>2017-12-02 20:45:00</td>\n",
       "      <td>16</td>\n",
       "      <td>23187.0</td>\n",
       "    </tr>\n",
       "    <tr>\n",
       "      <th>Souvenirs de vedette</th>\n",
       "      <td>1949-03-31</td>\n",
       "      <td>2009-12-17 00:00:00</td>\n",
       "      <td>4</td>\n",
       "      <td>22176.0</td>\n",
       "    </tr>\n",
       "  </tbody>\n",
       "</table>\n",
       "</div>"
      ],
      "text/plain": [
       "                            min                 max   size  lifespan_days\n",
       "program                                                                  \n",
       "                     1921-11-23 2017-12-05 00:00:00  20486        35076.0\n",
       "Documentaire         1952-11-30 2017-12-14 14:10:00    743        23755.0\n",
       "Cyclisme             1953-11-30 2017-08-19 00:00:00    138        23273.0\n",
       "Motocyclisme         1954-06-09 2017-12-02 20:45:00     16        23187.0\n",
       "Souvenirs de vedette 1949-03-31 2009-12-17 00:00:00      4        22176.0"
      ]
     },
     "execution_count": 12,
     "metadata": {},
     "output_type": "execute_result"
    }
   ],
   "source": [
    "df_without_date_outliers = remove_date_outliers(df)\n",
    "get_program_lifespan(df_without_date_outliers).sort_values(\n",
    "    'lifespan_days', ascending=False).head()"
   ]
  },
  {
   "cell_type": "code",
   "execution_count": 13,
   "metadata": {
    "scrolled": true
   },
   "outputs": [
    {
     "data": {
      "image/png": "[encoded data removed]",
      "text/plain": [
       "<matplotlib.figure.Figure at 0x1dbca893e80>"
      ]
     },
     "metadata": {},
     "output_type": "display_data"
    }
   ],
   "source": [
    "plot_program_lifespan('TJ midi', df_without_date_outliers)"
   ]
  },
  {
   "cell_type": "markdown",
   "metadata": {},
   "source": [
    "We can see that the distribution seems more natural now."
   ]
  },
  {
   "cell_type": "markdown",
   "metadata": {},
   "source": [
    "# Factors for program lifespan"
   ]
  },
  {
   "cell_type": "markdown",
   "metadata": {},
   "source": [
    "## Themes per period"
   ]
  },
  {
   "cell_type": "markdown",
   "metadata": {},
   "source": [
    "The goal of this part is to build a tool to get the top occurencies of word in the following categories:\n",
    "['genres', 'publicationChannelNames', 'thematicCorporations','thematicGeographicals','thematicPersons',\n",
    "'thematicThemes', 'visualCorporations', 'visualGeographicals', 'visualPersons', 'thematicGeographicals',\n",
    "'thematicThemes','visualThemes']\n",
    "\n",
    "We also need to be able to filter by year and by program. This is achieved in the file \"word_counter.py\". The useful function is \"word_counter.get_topn_themes\" that takes in argument the starting year and ending year, the type of theme (listed above), a list of programs(TODO), and the number of top occurencies."
   ]
  },
  {
   "cell_type": "code",
   "execution_count": 14,
   "metadata": {},
   "outputs": [],
   "source": [
    "import word_counter\n",
    "from collections import Counter\n",
    "WC = word_counter.word_counter(df_without_date_outliers)"
   ]
  },
  {
   "cell_type": "code",
   "execution_count": 15,
   "metadata": {
    "scrolled": true
   },
   "outputs": [
    {
     "data": {
      "text/html": [
       "<div>\n",
       "<style scoped>\n",
       "    .dataframe tbody tr th:only-of-type {\n",
       "        vertical-align: middle;\n",
       "    }\n",
       "\n",
       "    .dataframe tbody tr th {\n",
       "        vertical-align: top;\n",
       "    }\n",
       "\n",
       "    .dataframe thead th {\n",
       "        text-align: right;\n",
       "    }\n",
       "</style>\n",
       "<table border=\"1\" class=\"dataframe\">\n",
       "  <thead>\n",
       "    <tr style=\"text-align: right;\">\n",
       "      <th></th>\n",
       "      <th>top1</th>\n",
       "      <th>top2</th>\n",
       "      <th>top3</th>\n",
       "      <th>top4</th>\n",
       "      <th>top5</th>\n",
       "      <th>top6</th>\n",
       "      <th>top7</th>\n",
       "      <th>top8</th>\n",
       "    </tr>\n",
       "  </thead>\n",
       "  <tbody>\n",
       "    <tr>\n",
       "      <th>1990</th>\n",
       "      <td>manifestation politique</td>\n",
       "      <td>cérémonie religieuse</td>\n",
       "      <td>armée</td>\n",
       "      <td>logement</td>\n",
       "      <td>entreprise</td>\n",
       "      <td>scène de rue</td>\n",
       "      <td>conflit armé</td>\n",
       "      <td>écologisme</td>\n",
       "    </tr>\n",
       "    <tr>\n",
       "      <th>1991</th>\n",
       "      <td>manifestation politique</td>\n",
       "      <td>enfant (âge)</td>\n",
       "      <td>armée</td>\n",
       "      <td>cérémonie religieuse</td>\n",
       "      <td>agriculteur</td>\n",
       "      <td>nationalisme</td>\n",
       "      <td>conflit armé</td>\n",
       "      <td>économie capitaliste</td>\n",
       "    </tr>\n",
       "    <tr>\n",
       "      <th>1992</th>\n",
       "      <td>racisme</td>\n",
       "      <td>chômage</td>\n",
       "      <td>enfant (âge)</td>\n",
       "      <td>armée</td>\n",
       "      <td>économie</td>\n",
       "      <td>politique</td>\n",
       "      <td>prison</td>\n",
       "      <td>immigration</td>\n",
       "    </tr>\n",
       "    <tr>\n",
       "      <th>1993</th>\n",
       "      <td>chômage</td>\n",
       "      <td>économie capitaliste</td>\n",
       "      <td>bébé</td>\n",
       "      <td>adolescence</td>\n",
       "      <td>banane</td>\n",
       "      <td>juifs</td>\n",
       "      <td>nazisme</td>\n",
       "      <td>guerre mondiale (deuxième)</td>\n",
       "    </tr>\n",
       "    <tr>\n",
       "      <th>1994</th>\n",
       "      <td>crise économique</td>\n",
       "      <td>adolescence</td>\n",
       "      <td>vieillesse</td>\n",
       "      <td>quartier</td>\n",
       "      <td>banlieue</td>\n",
       "      <td>suicide</td>\n",
       "      <td>homicide</td>\n",
       "      <td>secte</td>\n",
       "    </tr>\n",
       "    <tr>\n",
       "      <th>1995</th>\n",
       "      <td>travail des femmes</td>\n",
       "      <td>vieillesse</td>\n",
       "      <td>monarchie</td>\n",
       "      <td>noblesse</td>\n",
       "      <td>vedettariat</td>\n",
       "      <td>bal</td>\n",
       "      <td>presse à sensation</td>\n",
       "      <td>plan de paix</td>\n",
       "    </tr>\n",
       "    <tr>\n",
       "      <th>1996</th>\n",
       "      <td>juifs</td>\n",
       "      <td>pauvreté</td>\n",
       "      <td>travail de nuit</td>\n",
       "      <td>travail des femmes</td>\n",
       "      <td>syndicat</td>\n",
       "      <td>condition de travail</td>\n",
       "      <td>années 1990</td>\n",
       "      <td>femme battue</td>\n",
       "    </tr>\n",
       "    <tr>\n",
       "      <th>1997</th>\n",
       "      <td>juifs</td>\n",
       "      <td>antisémitisme</td>\n",
       "      <td>pauvreté</td>\n",
       "      <td>quart-monde</td>\n",
       "      <td>armée</td>\n",
       "      <td>banque</td>\n",
       "      <td>guerre mondiale (deuxième)</td>\n",
       "      <td>téléphone mobile</td>\n",
       "    </tr>\n",
       "    <tr>\n",
       "      <th>1998</th>\n",
       "      <td>retraite (état)</td>\n",
       "      <td>vie sociale</td>\n",
       "      <td>amérindiens</td>\n",
       "      <td>nomadisme</td>\n",
       "      <td>vieillesse</td>\n",
       "      <td>refoulement des étrangers</td>\n",
       "      <td>requérant d'asile</td>\n",
       "      <td>fécondation artificielle</td>\n",
       "    </tr>\n",
       "    <tr>\n",
       "      <th>1999</th>\n",
       "      <td>ville candidate aux jeux olympiques</td>\n",
       "      <td>olympisme</td>\n",
       "      <td>accident aérien</td>\n",
       "      <td>md11</td>\n",
       "      <td>pilote de ligne</td>\n",
       "      <td>sécurité aérienne</td>\n",
       "      <td>conseiller fédéral</td>\n",
       "      <td>fonction politique</td>\n",
       "    </tr>\n",
       "    <tr>\n",
       "      <th>2000</th>\n",
       "      <td>conseiller fédéral</td>\n",
       "      <td>fonction politique</td>\n",
       "      <td>commerce électronique</td>\n",
       "      <td>amour</td>\n",
       "      <td>vieillesse</td>\n",
       "      <td>sexualité</td>\n",
       "      <td>exposition nationale</td>\n",
       "      <td>célibat</td>\n",
       "    </tr>\n",
       "  </tbody>\n",
       "</table>\n",
       "</div>"
      ],
      "text/plain": [
       "                                     top1                  top2  \\\n",
       "1990              manifestation politique  cérémonie religieuse   \n",
       "1991              manifestation politique          enfant (âge)   \n",
       "1992                              racisme               chômage   \n",
       "1993                              chômage  économie capitaliste   \n",
       "1994                     crise économique           adolescence   \n",
       "1995                   travail des femmes            vieillesse   \n",
       "1996                                juifs              pauvreté   \n",
       "1997                                juifs         antisémitisme   \n",
       "1998                      retraite (état)           vie sociale   \n",
       "1999  ville candidate aux jeux olympiques             olympisme   \n",
       "2000                   conseiller fédéral    fonction politique   \n",
       "\n",
       "                       top3                  top4             top5  \\\n",
       "1990                  armée              logement       entreprise   \n",
       "1991                  armée  cérémonie religieuse      agriculteur   \n",
       "1992           enfant (âge)                 armée         économie   \n",
       "1993                   bébé           adolescence           banane   \n",
       "1994             vieillesse              quartier         banlieue   \n",
       "1995              monarchie              noblesse      vedettariat   \n",
       "1996        travail de nuit    travail des femmes         syndicat   \n",
       "1997               pauvreté           quart-monde            armée   \n",
       "1998            amérindiens             nomadisme       vieillesse   \n",
       "1999        accident aérien                  md11  pilote de ligne   \n",
       "2000  commerce électronique                 amour       vieillesse   \n",
       "\n",
       "                           top6                        top7  \\\n",
       "1990               scène de rue                conflit armé   \n",
       "1991               nationalisme                conflit armé   \n",
       "1992                  politique                      prison   \n",
       "1993                      juifs                     nazisme   \n",
       "1994                    suicide                    homicide   \n",
       "1995                        bal          presse à sensation   \n",
       "1996       condition de travail                 années 1990   \n",
       "1997                     banque  guerre mondiale (deuxième)   \n",
       "1998  refoulement des étrangers           requérant d'asile   \n",
       "1999          sécurité aérienne          conseiller fédéral   \n",
       "2000                  sexualité        exposition nationale   \n",
       "\n",
       "                            top8  \n",
       "1990                  écologisme  \n",
       "1991        économie capitaliste  \n",
       "1992                 immigration  \n",
       "1993  guerre mondiale (deuxième)  \n",
       "1994                       secte  \n",
       "1995                plan de paix  \n",
       "1996                femme battue  \n",
       "1997            téléphone mobile  \n",
       "1998    fécondation artificielle  \n",
       "1999          fonction politique  \n",
       "2000                     célibat  "
      ]
     },
     "execution_count": 15,
     "metadata": {},
     "output_type": "execute_result"
    }
   ],
   "source": [
    "# this is an example of the top 8 \"thematicThemes\" of \"Temps présent\" between 1990 and 2000\n",
    "WC.get_topn_themes(1990,2000,'thematicThemes', 'Temps présent',n_top=8)"
   ]
  },
  {
   "cell_type": "code",
   "execution_count": 16,
   "metadata": {},
   "outputs": [
    {
     "data": {
      "text/html": [
       "<div>\n",
       "<style scoped>\n",
       "    .dataframe tbody tr th:only-of-type {\n",
       "        vertical-align: middle;\n",
       "    }\n",
       "\n",
       "    .dataframe tbody tr th {\n",
       "        vertical-align: top;\n",
       "    }\n",
       "\n",
       "    .dataframe thead th {\n",
       "        text-align: right;\n",
       "    }\n",
       "</style>\n",
       "<table border=\"1\" class=\"dataframe\">\n",
       "  <thead>\n",
       "    <tr style=\"text-align: right;\">\n",
       "      <th></th>\n",
       "      <th>top1</th>\n",
       "      <th>top2</th>\n",
       "      <th>top3</th>\n",
       "      <th>top4</th>\n",
       "      <th>top5</th>\n",
       "    </tr>\n",
       "  </thead>\n",
       "  <tbody>\n",
       "    <tr>\n",
       "      <th>1935</th>\n",
       "      <td>paix</td>\n",
       "      <td>conflit armé</td>\n",
       "      <td>relations internationales</td>\n",
       "      <td>vie politique</td>\n",
       "      <td>économie</td>\n",
       "    </tr>\n",
       "    <tr>\n",
       "      <th>1936</th>\n",
       "      <td>cirque</td>\n",
       "      <td>roi</td>\n",
       "      <td>guerre mondiale (première)</td>\n",
       "      <td>politique</td>\n",
       "      <td>vie politique</td>\n",
       "    </tr>\n",
       "    <tr>\n",
       "      <th>1937</th>\n",
       "      <td>relations internationales</td>\n",
       "      <td>cirque</td>\n",
       "      <td>radio</td>\n",
       "      <td>guerre mondiale (première)</td>\n",
       "      <td>politique</td>\n",
       "    </tr>\n",
       "    <tr>\n",
       "      <th>1938</th>\n",
       "      <td>guerre mondiale (deuxième)</td>\n",
       "      <td>radio</td>\n",
       "      <td>mobilisation générale (1939-1945)</td>\n",
       "      <td>armée</td>\n",
       "      <td>histoire</td>\n",
       "    </tr>\n",
       "    <tr>\n",
       "      <th>1939</th>\n",
       "      <td>guerre mondiale (deuxième)</td>\n",
       "      <td>littérature</td>\n",
       "      <td>mobilisation générale (1939-1945)</td>\n",
       "      <td>armée</td>\n",
       "      <td>patriotisme</td>\n",
       "    </tr>\n",
       "    <tr>\n",
       "      <th>1940</th>\n",
       "      <td>guerre mondiale (deuxième)</td>\n",
       "      <td>patriotisme</td>\n",
       "      <td>littérature</td>\n",
       "      <td>commémoration</td>\n",
       "      <td>écrivain</td>\n",
       "    </tr>\n",
       "    <tr>\n",
       "      <th>1941</th>\n",
       "      <td>guerre mondiale (deuxième)</td>\n",
       "      <td>patriotisme</td>\n",
       "      <td>art dramatique</td>\n",
       "      <td>rationnement</td>\n",
       "      <td>commémoration</td>\n",
       "    </tr>\n",
       "    <tr>\n",
       "      <th>1942</th>\n",
       "      <td>guerre mondiale (deuxième)</td>\n",
       "      <td>recette culinaire</td>\n",
       "      <td>rationnement</td>\n",
       "      <td>armée</td>\n",
       "      <td>art dramatique</td>\n",
       "    </tr>\n",
       "    <tr>\n",
       "      <th>1943</th>\n",
       "      <td>guerre mondiale (deuxième)</td>\n",
       "      <td>armée</td>\n",
       "      <td>rationnement</td>\n",
       "      <td>recette culinaire</td>\n",
       "      <td>économie de guerre</td>\n",
       "    </tr>\n",
       "    <tr>\n",
       "      <th>1944</th>\n",
       "      <td>guerre mondiale (deuxième)</td>\n",
       "      <td>résistance (1939-1945)</td>\n",
       "      <td>paix</td>\n",
       "      <td>reddition militaire</td>\n",
       "      <td>littérature</td>\n",
       "    </tr>\n",
       "    <tr>\n",
       "      <th>1945</th>\n",
       "      <td>guerre mondiale (deuxième)</td>\n",
       "      <td>paix</td>\n",
       "      <td>reddition militaire</td>\n",
       "      <td>résistance (1939-1945)</td>\n",
       "      <td>radio</td>\n",
       "    </tr>\n",
       "    <tr>\n",
       "      <th>1946</th>\n",
       "      <td>guerre mondiale (deuxième)</td>\n",
       "      <td>paix</td>\n",
       "      <td>relations internationales</td>\n",
       "      <td>organisation internationale</td>\n",
       "      <td>radio</td>\n",
       "    </tr>\n",
       "    <tr>\n",
       "      <th>1947</th>\n",
       "      <td></td>\n",
       "      <td></td>\n",
       "      <td></td>\n",
       "      <td></td>\n",
       "      <td></td>\n",
       "    </tr>\n",
       "    <tr>\n",
       "      <th>1948</th>\n",
       "      <td>guerre mondiale (deuxième)</td>\n",
       "      <td>radio</td>\n",
       "      <td>organisation internationale</td>\n",
       "      <td>relations internationales</td>\n",
       "      <td>littérature</td>\n",
       "    </tr>\n",
       "    <tr>\n",
       "      <th>1949</th>\n",
       "      <td>guerre mondiale (deuxième)</td>\n",
       "      <td>organisation internationale</td>\n",
       "      <td>radio</td>\n",
       "      <td>relations internationales</td>\n",
       "      <td>paix</td>\n",
       "    </tr>\n",
       "    <tr>\n",
       "      <th>1950</th>\n",
       "      <td>émission de radio</td>\n",
       "      <td>organisation internationale</td>\n",
       "      <td>paix</td>\n",
       "      <td>relations internationales</td>\n",
       "      <td>littérature</td>\n",
       "    </tr>\n",
       "  </tbody>\n",
       "</table>\n",
       "</div>"
      ],
      "text/plain": [
       "                            top1                         top2  \\\n",
       "1935                        paix                 conflit armé   \n",
       "1936                      cirque                          roi   \n",
       "1937   relations internationales                       cirque   \n",
       "1938  guerre mondiale (deuxième)                        radio   \n",
       "1939  guerre mondiale (deuxième)                  littérature   \n",
       "1940  guerre mondiale (deuxième)                  patriotisme   \n",
       "1941  guerre mondiale (deuxième)                  patriotisme   \n",
       "1942  guerre mondiale (deuxième)            recette culinaire   \n",
       "1943  guerre mondiale (deuxième)                        armée   \n",
       "1944  guerre mondiale (deuxième)       résistance (1939-1945)   \n",
       "1945  guerre mondiale (deuxième)                         paix   \n",
       "1946  guerre mondiale (deuxième)                         paix   \n",
       "1947                                                            \n",
       "1948  guerre mondiale (deuxième)                        radio   \n",
       "1949  guerre mondiale (deuxième)  organisation internationale   \n",
       "1950           émission de radio  organisation internationale   \n",
       "\n",
       "                                   top3                         top4  \\\n",
       "1935          relations internationales                vie politique   \n",
       "1936         guerre mondiale (première)                    politique   \n",
       "1937                              radio   guerre mondiale (première)   \n",
       "1938  mobilisation générale (1939-1945)                        armée   \n",
       "1939  mobilisation générale (1939-1945)                        armée   \n",
       "1940                        littérature                commémoration   \n",
       "1941                     art dramatique                 rationnement   \n",
       "1942                       rationnement                        armée   \n",
       "1943                       rationnement            recette culinaire   \n",
       "1944                               paix          reddition militaire   \n",
       "1945                reddition militaire       résistance (1939-1945)   \n",
       "1946          relations internationales  organisation internationale   \n",
       "1947                                                                   \n",
       "1948        organisation internationale    relations internationales   \n",
       "1949                              radio    relations internationales   \n",
       "1950                               paix    relations internationales   \n",
       "\n",
       "                    top5  \n",
       "1935            économie  \n",
       "1936       vie politique  \n",
       "1937           politique  \n",
       "1938            histoire  \n",
       "1939         patriotisme  \n",
       "1940            écrivain  \n",
       "1941       commémoration  \n",
       "1942      art dramatique  \n",
       "1943  économie de guerre  \n",
       "1944         littérature  \n",
       "1945               radio  \n",
       "1946               radio  \n",
       "1947                      \n",
       "1948         littérature  \n",
       "1949                paix  \n",
       "1950         littérature  "
      ]
     },
     "execution_count": 16,
     "metadata": {},
     "output_type": "execute_result"
    }
   ],
   "source": [
    "# this is an example of the top 5 \"thematicThemes\" of all programs between 1935 and 1950\n",
    "WC.get_topn_themes(1935, 1950, 'thematicThemes',n_top=5)"
   ]
  },
  {
   "cell_type": "markdown",
   "metadata": {},
   "source": [
    "### Generate JSON file for the word cloud visualization"
   ]
  },
  {
   "cell_type": "code",
   "execution_count": 210,
   "metadata": {},
   "outputs": [],
   "source": [
    "def normalize_counter(c, max_words):\n",
    "    temp_c = dict(c.most_common(max_words))\n",
    "    if len(temp_c) < 1:\n",
    "        return temp_c\n",
    "    min_val = min(list(temp_c.values()))\n",
    "    max_val = max(list(temp_c.values()))\n",
    "    dividor = (max_val-min_val) if (max_val-min_val) is not 0 else 1\n",
    "    for key in temp_c:\n",
    "        temp_c[key] = (temp_c[key]-min_val)*100/dividor\n",
    "    return temp_c"
   ]
  },
  {
   "cell_type": "code",
   "execution_count": 222,
   "metadata": {},
   "outputs": [],
   "source": [
    "counters_program_period = df[[\n",
    "    'genres', 'thematicGeographicals',\n",
    "    'thematicPersons', 'thematicThemes',\n",
    "    #'visualCorporations', 'visualGeographicals', 'visualPersons', 'visualThemes', 'thematicCorporations'\n",
    "]].groupby(df.publicationDateYear).agg(lambda x: ', '.join(x))"
   ]
  },
  {
   "cell_type": "code",
   "execution_count": 223,
   "metadata": {},
   "outputs": [],
   "source": [
    "for col in counters_program_period:\n",
    "    vectorizer = TfidfVectorizer(\n",
    "        stop_words=['et', 'de', 'à', 'en'], ngram_range=(1, 2))\n",
    "    vect_col = vectorizer.fit_transform(counters_program_period[col])\n",
    "    words = vectorizer.get_feature_names()\n",
    "    X = vect_col.toarray()\n",
    "    result = [\n",
    "        Counter({\n",
    "            word: occurence\n",
    "            for occurence, word in zip(X_row, words) if occurence > 0\n",
    "        }) for X_row in X\n",
    "    ]\n",
    "    counters_program_period[col] = result"
   ]
  },
  {
   "cell_type": "code",
   "execution_count": 224,
   "metadata": {
    "scrolled": true
   },
   "outputs": [
    {
     "name": "stderr",
     "output_type": "stream",
     "text": [
      "C:\\Users\\Leonovo\\Anaconda3\\lib\\site-packages\\ipykernel_launcher.py:9: RuntimeWarning: invalid value encountered in double_scalars\n",
      "  if __name__ == '__main__':\n"
     ]
    }
   ],
   "source": [
    "counters_program_period = counters_program_period.applymap(lambda x : normalize_counter(x, 500))"
   ]
  },
  {
   "cell_type": "code",
   "execution_count": 214,
   "metadata": {},
   "outputs": [],
   "source": [
    "counters_program_period.columns=['Genra', 'Locations', 'Persons', 'Topics']\n",
    "counters_program_period.to_json('themes_by_year_accent.json', force_ascii=True)"
   ]
  },
  {
   "cell_type": "markdown",
   "metadata": {},
   "source": [
    "### Why are there so many \"cloches\" around 1958"
   ]
  },
  {
   "cell_type": "code",
   "execution_count": 226,
   "metadata": {},
   "outputs": [],
   "source": [
    "cloche = df_without_date_outliers[(df_without_date_outliers.publicationDate.map(lambda x: x.year) == 1958) &\n",
    "                         (df_without_date_outliers.thematicThemes.str.contains(\"cloche\"))]"
   ]
  },
  {
   "cell_type": "code",
   "execution_count": 227,
   "metadata": {},
   "outputs": [
    {
     "data": {
      "text/html": [
       "<div>\n",
       "<style scoped>\n",
       "    .dataframe tbody tr th:only-of-type {\n",
       "        vertical-align: middle;\n",
       "    }\n",
       "\n",
       "    .dataframe tbody tr th {\n",
       "        vertical-align: top;\n",
       "    }\n",
       "\n",
       "    .dataframe thead th {\n",
       "        text-align: right;\n",
       "    }\n",
       "</style>\n",
       "<table border=\"1\" class=\"dataframe\">\n",
       "  <thead>\n",
       "    <tr style=\"text-align: right;\">\n",
       "      <th></th>\n",
       "      <th>title</th>\n",
       "      <th>contributors</th>\n",
       "      <th>mediaType</th>\n",
       "      <th>publicationDate</th>\n",
       "    </tr>\n",
       "  </thead>\n",
       "  <tbody>\n",
       "    <tr>\n",
       "      <th>12675</th>\n",
       "      <td>Carillon de Chantemerle, temple de Pully-La Ro...</td>\n",
       "      <td></td>\n",
       "      <td>audio</td>\n",
       "      <td>1958-12-24</td>\n",
       "    </tr>\n",
       "    <tr>\n",
       "      <th>12710</th>\n",
       "      <td>Cloches du temple (église protestante renovée)...</td>\n",
       "      <td></td>\n",
       "      <td>audio</td>\n",
       "      <td>1958-12-14</td>\n",
       "    </tr>\n",
       "    <tr>\n",
       "      <th>12804</th>\n",
       "      <td>Cloches du temple protestant de Vulliens (VD)</td>\n",
       "      <td></td>\n",
       "      <td>audio</td>\n",
       "      <td>1958-11-25</td>\n",
       "    </tr>\n",
       "    <tr>\n",
       "      <th>12840</th>\n",
       "      <td>Cloches de Châtel-Saint-Denis (FR)</td>\n",
       "      <td></td>\n",
       "      <td>audio</td>\n",
       "      <td>1958-03-29</td>\n",
       "    </tr>\n",
       "    <tr>\n",
       "      <th>12882</th>\n",
       "      <td>Cloches de Zermatt (VS)</td>\n",
       "      <td></td>\n",
       "      <td>audio</td>\n",
       "      <td>1958-03-17</td>\n",
       "    </tr>\n",
       "  </tbody>\n",
       "</table>\n",
       "</div>"
      ],
      "text/plain": [
       "                                                   title contributors  \\\n",
       "12675  Carillon de Chantemerle, temple de Pully-La Ro...                \n",
       "12710  Cloches du temple (église protestante renovée)...                \n",
       "12804      Cloches du temple protestant de Vulliens (VD)                \n",
       "12840                 Cloches de Châtel-Saint-Denis (FR)                \n",
       "12882                            Cloches de Zermatt (VS)                \n",
       "\n",
       "      mediaType publicationDate  \n",
       "12675     audio      1958-12-24  \n",
       "12710     audio      1958-12-14  \n",
       "12804     audio      1958-11-25  \n",
       "12840     audio      1958-03-29  \n",
       "12882     audio      1958-03-17  "
      ]
     },
     "execution_count": 227,
     "metadata": {},
     "output_type": "execute_result"
    }
   ],
   "source": [
    "cloche[['title', 'contributors', 'mediaType', 'publicationDate']].head()"
   ]
  },
  {
   "cell_type": "markdown",
   "metadata": {},
   "source": [
    "## Lifespan category"
   ]
  },
  {
   "cell_type": "markdown",
   "metadata": {},
   "source": [
    "Now that we have the lifespan of each program, let's see the histogram."
   ]
  },
  {
   "cell_type": "code",
   "execution_count": 228,
   "metadata": {
    "scrolled": false
   },
   "outputs": [
    {
     "data": {
      "image/png": "[encoded data removed]",
      "text/plain": [
       "<matplotlib.figure.Figure at 0x1dc83648da0>"
      ]
     },
     "metadata": {},
     "output_type": "display_data"
    }
   ],
   "source": [
    "lifespan = get_program_lifespan(df_without_date_outliers)\n",
    "lifespan.hist(column='lifespan_days', bins=50, ec='black')\n",
    "plt.show()"
   ]
  },
  {
   "cell_type": "markdown",
   "metadata": {},
   "source": [
    "The distribution is heavy tailed, lot of programs are really short. Next step is to see how the type of program and the themes are correlated with the lifespan. To do this, we decide to class program in 5 categories of lifespan, each category having the same number of programs."
   ]
  },
  {
   "cell_type": "code",
   "execution_count": 229,
   "metadata": {},
   "outputs": [],
   "source": [
    "lifespan['lifespan_class'] = (pd.qcut(\n",
    "    lifespan.lifespan_days, 5, labels=['very short', 'short', 'medium', 'long', 'very long']))"
   ]
  },
  {
   "cell_type": "markdown",
   "metadata": {},
   "source": [
    "### TODO, look at the different themes for each bucket"
   ]
  },
  {
   "cell_type": "code",
   "execution_count": 272,
   "metadata": {},
   "outputs": [],
   "source": [
    "df_by_lifespan = pd.merge(\n",
    "    df_without_date_outliers.loc[df_without_date_outliers.program != \"\"],\n",
    "    lifespan,\n",
    "    left_on='program',\n",
    "    right_index=True,\n",
    "    how='left').groupby('lifespan_class')"
   ]
  },
  {
   "cell_type": "code",
   "execution_count": 273,
   "metadata": {
    "scrolled": true
   },
   "outputs": [],
   "source": [
    "counters_program_lifespan = df_by_lifespan[[\n",
    "    'genres', 'thematicGeographicals', 'thematicPersons', 'thematicThemes'\n",
    "]].agg(lambda x: ', '.join(x))"
   ]
  },
  {
   "cell_type": "code",
   "execution_count": 274,
   "metadata": {},
   "outputs": [],
   "source": [
    "for col in counters_program_lifespan:\n",
    "    vectorizer = TfidfVectorizer(\n",
    "        stop_words=['et', 'de', 'à', 'en'], ngram_range=(1, 2))\n",
    "    vect_col = vectorizer.fit_transform(counters_program_lifespan[col])\n",
    "    words = vectorizer.get_feature_names()\n",
    "    X = vect_col.toarray()\n",
    "    result = [\n",
    "        Counter({\n",
    "            word: occurence\n",
    "            for occurence, word in zip(X_row, words) if occurence > 0\n",
    "        }) for X_row in X\n",
    "    ]\n",
    "    counters_program_lifespan[col] = result"
   ]
  },
  {
   "cell_type": "code",
   "execution_count": 275,
   "metadata": {},
   "outputs": [],
   "source": [
    "counters_program_lifespan = counters_program_lifespan.applymap(lambda x : normalize_counter(x, 10000))"
   ]
  },
  {
   "cell_type": "code",
   "execution_count": 283,
   "metadata": {},
   "outputs": [
    {
     "data": {
      "text/plain": [
       "[('interview', 100.00000000000001),\n",
       " ('interview interview', 52.085632604215135),\n",
       " ('flashes', 26.108636393856788),\n",
       " ('téléjournal', 26.108636393856788),\n",
       " ('téléjournal flashes', 26.108636393856788),\n",
       " ('commentaire', 17.554683864104781),\n",
       " ('emissions', 15.241007911707996),\n",
       " ('flashes téléjournal', 14.831695449843098),\n",
       " ('actualités', 13.638483912963697),\n",
       " ('adolescents', 13.003124792234559),\n",
       " ('emissions pour', 13.003124792234559),\n",
       " ('enfants', 13.003124792234559),\n",
       " ('enfants adolescents', 13.003124792234559),\n",
       " ('pour', 13.003124792234559),\n",
       " ('pour enfants', 13.003124792234559),\n",
       " ('actualités régionales', 12.993909964043384),\n",
       " ('régionales', 12.993909964043384),\n",
       " ('interview commentaire', 9.4475101389535272),\n",
       " ('commentaire interview', 9.4023003789641653),\n",
       " ('magazines', 8.9010039226115278),\n",
       " ('magazines sportifs', 8.9010039226115278),\n",
       " ('résultats', 8.9010039226115278),\n",
       " ('résultats magazines', 8.9010039226115278),\n",
       " ('sportifs', 8.9010039226115278),\n",
       " ('autres', 8.3398710192141472),\n",
       " ('reportage', 8.0593045675154578),\n",
       " ('récit', 6.5913170666843959),\n",
       " ('reportage interview', 5.4132039093145403),\n",
       " ('interview reportage', 5.3693238481483947),\n",
       " ('information', 5.2722558340535866),\n",
       " ('autres émissions', 4.9119074529619038),\n",
       " ('émissions', 4.9119074529619038),\n",
       " ('documentaire', 4.6220331095006983),\n",
       " ('sketch', 4.3441260554484407),\n",
       " ('interview téléjournal', 4.1994058902379452),\n",
       " ('société', 4.0103716508210887),\n",
       " ('divers', 3.9625024931852932),\n",
       " ('parlé', 3.9478758061299115),\n",
       " ('parlé divers', 3.9478758061299115),\n",
       " ('récit interview', 3.8906987567315996),\n",
       " ('interview récit', 3.8800611661458677),\n",
       " ('flashes interview', 3.8627750814440529),\n",
       " ('arts', 3.6393856791436736),\n",
       " ('arts médias', 3.6393856791436736),\n",
       " ('médias', 3.6393856791436736),\n",
       " ('sportifs téléjournal', 3.612128481881141),\n",
       " ('animation', 3.5968353168007448),\n",
       " ('adolescents emissions', 3.4824812180041222),\n",
       " ('débats', 3.4239744697825945),\n",
       " ('autres information', 3.3056312745163221),\n",
       " ('variétés', 3.2856857921680738),\n",
       " ('religieuses', 3.25244332158766),\n",
       " ('émissions religieuses', 3.25244332158766),\n",
       " ('actualite', 3.1766504886643174),\n",
       " ('flashes résultats', 3.0953469638125495),\n",
       " ('documentaire interview', 2.8415663852137492),\n",
       " ('interview documentaire', 2.8109833122797685),\n",
       " ('service', 2.6890643983367259),\n",
       " ('interview emissions', 2.5716375241007907),\n",
       " ('religion', 2.5304168605810786),\n",
       " ('adolescents téléjournal', 2.4748903241052029),\n",
       " ('interview actualités', 2.4401906491603103),\n",
       " ('société religion', 2.3854796888504755),\n",
       " ('commentaire commentaire', 2.3814905923808256),\n",
       " ('régionales interview', 2.3191365172899103),\n",
       " ('pays', 2.2950601688717507),\n",
       " ('pays peuples', 2.2950601688717507),\n",
       " ('peuples', 2.2950601688717507),\n",
       " ('shows', 2.2671364935842031),\n",
       " ('sketch interview', 2.2671364935842031),\n",
       " ('politique', 2.26447709593777),\n",
       " ('interview sketch', 2.2578286018216875),\n",
       " ('flashes emissions', 2.2562512539806119),\n",
       " ('entretiens', 2.2285752277109236),\n",
       " ('portraits', 2.2285752277109236),\n",
       " ('rencontres', 2.2285752277109236),\n",
       " ('déclaration', 2.1860248653679939),\n",
       " ('interview parlé', 2.1687387806661791),\n",
       " ('divers interview', 2.166079383019746),\n",
       " ('musique', 2.0344391995213083),\n",
       " ('entretiens portraits', 1.9639651618908314),\n",
       " ('rencontres entretiens', 1.9639651618908314),\n",
       " ('adolescents interview', 1.9347117877800675),\n",
       " ('informations service', 1.9235966217389178),\n",
       " ('débat', 1.888172328967489),\n",
       " ('talk', 1.8722159430888903),\n",
       " ('talk shows', 1.8722159430888903),\n",
       " ('régionales actualités', 1.8695068846284235),\n",
       " ('théâtre', 1.8509407619174256),\n",
       " ('débats highlights', 1.7547412790889534),\n",
       " ('highlights', 1.7547412790889534),\n",
       " ('plateaux', 1.7547412790889534),\n",
       " ('plateaux débats', 1.7547412790889534),\n",
       " ('conseil', 1.6807393125457084),\n",
       " ('emissions conseil', 1.6807393125457084),\n",
       " ('politique économie', 1.6235622631473972),\n",
       " ('économie', 1.6235622631473972),\n",
       " ('économie société', 1.6235622631473972),\n",
       " ('actualite actualite', 1.6069609103121008),\n",
       " ('informations', 1.596533032953235),\n",
       " ('jeux', 1.5730337078651684),\n",
       " ('flashes autres', 1.4563696354289848),\n",
       " ('sportifs interview', 1.443459225707924),\n",
       " ('jazz', 1.4227304200231647),\n",
       " ('interview autres', 1.3682600890898209),\n",
       " ('cultes', 1.332539956097808),\n",
       " ('cultes messes', 1.332539956097808),\n",
       " ('messes', 1.332539956097808),\n",
       " ('messes prédications', 1.332539956097808),\n",
       " ('prédications', 1.332539956097808),\n",
       " ('interview résultats', 1.2977860514593442),\n",
       " ('direct', 1.2972509885138042),\n",
       " ('concours', 1.2672029785253638),\n",
       " ('jeux concours', 1.2459277973538991),\n",
       " ('folklore', 1.217072277794448),\n",
       " ('folklore musique', 1.217072277794448),\n",
       " ('musique populaire', 1.217072277794448),\n",
       " ('populaire', 1.217072277794448),\n",
       " ('animation variétés', 1.1934903040534612),\n",
       " ('variétés animation', 1.1604755408160794),\n",
       " ('information téléjournal', 1.1378664628194033),\n",
       " ('débat interview', 1.0823748420982646),\n",
       " ('cabaret', 1.0810451432750483),\n",
       " ('cabaret humour', 1.0810451432750483),\n",
       " ('humour', 1.0810451432750483),\n",
       " ('information interview', 1.0544511668107173),\n",
       " ('interview débat', 1.0358353832856857),\n",
       " ('sportives', 1.0105711056445714),\n",
       " ('émissions sportives', 1.0105711056445714),\n",
       " ('science', 1.0039226115284887),\n",
       " ('animation interview', 0.96935044212485855),\n",
       " ('religieux', 0.9474478799909013),\n",
       " ('service religieux', 0.9474478799909013),\n",
       " ('interview animation', 0.93610797154444514),\n",
       " ('shows emissions', 0.91627334363554103),\n",
       " ('connaissance', 0.88956851273186599),\n",
       " ('culture', 0.88956851273186599),\n",
       " ('culture connaissance', 0.88956851273186599),\n",
       " ('flashes actualités', 0.88450297353004448),\n",
       " ('déclaration interview', 0.86563393391396848),\n",
       " ('sujets', 0.8536666445050195),\n",
       " ('adolescents talk', 0.85086375812422432),\n",
       " ('interview déclaration', 0.82042417392460598),\n",
       " ('sportifs emissions', 0.81932298736313303),\n",
       " ('sportifs autres', 0.81146232944947072),\n",
       " ('régionales emissions', 0.80831806628400582),\n",
       " ('interview théâtre', 0.80517380311854081),\n",
       " ('régionales autres', 0.8041426256161408),\n",
       " ('régionales commentaire', 0.80227378031581753),\n",
       " ('régionales téléjournal', 0.78171648201226107),\n",
       " ('flashes plateaux', 0.77539495684220605),\n",
       " ('internationaux', 0.76901477671569407),\n",
       " ('sujets internationaux', 0.76901477671569407),\n",
       " ('football direct', 0.74932079735618851),\n",
       " ('football', 0.7483784470799304),\n",
       " ('highlights téléjournal', 0.74612707126640754),\n",
       " ('société actualités', 0.73487019219879268),\n",
       " ('adolescents actualités', 0.72565112300256085),\n",
       " ('int', 0.71271856924406607),\n",
       " ('sport', 0.71235643406356319),\n",
       " ('religieuses interview', 0.70785368243651714),\n",
       " ('commentaire actualités', 0.70509382469900417),\n",
       " ('interview arts', 0.67814639984043612),\n",
       " ('conseil téléjournal', 0.67676721779981475),\n",
       " ('médias actualités', 0.66997048700354844),\n",
       " ('régionales arts', 0.66997048700354844),\n",
       " ('shows téléjournal', 0.66002408405603619),\n",
       " ('commentaire téléjournal', 0.64953277642802631),\n",
       " ('sportifs actualités', 0.64342192978833412),\n",
       " ('émissions actualités', 0.6432442500970964),\n",
       " ('régionales politique', 0.63806103221730526),\n",
       " ('flashes commentaire', 0.63381146060070159),\n",
       " ('religieuses téléjournal', 0.63211886114973859),\n",
       " ('hockey', 0.62932833885910888),\n",
       " ('hockey sur', 0.62932833885910888),\n",
       " ('sur', 0.62932833885910888),\n",
       " ('glace', 0.61816624969658973),\n",
       " ('sur glace', 0.61816624969658973),\n",
       " ('nationaux', 0.61166145867960897),\n",
       " ('théâtre interview', 0.60634266338674281),\n",
       " ('religieuses résultats', 0.6042903950144608),\n",
       " ('médias interview', 0.59570507280101037),\n",
       " ('flashes arts', 0.59303351594684606),\n",
       " ('régionales résultats', 0.58979177628419244),\n",
       " ('peuples téléjournal', 0.58548772547831074),\n",
       " ('commentaire déclaration', 0.58506748221527816),\n",
       " ('interview actualite', 0.57988118957734069),\n",
       " ('débats téléjournal', 0.57502250943866229),\n",
       " ('religion téléjournal', 0.57502250943866229),\n",
       " ('adolescents résultats', 0.56778139751346313),\n",
       " ('déclaration commentaire', 0.55315471045808118),\n",
       " ('information actualités', 0.55048848671588069),\n",
       " ('récit commentaire', 0.5478359151652149),\n",
       " ('médias téléjournal', 0.54063543827055072),\n",
       " ('variétés interview', 0.53852802340269923),\n",
       " ('religion interview', 0.53453892693304961),\n",
       " ('commentaire récit', 0.53187952928661653),\n",
       " ('religieuses autres', 0.5212419387008842),\n",
       " ('flashes débats', 0.51873811410058823),\n",
       " ('glace direct', 0.51491692494328878),\n",
       " ('concerts', 0.50961306556483643),\n",
       " ('flashes talk', 0.50933588036202937),\n",
       " ('interview variétés', 0.50262615517585263),\n",
       " ('religieux interview', 0.50096431349013992),\n",
       " ('médias emissions', 0.49863705870620306),\n",
       " ('flashes société', 0.49622435596535858),\n",
       " ('flashes pays', 0.49017661516182065),\n",
       " ('internationaux nationaux', 0.48288682865838445),\n",
       " ('mélangés', 0.48288682865838445),\n",
       " ('nationaux mélangés', 0.48288682865838445),\n",
       " ('interview service', 0.48143065745573171),\n",
       " ('interview société', 0.47470247988830527),\n",
       " ('flashes information', 0.46747804600258291),\n",
       " ('mélangés politique', 0.46244911808286238),\n",
       " ('courte', 0.45840624505632394),\n",
       " ('courte durée', 0.45840624505632394),\n",
       " ('durée', 0.45840624505632394),\n",
       " ('jeux courte', 0.45840624505632394),\n",
       " ('reportage reportage', 0.45076790107040754),\n",
       " ('information résultats', 0.44719317325438396),\n",
       " ('régionales information', 0.4434554826537373),\n",
       " ('adolescents actualite', 0.44236334538691502),\n",
       " ('consommation', 0.44236334538691502),\n",
       " ('information autres', 0.44013031048467516),\n",
       " ('service téléjournal', 0.43768858481376144),\n",
       " ('interview talk', 0.43224241085179727),\n",
       " ('adolescents société', 0.43037356555147394),\n",
       " ('variétés actualités', 0.42841073393376622),\n",
       " ('actualite interview', 0.42786222326274803),\n",
       " ('conseil interview', 0.42629009168001547),\n",
       " ('commentaire reportage', 0.42417392460607667),\n",
       " ('flashes informations', 0.42192895411910075),\n",
       " ('régionales variétés', 0.41724864477124729),\n",
       " ('animation sketch', 0.41087693637391132),\n",
       " ('société interview', 0.4098162672479172),\n",
       " ('jazz jazz', 0.40887707789935795),\n",
       " ('interview plateaux', 0.40842069923796293),\n",
       " ('internationaux politique', 0.39941519598387104),\n",
       " ('sketch variétés', 0.39799172319083104),\n",
       " ('adolescents autres', 0.39757994814174591),\n",
       " ('flashes récit', 0.39716382017034813),\n",
       " ('religion actualités', 0.39641959160809859),\n",
       " ('adolescents arts', 0.39359085167209629),\n",
       " ('musicales', 0.39359085167209629),\n",
       " ('shows variétés', 0.39359085167209629),\n",
       " ('variétés musicales', 0.39359085167209629),\n",
       " ('commentaire parlé', 0.38960175520244661),\n",
       " ('variétés sketch', 0.38855893369443628),\n",
       " ('récit récit', 0.38694235755601358),\n",
       " ('interview pays', 0.3842829599095805),\n",
       " ('sketch animation', 0.3842829599095805),\n",
       " ('régionales animation', 0.38365556528921041),\n",
       " ('reportage commentaire', 0.38295326108636396),\n",
       " ('interview débats', 0.37755401261530891),\n",
       " ('régionales société', 0.37755401261530891),\n",
       " ('histoire', 0.3763047669702812),\n",
       " ('sportifs résultats', 0.37231567050063152),\n",
       " ('reportage documentaire', 0.36870167064080389),\n",
       " ('commentaire emissions', 0.36654909153618154),\n",
       " ('récit téléjournal', 0.36564455878102664),\n",
       " ('interview information', 0.36497695995344914),\n",
       " ('interview politique', 0.36496398004015723),\n",
       " ('indicatif', 0.36433747756133239),\n",
       " ('didactiques', 0.36183269678798424),\n",
       " ('emissions didactiques', 0.36183269678798424),\n",
       " ('interview jeux', 0.35768898344524958),\n",
       " ('débats interview', 0.35554417045705439),\n",
       " ('shows interview', 0.35397203887432183),\n",
       " ('divers commentaire', 0.35369988697560001),\n",
       " ('reportage téléjournal', 0.3444066817366005),\n",
       " ('documentaire reportage', 0.34296711779519456),\n",
       " ('information emissions', 0.33641380227378498),\n",
       " ('régionales sujets', 0.33353297605235444),\n",
       " ('portraits emissions', 0.32881793355060235),\n",
       " ('divertissement', 0.32843560933448573),\n",
       " ('documentaire téléjournal', 0.32737116995113624),\n",
       " ('flashes reportage', 0.32571822873336714),\n",
       " ('régionaux débats', 0.3228684183240903),\n",
       " ('portraits actualités', 0.32252940721967244),\n",
       " ('animation actualités', 0.32061704251056738),\n",
       " ('flashes rencontres', 0.32061704251056738),\n",
       " ('régionales rencontres', 0.31938514405420748),\n",
       " ('div', 0.31912771757196989),\n",
       " ('highlights interview', 0.31824284753207377),\n",
       " ('conseil emissions', 0.31781301247147503),\n",
       " ('interview rencontres', 0.31779801874875335),\n",
       " ('portraits interview', 0.31779801874875335),\n",
       " ('sportifs actualite', 0.31678984230857599),\n",
       " ('jazz interview', 0.31386291506999847),\n",
       " ('débats résultats', 0.30710878762942956),\n",
       " ('div interview', 0.30702977573013379),\n",
       " ('portraits téléjournal', 0.30702977573013379),\n",
       " ('adolescents information', 0.30523595980961521),\n",
       " ('peuples interview', 0.30450103051658794),\n",
       " ('religion emissions', 0.30366382822688276),\n",
       " ('service interview', 0.30260603600238367),\n",
       " ('adolescents commentaire', 0.30209169664415031),\n",
       " ('adolescents récit', 0.3014232398291638),\n",
       " ('flashes documentaire', 0.3003546601888607),\n",
       " ('flashes folklore', 0.30004670856479737),\n",
       " ('actualite emissions', 0.29265890714775544),\n",
       " ('direct actualités', 0.28888461940227833),\n",
       " ('peuples actualités', 0.28834132272690044),\n",
       " ('flashes cabaret', 0.28460363212625378),\n",
       " ('musique téléjournal', 0.28234365368067693),\n",
       " ('religieuses emissions', 0.28234365368067693),\n",
       " ('récit emissions', 0.28189615052190681),\n",
       " ('commentaire résultats', 0.28165398606862818),\n",
       " ('interview informations', 0.28086594152560707),\n",
       " ('fiction', 0.28056645169869021),\n",
       " ('tennis', 0.28051305253038905),\n",
       " ('débats emissions', 0.27899709622528374),\n",
       " ('adolescents rencontres', 0.27850972290316323),\n",
       " ('actualite résultats', 0.27558952624010802),\n",
       " ('débats autres', 0.27339056032431375),\n",
       " ('tennis direct', 0.27214148565849977),\n",
       " ('régionales pays', 0.27152171502399042),\n",
       " ('information actualite', 0.26883539879953916),\n",
       " ('théâtre actualités', 0.26658402298601624),\n",
       " ('humour téléjournal', 0.26404633382269704),\n",
       " ('entretiens rencontres', 0.26328036699687518),\n",
       " ('rencontres portraits', 0.26328036699687518),\n",
       " ('populaire téléjournal', 0.26208127135897025),\n",
       " ('interview folklore', 0.25843979792172705),\n",
       " ('portraits autres', 0.2580720123276411),\n",
       " ('interview div', 0.25649988074490859),\n",
       " ('peuples autres', 0.25649988074490859),\n",
       " ('sportifs plateaux', 0.25539835191472121),\n",
       " ('actualités téléjournal', 0.25532714391840139),\n",
       " ('ou', 0.2549277491621762),\n",
       " ('concours téléjournal', 0.25307576810487842),\n",
       " ('sportifs commentaire', 0.25178348599671124),\n",
       " ('médecine', 0.25096441672043368),\n",
       " ('médecine santé', 0.25096441672043368),\n",
       " ('santé', 0.25096441672043368),\n",
       " ('science téléjournal', 0.25096441672043368),\n",
       " ('sportifs société', 0.25096441672043368),\n",
       " ('interview jazz', 0.24857301647783248),\n",
       " ('médias résultats', 0.24722672611978702),\n",
       " ('interview int', 0.24549495966578133),\n",
       " ('religieuses arts', 0.2442362627522022),\n",
       " ('sportives interview', 0.24407026485078653),\n",
       " ('divers indicatif', 0.24392282808304888),\n",
       " ('int interview', 0.24235069650031643),\n",
       " ('peuples emissions', 0.24077856491758395),\n",
       " ('commentaire autres', 0.23920643333485142),\n",
       " ('nationaux ou', 0.23920643333485142),\n",
       " ('ou régionaux', 0.23920643333485142),\n",
       " ('peuples résultats', 0.23920643333485142),\n",
       " ('régionaux', 0.23920643333485142),\n",
       " ('sujets nationaux', 0.23920643333485142),\n",
       " ('highlights autres', 0.23865521817094265),\n",
       " ('société téléjournal', 0.23865521817094265),\n",
       " ('populaire interview', 0.23763430175211897),\n",
       " ('indicatif parlé', 0.23606217016938652),\n",
       " ('flashes politique', 0.23586469588031292),\n",
       " ('actualite information', 0.23506476159669468),\n",
       " ('religieuses actualités', 0.23506476159669468),\n",
       " ('sportives actualités', 0.23506476159669468),\n",
       " ('concours interview', 0.23136759523967818),\n",
       " ('médias autres', 0.22977364383845664),\n",
       " ('prédications autres', 0.22749312900842364),\n",
       " ('religieuses débats', 0.22749312900842364),\n",
       " ('sport autres', 0.22749312900842364),\n",
       " ('flashes science', 0.22666942781623031),\n",
       " ('science actualités', 0.22666942781623031),\n",
       " ('adolescents pays', 0.22480058251590701),\n",
       " ('religion résultats', 0.22480058251590701),\n",
       " ('sportifs débats', 0.22480058251590701),\n",
       " ('flashes jeux', 0.2238078825290799),\n",
       " ('enregistrement', 0.22293173721558368),\n",
       " ('musique interview', 0.22191298592479428),\n",
       " ('connaissance téléjournal', 0.22191208442716415),\n",
       " ('flashes musique', 0.21930513090203396),\n",
       " ('régionales théâtre', 0.21930513090203396),\n",
       " ('com', 0.21807060700751277),\n",
       " ('théâtre théâtre', 0.21807060700751277),\n",
       " ('ski', 0.21705375508851102),\n",
       " ('débat commentaire', 0.21562445959386439),\n",
       " ('adolescents débats', 0.213587510713967),\n",
       " ('ballets', 0.213587510713967),\n",
       " ('sportifs folklore', 0.21354051755527481),\n",
       " ('flashes jazz', 0.21074999526464508),\n",
       " ('adolescents cabaret', 0.20984982011332035),\n",
       " ('humour emissions', 0.20984982011332035),\n",
       " ('commentaire documentaire', 0.20743301642178044),\n",
       " ('commentaire débat', 0.20619167009746955),\n",
       " ('variétés variétés', 0.20619167009746955),\n",
       " ('service emissions', 0.20354550020737319),\n",
       " ('régionales sketch', 0.202374438912027),\n",
       " ('jazz téléjournal', 0.19958790610212607),\n",
       " ('religieuses pays', 0.19904274858032725),\n",
       " ('information commentaire', 0.19833101218380722),\n",
       " ('interview culture', 0.19833101218380722),\n",
       " ('divers parlé', 0.19812512465926463),\n",
       " ('highlights résultats', 0.19679738381149631),\n",
       " ('documentaire commentaire', 0.19679542583604812),\n",
       " ('flashes parlé', 0.19679137276680431),\n",
       " ('service informations', 0.19679137276680431),\n",
       " ('sportifs arts', 0.19675888060107474),\n",
       " ('sportifs pays', 0.19546572701283157),\n",
       " ('récit documentaire', 0.19518674901834229),\n",
       " ('sketch actualités', 0.19489905771073368),\n",
       " ('flashes culture', 0.19400686152086655),\n",
       " ('documentaire récit', 0.19361461743560984),\n",
       " ('documentaire documentaire', 0.19014693171996538),\n",
       " ('adolescents informations', 0.19003724532623539),\n",
       " ('interview cultes', 0.188425816939607),\n",
       " ('régionales science', 0.18732609110467996),\n",
       " ('adolescents folklore', 0.18553449369918945),\n",
       " ('direct résultats', 0.18553449369918945),\n",
       " ('connaissance interview', 0.18482813642709922),\n",
       " ('interview cabaret', 0.18482813642709922),\n",
       " ('sportifs rencontres', 0.18368598590879365),\n",
       " ('sportifs talk', 0.18368598590879365),\n",
       " ('alpin', 0.18328311788566651),\n",
       " ('alpin snowboard', 0.18328311788566651),\n",
       " ('musique autres', 0.18328311788566651),\n",
       " ('ski alpin', 0.18328311788566651),\n",
       " ('snowboard', 0.18328311788566651),\n",
       " ('flashes cultes', 0.18284477235834748),\n",
       " ('récit parlé', 0.18181714060847032),\n",
       " ('portraits résultats', 0.17789330160828509),\n",
       " ('information sujets', 0.17726372777708799),\n",
       " ('divers téléjournal', 0.17652899044509762),\n",
       " ('snowboard direct', 0.17652899044509762),\n",
       " ('sportifs politique', 0.17652899044509762),\n",
       " ('science interview', 0.17552024466458344),\n",
       " ('conseil actualités', 0.17447320548645825),\n",
       " ('jazz actualités', 0.17447320548645825),\n",
       " ('flashes actualite', 0.17427761463157462),\n",
       " ('humour interview', 0.1741905458413669),\n",
       " ('interview science', 0.1741905458413669),\n",
       " ('compagnie', 0.17317690686008771),\n",
       " ('emissions compagnie', 0.17317690686008771),\n",
       " ('sportifs jeux', 0.17317690686008771),\n",
       " ('interview sujets', 0.17247291410685361),\n",
       " ('actualite actualités', 0.17202623881805168),\n",
       " ('prédications interview', 0.17168268319582847),\n",
       " ('sketch parlé', 0.17153114819493381),\n",
       " ('highlights plateaux', 0.17060406880653028),\n",
       " ('concours emissions', 0.1700326436946227),\n",
       " ('direct autres', 0.16873522350620695),\n",
       " ('commentaire sketch', 0.16754205172528419),\n",
       " ('santé actualités', 0.16610163861456895),\n",
       " ('musique musique', 0.16531624894642535),\n",
       " ('conférence', 0.16488265407885111),\n",
       " ('jazz emissions', 0.16312868760523694),\n",
       " ('récit reportage', 0.1621719857809604),\n",
       " ('société emissions', 0.15939099700459028),\n",
       " ('religieuses commentaire', 0.15851798393691391),\n",
       " ('divers sketch', 0.15823415996276841),\n",
       " ('reportage sketch', 0.15823415996276841),\n",
       " ('sketch commentaire', 0.15823415996276841),\n",
       " ('direct football', 0.15773007174267969),\n",
       " ('sportifs variétés', 0.15773007174267969),\n",
       " ('flashes sketch', 0.15745559103276296),\n",
       " ('reportage récit', 0.15745559103276296),\n",
       " ('sketch reportage', 0.15557476231633532),\n",
       " ('sketch sketch', 0.15557476231633532),\n",
       " ('humour folklore', 0.15493954945204994),\n",
       " ('populaire cabaret', 0.15493954945204994),\n",
       " ('sketch téléjournal', 0.15431132786729804),\n",
       " ('actualite téléjournal', 0.15401523230986797),\n",
       " ('sportives résultats', 0.15378446110362026),\n",
       " ('théâtre emissions', 0.15378446110362026),\n",
       " ('clips', 0.15191561580329691),\n",
       " ('pop', 0.15191561580329691),\n",
       " ('pop rock', 0.15191561580329691),\n",
       " ('rock', 0.15191561580329691),\n",
       " ('rock clips', 0.15191561580329691),\n",
       " ('interview musique', 0.14959493311910063),\n",
       " ('politique actualités', 0.14935850487079042),\n",
       " ('régionales consommation', 0.14935850487079042),\n",
       " ('sportifs cultes', 0.14935850487079042),\n",
       " ('régionales jazz', 0.14726110486929911),\n",
       " ('information musique', 0.14656798258016066),\n",
       " ('religieuses musique', 0.14656798258016066),\n",
       " ('récit talk', 0.14656798258016066),\n",
       " ('divers récit', 0.14493717173060303),\n",
       " ('concours résultats', 0.14487853837090323),\n",
       " ('animaux', 0.14444023460200361),\n",
       " ('divers reportage', 0.14444023460200361),\n",
       " ('nature', 0.14444023460200361),\n",
       " ('nature animaux', 0.14444023460200361),\n",
       " ('science emissions', 0.14360747290738646),\n",
       " ('football enregistrement', 0.14275835324225317),\n",
       " ('médias arts', 0.14227777408416989),\n",
       " ('adolescents musique', 0.14173427520543824),\n",
       " ('reportage autres', 0.14173427520543824),\n",
       " ('information débats', 0.14098693799890114),\n",
       " ('prédications téléjournal', 0.14098693799890114),\n",
       " ('service résultats', 0.14050697742873017),\n",
       " ('société autres', 0.13819641570827135),\n",
       " ('suisses', 0.13695897879130373),\n",
       " ('direct sujets', 0.13600422580168428),\n",
       " ('animation commentaire', 0.13562927996808721),\n",
       " ('actualités interview', 0.13544574887450839),\n",
       " ('direct plateaux', 0.13540589341764162),\n",
       " ('religieuses culture', 0.13540589341764162),\n",
       " ('théâtre téléjournal', 0.13540589341764162),\n",
       " ('reportage actualités', 0.13509600810038694),\n",
       " ('shows résultats', 0.13509600810038694),\n",
       " ('animation autres', 0.13375284998816128),\n",
       " ('populaire résultats', 0.13375284998816128),\n",
       " ('politique interview', 0.13322716280006358),\n",
       " ('récit résultats', 0.13322716280006358),\n",
       " ('sportifs information', 0.13322716280006358),\n",
       " ('durée actualités', 0.13261537112701188),\n",
       " ('flashes théâtre', 0.13261537112701188),\n",
       " ('commentaire actualite', 0.13150147417463837),\n",
       " ('durée interview', 0.13150147417463837),\n",
       " ('déclaration reportage', 0.13150147417463837),\n",
       " ('adolescents jazz', 0.13135831749974025),\n",
       " ('information plateaux', 0.12982484883638212),\n",
       " ('régionales jeux', 0.12948947219941695),\n",
       " ('connaissance actualités', 0.1292500983611154),\n",
       " ('régionales culture', 0.1292500983611154),\n",
       " ('commentaire animation', 0.12765108702878797),\n",
       " ('peuples arts', 0.12758509096084605),\n",
       " ('shows informations', 0.12699872254759242),\n",
       " ('sportives téléjournal', 0.12699872254759242),\n",
       " ('sportives autres', 0.12601295937811358),\n",
       " ('déclaration déclaration', 0.12499168938235489),\n",
       " ('actualite commentaire', 0.12474734673406944),\n",
       " ('conseil résultats', 0.12474734673406944),\n",
       " ('régionales médecine', 0.12424380425512258),\n",
       " ('régionales plateaux', 0.12424380425512258),\n",
       " ('reportage parlé', 0.12388293629844692),\n",
       " ('connaissance autres', 0.1224959709205465),\n",
       " ('politique autres', 0.1224959709205465),\n",
       " ('adolescents politique', 0.12201409099812359),\n",
       " ('fiction actualités', 0.12145328196449283),\n",
       " ('information cultes', 0.12145328196449283),\n",
       " ('sportifs jazz', 0.12145328196449283),\n",
       " ('actualités emissions', 0.12129656462991617),\n",
       " ('déclaration actualités', 0.12024459510702352),\n",
       " ('service talk', 0.12024459510702352),\n",
       " ('com interview', 0.11866275967386307),\n",
       " ('régionales fiction', 0.11866275967386307),\n",
       " ('variétés commentaire', 0.11834319526627218),\n",
       " ('régionales déclaration', 0.1182764003974769),\n",
       " ('populaire emissions', 0.11815230146445124),\n",
       " ('adolescents jeux', 0.11701349644305564),\n",
       " ('direct interview', 0.11658016988171878),\n",
       " ('information pays', 0.11640755509715359),\n",
       " ('religieuses sport', 0.11587223738323332),\n",
       " ('multiples', 0.1157418434799776),\n",
       " ('reportage débat', 0.1157418434799776),\n",
       " ('valeurs', 0.1157418434799776),\n",
       " ('valeurs multiples', 0.1157418434799776),\n",
       " ('régionales actualite', 0.11453870979683023),\n",
       " ('théâtre commentaire', 0.11435409879662255),\n",
       " ('débat actualités', 0.11349046766645465),\n",
       " ('interview sport', 0.11349046766645465),\n",
       " ('sportifs informations', 0.11349046766645465),\n",
       " ('information rencontres', 0.11343590671625381),\n",
       " ('athlétisme', 0.11308171509260356),\n",
       " ('athlétisme direct', 0.11308171509260356),\n",
       " ('religieux service', 0.11308171509260356),\n",
       " ('société résultats', 0.11266986449650691),\n",
       " ('information arts', 0.11186377513352135),\n",
       " ('commentaire politique', 0.11123909185293168),\n",
       " ('interview conférence', 0.11080101919618357),\n",
       " ('médias pays', 0.11036500232697294),\n",
       " ('consommation actualités', 0.1102911928019738),\n",
       " ('information football', 0.1102911928019738),\n",
       " ('reportage déclaration', 0.10898771603940871),\n",
       " ('documentaire sketch', 0.10770560468053984),\n",
       " ('sketch documentaire', 0.10770560468053984),\n",
       " ('cyclisme', 0.10750067051134404),\n",
       " ('direct hockey', 0.10750067051134404),\n",
       " ('interview football', 0.10750067051134404),\n",
       " ('prédications résultats', 0.10750067051134404),\n",
       " ('religion autres', 0.10714738038532394),\n",
       " ('adolescents théâtre', 0.1070633285955369),\n",
       " ('concerts interview', 0.1070633285955369),\n",
       " ('médias politique', 0.1070633285955369),\n",
       " ('reportage résultats', 0.1070633285955369),\n",
       " ('int int', 0.10637590585732332),\n",
       " ('débats actualités', 0.10519448329521357),\n",
       " ('histoire actualités', 0.10519448329521357),\n",
       " ('régionales reportage', 0.10519448329521357),\n",
       " ('actualite autres', 0.10448496441236277),\n",
       " ('connaissance actualite', 0.10448496441236277),\n",
       " ('fiction interview', 0.10448496441236277),\n",
       " ('sportifs culture', 0.10332563799489024),\n",
       " ('théâtrales', 0.10332563799489024),\n",
       " ('commentaire variétés', 0.10243098563712651),\n",
       " ('glace enregistrement', 0.10191962593008452),\n",
       " ('highlights sujets', 0.10191962593008452),\n",
       " ('sport actualités', 0.10191962593008452),\n",
       " ('actualite arts', 0.10145679269456688),\n",
       " ('commentaire théâtre', 0.10105711056445714),\n",
       " ('émissions divertissement', 0.10105711056445714),\n",
       " ('musique emissions', 0.10085885405439404),\n",
       " ('autres emissions', 0.099727411741240612),\n",
       " ('régionales histoire', 0.099587947394243551),\n",
       " ('adolescents science', 0.099286722471661579),\n",
       " ('sportifs cabaret', 0.099286722471661579),\n",
       " ('cyclisme direct', 0.099129103639454777),\n",
       " ('highlights actualités', 0.099129103639454777),\n",
       " ('politique résultats', 0.099129103639454777),\n",
       " ('débat reportage', 0.097730836971793883),\n",
       " ('sportifs sujets', 0.097730836971793883),\n",
       " ('animation résultats', 0.097714590888929115),\n",
       " ('médias commentaire', 0.097714590888929115),\n",
       " ('régionales hockey', 0.096338581348825017),\n",
       " ('divers emissions', 0.095850256793596877),\n",
       " ('politique sujets', 0.095850256793596877),\n",
       " ('actualite culture', 0.095479461158270926),\n",
       " ('documentaire débat', 0.095479461158270926),\n",
       " ('flashes animation', 0.095479461158270926),\n",
       " ('connaissance emissions', 0.094570327723464173),\n",
       " ('religion commentaire', 0.094570327723464173),\n",
       " ('conseil débats', 0.093548059058195229),\n",
       " ('populaire actualités', 0.093548059058195229),\n",
       " ('didactiques actualités', 0.093228085344747982),\n",
       " ('religion politique', 0.092112566192950232),\n",
       " ('adolescents culture', 0.091426064557999245),\n",
       " ('médias théâtre', 0.090976709531225011),\n",
       " ('sport interview', 0.090976709531225011),\n",
       " ('direct tennis', 0.090757536767565497),\n",
       " ('interview consommation', 0.090757536767565497),\n",
       " ('interview hockey', 0.090757536767565497),\n",
       " ('politique entretiens', 0.090757536767565497),\n",
       " ('portraits sujets', 0.090757536767565497),\n",
       " ('religieuses cultes', 0.090757536767565497),\n",
       " ('religieux commentaire', 0.090757536767565497),\n",
       " ('commentaire information', 0.090419519978724813),\n",
       " ('captations', 0.090243720892626889),\n",
       " ('captations théâtrales', 0.090243720892626889),\n",
       " ('shows récit', 0.090243720892626889),\n",
       " ('théâtre résultats', 0.090243720892626889),\n",
       " ('sportifs animation', 0.089853932975266768),\n",
       " ('médias folklore', 0.08872533371770204),\n",
       " ('société commentaire', 0.08872533371770204),\n",
       " ('information reportage', 0.088374875592303559),\n",
       " ('opéras', 0.088374875592303559),\n",
       " ('commentaire arts', 0.08828180139253429),\n",
       " ('concerts actualités', 0.087967014476935723),\n",
       " ('variétés emissions', 0.086506030291980215),\n",
       " ('flashes débat', 0.086473957904179069),\n",
       " ('régionales football', 0.085176492186305977),\n",
       " ('conférence interview', 0.085137538227069348),\n",
       " ('humour résultats', 0.085137538227069348),\n",
       " ('divers animation', 0.08510072468585865),\n",
       " ('commentaire société', 0.084637184991656886),\n",
       " ('documentaire emissions', 0.084637184991656886),\n",
       " ('concerts téléjournal', 0.084222582090656084),\n",
       " ('religieuses rencontres', 0.084222582090656084),\n",
       " ('humour arts', 0.08356540664433687),\n",
       " ('interview concerts', 0.08356540664433687),\n",
       " ('débats jeux', 0.082768339691333542),\n",
       " ('musicales interview', 0.082441327039425555),\n",
       " ('sportifs récit', 0.082441327039425555),\n",
       " ('commentaire service', 0.082385969895676203),\n",
       " ('débat téléjournal', 0.082385969895676203),\n",
       " ('histoire téléjournal', 0.082385969895676203),\n",
       " ('compagnie actualités', 0.081971206277133141),\n",
       " ('sportifs théâtre', 0.081971206277133141),\n",
       " ('débat documentaire', 0.080899494391010213),\n",
       " ('théâtre autres', 0.080899494391010213),\n",
       " ('animation emissions', 0.080421143478871929),\n",
       " ('sportifs reportage', 0.080421143478871929),\n",
       " ('régionales débat', 0.07971983046361017),\n",
       " ('shows information', 0.07971983046361017),\n",
       " ('variétés résultats', 0.07971983046361017),\n",
       " ('concerts autres', 0.079595447605046457),\n",
       " ('débats cultes', 0.079595447605046457),\n",
       " ('service autres', 0.079595447605046457),\n",
       " ('interview com', 0.079030649090686869),\n",
       " ('musicales actualités', 0.079030649090686869),\n",
       " ('reportage animation', 0.079030649090686869),\n",
       " ('commentaire pays', 0.078849011896139465),\n",
       " ('connaissance résultats', 0.078849011896139465),\n",
       " ('déclaration téléjournal', 0.077468454650087212),\n",
       " ('régionales documentaire', 0.077468454650087212),\n",
       " ('divers documentaire', 0.077161803790363553),\n",
       " ('documentaire parlé', 0.077161803790363553),\n",
       " ('société société', 0.077161803790363553),\n",
       " ('musique débats', 0.076804925314416697),\n",
       " ('prédications débats', 0.076804925314416697),\n",
       " ('prédications emissions', 0.076804925314416697),\n",
       " ('régionales folklore', 0.076804925314416697),\n",
       " ('sportifs hockey', 0.076804925314416697),\n",
       " ('sportives animation', 0.076804925314416697),\n",
       " ('int commentaire', 0.075792832923342865),\n",
       " ('conseil talk', 0.075292958490040196),\n",
       " ('consommation interview', 0.074014403023786937),\n",
       " ('débats musique', 0.074014403023786937),\n",
       " ('débats pays', 0.074014403023786937),\n",
       " ('déclaration autres', 0.074014403023786937),\n",
       " ('humour actualite', 0.074014403023786937),\n",
       " ('jazz résultats', 0.074014403023786937),\n",
       " ('religieuses actualite', 0.074014403023786937),\n",
       " ('régionales shows', 0.073424113189716866),\n",
       " ('sportifs documentaire', 0.073424113189716866),\n",
       " ('sportifs science', 0.073424113189716866),\n",
       " ('conseil autres', 0.072965703023041284),\n",
       " ('religieuses reportage', 0.072965703023041284),\n",
       " ('régionales sport', 0.072965703023041284),\n",
       " ('information documentaire', 0.071555267889393537),\n",
       " ('société arts', 0.071555267889393537),\n",
       " ('basket', 0.071223880733157177),\n",
       " ('basket ball', 0.071223880733157177),\n",
       " ('flashes déclaration', 0.071223880733157177),\n",
       " ('médias société', 0.070988353982477118),\n",
       " ('populaire arts', 0.070714327209518313),\n",
       " ('science autres', 0.070714327209518313),\n",
       " ('société politique', 0.070474037630476688),\n",
       " ('interview histoire', 0.06941622239974464),\n",
       " ('animation parlé', 0.069144338807260147),\n",
       " ('concours autres', 0.069144338807260147),\n",
       " ('animation pays', 0.068462951395995356),\n",
       " ('déclaration parlé', 0.068462951395995356),\n",
       " ('récit informations', 0.068462951395995356),\n",
       " ('divertissement téléjournal', 0.068433358442527417),\n",
       " ('malentendants', 0.068433358442527417),\n",
       " ('religieuses folklore', 0.068433358442527417),\n",
       " ('religieuses politique', 0.068433358442527417),\n",
       " ('sourds', 0.068433358442527417),\n",
       " ('sourds malentendants', 0.068433358442527417),\n",
       " ('didactiques emissions', 0.067844090817012176),\n",
       " ('populaire autres', 0.067844090817012176),\n",
       " ('débat récit', 0.067817577288746864),\n",
       " ('sketch récit', 0.067814639984043606),\n",
       " ('récit sketch', 0.066484941160827066),\n",
       " ('etrangers', 0.066271959234279698),\n",
       " ('indicatif commentaire', 0.066271959234279698),\n",
       " ('decl', 0.066211575582472385),\n",
       " ('médias variétés', 0.066211575582472385),\n",
       " ('divers déclaration', 0.065948731988423534),\n",
       " ('interview médecine', 0.065642836151897671),\n",
       " ('religieuses concerts', 0.065642836151897671),\n",
       " ('shows rencontres', 0.065642836151897671),\n",
       " ('concours jeux', 0.065155242337610525),\n",
       " ('documentaire autres', 0.064699827651547234),\n",
       " ('com commentaire', 0.064079886688100204),\n",
       " ('information société', 0.064079886688100204),\n",
       " ('divers résultats', 0.063960199768949427),\n",
       " ('régionales concerts', 0.063960199768949427),\n",
       " ('actualite cabaret', 0.062852313861267911),\n",
       " ('adolescents cultes', 0.062852313861267911),\n",
       " ('highlights reportage', 0.062852313861267911),\n",
       " ('politique football', 0.062852313861267911),\n",
       " ('religieuses variétés', 0.062852313861267911),\n",
       " ('commentaire int', 0.062495844691177443),\n",
       " ('divertissement interview', 0.062495844691177443),\n",
       " ('information récit', 0.062495844691177443),\n",
       " ('récit actualités', 0.062211041387776861),\n",
       " ('récit déclaration', 0.062211041387776861),\n",
       " ('débats commentaire', 0.061708823955426456),\n",
       " ('flashes variétés', 0.061708823955426456),\n",
       " ('animation reportage', 0.061555564486082293),\n",
       " ('information jeux', 0.061555564486082293),\n",
       " ('médias actualite', 0.061166145867960903),\n",
       " ('régionales récit', 0.060342196087453524),\n",
       " ('politique plateaux', 0.060061791570638144),\n",
       " ('sportifs déclaration', 0.060061791570638144),\n",
       " ('sportifs football', 0.060061791570638144),\n",
       " ('sportives politique', 0.060061791570638144),\n",
       " ('suisses actualités', 0.060061791570638144),\n",
       " ('animation documentaire', 0.059983432903349815),\n",
       " ('int com', 0.059983432903349815),\n",
       " ('adolescents variétés', 0.059457448141903492),\n",
       " ('information talk', 0.059457448141903492),\n",
       " ('peuples débats', 0.059457448141903492),\n",
       " ('religion jazz', 0.059457448141903492),\n",
       " ('débat débat', 0.058506748221527821),\n",
       " ('ball', 0.058473350787130188),\n",
       " ('concours débats', 0.058473350787130188),\n",
       " ('conseil arts', 0.058411301320617351),\n",
       " ('actualite théâtre', 0.057271269280008391),\n",
       " ('flashes religion', 0.057271269280008391),\n",
       " ('information déclaration', 0.057271269280008391),\n",
       " ('information informations', 0.057271269280008391),\n",
       " ('peuples talk', 0.057271269280008391),\n",
       " ('portraits jazz', 0.057271269280008391),\n",
       " ('religieuses animation', 0.057271269280008391),\n",
       " ('conseil science', 0.057206072328380535),\n",
       " ('didactiques arts', 0.057206072328380535),\n",
       " ('portraits talk', 0.057206072328380535),\n",
       " ('religieuses société', 0.057206072328380535),\n",
       " ('sportives variétés', 0.057206072328380535),\n",
       " ('reportage emissions', 0.057177049398311273),\n",
       " ('religion rencontres', 0.056839169737884866),\n",
       " ('adolescents animation', 0.056604505486806851),\n",
       " ('animation téléjournal', 0.056604505486806851),\n",
       " ('animaux interview', 0.056604505486806851),\n",
       " ('déclaration récit', 0.056604505486806851),\n",
       " ('récit débat', 0.056604505486806851),\n",
       " ('sketch débat', 0.056604505486806851),\n",
       " ('variétés téléjournal', 0.056604505486806851),\n",
       " ('adolescents documentaire', 0.055267038155152402),\n",
       " ('sportives arts', 0.055267038155152402),\n",
       " ('conseil société', 0.054954696514857571),\n",
       " ('documentaire déclaration', 0.054954696514857571),\n",
       " ('information entretiens', 0.054954696514857571),\n",
       " ('musicales téléjournal', 0.054954696514857571),\n",
       " ('sportifs musique', 0.054954696514857571),\n",
       " ('ball direct', 0.054735660186483522),\n",
       " ('portraits société', 0.054735660186483522),\n",
       " ('feuilletons', 0.054517651751878199),\n",
       " ('interview shows', 0.054517651751878199),\n",
       " ('série', 0.054517651751878199),\n",
       " ('série feuilletons', 0.054517651751878199),\n",
       " ('direct entretiens', 0.054480746989378631),\n",
       " ('débats talk', 0.054480746989378631),\n",
       " ('déclaration arts', 0.054480746989378631),\n",
       " ('interview tennis', 0.054480746989378631),\n",
       " ('religieuses théâtre', 0.054480746989378631),\n",
       " ('variétés pays', 0.054480746989378631),\n",
       " ('didactiques interview', 0.053694906572419938),\n",
       " ('information animation', 0.053694906572419938),\n",
       " ('concerts emissions', 0.052866814886160178),\n",
       " ('débat sketch', 0.052866814886160178),\n",
       " ('actualite pays', 0.052703320701334599),\n",
       " ('durée autres', 0.052703320701334599),\n",
       " ('débats culture', 0.052703320701334599),\n",
       " ('enregistrements', 0.052703320701334599),\n",
       " ('enregistrements résumés', 0.052703320701334599),\n",
       " ('information débat', 0.052703320701334599),\n",
       " ('musique résultats', 0.052703320701334599),\n",
       " ('peuples cabaret', 0.052703320701334599),\n",
       " ('résumés', 0.052703320701334599),\n",
       " ('shows arts', 0.052703320701334599),\n",
       " ('sportifs entretiens', 0.052703320701334599),\n",
       " ('sportifs suisses', 0.052703320701334599),\n",
       " ('adolescents parlé', 0.052122774989687461),\n",
       " ('portraits commentaire', 0.052122774989687461),\n",
       " ('religion arts', 0.05185825410544511),\n",
       " ('religion récit', 0.05185825410544511),\n",
       " ('etrangers interview', 0.051690224698748871),\n",
       " ('jazz autres', 0.051690224698748871),\n",
       " ('peuples plateaux', 0.051690224698748871),\n",
       " ('shows musique', 0.051690224698748871),\n",
       " ('société variétés', 0.051690224698748871),\n",
       " ('sportives sport', 0.051690224698748871),\n",
       " ('déclaration emissions', 0.050997969585836855),\n",
       " ('film', 0.050997969585836855),\n",
       " ('interview fiction', 0.050997969585836855),\n",
       " ('com int', 0.05055064340695499),\n",
       " ('commentaire com', 0.05055064340695499),\n",
       " ('actualités jeux', 0.050451944887811642),\n",
       " ('humour pays', 0.050451944887811642),\n",
       " ('peuples jazz', 0.050451944887811642),\n",
       " ('populaire rencontres', 0.050451944887811642),\n",
       " ('religion reportage', 0.050451944887811642),\n",
       " ('reportage théâtre', 0.050451944887811642),\n",
       " ('documentaire résultats', 0.049129124285513505),\n",
       " ('interview indicatif', 0.049129124285513505),\n",
       " ('musicales autres', 0.049129124285513505),\n",
       " ('actualite folklore', 0.048899702408119118),\n",
       " ('conseil actualite', 0.048899702408119118),\n",
       " ('enregistrement football', 0.048899702408119118),\n",
       " ('highlights football', 0.048899702408119118),\n",
       " ('highlights hockey', 0.048899702408119118),\n",
       " ('religieuses plateaux', 0.048899702408119118),\n",
       " ('société science', 0.048899702408119118),\n",
       " ('conseil récit', 0.048200569074288671),\n",
       " ('documentaire actualités', 0.048200569074288671),\n",
       " ('durée sujets', 0.048200569074288671),\n",
       " ('déclaration résultats', 0.048200569074288671),\n",
       " ('flashes concerts', 0.048200569074288671),\n",
       " ('religion variétés', 0.048200569074288671),\n",
       " ('commentaire rencontres', 0.047869157635795488),\n",
       " ('information information', 0.047869157635795488),\n",
       " ('peuples commentaire', 0.047406380241490055),\n",
       " ('commentaire talk', 0.047260278985190168),\n",
       " ('débat autres', 0.047260278985190168),\n",
       " ('médias débats', 0.047260278985190168),\n",
       " ('théâtre arts', 0.047260278985190168),\n",
       " ('cinéma', 0.04653945881257894),\n",
       " ('indicatif indicatif', 0.04653945881257894),\n",
       " ('récit théâtre', 0.04653945881257894),\n",
       " ('actualite sport', 0.046109180117489344),\n",
       " ('ballets téléjournal', 0.046109180117489344),\n",
       " ('compagnie politique', 0.046109180117489344),\n",
       " ('médias déclaration', 0.046109180117489344),\n",
       " ('portraits animation', 0.046109180117489344),\n",
       " ('portraits football', 0.046109180117489344),\n",
       " ('variétés actualite', 0.046109180117489344),\n",
       " ('adolescents déclaration', 0.045949193260765707),\n",
       " ('concours folklore', 0.045949193260765707),\n",
       " ('flashes histoire', 0.045949193260765707),\n",
       " ('jazz société', 0.045949193260765707),\n",
       " ('médias talk', 0.045949193260765707),\n",
       " ('shows autres', 0.045949193260765707),\n",
       " ('sportifs concerts', 0.045949193260765707),\n",
       " ('médias animation', 0.045834248658757584),\n",
       " ('récit arts', 0.045834248658757584),\n",
       " ('flashes shows', 0.045391433684866846),\n",
       " ('information politique', 0.045391433684866846),\n",
       " ('reportage pays', 0.045391433684866846),\n",
       " ('concours information', 0.04426211707602512),\n",
       " ('ballets interview', 0.04369781744724275),\n",
       " ('débat parlé', 0.04369781744724275),\n",
       " ('histoire étrangère', 0.04369781744724275),\n",
       " ('peuples reportage', 0.04369781744724275),\n",
       " ('service récit', 0.04369781744724275),\n",
       " ('sportifs religion', 0.04369781744724275),\n",
       " ('sportifs shows', 0.04369781744724275),\n",
       " ('étrangère', 0.04369781744724275),\n",
       " ('adolescents concerts', 0.043522588384543509),\n",
       " ('adolescents reportage', 0.043522588384543509),\n",
       " ('débats rencontres', 0.043522588384543509),\n",
       " ('int emissions', 0.043522588384543509),\n",
       " ('jazz arts', 0.043522588384543509),\n",
       " ('régionales débats', 0.043522588384543509),\n",
       " ('actualite musique', 0.043318657826859591),\n",
       " ('concours hippiques', 0.043318657826859591),\n",
       " ('consommation autres', 0.043318657826859591),\n",
       " ('direct athlétisme', 0.043318657826859591),\n",
       " ('direct ski', 0.043318657826859591),\n",
       " ('débats variétés', 0.043318657826859591),\n",
       " ('film interview', 0.043318657826859591),\n",
       " ('highlights jeux', 0.043318657826859591),\n",
       " ('hippiques', 0.043318657826859591),\n",
       " ('jazz folklore', 0.043318657826859591),\n",
       " ('prédications rencontres', 0.043318657826859591),\n",
       " ('reportage actualite', 0.043318657826859591),\n",
       " ('régionales suisses', 0.043318657826859591),\n",
       " ('société animation', 0.043318657826859591),\n",
       " ('théâtre actualite', 0.043318657826859591),\n",
       " ('variétés politique', 0.043318657826859591),\n",
       " ('documentaire animation', 0.042689985493292636),\n",
       " ('science résultats', 0.042689985493292636),\n",
       " ('divertissement emissions', 0.042550362342929325),\n",
       " ('histoire interview', 0.042550362342929325),\n",
       " ('humour cabaret', 0.042550362342929325),\n",
       " ('concours société', 0.041653743084220173),\n",
       " ('information science', 0.041653743084220173),\n",
       " ('portraits débats', 0.041653743084220173),\n",
       " ('sportives société', 0.041653743084220173),\n",
       " ('théâtre reportage', 0.041653743084220173),\n",
       " ('animation débat', 0.041446441633719772),\n",
       " ('conseil commentaire', 0.041446441633719772),\n",
       " ('documentaire variétés', 0.041446441633719772),\n",
       " ('déclaration sketch', 0.041446441633719772),\n",
       " ('interview film', 0.041446441633719772),\n",
       " ('musicales résultats', 0.041446441633719772),\n",
       " ('médias jazz', 0.041446441633719772),\n",
       " ('régionales divertissement', 0.041446441633719772),\n",
       " ('concours cabaret', 0.041117853910560172),\n",
       " ('consommation sujets', 0.040528135536229831),\n",
       " ('fiction résultats', 0.040528135536229831),\n",
       " ('fond', 0.040528135536229831),\n",
       " ('médias musique', 0.040528135536229831),\n",
       " ('religieuses information', 0.040528135536229831),\n",
       " ('reportage plateaux', 0.040528135536229831),\n",
       " ('ski fond', 0.040528135536229831),\n",
       " ('suisses autres', 0.040528135536229831),\n",
       " ('commentaire indicatif', 0.039890964696496237),\n",
       " ('peuples animation', 0.039784897783896836),\n",
       " ('animation récit', 0.039545722327827694),\n",
       " ('débats débats', 0.039545722327827694),\n",
       " ('humour autres', 0.039545722327827694),\n",
       " ('suisses interview', 0.039545722327827694),\n",
       " ('variétés théâtre', 0.039545722327827694),\n",
       " ('animation actualite', 0.039195065820196814),\n",
       " ('commentaire plateaux', 0.039195065820196814),\n",
       " ('conseil pays', 0.039195065820196814),\n",
       " ('conseil rencontres', 0.039195065820196814),\n",
       " ('direct jeux', 0.039195065820196814),\n",
       " ('histoire résultats', 0.039195065820196814),\n",
       " ('politique jeux', 0.039195065820196814),\n",
       " ('religion débats', 0.039195065820196814),\n",
       " ('reportage rencontres', 0.039195065820196814),\n",
       " ('service musique', 0.039195065820196814),\n",
       " ('variétés reportage', 0.039195065820196814),\n",
       " ('médias cabaret', 0.038561265873279703),\n",
       " ('sketch autres', 0.038561265873279703),\n",
       " ('religion animation', 0.037973590745095223),\n",
       " ('sportives emissions', 0.037973590745095223),\n",
       " ('concours talk', 0.037916052483573506),\n",
       " ('peuples politique', 0.037916052483573506),\n",
       " ('direct consommation', 0.037737613245600078),\n",
       " ('durée résultats', 0.037737613245600078),\n",
       " ('débats plateaux', 0.037737613245600078),\n",
       " ('enregistrement sujets', 0.037737613245600078),\n",
       " ('fond direct', 0.037737613245600078),\n",
       " ('highlights débats', 0.037737613245600078),\n",
       " ('highlights ski', 0.037737613245600078),\n",
       " ('hippiques direct', 0.037737613245600078),\n",
       " ('jazz commentaire', 0.037737613245600078),\n",
       " ('médias cultes', 0.037737613245600078),\n",
       " ('politique nature', 0.037737613245600078),\n",
       " ('prédications animation', 0.037737613245600078),\n",
       " ('prédications musique', 0.037737613245600078),\n",
       " ('religieuses déclaration', 0.037737613245600078),\n",
       " ('santé interview', 0.037737613245600078),\n",
       " ('sportives pays', 0.037737613245600078),\n",
       " ('variétés arts', 0.037737613245600078),\n",
       " ('portraits pays', 0.037231567050063162),\n",
       " ('religion information', 0.037231567050063162),\n",
       " ('rep', 0.037231567050063162),\n",
       " ('déclaration théâtre', 0.03694369000667385),\n",
       " ('highlights pays', 0.03694369000667385),\n",
       " ('histoire autres', 0.03694369000667385),\n",
       " ...]"
      ]
     },
     "execution_count": 283,
     "metadata": {},
     "output_type": "execute_result"
    }
   ],
   "source": [
    "Counter(counters_program_lifespan.loc['very long'].genres).most_common()"
   ]
  },
  {
   "cell_type": "code",
   "execution_count": null,
   "metadata": {},
   "outputs": [],
   "source": []
  },
  {
   "cell_type": "markdown",
   "metadata": {},
   "source": [
    "# Gender"
   ]
  },
  {
   "cell_type": "markdown",
   "metadata": {},
   "source": [
    "Over the last two decades, gender eqaulity has grown as one of the main concerns of developped countries. There are even metrics (as Gender Inequality Index) and annual reports on that subject. \n",
    "It's a known fact that Switzerland, unlike Scandinavian counrties, is not the best model in that specific field.<br>\n",
    "\n",
    "In that part, we would like to analyse, through the RTS dataset, the evolution of gender representation on RTS programs over the years. Namely, we would like to answer the following questions: <br>\n",
    "How has the distribution of genders for anchors and presenters evolved over the course of the years?<br> Was there a gender bias? If yes, how has it changed? \n",
    "What about gender evolution per role, i.e. director, presentor, interviewers, etc. ?"
   ]
  },
  {
   "cell_type": "code",
   "execution_count": 243,
   "metadata": {},
   "outputs": [],
   "source": [
    "import requests,json\n",
    "import pandas as pd\n",
    "import numpy as np\n",
    "import copy\n",
    "import csv\n",
    "import matplotlib.pyplot as plt\n",
    "from json_data_getter import get_all_json\n",
    "import plotly\n",
    "\n",
    "#plotly.tools.set_credentials_file(username='sfa', api_key='dYSNYCTetzyhxfSKo0Cp')\n",
    "plotly.tools.set_credentials_file(username='Jvj', api_key='2olbZsRiUzIhtwxWsPQy')\n",
    "\n",
    "\n",
    "import warnings\n",
    "warnings.filterwarnings(\"ignore\")"
   ]
  },
  {
   "cell_type": "markdown",
   "metadata": {},
   "source": [
    "<b>Utilitary functions</b><br>\n",
    "The python script getGenders.py is executed separetly to this notebook to create a csv file in dictionary format with firstnames and their corresponding genders. "
   ]
  },
  {
   "cell_type": "code",
   "execution_count": 3,
   "metadata": {},
   "outputs": [],
   "source": [
    "def getgenderDict():\n",
    "    \"\"\"\n",
    "    We stored (see getGenders.py) all the firstnames in RTS dataset in a csv file.\n",
    "    Here we load it into a dictionary.\n",
    "    \"\"\"\n",
    "    with open('../dataset/gender.csv', mode='r') as infile:\n",
    "        reader = csv.reader(infile)\n",
    "        genderdict = dict((rows[0], rows[1]) for rows in reader)\n",
    "    return genderdict\n",
    "\n",
    "def getListRoles():\n",
    "    \"\"\"\n",
    "    The 'contributors' columns contains many human roles, e.g. Interviewé,Directeur, etc.\n",
    "    Here we return the list of all roles.\n",
    "    \"\"\"\n",
    "    listRoles =  [list(role.keys()) for role in [roles for roles in df_Roles.contributors.values] if isinstance(role, dict)]    \n",
    "    listRoles = set([item.replace(\"/\",\"\").replace(\" \",\"\").replace(\"'\",'') for sublist in listRoles for item in sublist])\n",
    "    return sorted(list(listRoles))\n",
    "\n",
    "def removeYearsFromRolesDict(roles):\n",
    "    \"\"\"\n",
    "    The 'contributors' columns contains many human roles, e.g. Interviewé,Directeur, etc.\n",
    "    Here we return the list of all roles.\n",
    "    \"\"\"\n",
    "    for role,dico in roles.items():\n",
    "        if dico:\n",
    "            for name in list(dico.keys()):\n",
    "                firstnameLastname = name.split('-')[0]+'-'+name.split('-')[1]\n",
    "                #print(name.split('-')[0:3])\n",
    "                dico[firstnameLastname] = dico.pop(name)\n",
    "    return roles"
   ]
  },
  {
   "cell_type": "markdown",
   "metadata": {},
   "source": [
    "Now let's explore the names and genders in more details<br>\n",
    "As we wish to analyse firstname over the years, we remove all elements that don't contain date information or name of the contributors.<br>\n",
    "For a better visualisation, we remove all columns that are not necessary  for this part.<br>\n",
    "We can see below what a contributor field looks like. It's a dictionary (different roles) of dictionary (person related information).\n"
   ]
  },
  {
   "cell_type": "code",
   "execution_count": 28,
   "metadata": {
    "scrolled": true
   },
   "outputs": [
    {
     "data": {
      "text/html": [
       "<div>\n",
       "<style>\n",
       "    .dataframe thead tr:only-child th {\n",
       "        text-align: right;\n",
       "    }\n",
       "\n",
       "    .dataframe thead th {\n",
       "        text-align: left;\n",
       "    }\n",
       "\n",
       "    .dataframe tbody tr th {\n",
       "        vertical-align: top;\n",
       "    }\n",
       "</style>\n",
       "<table border=\"1\" class=\"dataframe\">\n",
       "  <thead>\n",
       "    <tr style=\"text-align: right;\">\n",
       "      <th></th>\n",
       "      <th>contributors</th>\n",
       "      <th>publicationDateYear</th>\n",
       "    </tr>\n",
       "  </thead>\n",
       "  <tbody>\n",
       "    <tr>\n",
       "      <th>7</th>\n",
       "      <td>{'Auteur d'une déclaration': [{'name': 'François-Joseph Ier', 'role': 'empereur d'Autriche et roi de Hongrie', 'type': 'Participant'}]}</td>\n",
       "      <td>1900</td>\n",
       "    </tr>\n",
       "    <tr>\n",
       "      <th>9</th>\n",
       "      <td>{'Interviewé/e': [{'name': 'François-Joseph Ier', 'role': 'Empereur d'Autriche et roi de Hongrie', 'type': 'Participant'}]}</td>\n",
       "      <td>1900</td>\n",
       "    </tr>\n",
       "    <tr>\n",
       "      <th>12</th>\n",
       "      <td>{'Récitant/e': [{'name': 'Carcélès, Isabelle', 'role': 'collaboratrice RSR', 'type': 'Participant'}], 'Auteur du texte': [{'name': 'Carcélès, Isabelle', 'role': 'collaboratrice RSR', 'type': 'Auteur'}]}</td>\n",
       "      <td>1900</td>\n",
       "    </tr>\n",
       "    <tr>\n",
       "      <th>14</th>\n",
       "      <td>{'Choeur': [{'name': 'Marmousets, Fribourg', 'role': 'choeur d'enfants', 'type': 'Participant'}], 'Direction': [{'name': 'Kaelin, Pierre', 'type': 'Participant'}]}</td>\n",
       "      <td>1900</td>\n",
       "    </tr>\n",
       "    <tr>\n",
       "      <th>15</th>\n",
       "      <td>{'Auteur d'une déclaration': [{'name': 'Shaw, Bernard', 'role': 'critique musical, dramaturge, essayiste, auteur de pièces de théâtre et scénariste irlandais', 'type': 'Participant'}]}</td>\n",
       "      <td>1900</td>\n",
       "    </tr>\n",
       "  </tbody>\n",
       "</table>\n",
       "</div>"
      ],
      "text/plain": [
       "                                                                                                                                                                                                  contributors  \\\n",
       "7                                                                      {'Auteur d'une déclaration': [{'name': 'François-Joseph Ier', 'role': 'empereur d'Autriche et roi de Hongrie', 'type': 'Participant'}]}   \n",
       "9                                                                                  {'Interviewé/e': [{'name': 'François-Joseph Ier', 'role': 'Empereur d'Autriche et roi de Hongrie', 'type': 'Participant'}]}   \n",
       "12  {'Récitant/e': [{'name': 'Carcélès, Isabelle', 'role': 'collaboratrice RSR', 'type': 'Participant'}], 'Auteur du texte': [{'name': 'Carcélès, Isabelle', 'role': 'collaboratrice RSR', 'type': 'Auteur'}]}   \n",
       "14                                         {'Choeur': [{'name': 'Marmousets, Fribourg', 'role': 'choeur d'enfants', 'type': 'Participant'}], 'Direction': [{'name': 'Kaelin, Pierre', 'type': 'Participant'}]}   \n",
       "15                    {'Auteur d'une déclaration': [{'name': 'Shaw, Bernard', 'role': 'critique musical, dramaturge, essayiste, auteur de pièces de théâtre et scénariste irlandais', 'type': 'Participant'}]}   \n",
       "\n",
       "    publicationDateYear  \n",
       "7                  1900  \n",
       "9                  1900  \n",
       "12                 1900  \n",
       "14                 1900  \n",
       "15                 1900  "
      ]
     },
     "execution_count": 28,
     "metadata": {},
     "output_type": "execute_result"
    }
   ],
   "source": [
    "df_Roles = df_without_date_outliers.copy()\n",
    "df_Roles = df_Roles[df_Roles.contributors.notnull()]\n",
    "df_Roles.drop(['alternativeExcerpt','alternativeTitle','excerpt','thematicThemes','title',\n",
    "               'articleURL','backgrounds',  'durationSec', 'id',\n",
    "                'imageURL','isOnline','mediaURL','source','thematicPersons','visualGeographicals',\n",
    "                'visualPersons','visualCorporations','variantIds','visualThemes','mediaType',\n",
    "                'publicationChannelNames','publicationDate','thematicGeographicals',\n",
    "                'thematicCorporations','program','genres'], axis=1, inplace=True)\n",
    "df_Roles = df_Roles[(df_Roles.publicationDateYear.notnull()) & (df_Roles.contributors.notnull()) \n",
    "                   & (df_Roles.contributors != '')]\n",
    "pd.options.display.max_colwidth = 220\n",
    "df_Roles.head()"
   ]
  },
  {
   "cell_type": "markdown",
   "metadata": {},
   "source": [
    "Let's create the gender dictionary from our csv file. This will allows us to know the gender of a person based on his firstname.<br>\n",
    "We also create a dictionary based on all possible roles. We will then use it, to observe the evolution of genders per role.<br> The keys will represents the roles and the values (filled later) will be themeselves a dictionary of all people who worked in that role."
   ]
  },
  {
   "cell_type": "code",
   "execution_count": 30,
   "metadata": {},
   "outputs": [],
   "source": [
    "gender_dict = getgenderDict() \n",
    "listRoles   = getListRoles()\n",
    "RolesDict = dict(zip(listRoles,[dict() for el in listRoles]))"
   ]
  },
  {
   "cell_type": "code",
   "execution_count": 107,
   "metadata": {},
   "outputs": [
    {
     "name": "stdout",
     "output_type": "stream",
     "text": [
      "We found  2365  female names vs  4356 male names in RTS dataset\n",
      "Joseph Jacques is a : male\n"
     ]
    }
   ],
   "source": [
    "cmtTotal  = len(gender_dict) \n",
    "cmtFemale = len([sex  for sex in gender_dict.values() if sex == 'female'])\n",
    "print('We found ', cmtFemale, ' female names vs ', cmtTotal - cmtFemale, 'male names in RTS dataset')\n",
    "print('Joseph Jacques is a :',gender_dict.get(' Joseph Jacques')) # Just as an example"
   ]
  },
  {
   "cell_type": "markdown",
   "metadata": {},
   "source": [
    "Here, we fill the values of the RolesDict mentionned above. For each year and for each role, we add the the (firstnames:gender) of the people who worked there in the correponding RolesDict value."
   ]
  },
  {
   "cell_type": "code",
   "execution_count": 235,
   "metadata": {},
   "outputs": [
    {
     "name": "stdout",
     "output_type": "stream",
     "text": [
      "1900 ;1908 ;1911 ;1912 ;1913 ;1914 ;1915 ;1916 ;1917 ;1918 ;1919 ;1920 ;1921 ;1922 ;1923 ;1924 ;1925 ;1927 ;1928 ;1929 ;1930 ;1931 ;1932 ;1933 ;1934 ;1935 ;1936 ;1937 ;1938 ;1939 ;1940 ;1941 ;1942 ;1943 ;1944 ;1945 ;1946 ;1949 ;1950 ;1951 ;1952 ;1953 ;1954 ;1955 ;1956 ;1957 ;1958 ;1959 ;1960 ;1961 ;1962 ;1963 ;1964 ;1965 ;1966 ;1967 ;1968 ;1969 ;1970 ;1971 ;1972 ;1973 ;1974 ;1975 ;1976 ;1977 ;1978 ;1979 ;1980 ;1981 ;1982 ;1983 ;1984 ;1985 ;1986 ;1987 ;1988 ;1989 ;1990 ;1991 ;1992 ;1993 ;1994 ;1995 ;1996 ;1997 ;1998 ;1999 ;2000 ;2001 ;2002 ;2003 ;2004 ;2005 ;2006 ;2007 ;2008 ;2009 ;2010 ;2011 ;2012 ;2013 ;2014 ;2015 ;2016 ;2017 ;"
     ]
    }
   ],
   "source": [
    "nbmale_dict,nbfemale_dict,nameOccurenced,presentateurs = dict(),dict(),dict(),dict()\n",
    "uknownNames = list()\n",
    "\n",
    "for year in set(df_Roles.publicationDateYear.values):\n",
    "    print(year,end=\" ;\")\n",
    "    yearContributors = df_Roles.contributors[df_Roles.publicationDateYear == year]\n",
    "    for contributors in yearContributors:\n",
    "        if contributors == '':\n",
    "            continue\n",
    "        for key, value in contributors.items():\n",
    "            role      = key\n",
    "            role = role.replace(\"/\",\"\")\n",
    "            role = role.replace(\" \",\"\")\n",
    "            role = role.replace(\"'\",\"\")\n",
    "            try:\n",
    "                firstname = value[0]['name'].split(',')[1]\n",
    "                lastname  = value[0]['name'].split(',')[0]\n",
    "                gender    = gender_dict.get(firstname)\n",
    "                if gender is None:\n",
    "                    uknownNames.append(firstname)\n",
    "                keyvalue  = firstname+'-'+lastname+'-'+str(year)\n",
    "                (RolesDict.get(role))[keyvalue]=gender\n",
    "                old       = any([keyvalue in key for key in nameOccurenced.keys()])\n",
    "\n",
    "                nameOccurenced[firstname+'-'+lastname] = nameOccurenced.get(keyvalue, 0) + 1\n",
    "                if not old and gender == 'male':\n",
    "                    nbmale_dict[year] = nbmale_dict.get(year, 0) + 1\n",
    "                elif not old and gender == 'female':\n",
    "                    nbfemale_dict[year] = nbfemale_dict.get(year, 0) + 1\n",
    "                else:\n",
    "                    pass \n",
    "                if year not in nbfemale_dict:\n",
    "                    nbfemale_dict[year] = 0\n",
    "            except:\n",
    "                 pass # if name value is weird, we ignore it. Example: name: François-Joseph Ier"
   ]
  },
  {
   "cell_type": "code",
   "execution_count": 236,
   "metadata": {
    "scrolled": true
   },
   "outputs": [
    {
     "name": "stdout",
     "output_type": "stream",
     "text": [
      "On Average, each year, there are   5545.6  males vs 2118.45  females\n"
     ]
    }
   ],
   "source": [
    "print('On Average, each year, there are  ',str(round(np.mean(list(nbmale_dict.values())), 2)), ' males vs' , str(round(np.mean(list(nbfemale_dict.values())), 2)), ' females')"
   ]
  },
  {
   "cell_type": "markdown",
   "metadata": {},
   "source": [
    "RolesDictNoYears contains the list of all people (their (firstname, lastname) and gender in dictionary format) who have worked for a specific role, for every role (in dictionary format). "
   ]
  },
  {
   "cell_type": "code",
   "execution_count": 237,
   "metadata": {},
   "outputs": [
    {
     "data": {
      "text/plain": [
       "[(37916, 'Interviewée'),\n",
       " (2794, 'Auteurdutexte'),\n",
       " (2358, 'Intervieweureuse'),\n",
       " (2080, 'Auteurdunedéclaration'),\n",
       " (2027, 'Commentateurtrice')]"
      ]
     },
     "execution_count": 237,
     "metadata": {},
     "output_type": "execute_result"
    }
   ],
   "source": [
    "RolesDictNoYears = copy.deepcopy(RolesDict)\n",
    "RolesDictNoYears = removeYearsFromRolesDict(RolesDictNoYears)\n",
    "sorted([(len(v),k) for k, v in RolesDictNoYears.items() if v],reverse=True)[0:5]\n",
    "\n"
   ]
  },
  {
   "cell_type": "markdown",
   "metadata": {},
   "source": [
    "Now, let's see the overall (without considering dates) distribution of genders per role."
   ]
  },
  {
   "cell_type": "code",
   "execution_count": 238,
   "metadata": {
    "scrolled": false
   },
   "outputs": [],
   "source": [
    "rolesGenderRatio = dict()\n",
    "rolesGenderRatiodf = pd.DataFrame(index= listRoles,columns=['nbOfmen','nbOfwomen','ratio'])\n",
    "for role,dico in RolesDictNoYears.items():\n",
    "    if dico:\n",
    "        totalNumerPerRole= sum( x == 'male' or x== 'female' for x in dico.values()) # ignoring None\n",
    "        nbOfmen          = sum( y == 'male' for y in dico.values())\n",
    "        nbOfwomen        = sum( y == 'female' for y in dico.values())\n",
    "        ratio            = 0\n",
    "        if totalNumerPerRole > 0 :\n",
    "            ratio = nbOfwomen/totalNumerPerRole\n",
    "            rolesGenderRatio[role] = ratio\n",
    "        else:\n",
    "            rolesGenderRatio[role] = 0\n",
    "        rolesGenderRatiodf.loc[role]=[nbOfmen,nbOfwomen,ratio]   "
   ]
  },
  {
   "cell_type": "code",
   "execution_count": 253,
   "metadata": {},
   "outputs": [
    {
     "data": {
      "text/html": [
       "<iframe id=\"igraph\" scrolling=\"no\" style=\"border:none;\" seamless=\"seamless\" src=\"https://plot.ly/~Jvj/22.embed\" height=\"525px\" width=\"100%\"></iframe>"
      ],
      "text/plain": [
       "<plotly.tools.PlotlyDisplay object>"
      ]
     },
     "execution_count": 253,
     "metadata": {},
     "output_type": "execute_result"
    }
   ],
   "source": [
    "favoriteRoles = ['Réalisateur','Présentateurtrice','Journaliste','Divers',\n",
    "                 'Producteur','Interviewée','Présentateurmétéo','Intervieweureuse','Commentateurtrice']\n",
    "englishNames  = ['Director', 'Presenter', 'Journalist', 'Various', 'Producer','Interviewed',\n",
    "                 'Weather Presenter', 'Interviewer','Commentator']\n",
    "rolesGenderRatioSelected = rolesGenderRatiodf.loc[favoriteRoles]\n",
    "subDico = [rolesGenderRatioSelected.loc[k].ratio for k in favoriteRoles]\n",
    "\n",
    "data = [go.Bar(\n",
    "            x=favoriteRoles,\n",
    "            y=subDico\n",
    "    )]\n",
    "\n",
    "layout = go.Layout(\n",
    "    title='Pourcentage of number of women per role', xaxis = dict(range=[englishNames]),yaxis  = dict(range=[0,0.5])\n",
    ")\n",
    "\n",
    "fig = go.Figure(data=data, layout=layout)\n",
    "py.iplot(fig, filename='genderDistributionNoData')"
   ]
  },
  {
   "cell_type": "markdown",
   "metadata": {},
   "source": [
    "The chart above shows the gender distribution per role, without considering the date.  \n",
    "We can observe female representation is higher in the roles that have a direct contact with the audience as Weather Presenter and  Interviewer."
   ]
  },
  {
   "cell_type": "code",
   "execution_count": 240,
   "metadata": {},
   "outputs": [],
   "source": [
    "nbmale_dict_role    = dict(zip(listRoles,[dict() for el in listRoles])) \n",
    "nbfemale_dict_role  = dict(zip(listRoles,[dict() for el in listRoles]))\n",
    "for role,v in RolesDict.items():\n",
    "    for person, gender in v.items():\n",
    "        year = person.split('-')[-1]\n",
    "        if gender == 'male': \n",
    "             (nbmale_dict_role.get(role))[year] = (nbmale_dict_role.get(role)).get(year, 0) + 1\n",
    "        elif gender == 'female':\n",
    "            (nbfemale_dict_role.get(role))[year] = (nbfemale_dict_role.get(role)).get(year, 0) + 1\n",
    "        else:\n",
    "            pass \n",
    "        if year not in (nbfemale_dict_role.get(role)):\n",
    "            (nbfemale_dict_role.get(role))[year] = 0\n",
    "        if year not in (nbmale_dict_role.get(role)):\n",
    "            (nbmale_dict_role.get(role))[year] = 0\n"
   ]
  },
  {
   "cell_type": "markdown",
   "metadata": {},
   "source": [
    "Let's now do a simple check to see if we have fileld correctly our dicts.<br>\n",
    "To do this, we choose a role that appears only a single time in the whole Dataset: TEX<br>\n",
    "We don't what TEX represents but it's usefull for our demonstration here :)\n",
    "<br>Note that you can choose any other role. "
   ]
  },
  {
   "cell_type": "code",
   "execution_count": 272,
   "metadata": {},
   "outputs": [
    {
     "name": "stdout",
     "output_type": "stream",
     "text": [
      "Number of males for TEX role {'1987': 1} ,number of females for TEX role {'1987': 0}\n",
      "All persons who worked in TEX role {' Joseph-Badet-1987': 'male'}\n"
     ]
    },
    {
     "data": {
      "text/html": [
       "<div>\n",
       "<style>\n",
       "    .dataframe thead tr:only-child th {\n",
       "        text-align: right;\n",
       "    }\n",
       "\n",
       "    .dataframe thead th {\n",
       "        text-align: left;\n",
       "    }\n",
       "\n",
       "    .dataframe tbody tr th {\n",
       "        vertical-align: top;\n",
       "    }\n",
       "</style>\n",
       "<table border=\"1\" class=\"dataframe\">\n",
       "  <thead>\n",
       "    <tr style=\"text-align: right;\">\n",
       "      <th></th>\n",
       "      <th>contributors</th>\n",
       "      <th>publicationDateYear</th>\n",
       "    </tr>\n",
       "  </thead>\n",
       "  <tbody>\n",
       "    <tr>\n",
       "      <th>80423</th>\n",
       "      <td>{'Présentateur/trice': [{'name': 'Terrapon, Michel', 'type': 'Participant'}], 'Auteur du texte': [{'name': 'Bibois",
       "",
       "', 'type': 'Auteur'}], 'Producteur/trice Radio': [{'name': 'Terrapon, Michel', 'role': 'collaborateur/trice RSR', 'type': 'Producteur'}], 'vide': [{'name': 'Terrapon, Michel', 'type': 'Auteur'}], 'Récitant/e': [{'name': 'Ferry, Marcel', 'type': 'Participant'}, {'name': 'Martinetto, Elena', 'type': 'Participant'}], 'Commentateur/trice': [{'name': 'Bossard, Maurice', 'type': 'Participant'}], 'REC': [{'name': 'Badet, Joseph', 'role': 'Récitant/e', 'type': 'Participant'}], 'TEX': [{'name': 'Badet, Joseph', 'role': 'Auteur du texte', 'type': 'Auteur'}]}</td>\n",
       "      <td>1987</td>\n",
       "    </tr>\n",
       "  </tbody>\n",
       "</table>\n",
       "</div>"
      ],
      "text/plain": [
       "                                                                                                                                                                                                                                                                                                                                                                                                                                                                                                                                                                                                                                                                                         contributors  \\\n",
       "80423  {'Présentateur/trice': [{'name': 'Terrapon, Michel', 'type': 'Participant'}], 'Auteur du texte': [{'name': 'Bibois\n",
       "\n",
       "', 'type': 'Auteur'}], 'Producteur/trice Radio': [{'name': 'Terrapon, Michel', 'role': 'collaborateur/trice RSR', 'type': 'Producteur'}], 'vide': [{'name': 'Terrapon, Michel', 'type': 'Auteur'}], 'Récitant/e': [{'name': 'Ferry, Marcel', 'type': 'Participant'}, {'name': 'Martinetto, Elena', 'type': 'Participant'}], 'Commentateur/trice': [{'name': 'Bossard, Maurice', 'type': 'Participant'}], 'REC': [{'name': 'Badet, Joseph', 'role': 'Récitant/e', 'type': 'Participant'}], 'TEX': [{'name': 'Badet, Joseph', 'role': 'Auteur du texte', 'type': 'Auteur'}]}   \n",
       "\n",
       "       publicationDateYear  \n",
       "80423                 1987  "
      ]
     },
     "execution_count": 272,
     "metadata": {},
     "output_type": "execute_result"
    }
   ],
   "source": [
    "print('Number of males for TEX role', nbmale_dict_role.get('TEX'),',number of females for TEX role',nbfemale_dict_role.get('TEX'))\n",
    "print('All persons who worked in TEX role', RolesDict.get('TEX'))\n",
    "pd.options.display.max_colwidth = 820\n",
    "df_Roles[(df_Roles['contributors'].apply(str).str.contains('TEX\\''))]"
   ]
  },
  {
   "cell_type": "code",
   "execution_count": 170,
   "metadata": {
    "scrolled": true
   },
   "outputs": [
    {
     "name": "stdout",
     "output_type": "stream",
     "text": [
      "2199 firstnames were not found on our gender dictionary. Here are few ones: \n",
      "\n",
      "[(' Claude (journaliste)', 510), (' Marcel W.', 157), (' Roger (homme de radio)', 121), (' Jean)', 72), (' Constant]', 51)]\n"
     ]
    }
   ],
   "source": [
    "print(len(uknownNames) ,'firstnames were not found on our gender dictionary. Here are few ones: \\n')\n",
    "\n",
    "from collections import Counter\n",
    "print(Counter(uknownNames).most_common()[0:5])\n"
   ]
  },
  {
   "cell_type": "markdown",
   "metadata": {},
   "source": [
    "Now let's plot the results. Namely, let's see the evolution, over the years, of gender distribution for our favourite roles.  "
   ]
  },
  {
   "cell_type": "code",
   "execution_count": 244,
   "metadata": {},
   "outputs": [
    {
     "name": "stdout",
     "output_type": "stream",
     "text": [
      "Divers\n"
     ]
    },
    {
     "data": {
      "image/png": "[encoded data removed]",
      "text/plain": [
       "<matplotlib.figure.Figure at 0x1afb789e8>"
      ]
     },
     "metadata": {},
     "output_type": "display_data"
    },
    {
     "name": "stdout",
     "output_type": "stream",
     "text": [
      "High five! You successfully sent some data to your account on plotly. View your plot in your browser at https://plot.ly/~Jvj/0 or inside your plot.ly account where it is named 'genderEvoltionDivers'\n",
      "Présentateurmétéo\n"
     ]
    },
    {
     "data": {
      "image/png": "[encoded data removed]",
      "text/plain": [
       "<matplotlib.figure.Figure at 0x1b04d7400>"
      ]
     },
     "metadata": {},
     "output_type": "display_data"
    },
    {
     "name": "stdout",
     "output_type": "stream",
     "text": [
      "Intervieweureuse\n"
     ]
    },
    {
     "data": {
      "image/png": "[encoded data removed]",
      "text/plain": [
       "<matplotlib.figure.Figure at 0x1afd4fd68>"
      ]
     },
     "metadata": {},
     "output_type": "display_data"
    },
    {
     "name": "stdout",
     "output_type": "stream",
     "text": [
      "Réalisateur\n"
     ]
    },
    {
     "data": {
      "image/png": "[encoded data removed]",
      "text/plain": [
       "<matplotlib.figure.Figure at 0x1ad81df28>"
      ]
     },
     "metadata": {},
     "output_type": "display_data"
    },
    {
     "name": "stdout",
     "output_type": "stream",
     "text": [
      "Interviewée\n"
     ]
    },
    {
     "data": {
      "image/png": "[encoded data removed]",
      "text/plain": [
       "<matplotlib.figure.Figure at 0x199642c50>"
      ]
     },
     "metadata": {},
     "output_type": "display_data"
    },
    {
     "name": "stdout",
     "output_type": "stream",
     "text": [
      "Producteur\n"
     ]
    },
    {
     "data": {
      "image/png": "[encoded data removed]",
      "text/plain": [
       "<matplotlib.figure.Figure at 0x199642358>"
      ]
     },
     "metadata": {},
     "output_type": "display_data"
    },
    {
     "name": "stdout",
     "output_type": "stream",
     "text": [
      "Journaliste\n"
     ]
    },
    {
     "data": {
      "image/png": "[encoded data removed]",
      "text/plain": [
       "<matplotlib.figure.Figure at 0x1b09840f0>"
      ]
     },
     "metadata": {},
     "output_type": "display_data"
    },
    {
     "name": "stdout",
     "output_type": "stream",
     "text": [
      "Direction\n"
     ]
    },
    {
     "data": {
      "image/png": "[encoded data removed]",
      "text/plain": [
       "<matplotlib.figure.Figure at 0x18efeb9b0>"
      ]
     },
     "metadata": {},
     "output_type": "display_data"
    },
    {
     "name": "stdout",
     "output_type": "stream",
     "text": [
      "Présentateurtrice\n"
     ]
    },
    {
     "data": {
      "image/png": "[encoded data removed]",
      "text/plain": [
       "<matplotlib.figure.Figure at 0x18f19c8d0>"
      ]
     },
     "metadata": {},
     "output_type": "display_data"
    },
    {
     "name": "stdout",
     "output_type": "stream",
     "text": [
      "Commentateurtrice\n"
     ]
    },
    {
     "data": {
      "image/png": "[encoded data removed]",
      "text/plain": [
       "<matplotlib.figure.Figure at 0x1982197b8>"
      ]
     },
     "metadata": {},
     "output_type": "display_data"
    }
   ],
   "source": [
    "favoriteRoles = ['Réalisateur','Présentateurtrice','Journaliste','Divers','Direction',\n",
    "                 'Producteur','Interviewée','Présentateurmétéo','Intervieweureuse','Commentateurtrice']\n",
    "for (role, vm),(rolef,vf) in zip(nbmale_dict_role.items(),nbfemale_dict_role.items()):\n",
    "    if role in favoriteRoles : \n",
    "        print(role)\n",
    "\n",
    "        dfGenderresults = pd.DataFrame.from_dict(vm, orient='index')\n",
    "\n",
    "\n",
    "        genderEvolutionRole = pd.DataFrame.from_dict([vm, vf]).T\n",
    "        if not genderEvolutionRole.empty:\n",
    "            genderEvolutionRole.columns = ['#Male', '#Female']\n",
    "            ax = genderEvolutionRole.plot.bar( stacked=True, align='center',figsize=(15,4));\n",
    "            for container in ax.containers:\n",
    "                plt.setp(container, width=1)\n",
    "            x0, x1 = ax.get_xlim()\n",
    "            ax.set_xlim(x0 -0.5, x1 + 0.25)\n",
    "\n",
    "            plt.show()\n",
    "\n",
    "\n",
    "            trace1 = go.Bar(x=list(vm.keys()),y=list(vm.values()),name='Male')\n",
    "            trace2 = go.Bar(x=list(vm.keys()),y=list(vf.values()),name='Female')\n",
    "            data = [trace1, trace2]\n",
    "            layout = go.Layout(barmode='stack')\n",
    "            fig = go.Figure(data=data, layout=layout)\n",
    "            py.iplot(fig, filename='genderEvoltion'+str(role))"
   ]
  },
  {
   "cell_type": "markdown",
   "metadata": {},
   "source": [
    "# Evolution of RTS coverage of social phenomena"
   ]
  },
  {
   "cell_type": "markdown",
   "metadata": {},
   "source": [
    "In this part, we are intressted in the evolution over time, as covered by RTS, of some of the main social phenomenas we have gone through in the 21st century. Namely, we choose to see the evolution of the following subjects:\n",
    "<ul>\n",
    "  <li>Women's voting rights</li>\n",
    "  <li>Feminisme</li>\n",
    "  <li>Terrorisme</li>\n",
    "  <li>Familly</li>\n",
    "  <li>Mariage</li>\n",
    "  <li>Homosexuality</li>\n",
    "</ul>"
   ]
  },
  {
   "cell_type": "code",
   "execution_count": 139,
   "metadata": {},
   "outputs": [],
   "source": [
    "import re\n",
    "import seaborn as sns\n",
    "from collections import Counter"
   ]
  },
  {
   "cell_type": "markdown",
   "metadata": {},
   "source": [
    "The main feature of interest for this part is 'thematicThemes'. Additionnaly, we will use some other features which, when available,  give additional information about the theme. These features are : alternativeExcerpt , 'alternativeTitle', 'excerpt' and 'title'."
   ]
  },
  {
   "cell_type": "code",
   "execution_count": 134,
   "metadata": {},
   "outputs": [
    {
     "data": {
      "text/html": [
       "<div>\n",
       "<style>\n",
       "    .dataframe thead tr:only-child th {\n",
       "        text-align: right;\n",
       "    }\n",
       "\n",
       "    .dataframe thead th {\n",
       "        text-align: left;\n",
       "    }\n",
       "\n",
       "    .dataframe tbody tr th {\n",
       "        vertical-align: top;\n",
       "    }\n",
       "</style>\n",
       "<table border=\"1\" class=\"dataframe\">\n",
       "  <thead>\n",
       "    <tr style=\"text-align: right;\">\n",
       "      <th></th>\n",
       "      <th>alternativeExcerpt</th>\n",
       "      <th>alternativeTitle</th>\n",
       "      <th>excerpt</th>\n",
       "      <th>thematicThemes</th>\n",
       "      <th>title</th>\n",
       "      <th>publicationDateYear</th>\n",
       "    </tr>\n",
       "  </thead>\n",
       "  <tbody>\n",
       "    <tr>\n",
       "      <th>214</th>\n",
       "      <td>[Edvard Benes fait un discours inaugural à la session de la SDN.]</td>\n",
       "      <td>[Discours à la SDN / SIR_1935-09-09_emission-sans-nom_6F524344-E2F3-4189-AE6B-9AD6134E25B7 / Discours d'Edvard Benes, président élu (extrait)]</td>\n",
       "      <td>(0- 4.42) Discours d'Edvard Benes, président élu. Il remercie le discours de son prédécesseur qui rend hommage à son pays, la Tchécoslovaquie. Dès le début de la SDN, la Tchécoslovaquie a fait depuis 16 ans la politi...</td>\n",
       "      <td>[désarmement, paix, politique internationale, organisation internationale, réunion internationale, économie, politique agricole, politique d'armement]</td>\n",
       "      <td>Discours d'Edvard Benes, président élu (extrait)</td>\n",
       "      <td>1935</td>\n",
       "    </tr>\n",
       "    <tr>\n",
       "      <th>290</th>\n",
       "      <td>[Premier coup de pioche pour la Maison de la Radio à Genève.]</td>\n",
       "      <td>[SIR_1938-01-01_emission-sans-nom_06897ED5-C2C2-4470-8813-BD90B9C23A3F / Premier coup de pioche à la Maison de la Radio à Genève : Interview de Jean Camoletti, architecte, Emission sans nom]</td>\n",
       "      <td></td>\n",
       "      <td>[architecture, bâtiment, radio]</td>\n",
       "      <td>Premier coup de pioche à la Maison de la Radio à Genève : Interview de Jean Camoletti, architecte</td>\n",
       "      <td>1938</td>\n",
       "    </tr>\n",
       "    <tr>\n",
       "      <th>346</th>\n",
       "      <td>[Le Gendre de Monsieur Poirier, par la Comédie de Genève.]</td>\n",
       "      <td>[SIR_1937-03-25_emission-sans-nom_F82E16A5-D98B-46F2-B8B7-BF2DE5EB009B / Le Gendre de Monsieur Poirier. Pièce d'Emile Augier et Jules Sandeau, interprétée par la troupe de la Comédie de Genève (extraits), Emission sa...</td>\n",
       "      <td>La pièce de théâtre a été représentée le 8 avril 1854 pour la première fois à Paris. Le gendre de Monsieur Poirier est un aristocrate, amateur de frivolités. Il décide de changer de vie pour se consacrer à son épouse...</td>\n",
       "      <td>[bourgeoisie, aristocratie]</td>\n",
       "      <td>Le Gendre de Monsieur Poirier. Pièce d'Emile Augier et Jules Sandeau, interprétée par la troupe de la Comédie de Genève (extraits)</td>\n",
       "      <td>1937</td>\n",
       "    </tr>\n",
       "    <tr>\n",
       "      <th>390</th>\n",
       "      <td>[Dans les heures de guerre, Jaques-Dalcroze, un messager d'espoir.]</td>\n",
       "      <td>[SIR_1939-01-01_emission-sans-nom_DE0C3FA2-5116-4FC1-B2D9-86906C121796 / Emile Jaques-Dalcroze : Propos du temps de guerre, Emission sans nom - 01.01.1939]</td>\n",
       "      <td>Evocation des beautés de la Suisse, qui permettront de retrouver des forces lorsque la paix sera rétablie.</td>\n",
       "      <td>[patriotisme, guerre mondiale (deuxième)]</td>\n",
       "      <td>Emile Jaques-Dalcroze : Propos du temps de guerre</td>\n",
       "      <td>1939</td>\n",
       "    </tr>\n",
       "    <tr>\n",
       "      <th>433</th>\n",
       "      <td>[Le chantier de construction du bâtiment Radio-Genève avance bon train.]</td>\n",
       "      <td>[SIR_1938-11-01_emission-sans-nom_A423627C-71D2-4144-ABE9-786BD2B85E5A / Le chantier de la construction de la Maison de la Radio à Genève, Emission sans nom ]</td>\n",
       "      <td></td>\n",
       "      <td>[bâtiment, radio]</td>\n",
       "      <td>Le chantier de la construction de la Maison de la Radio à Genève</td>\n",
       "      <td>1938</td>\n",
       "    </tr>\n",
       "  </tbody>\n",
       "</table>\n",
       "</div>"
      ],
      "text/plain": [
       "                                                           alternativeExcerpt  \\\n",
       "214         [Edvard Benes fait un discours inaugural à la session de la SDN.]   \n",
       "290             [Premier coup de pioche pour la Maison de la Radio à Genève.]   \n",
       "346                [Le Gendre de Monsieur Poirier, par la Comédie de Genève.]   \n",
       "390       [Dans les heures de guerre, Jaques-Dalcroze, un messager d'espoir.]   \n",
       "433  [Le chantier de construction du bâtiment Radio-Genève avance bon train.]   \n",
       "\n",
       "                                                                                                                                                                                                                alternativeTitle  \\\n",
       "214                                                                               [Discours à la SDN / SIR_1935-09-09_emission-sans-nom_6F524344-E2F3-4189-AE6B-9AD6134E25B7 / Discours d'Edvard Benes, président élu (extrait)]   \n",
       "290                               [SIR_1938-01-01_emission-sans-nom_06897ED5-C2C2-4470-8813-BD90B9C23A3F / Premier coup de pioche à la Maison de la Radio à Genève : Interview de Jean Camoletti, architecte, Emission sans nom]   \n",
       "346  [SIR_1937-03-25_emission-sans-nom_F82E16A5-D98B-46F2-B8B7-BF2DE5EB009B / Le Gendre de Monsieur Poirier. Pièce d'Emile Augier et Jules Sandeau, interprétée par la troupe de la Comédie de Genève (extraits), Emission sa...   \n",
       "390                                                                  [SIR_1939-01-01_emission-sans-nom_DE0C3FA2-5116-4FC1-B2D9-86906C121796 / Emile Jaques-Dalcroze : Propos du temps de guerre, Emission sans nom - 01.01.1939]   \n",
       "433                                                               [SIR_1938-11-01_emission-sans-nom_A423627C-71D2-4144-ABE9-786BD2B85E5A / Le chantier de la construction de la Maison de la Radio à Genève, Emission sans nom ]   \n",
       "\n",
       "                                                                                                                                                                                                                         excerpt  \\\n",
       "214  (0- 4.42) Discours d'Edvard Benes, président élu. Il remercie le discours de son prédécesseur qui rend hommage à son pays, la Tchécoslovaquie. Dès le début de la SDN, la Tchécoslovaquie a fait depuis 16 ans la politi...   \n",
       "290                                                                                                                                                                                                                                \n",
       "346  La pièce de théâtre a été représentée le 8 avril 1854 pour la première fois à Paris. Le gendre de Monsieur Poirier est un aristocrate, amateur de frivolités. Il décide de changer de vie pour se consacrer à son épouse...   \n",
       "390                                                                                                                   Evocation des beautés de la Suisse, qui permettront de retrouver des forces lorsque la paix sera rétablie.   \n",
       "433                                                                                                                                                                                                                                \n",
       "\n",
       "                                                                                                                                             thematicThemes  \\\n",
       "214  [désarmement, paix, politique internationale, organisation internationale, réunion internationale, économie, politique agricole, politique d'armement]   \n",
       "290                                                                                                                         [architecture, bâtiment, radio]   \n",
       "346                                                                                                                             [bourgeoisie, aristocratie]   \n",
       "390                                                                                                               [patriotisme, guerre mondiale (deuxième)]   \n",
       "433                                                                                                                                       [bâtiment, radio]   \n",
       "\n",
       "                                                                                                                                   title  \\\n",
       "214                                                                                     Discours d'Edvard Benes, président élu (extrait)   \n",
       "290                                    Premier coup de pioche à la Maison de la Radio à Genève : Interview de Jean Camoletti, architecte   \n",
       "346  Le Gendre de Monsieur Poirier. Pièce d'Emile Augier et Jules Sandeau, interprétée par la troupe de la Comédie de Genève (extraits)    \n",
       "390                                                                                    Emile Jaques-Dalcroze : Propos du temps de guerre   \n",
       "433                                                                     Le chantier de la construction de la Maison de la Radio à Genève   \n",
       "\n",
       "     publicationDateYear  \n",
       "214                 1935  \n",
       "290                 1938  \n",
       "346                 1937  \n",
       "390                 1939  \n",
       "433                 1938  "
      ]
     },
     "execution_count": 134,
     "metadata": {},
     "output_type": "execute_result"
    }
   ],
   "source": [
    "allThemes = list(set([item.lower() for sublist in df_without_date_outliers.thematicThemes.tolist() \n",
    "                      for item in sublist]))\n",
    "\n",
    "df_themes = df_without_date_outliers.copy()\n",
    "df_themes = df_themes[(df_themes.thematicThemes.notnull()) & (df_themes.thematicThemes != '')] \n",
    "df_themes.drop(['articleURL','backgrounds', 'contributors',  'durationSec', 'id',\n",
    "                'imageURL','isOnline','mediaURL','source','thematicPersons','visualGeographicals',\n",
    "                'visualPersons','visualCorporations','variantIds','visualThemes','mediaType',\n",
    "                'publicationChannelNames','publicationDate','thematicGeographicals',\n",
    "                'thematicCorporations','program','genres'], axis=1, inplace=True)\n",
    "df_themes[(df_themes['alternativeExcerpt'].notnull())  & (df_themes['alternativeExcerpt'] != '')].head()"
   ]
  },
  {
   "cell_type": "markdown",
   "metadata": {},
   "source": [
    "As an example, let's see all themes concerning the theme family."
   ]
  },
  {
   "cell_type": "code",
   "execution_count": 135,
   "metadata": {},
   "outputs": [
    {
     "data": {
      "text/plain": [
       "234           caisse de famille\n",
       "671              nom de famille\n",
       "1031        droit de la famille\n",
       "1983          famille d'accueil\n",
       "2496          famille nombreuse\n",
       "2800                    famille\n",
       "3214           photo de famille\n",
       "4229         famille recomposée\n",
       "4637      famille homoparentale\n",
       "5129      famille monoparentale\n",
       "5814    politique de la famille\n",
       "dtype: object"
      ]
     },
     "execution_count": 135,
     "metadata": {},
     "output_type": "execute_result"
    }
   ],
   "source": [
    "allThemesSerie = pd.Series(allThemes)\n",
    "allThemesSerie[allThemesSerie.str.contains('famille')]"
   ]
  },
  {
   "cell_type": "code",
   "execution_count": 137,
   "metadata": {},
   "outputs": [],
   "source": [
    "def themeExists (theme):\n",
    "    \"\"\"\n",
    "    Check if the theme given in parameter exists in the RTS dataset.\n",
    "    It returns a boolean\n",
    "    \"\"\"\n",
    "    return any(theme in k for k  in allThemes)\n",
    "\n",
    "\n",
    "def nbOccurenceThemePerYear(df_themes,theme,beginyear=-1,endyear=-1):\n",
    "    \"\"\"\n",
    "    Give the total number of occurences for the period covered by the given time interval.\n",
    "    IMPORTANT NOTE: As we have seen in the beggining of this notebook, the amount of available \n",
    "    data increases exponentialy over the last two decades. Therefore, to have a meaningful image \n",
    "    of the evolution of each theme, we use the occcurence ratio, i.e we divide the number of occurence\n",
    "    of a theme on a year over the total number of elements on that year. \n",
    "    It returns an int\n",
    "    \"\"\"\n",
    "    if themeExists(theme):\n",
    "        if beginyear != -1 and endyear == -1:\n",
    "            if nbElementsPerYear(df_themes,beginyear)> 0:\n",
    "                return len(df_themes[([any(theme in k for k  in el) \n",
    "                                   for el in df_themes.thematicThemes]) \n",
    "                                 & (df_themes.publicationDateYear == beginyear) ]  )/nbElementsPerYear(df_themes,beginyear)\n",
    "        elif (beginyear != -1 and endyear != -1):\n",
    "            return len(df_themes[([any(theme in k for k  in el) \n",
    "                                   for el in df_themes.thematicThemes]) \n",
    "                                 & (df_themes.publicationDateYear >= beginyear)\n",
    "                                 & (df_themes.publicationDateYear <= endyear) ]  )\n",
    "        else:\n",
    "            return len(df_themes[([any(theme in k for k  in el) for el in df_themes.thematicThemes])]  )\n",
    "\n",
    "    return 0\n",
    "\n",
    "def nbOccurenceThemePerYearRange(df_themes,theme,beginyear,endyear):\n",
    "    \"\"\"\n",
    "    Give the number of occurences per year,\n",
    "    for the period covered by the given time interval.\n",
    "    Return a list\n",
    "    \"\"\"\n",
    "    yearOccurence= list()\n",
    "    print(theme)\n",
    "    for i in range(endyear- beginyear+1) :\n",
    "        yearOccurence.append(nbOccurenceThemePerYear(df_themes,theme,beginyear+i))\n",
    "    return yearOccurence\n",
    "\n",
    "\n",
    "def nbElementsPerYear(df_themes,year):\n",
    "    \"\"\"\n",
    "    Give the number of occurences of a theme for given year,\n",
    "    Return an int\n",
    "    \"\"\"\n",
    "    return len(df_themes[ (df_themes.publicationDateYear == year) ]  )\n",
    "\n",
    "def listTosuperStringList(l):\n",
    "    \"\"\"\n",
    "    Concatanates diffrent features with various formats (string, list) to a list of words. \n",
    "    It then remove stop words from it.\n",
    "    It returns a list of words\n",
    "    \"\"\"\n",
    "    superstring = ''\n",
    "    prohibitedWords = ['.', ',',':','-','les ', \n",
    "                       'dans ','leur ', 'le ','la ','et ','de ','des ','a ', \n",
    "                       'est ','pour ','que ',' en ','du ','à ','avec ','par ', 'un ','une ',\n",
    "                      'qui ','au ','sur ','sont ','il ','mais ','se ' ,'ce ']\n",
    "    for el in l:\n",
    "        superstring += el\n",
    "    superstring = superstring.lower()\n",
    "    big_regex = re.compile('|'.join(map(re.escape, prohibitedWords)))\n",
    "    cleanedSuperString = big_regex.sub('', superstring)\n",
    "    listOfWords = cleanedSuperString.split(' ')\n",
    "    return  list(filter(lambda a: a != '', listOfWords))\n",
    "\n",
    "def highestOccurences(stringList,topnumbers=3):\n",
    "    \"\"\"\n",
    "    Returns the top occurences, limited by the topnumbers parameter, of a list\n",
    "    It returns a list (Counter format) of words\n",
    "    \"\"\"\n",
    "    topwords = Counter(stringList)\n",
    "    return topwords.most_common(topnumbers)\n",
    "\n",
    "def coOccurenceThemePerYear(df_themes,theme, year):\n",
    "    \"\"\"\n",
    "    Returns, for the given year,  the words that appear the most with the given theme (Co-occurence)\n",
    "    We look at the text of various features like \n",
    "    'alternativeExcerpt', 'alternativeTitle','thematicThemes' and 'excerpt'\n",
    "    It returns a dictionary, with themes as keys and their occurence as values.\n",
    "    \"\"\"\n",
    "    topOccurencedict = dict()\n",
    "    if themeExists(theme):\n",
    "        filterdDF = df_themes[([any(theme in k for k  in el) \n",
    "                               for el in df_themes.thematicThemes]) \n",
    "                                 & (df_themes.publicationDateYear == year) ]\n",
    "        for index, row in filterdDF.iterrows():\n",
    "            allWordsPerRow = []\n",
    "            allWordsPerRow += row.alternativeExcerpt if row.alternativeExcerpt is not None else []\n",
    "            allWordsPerRow += row.alternativeTitle if row.alternativeTitle is not None else []\n",
    "            allWordsPerRow += [row.excerpt] if row.excerpt is not None else []\n",
    "            allWordsPerRow += [row.title]+ row.thematicThemes\n",
    "            superStringPerRow = highestOccurences(listTosuperStringList(allWordsPerRow))\n",
    "            for el in superStringPerRow:\n",
    "                topOccurencedict[el[0]] = topOccurencedict.get(el[0],0)+el[1]\n",
    "          \n",
    "    return topOccurencedict\n",
    "\n",
    "\n",
    "def coOccurenceThemePerYearRange(df_themes,theme,beginyear,endyear,topnumbers=4):\n",
    "    \"\"\"\n",
    "    Gives the words that appear the most with the given theme (Cooccurence) per year\n",
    "    for the period covered by the given time interval.\n",
    "    Returns a list\n",
    "    \"\"\"\n",
    "    yearCoOccurence= list()\n",
    "    for i in range(endyear- beginyear+1) :\n",
    "        coOccurences = coOccurenceThemePerYear(df_themes,theme,beginyear+i)\n",
    "        topwordsCounts = Counter(coOccurences).most_common(topnumbers)\n",
    "        # We select only words that occure more than two times\n",
    "        topwords = [word[0] for word in topwordsCounts if word[1]>2]\n",
    "        # We convert the list to a string cause hovering on plots doesn't support a list\n",
    "        topwordsString= ', '.join(topwords)\n",
    "        yearCoOccurence.append(topwordsString)\n",
    "    return yearCoOccurence\n",
    "\n"
   ]
  },
  {
   "cell_type": "markdown",
   "metadata": {},
   "source": [
    "As an illustration, let's see the co-occurence for the Terrorisme theme. \n",
    "The results are  intressting. We can see the major terrorist attacks of the last years. "
   ]
  },
  {
   "cell_type": "code",
   "execution_count": 140,
   "metadata": {},
   "outputs": [
    {
     "data": {
      "text/plain": [
       "['contre, interview, président, après',\n",
       " 'septembre, président, reportage, 11',\n",
       " 'années, nous, rabin, fois',\n",
       " '?, attentats, madrid, nous',\n",
       " 'bagdad, ils, guerre, contre',\n",
       " 'nous, attentats, septembre, président',\n",
       " 'new, york, rêvé, pakistan',\n",
       " 'septembre, 11, ont, réaction',\n",
       " 'bagdad, entre, son, sofri',\n",
       " 'terrorisme, lockerbie, terroristes',\n",
       " '11, septembre, pakistan, laden',\n",
       " 'fln, 1956, territoire, présumé',\n",
       " \"karachi, l'affaire, son, algérienne\",\n",
       " 'djihad, français, film, groupe',\n",
       " 'paris, attaques, contre, été',\n",
       " 'terrorisme, notre, belge, attentats']"
      ]
     },
     "execution_count": 140,
     "metadata": {},
     "output_type": "execute_result"
    }
   ],
   "source": [
    "res = coOccurenceThemePerYearRange(df_themes,'terrorisme',2001,2016)\n",
    "res"
   ]
  },
  {
   "cell_type": "markdown",
   "metadata": {},
   "source": [
    "Now, using defined functions above, let's plot the results for our chosen themes. "
   ]
  },
  {
   "cell_type": "code",
   "execution_count": 147,
   "metadata": {},
   "outputs": [
    {
     "name": "stdout",
     "output_type": "stream",
     "text": [
      "droit de vote des femmes\n"
     ]
    },
    {
     "data": {
      "image/png": "[encoded data removed]",
      "text/plain": [
       "<matplotlib.figure.Figure at 0x1b10c0f60>"
      ]
     },
     "metadata": {},
     "output_type": "display_data"
    },
    {
     "name": "stdout",
     "output_type": "stream",
     "text": [
      "féminisme\n"
     ]
    },
    {
     "data": {
      "image/png": "[encoded data removed]",
      "text/plain": [
       "<matplotlib.figure.Figure at 0x1b1733c18>"
      ]
     },
     "metadata": {},
     "output_type": "display_data"
    },
    {
     "name": "stdout",
     "output_type": "stream",
     "text": [
      "terrorisme\n"
     ]
    },
    {
     "data": {
      "image/png": "[encoded data removed]",
      "text/plain": [
       "<matplotlib.figure.Figure at 0x1b9ee8748>"
      ]
     },
     "metadata": {},
     "output_type": "display_data"
    },
    {
     "name": "stdout",
     "output_type": "stream",
     "text": [
      "famille\n"
     ]
    },
    {
     "data": {
      "image/png": "[encoded data removed]",
      "text/plain": [
       "<matplotlib.figure.Figure at 0x1b13cd0b8>"
      ]
     },
     "metadata": {},
     "output_type": "display_data"
    },
    {
     "name": "stdout",
     "output_type": "stream",
     "text": [
      "mariage\n"
     ]
    },
    {
     "data": {
      "image/png": "[encoded data removed]",
      "text/plain": [
       "<matplotlib.figure.Figure at 0x1afeb9908>"
      ]
     },
     "metadata": {},
     "output_type": "display_data"
    },
    {
     "name": "stdout",
     "output_type": "stream",
     "text": [
      "homosexualité\n"
     ]
    },
    {
     "data": {
      "image/png": "[encoded data removed]",
      "text/plain": [
       "<matplotlib.figure.Figure at 0x18de80b70>"
      ]
     },
     "metadata": {},
     "output_type": "display_data"
    }
   ],
   "source": [
    "\n",
    "searchedWords = ['droit de vote des femmes','féminisme', 'terrorisme','famille','mariage','homosexualité']\n",
    "\n",
    "\n",
    "beginyear, endyear = 1935,2017\n",
    "\n",
    "for word in searchedWords: \n",
    "    results = nbOccurenceThemePerYearRange(df_themes,word,beginyear,endyear)\n",
    "    coOccurences = coOccurenceThemePerYearRange(df_themes,word,beginyear,endyear)\n",
    "    \n",
    "    \n",
    "    dfresults = pd.DataFrame((dict(years=range(beginyear,endyear+1), Occurence=results,CoOccurence=coOccurences)))\n",
    "    dfresults.to_csv('storySina/'+word+'.csv', encoding='utf-8')\n",
    "    fig, ax = plt.subplots() \n",
    "    sns.set_style(\"whitegrid\")\n",
    "    g = sns.barplot(\"years\", \"Occurence\", data=dfresults)\n",
    "    labels = ax.get_xticklabels() \n",
    "    for i,l in enumerate(labels):\n",
    "        if(i%3 != 0): labels[i] = '' # skip even labels\n",
    "    ax.set_xticklabels(labels, rotation=90) # set new labels\n",
    "    plt.bar(range(len(results)), results, align='center')\n",
    "    plt.title('Normalized Occurences per year for theme '+word)\n",
    "    plt.show()\n"
   ]
  },
  {
   "cell_type": "markdown",
   "metadata": {},
   "source": [
    "The seaborn library does not support the advanced hovering options that we needed. So we used instead the plotly library to include co-occurence in the hovering text. \n",
    "We then export the plotly plots to include them in our data story. <br>\n",
    "Below only one plotly is shown, for illustation purpuses. Go ahead and hover over the bars to see appearing surprising things :) "
   ]
  },
  {
   "cell_type": "code",
   "execution_count": 143,
   "metadata": {
    "scrolled": true
   },
   "outputs": [
    {
     "data": {
      "text/html": [
       "<iframe id=\"igraph\" scrolling=\"no\" style=\"border:none;\" seamless=\"seamless\" src=\"https://plot.ly/~sfa/2.embed\" height=\"525px\" width=\"100%\"></iframe>"
      ],
      "text/plain": [
       "<plotly.tools.PlotlyDisplay object>"
      ]
     },
     "execution_count": 143,
     "metadata": {},
     "output_type": "execute_result"
    }
   ],
   "source": [
    "data = [go.Bar(\n",
    "    x=dfresults.years,\n",
    "    y=dfresults.Occurence,\n",
    "    text=dfresults.CoOccurence,\n",
    "\n",
    "\n",
    "    marker=dict(\n",
    "        color='rgb(158,202,225)',\n",
    "        line=dict(\n",
    "            color='rgb(8,48,107)',\n",
    "            width=1.5,\n",
    "        )\n",
    "    ),\n",
    "    opacity=0.6\n",
    ")]\n",
    "layout = go.Layout(\n",
    "    title='Normalized Occurences per year for theme '+word,\n",
    ")\n",
    "\n",
    "fig = go.Figure(data=data, layout=layout)\n",
    "py.iplot(fig, filename='text-hover-bar')"
   ]
  },
  {
   "cell_type": "code",
   "execution_count": null,
   "metadata": {},
   "outputs": [],
   "source": []
  }
 ],
 "metadata": {
  "kernelspec": {
   "display_name": "Python 3",
   "language": "python",
   "name": "python3"
  },
  "language_info": {
   "codemirror_mode": {
    "name": "ipython",
    "version": 3
   },
   "file_extension": ".py",
   "mimetype": "text/x-python",
   "name": "python",
   "nbconvert_exporter": "python",
   "pygments_lexer": "ipython3",
   "version": "3.5.2"
  },
  "toc": {
   "nav_menu": {},
   "number_sections": true,
   "sideBar": true,
   "skip_h1_title": false,
   "toc_cell": false,
   "toc_position": {
    "height": "683px",
    "left": "0px",
    "right": "1659px",
    "top": "111px",
    "width": "189px"
   },
   "toc_section_display": "block",
   "toc_window_display": true
  },
  "varInspector": {
   "cols": {
    "lenName": 16,
    "lenType": 16,
    "lenVar": 40
   },
   "kernels_config": {
    "python": {
     "delete_cmd_postfix": "",
     "delete_cmd_prefix": "del ",
     "library": "var_list.py",
     "varRefreshCmd": "print(var_dic_list())"
    },
    "r": {
     "delete_cmd_postfix": ") ",
     "delete_cmd_prefix": "rm(",
     "library": "var_list.r",
     "varRefreshCmd": "cat(var_dic_list()) "
    }
   },
   "position": {
    "height": "654px",
    "left": "972px",
    "right": "20px",
    "top": "65px",
    "width": "565px"
   },
   "types_to_exclude": [
    "module",
    "function",
    "builtin_function_or_method",
    "instance",
    "_Feature"
   ],
   "window_display": false
  }
 },
 "nbformat": 4,
 "nbformat_minor": 2
}
