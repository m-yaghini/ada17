{
 "cells": [
  {
   "cell_type": "code",
   "execution_count": 3,
   "metadata": {
    "collapsed": true
   },
   "outputs": [],
   "source": [
    "import requests, json\n",
    "import pandas as pd\n",
    "import numpy as np\n",
    "import seaborn\n",
    "from bs4 import BeautifulSoup\n",
    "%matplotlib inline"
   ]
  },
  {
   "cell_type": "markdown",
   "metadata": {},
   "source": [
    "# Exercice 4"
   ]
  },
  {
   "cell_type": "markdown",
   "metadata": {},
   "source": [
    "We took the correlation matrix of the merge dataframe and unstacked it. We considered that the correlation was :\n",
    "- strong above 0.7\n",
    "- moderate between 0.7 and 0.5\n",
    "- weak between 0.5 and 0.3\n",
    "- inexistant below 0.3"
   ]
  },
  {
   "cell_type": "code",
   "execution_count": 66,
   "metadata": {
    "collapsed": true
   },
   "outputs": [],
   "source": [
    "#correlation matrix, with absolute values only\n",
    "correlations = merged_df.corr().abs()\n",
    "\n",
    "#take only the upper triangle to no get duplicates\n",
    "correlations = correlations.where(np.triu(np.ones(correlations.shape)).astype(np.bool))\n",
    "\n",
    "#sort values\n",
    "correlations = correlations.unstack().sort_values(ascending=False)\n",
    "\n",
    "#  divies by strong/moderate/weak/no correlations\n",
    "strong_corr = correlations[(correlations < 1) & (correlations >= 0.7)]\n",
    "moderate_corr = correlations[(correlations < 0.7) & (correlations >= 0.5)]\n",
    "weak_corr = correlations[(correlations < 0.5) & (correlations >= 0.3)]\n",
    "no_corr = correlations[(correlations < 0.3)]"
   ]
  },
  {
   "cell_type": "markdown",
   "metadata": {},
   "source": [
    "We can see that strongly correlated values are the same values issued from the two different sources, like total number of students in the QS and total number of students in THE, which seems logical."
   ]
  },
  {
   "cell_type": "code",
   "execution_count": 67,
   "metadata": {},
   "outputs": [
    {
     "data": {
      "text/plain": [
       "nbstudents_all_universitiesTimes             nbstudents_all_universitiesShanghai               0.983463\n",
       "ratioIntStudentmem_universitiesTimes         ratioIntStudentmem_universitiesShanghai           0.936593\n",
       "nbstudents_int_universitiesTimes             nbstudents_int_universitiesShanghai               0.887394\n",
       "nbfaculty_all_universitiesTimes              nbfaculty_all_universitiesShanghai                0.737562\n",
       "ratioFacultymemStudentmem_universitiesTimes  ratioFacultymemStudentmem_universitiesShanghai    0.715505\n",
       "rank_universitiesTimes                       rank_universitiesShanghai                         0.704325\n",
       "dtype: float64"
      ]
     },
     "execution_count": 67,
     "metadata": {},
     "output_type": "execute_result"
    }
   ],
   "source": [
    "strong_corr"
   ]
  },
  {
   "cell_type": "markdown",
   "metadata": {},
   "source": [
    "In moderate correlation, it's interesting to see that the rank has a score or 0.5 with the number of international faculty members, but correlation doesn't give us causation therefore we can't define if a better university will have more international faculty members or if it's the other way around, or both.\n",
    "The other values of this list show us that the number of students is proportionnal to the number of faculty members, and that the number of internationals (student and faculty members) is correlated to the total numbers (student and faculty members)."
   ]
  },
  {
   "cell_type": "code",
   "execution_count": 68,
   "metadata": {},
   "outputs": [
    {
     "data": {
      "text/plain": [
       "nbfaculty_int                            nbfaculty_all_universitiesShanghai     0.647662\n",
       "nbstudents_int_universitiesShanghai      nbstudents_all_universitiesShanghai    0.629987\n",
       "nbstudents_int_universitiesTimes         nbstudents_all_universitiesShanghai    0.592219\n",
       "nbstudents_all_universitiesShanghai      nbfaculty_all_universitiesShanghai     0.589139\n",
       "nbstudents_all_universitiesTimes         nbfaculty_all_universitiesShanghai     0.586477\n",
       "                                         nbstudents_int_universitiesShanghai    0.583989\n",
       "nbstudents_int_universitiesShanghai      nbfaculty_int                          0.579686\n",
       "nbstudents_int_universitiesTimes         nbstudents_all_universitiesTimes       0.553896\n",
       "nbstudents_all_universitiesTimes         nbfaculty_all_universitiesTimes        0.547380\n",
       "ratioIntStudentmem_universitiesShanghai  nbstudents_int_universitiesShanghai    0.535795\n",
       "ratioIntStudentmem_universitiesTimes     nbstudents_int_universitiesTimes       0.507608\n",
       "rank_universitiesShanghai                nbfaculty_int                          0.500673\n",
       "dtype: float64"
      ]
     },
     "execution_count": 68,
     "metadata": {},
     "output_type": "execute_result"
    }
   ],
   "source": [
    "moderate_corr"
   ]
  },
  {
   "cell_type": "markdown",
   "metadata": {},
   "source": [
    "The rest of the values show us the lowest correlations. What is interesting to look, is that the rank has low correlation with the number of faculty members (total and international), almost no corrlation with the number of students (total and international) and the ratio faculty members/student. "
   ]
  },
  {
   "cell_type": "code",
   "execution_count": 107,
   "metadata": {},
   "outputs": [
    {
     "name": "stdout",
     "output_type": "stream",
     "text": [
      "nbfaculty_all_universitiesTimes                 nbstudents_all_universitiesShanghai               0.487660\n",
      "nbstudents_int_universitiesTimes                ratioIntStudentmem_universitiesShanghai           0.484099\n",
      "ratioFacultymemStudentmem_universitiesTimes     nbfaculty_all_universitiesTimes                   0.456813\n",
      "nbstudents_int_universitiesTimes                nbfaculty_int                                     0.439998\n",
      "nbstudents_int_universitiesShanghai             nbfaculty_all_universitiesShanghai                0.417124\n",
      "ratioFacultymemStudentmem_universitiesShanghai  rank_universitiesShanghai                         0.400492\n",
      "rank_universitiesTimes                          nbfaculty_all_universitiesShanghai                0.395698\n",
      "ratioFacultymemStudentmem_universitiesShanghai  nbstudents_all_universitiesShanghai               0.395150\n",
      "ratioFacultymemStudentmem_universitiesTimes     nbstudents_all_universitiesShanghai               0.389592\n",
      "nbstudents_int_universitiesTimes                nbfaculty_all_universitiesShanghai                0.389380\n",
      "ratioIntStudentmem_universitiesShanghai         nbfaculty_int                                     0.388899\n",
      "nbstudents_all_universitiesTimes                ratioFacultymemStudentmem_universitiesShanghai    0.381472\n",
      "nbfaculty_all_universitiesTimes                 nbfaculty_int                                     0.373519\n",
      "ratioFacultymemStudentmem_universitiesTimes     nbstudents_all_universitiesTimes                  0.370098\n",
      "ratioFacultymemStudentmem_universitiesShanghai  nbfaculty_all_universitiesShanghai                0.361472\n",
      "ratioIntStudentmem_universitiesTimes            nbstudents_all_universitiesShanghai               0.347140\n",
      "rank_universitiesShanghai                       nbfaculty_all_universitiesShanghai                0.346998\n",
      "ratioFacultymemStudentmem_universitiesTimes     nbstudents_int_universitiesTimes                  0.342897\n",
      "ratioFacultymemStudentmem_universitiesShanghai  nbfaculty_int                                     0.330980\n",
      "ratioFacultymemStudentmem_universitiesTimes     nbstudents_int_universitiesShanghai               0.325040\n",
      "nbfaculty_all_universitiesTimes                 rank_universitiesShanghai                         0.322822\n",
      "ratioIntStudentmem_universitiesTimes            nbstudents_int_universitiesShanghai               0.317810\n",
      "                                                nbstudents_all_universitiesTimes                  0.314265\n",
      "rank_universitiesTimes                          nbfaculty_int                                     0.304907\n",
      "dtype: float64\n",
      "ratioIntStudentmem_universitiesShanghai         rank_universitiesShanghai                         0.299326\n",
      "rank_universitiesTimes                          ratioFacultymemStudentmem_universitiesShanghai    0.293694\n",
      "nbstudents_all_universitiesTimes                ratioIntStudentmem_universitiesShanghai           0.290405\n",
      "nbstudents_all_universitiesShanghai             nbfaculty_int                                     0.288307\n",
      "ratioIntStudentmem_universitiesTimes            nbfaculty_all_universitiesTimes                   0.283665\n",
      "rank_universitiesTimes                          nbstudents_int_universitiesTimes                  0.274712\n",
      "nbfaculty_all_universitiesTimes                 ratioFacultymemStudentmem_universitiesShanghai    0.264761\n",
      "nbstudents_all_universitiesTimes                nbfaculty_int                                     0.263255\n",
      "nbfaculty_all_universitiesTimes                 ratioIntStudentmem_universitiesShanghai           0.256237\n",
      "rank_universitiesTimes                          nbstudents_int_universitiesShanghai               0.247567\n",
      "rank_universitiesShanghai                       nbstudents_int_universitiesShanghai               0.233227\n",
      "ratioFacultymemStudentmem_universitiesTimes     rank_universitiesShanghai                         0.230385\n",
      "ratioFacultymemStudentmem_universitiesShanghai  nbstudents_int_universitiesShanghai               0.220418\n",
      "rank_universitiesTimes                          nbfaculty_all_universitiesTimes                   0.220004\n",
      "nbstudents_int_universitiesTimes                rank_universitiesShanghai                         0.207398\n",
      "ratioIntStudentmem_universitiesTimes            rank_universitiesTimes                            0.201451\n",
      "                                                nbfaculty_int                                     0.201143\n",
      "nbstudents_int_universitiesTimes                nbfaculty_all_universitiesTimes                   0.192458\n",
      "nbfaculty_all_universitiesTimes                 nbstudents_int_universitiesShanghai               0.192244\n",
      "rank_universitiesTimes                          nbstudents_all_universitiesShanghai               0.187834\n",
      "nbstudents_int_universitiesTimes                ratioFacultymemStudentmem_universitiesShanghai    0.184361\n",
      "ratioIntStudentmem_universitiesShanghai         nbstudents_all_universitiesShanghai               0.181927\n",
      "ratioFacultymemStudentmem_universitiesTimes     nbfaculty_all_universitiesShanghai                0.179729\n",
      "ratioIntStudentmem_universitiesTimes            nbfaculty_all_universitiesShanghai                0.177428\n",
      "                                                ratioFacultymemStudentmem_universitiesShanghai    0.169569\n",
      "                                                rank_universitiesShanghai                         0.160033\n",
      "rank_universitiesTimes                          nbstudents_all_universitiesTimes                  0.133660\n",
      "ratioIntStudentmem_universitiesShanghai         ratioFacultymemStudentmem_universitiesShanghai    0.132868\n",
      "rank_universitiesTimes                          ratioIntStudentmem_universitiesShanghai           0.129442\n",
      "ratioFacultymemStudentmem_universitiesTimes     rank_universitiesTimes                            0.124063\n",
      "                                                nbfaculty_int                                     0.097496\n",
      "ratioIntStudentmem_universitiesShanghai         nbfaculty_all_universitiesShanghai                0.061124\n",
      "nbstudents_all_universitiesTimes                rank_universitiesShanghai                         0.050330\n",
      "ratioIntStudentmem_universitiesTimes            ratioFacultymemStudentmem_universitiesTimes       0.044604\n",
      "ratioFacultymemStudentmem_universitiesTimes     ratioIntStudentmem_universitiesShanghai           0.042841\n",
      "rank_universitiesShanghai                       nbstudents_all_universitiesShanghai               0.012364\n",
      "dtype: float64\n"
     ]
    }
   ],
   "source": [
    "print(weak_corr)\n",
    "print(no_corr)"
   ]
  },
  {
   "cell_type": "markdown",
   "metadata": {},
   "source": [
    "# Exercice 5"
   ]
  },
  {
   "cell_type": "markdown",
   "metadata": {},
   "source": [
    "For the merging, we considered that both rankings had the same relevance, therefore we could simply take the mean (or the sum, since it won't change the order)."
   ]
  },
  {
   "cell_type": "code",
   "execution_count": 3,
   "metadata": {},
   "outputs": [
    {
     "ename": "NameError",
     "evalue": "name 'merged_df' is not defined",
     "output_type": "error",
     "traceback": [
      "\u001b[1;31m---------------------------------------------------------------------------\u001b[0m",
      "\u001b[1;31mNameError\u001b[0m                                 Traceback (most recent call last)",
      "\u001b[1;32m<ipython-input-3-1a7927086402>\u001b[0m in \u001b[0;36m<module>\u001b[1;34m()\u001b[0m\n\u001b[0;32m      2\u001b[0m \u001b[1;33m\u001b[0m\u001b[0m\n\u001b[0;32m      3\u001b[0m \u001b[1;31m# take only universities that were on both rankings\u001b[0m\u001b[1;33m\u001b[0m\u001b[1;33m\u001b[0m\u001b[0m\n\u001b[1;32m----> 4\u001b[1;33m \u001b[0mmerged_without_nan\u001b[0m \u001b[1;33m=\u001b[0m \u001b[0mmerged_df\u001b[0m\u001b[1;33m.\u001b[0m\u001b[0mdropna\u001b[0m\u001b[1;33m(\u001b[0m\u001b[1;33m)\u001b[0m\u001b[1;33m\u001b[0m\u001b[0m\n\u001b[0m\u001b[0;32m      5\u001b[0m \u001b[1;33m\u001b[0m\u001b[0m\n\u001b[0;32m      6\u001b[0m \u001b[1;31m# sum the rank\u001b[0m\u001b[1;33m\u001b[0m\u001b[1;33m\u001b[0m\u001b[0m\n",
      "\u001b[1;31mNameError\u001b[0m: name 'merged_df' is not defined"
     ]
    }
   ],
   "source": [
    "#pd.options.mode.chained_assignment = None  # default='warn'\n",
    "\n",
    "# take only universities that were on both rankings\n",
    "merged_without_nan = merged_df.dropna()\n",
    "\n",
    "# sum the rank\n",
    "merged_without_nan['rank_sum'] = merged_without_nan[['rank_universitiesShanghai','rank_universitiesTimes']].sum(axis=1)\n",
    "\n",
    "# sort them\n",
    "final_ranking = merged_without_nan.sort_values(['rank_sum'], ascending=True).reset_index(drop=True)\n",
    "\n",
    "# increment index by one so it starts at 1\n",
    "final_ranking.index +=1\n",
    "\n",
    "final_ranking[['rank_sum', 'title']]\n",
    "\n",
    "final_ranking[\"rank\"] = final_ranking.groupby(\"rank_sum\")['title'].rank(\"dense\", ascending=False)\n",
    "\n",
    "final_ranking"
   ]
  },
  {
   "cell_type": "code",
   "execution_count": null,
   "metadata": {
    "collapsed": true
   },
   "outputs": [],
   "source": []
  }
 ],
 "metadata": {
  "kernelspec": {
   "display_name": "Python 3",
   "language": "python",
   "name": "python3"
  },
  "language_info": {
   "codemirror_mode": {
    "name": "ipython",
    "version": 3
   },
   "file_extension": ".py",
   "mimetype": "text/x-python",
   "name": "python",
   "nbconvert_exporter": "python",
   "pygments_lexer": "ipython3",
   "version": "3.6.2"
  },
  "toc": {
   "nav_menu": {},
   "number_sections": true,
   "sideBar": true,
   "skip_h1_title": false,
   "toc_cell": false,
   "toc_position": {},
   "toc_section_display": "block",
   "toc_window_display": false
  }
 },
 "nbformat": 4,
 "nbformat_minor": 2
}
